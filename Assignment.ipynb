{
 "cells": [
  {
   "cell_type": "markdown",
   "metadata": {},
   "source": [
    "<center><b>Assignment for Business Intelligence Summer 2021 Internship</b></center>"
   ]
  },
  {
   "cell_type": "code",
   "execution_count": 1,
   "metadata": {
    "ExecuteTime": {
     "end_time": "2021-02-10T23:27:37.227274Z",
     "start_time": "2021-02-10T23:27:33.234444Z"
    }
   },
   "outputs": [],
   "source": [
    "import pandas as pd\n",
    "import numpy as np\n",
    "import matplotlib.pyplot as plt\n",
    "import seaborn as sns\n",
    "%matplotlib inline\n",
    "import datetime as dt"
   ]
  },
  {
   "cell_type": "markdown",
   "metadata": {},
   "source": [
    "## Reading data from csv files:"
   ]
  },
  {
   "cell_type": "code",
   "execution_count": 2,
   "metadata": {
    "ExecuteTime": {
     "end_time": "2021-02-10T23:27:37.869302Z",
     "start_time": "2021-02-10T23:27:37.233272Z"
    }
   },
   "outputs": [],
   "source": [
    "df1=pd.read_csv('BI-Intern first_purchases.csv',date_parser=True)\n",
    "df2=pd.read_csv('BI-Intern purchases.csv',date_parser=True)"
   ]
  },
  {
   "cell_type": "code",
   "execution_count": 3,
   "metadata": {
    "ExecuteTime": {
     "end_time": "2021-02-10T23:27:37.915268Z",
     "start_time": "2021-02-10T23:27:37.875276Z"
    },
    "scrolled": true
   },
   "outputs": [
    {
     "data": {
      "text/html": [
       "<div>\n",
       "<style scoped>\n",
       "    .dataframe tbody tr th:only-of-type {\n",
       "        vertical-align: middle;\n",
       "    }\n",
       "\n",
       "    .dataframe tbody tr th {\n",
       "        vertical-align: top;\n",
       "    }\n",
       "\n",
       "    .dataframe thead th {\n",
       "        text-align: right;\n",
       "    }\n",
       "</style>\n",
       "<table border=\"1\" class=\"dataframe\">\n",
       "  <thead>\n",
       "    <tr style=\"text-align: right;\">\n",
       "      <th></th>\n",
       "      <th>User First Purchase Month</th>\n",
       "      <th>First Purchase Product Line</th>\n",
       "      <th>User ID</th>\n",
       "      <th>Purchase ID</th>\n",
       "      <th>Venue ID</th>\n",
       "    </tr>\n",
       "  </thead>\n",
       "  <tbody>\n",
       "    <tr>\n",
       "      <th>0</th>\n",
       "      <td>1.5.2020</td>\n",
       "      <td>Restaurant</td>\n",
       "      <td>57b48aece14f6d64522f8c5f</td>\n",
       "      <td>5ec6b23c96741b6db6266639</td>\n",
       "      <td>5d7a32a73b546fccd88a05e9</td>\n",
       "    </tr>\n",
       "    <tr>\n",
       "      <th>1</th>\n",
       "      <td>1.5.2020</td>\n",
       "      <td>Restaurant</td>\n",
       "      <td>59f4803cdf196473b7fc124d</td>\n",
       "      <td>5ec6be1e712a4248e67d2bf0</td>\n",
       "      <td>5cd16542c7420059cc10b792</td>\n",
       "    </tr>\n",
       "    <tr>\n",
       "      <th>2</th>\n",
       "      <td>1.5.2020</td>\n",
       "      <td>Restaurant</td>\n",
       "      <td>5a427fbbea63d5000aff0ade</td>\n",
       "      <td>5ec7f07674bbff7edcb5be0d</td>\n",
       "      <td>5e7bce9ae360062306b4a233</td>\n",
       "    </tr>\n",
       "    <tr>\n",
       "      <th>3</th>\n",
       "      <td>1.5.2020</td>\n",
       "      <td>Restaurant</td>\n",
       "      <td>5a8c70b58fac51000b2ca9d8</td>\n",
       "      <td>5eac48651db7a19612824809</td>\n",
       "      <td>5e6ce90a7455f89bbb00be37</td>\n",
       "    </tr>\n",
       "    <tr>\n",
       "      <th>4</th>\n",
       "      <td>1.5.2020</td>\n",
       "      <td>Restaurant</td>\n",
       "      <td>5a9efa9bab3442000c2ba457</td>\n",
       "      <td>5eca9ed670a4dafe5de07698</td>\n",
       "      <td>5ea18277857aaa1b337ee201</td>\n",
       "    </tr>\n",
       "    <tr>\n",
       "      <th>...</th>\n",
       "      <td>...</td>\n",
       "      <td>...</td>\n",
       "      <td>...</td>\n",
       "      <td>...</td>\n",
       "      <td>...</td>\n",
       "    </tr>\n",
       "    <tr>\n",
       "      <th>71252</th>\n",
       "      <td>1.10.2020</td>\n",
       "      <td>Restaurant</td>\n",
       "      <td>5f874372e71892d52313343f</td>\n",
       "      <td>5f8745bfae557239f1cbe4db</td>\n",
       "      <td>5f2d6542365ed912d6c545f2</td>\n",
       "    </tr>\n",
       "    <tr>\n",
       "      <th>71253</th>\n",
       "      <td>1.10.2020</td>\n",
       "      <td>Restaurant</td>\n",
       "      <td>5f874b92a026a2143bab6e63</td>\n",
       "      <td>5f874fd5e86004c65a133d47</td>\n",
       "      <td>5e6ccb03b1d0a9394d072fcd</td>\n",
       "    </tr>\n",
       "    <tr>\n",
       "      <th>71254</th>\n",
       "      <td>1.10.2020</td>\n",
       "      <td>Restaurant</td>\n",
       "      <td>5f874e647a7169ef6a023235</td>\n",
       "      <td>5f875660afcc5ba542f3f332</td>\n",
       "      <td>5e77a757c55bc12714975c4d</td>\n",
       "    </tr>\n",
       "    <tr>\n",
       "      <th>71255</th>\n",
       "      <td>1.10.2020</td>\n",
       "      <td>Restaurant</td>\n",
       "      <td>5f875552c7b1a240baf4cc97</td>\n",
       "      <td>5f87582ed5481f4e72e02218</td>\n",
       "      <td>5f4cfc839232473565cfd423</td>\n",
       "    </tr>\n",
       "    <tr>\n",
       "      <th>71256</th>\n",
       "      <td>1.10.2020</td>\n",
       "      <td>Restaurant</td>\n",
       "      <td>5f8755d29765e83cf2c7b52a</td>\n",
       "      <td>5f8757217a5f5d289a90b84a</td>\n",
       "      <td>5e7b8de7a7a5e36f91c7b17b</td>\n",
       "    </tr>\n",
       "  </tbody>\n",
       "</table>\n",
       "<p>71257 rows × 5 columns</p>\n",
       "</div>"
      ],
      "text/plain": [
       "      User First Purchase Month First Purchase Product Line  \\\n",
       "0                      1.5.2020                  Restaurant   \n",
       "1                      1.5.2020                  Restaurant   \n",
       "2                      1.5.2020                  Restaurant   \n",
       "3                      1.5.2020                  Restaurant   \n",
       "4                      1.5.2020                  Restaurant   \n",
       "...                         ...                         ...   \n",
       "71252                 1.10.2020                  Restaurant   \n",
       "71253                 1.10.2020                  Restaurant   \n",
       "71254                 1.10.2020                  Restaurant   \n",
       "71255                 1.10.2020                  Restaurant   \n",
       "71256                 1.10.2020                  Restaurant   \n",
       "\n",
       "                        User ID               Purchase ID  \\\n",
       "0      57b48aece14f6d64522f8c5f  5ec6b23c96741b6db6266639   \n",
       "1      59f4803cdf196473b7fc124d  5ec6be1e712a4248e67d2bf0   \n",
       "2      5a427fbbea63d5000aff0ade  5ec7f07674bbff7edcb5be0d   \n",
       "3      5a8c70b58fac51000b2ca9d8  5eac48651db7a19612824809   \n",
       "4      5a9efa9bab3442000c2ba457  5eca9ed670a4dafe5de07698   \n",
       "...                         ...                       ...   \n",
       "71252  5f874372e71892d52313343f  5f8745bfae557239f1cbe4db   \n",
       "71253  5f874b92a026a2143bab6e63  5f874fd5e86004c65a133d47   \n",
       "71254  5f874e647a7169ef6a023235  5f875660afcc5ba542f3f332   \n",
       "71255  5f875552c7b1a240baf4cc97  5f87582ed5481f4e72e02218   \n",
       "71256  5f8755d29765e83cf2c7b52a  5f8757217a5f5d289a90b84a   \n",
       "\n",
       "                       Venue ID  \n",
       "0      5d7a32a73b546fccd88a05e9  \n",
       "1      5cd16542c7420059cc10b792  \n",
       "2      5e7bce9ae360062306b4a233  \n",
       "3      5e6ce90a7455f89bbb00be37  \n",
       "4      5ea18277857aaa1b337ee201  \n",
       "...                         ...  \n",
       "71252  5f2d6542365ed912d6c545f2  \n",
       "71253  5e6ccb03b1d0a9394d072fcd  \n",
       "71254  5e77a757c55bc12714975c4d  \n",
       "71255  5f4cfc839232473565cfd423  \n",
       "71256  5e7b8de7a7a5e36f91c7b17b  \n",
       "\n",
       "[71257 rows x 5 columns]"
      ]
     },
     "execution_count": 3,
     "metadata": {},
     "output_type": "execute_result"
    }
   ],
   "source": [
    "df1"
   ]
  },
  {
   "cell_type": "code",
   "execution_count": 4,
   "metadata": {
    "ExecuteTime": {
     "end_time": "2021-02-10T23:27:37.946267Z",
     "start_time": "2021-02-10T23:27:37.918268Z"
    }
   },
   "outputs": [
    {
     "data": {
      "text/plain": [
       "User First Purchase Month      71257\n",
       "First Purchase Product Line    71257\n",
       "User ID                        71257\n",
       "Purchase ID                    71257\n",
       "Venue ID                       71257\n",
       "dtype: int64"
      ]
     },
     "execution_count": 4,
     "metadata": {},
     "output_type": "execute_result"
    }
   ],
   "source": [
    "df1.count()"
   ]
  },
  {
   "cell_type": "code",
   "execution_count": 5,
   "metadata": {
    "ExecuteTime": {
     "end_time": "2021-02-10T23:27:37.978270Z",
     "start_time": "2021-02-10T23:27:37.949288Z"
    },
    "scrolled": true
   },
   "outputs": [
    {
     "data": {
      "text/html": [
       "<div>\n",
       "<style scoped>\n",
       "    .dataframe tbody tr th:only-of-type {\n",
       "        vertical-align: middle;\n",
       "    }\n",
       "\n",
       "    .dataframe tbody tr th {\n",
       "        vertical-align: top;\n",
       "    }\n",
       "\n",
       "    .dataframe thead th {\n",
       "        text-align: right;\n",
       "    }\n",
       "</style>\n",
       "<table border=\"1\" class=\"dataframe\">\n",
       "  <thead>\n",
       "    <tr style=\"text-align: right;\">\n",
       "      <th></th>\n",
       "      <th>Purchases Time Delivered</th>\n",
       "      <th>Product line</th>\n",
       "      <th>User ID</th>\n",
       "      <th>Purchase ID</th>\n",
       "      <th>Venue ID</th>\n",
       "    </tr>\n",
       "  </thead>\n",
       "  <tbody>\n",
       "    <tr>\n",
       "      <th>0</th>\n",
       "      <td>1.8.2020</td>\n",
       "      <td>Restaurant</td>\n",
       "      <td>55080d6585f6661a3b37f7a5</td>\n",
       "      <td>5f3d81ef6cce0eeb05225f98</td>\n",
       "      <td>5e8b2c8be050b99f26647804</td>\n",
       "    </tr>\n",
       "    <tr>\n",
       "      <th>1</th>\n",
       "      <td>1.8.2020</td>\n",
       "      <td>Restaurant</td>\n",
       "      <td>55080d6585f6661a3b37f7a5</td>\n",
       "      <td>5f3c11f5a90667e766b04c19</td>\n",
       "      <td>5e8b2c8be050b99f26647804</td>\n",
       "    </tr>\n",
       "    <tr>\n",
       "      <th>2</th>\n",
       "      <td>1.7.2020</td>\n",
       "      <td>Retail store</td>\n",
       "      <td>556202537f84a43ac29ec7cb</td>\n",
       "      <td>5f0aec594c3cbeb4049ea36a</td>\n",
       "      <td>5ec2ab4401f812138e435c89</td>\n",
       "    </tr>\n",
       "    <tr>\n",
       "      <th>3</th>\n",
       "      <td>1.7.2020</td>\n",
       "      <td>Retail store</td>\n",
       "      <td>556202537f84a43ac29ec7cb</td>\n",
       "      <td>5f184a3c88046da058c5ed1d</td>\n",
       "      <td>5ec2ab4401f812138e435c89</td>\n",
       "    </tr>\n",
       "    <tr>\n",
       "      <th>4</th>\n",
       "      <td>1.5.2020</td>\n",
       "      <td>Restaurant</td>\n",
       "      <td>57b48aece14f6d64522f8c5f</td>\n",
       "      <td>5ecf98f34d3d68dc996dad7a</td>\n",
       "      <td>5cb4425ae93cce000d20612f</td>\n",
       "    </tr>\n",
       "    <tr>\n",
       "      <th>...</th>\n",
       "      <td>...</td>\n",
       "      <td>...</td>\n",
       "      <td>...</td>\n",
       "      <td>...</td>\n",
       "      <td>...</td>\n",
       "    </tr>\n",
       "    <tr>\n",
       "      <th>298709</th>\n",
       "      <td>1.10.2020</td>\n",
       "      <td>Restaurant</td>\n",
       "      <td>5f874372e71892d52313343f</td>\n",
       "      <td>5f8745bfae557239f1cbe4db</td>\n",
       "      <td>5f2d6542365ed912d6c545f2</td>\n",
       "    </tr>\n",
       "    <tr>\n",
       "      <th>298710</th>\n",
       "      <td>1.10.2020</td>\n",
       "      <td>Restaurant</td>\n",
       "      <td>5f874b92a026a2143bab6e63</td>\n",
       "      <td>5f874fd5e86004c65a133d47</td>\n",
       "      <td>5e6ccb03b1d0a9394d072fcd</td>\n",
       "    </tr>\n",
       "    <tr>\n",
       "      <th>298711</th>\n",
       "      <td>1.10.2020</td>\n",
       "      <td>Restaurant</td>\n",
       "      <td>5f874e647a7169ef6a023235</td>\n",
       "      <td>5f875660afcc5ba542f3f332</td>\n",
       "      <td>5e77a757c55bc12714975c4d</td>\n",
       "    </tr>\n",
       "    <tr>\n",
       "      <th>298712</th>\n",
       "      <td>1.10.2020</td>\n",
       "      <td>Restaurant</td>\n",
       "      <td>5f875552c7b1a240baf4cc97</td>\n",
       "      <td>5f87582ed5481f4e72e02218</td>\n",
       "      <td>5f4cfc839232473565cfd423</td>\n",
       "    </tr>\n",
       "    <tr>\n",
       "      <th>298713</th>\n",
       "      <td>1.10.2020</td>\n",
       "      <td>Restaurant</td>\n",
       "      <td>5f8755d29765e83cf2c7b52a</td>\n",
       "      <td>5f8757217a5f5d289a90b84a</td>\n",
       "      <td>5e7b8de7a7a5e36f91c7b17b</td>\n",
       "    </tr>\n",
       "  </tbody>\n",
       "</table>\n",
       "<p>298714 rows × 5 columns</p>\n",
       "</div>"
      ],
      "text/plain": [
       "       Purchases Time Delivered  Product line                   User ID  \\\n",
       "0                      1.8.2020    Restaurant  55080d6585f6661a3b37f7a5   \n",
       "1                      1.8.2020    Restaurant  55080d6585f6661a3b37f7a5   \n",
       "2                      1.7.2020  Retail store  556202537f84a43ac29ec7cb   \n",
       "3                      1.7.2020  Retail store  556202537f84a43ac29ec7cb   \n",
       "4                      1.5.2020    Restaurant  57b48aece14f6d64522f8c5f   \n",
       "...                         ...           ...                       ...   \n",
       "298709                1.10.2020    Restaurant  5f874372e71892d52313343f   \n",
       "298710                1.10.2020    Restaurant  5f874b92a026a2143bab6e63   \n",
       "298711                1.10.2020    Restaurant  5f874e647a7169ef6a023235   \n",
       "298712                1.10.2020    Restaurant  5f875552c7b1a240baf4cc97   \n",
       "298713                1.10.2020    Restaurant  5f8755d29765e83cf2c7b52a   \n",
       "\n",
       "                     Purchase ID                  Venue ID  \n",
       "0       5f3d81ef6cce0eeb05225f98  5e8b2c8be050b99f26647804  \n",
       "1       5f3c11f5a90667e766b04c19  5e8b2c8be050b99f26647804  \n",
       "2       5f0aec594c3cbeb4049ea36a  5ec2ab4401f812138e435c89  \n",
       "3       5f184a3c88046da058c5ed1d  5ec2ab4401f812138e435c89  \n",
       "4       5ecf98f34d3d68dc996dad7a  5cb4425ae93cce000d20612f  \n",
       "...                          ...                       ...  \n",
       "298709  5f8745bfae557239f1cbe4db  5f2d6542365ed912d6c545f2  \n",
       "298710  5f874fd5e86004c65a133d47  5e6ccb03b1d0a9394d072fcd  \n",
       "298711  5f875660afcc5ba542f3f332  5e77a757c55bc12714975c4d  \n",
       "298712  5f87582ed5481f4e72e02218  5f4cfc839232473565cfd423  \n",
       "298713  5f8757217a5f5d289a90b84a  5e7b8de7a7a5e36f91c7b17b  \n",
       "\n",
       "[298714 rows x 5 columns]"
      ]
     },
     "execution_count": 5,
     "metadata": {},
     "output_type": "execute_result"
    }
   ],
   "source": [
    "df2"
   ]
  },
  {
   "cell_type": "code",
   "execution_count": 6,
   "metadata": {
    "ExecuteTime": {
     "end_time": "2021-02-10T23:27:38.086265Z",
     "start_time": "2021-02-10T23:27:37.981269Z"
    }
   },
   "outputs": [
    {
     "data": {
      "text/plain": [
       "Purchases Time Delivered    298714\n",
       "Product line                298714\n",
       "User ID                     298714\n",
       "Purchase ID                 298714\n",
       "Venue ID                    298714\n",
       "dtype: int64"
      ]
     },
     "execution_count": 6,
     "metadata": {},
     "output_type": "execute_result"
    }
   ],
   "source": [
    "df2.count()"
   ]
  },
  {
   "cell_type": "code",
   "execution_count": 7,
   "metadata": {
    "ExecuteTime": {
     "end_time": "2021-02-10T23:27:38.165265Z",
     "start_time": "2021-02-10T23:27:38.088267Z"
    }
   },
   "outputs": [],
   "source": [
    "# Change type of column to datetime\n",
    "df2['Purchases Time Delivered'] = pd.to_datetime(df2['Purchases Time Delivered'], format=\"%d.%m.%Y\")"
   ]
  },
  {
   "cell_type": "code",
   "execution_count": 8,
   "metadata": {
    "ExecuteTime": {
     "end_time": "2021-02-10T23:27:38.181272Z",
     "start_time": "2021-02-10T23:27:38.169269Z"
    }
   },
   "outputs": [
    {
     "data": {
      "text/plain": [
       "Purchases Time Delivered    datetime64[ns]\n",
       "Product line                        object\n",
       "User ID                             object\n",
       "Purchase ID                         object\n",
       "Venue ID                            object\n",
       "dtype: object"
      ]
     },
     "execution_count": 8,
     "metadata": {},
     "output_type": "execute_result"
    }
   ],
   "source": [
    "df2.dtypes"
   ]
  },
  {
   "cell_type": "markdown",
   "metadata": {},
   "source": [
    "## Searching for top online food ordering:"
   ]
  },
  {
   "cell_type": "code",
   "execution_count": 9,
   "metadata": {
    "ExecuteTime": {
     "end_time": "2021-02-10T23:27:38.228325Z",
     "start_time": "2021-02-10T23:27:38.183267Z"
    }
   },
   "outputs": [
    {
     "data": {
      "text/plain": [
       "1503"
      ]
     },
     "execution_count": 9,
     "metadata": {},
     "output_type": "execute_result"
    }
   ],
   "source": [
    "len(df2['Venue ID'].unique())"
   ]
  },
  {
   "cell_type": "code",
   "execution_count": 10,
   "metadata": {
    "ExecuteTime": {
     "end_time": "2021-02-10T23:27:38.292270Z",
     "start_time": "2021-02-10T23:27:38.231268Z"
    }
   },
   "outputs": [],
   "source": [
    "# Top selling units available on service\n",
    "top=df2['Venue ID'].value_counts()\n",
    "top_extract=pd.DataFrame({'Venue ID':top.index,'Count':top.values})"
   ]
  },
  {
   "cell_type": "code",
   "execution_count": 11,
   "metadata": {
    "ExecuteTime": {
     "end_time": "2021-02-10T23:27:38.323268Z",
     "start_time": "2021-02-10T23:27:38.296276Z"
    }
   },
   "outputs": [
    {
     "data": {
      "text/plain": [
       "count    1503.000000\n",
       "mean      198.745176\n",
       "std       371.440041\n",
       "min         1.000000\n",
       "25%        20.000000\n",
       "50%        74.000000\n",
       "75%       215.500000\n",
       "max      4602.000000\n",
       "Name: Count, dtype: float64"
      ]
     },
     "execution_count": 11,
     "metadata": {},
     "output_type": "execute_result"
    }
   ],
   "source": [
    "top_extract['Count'].describe()"
   ]
  },
  {
   "cell_type": "code",
   "execution_count": 12,
   "metadata": {
    "ExecuteTime": {
     "end_time": "2021-02-10T23:27:38.338268Z",
     "start_time": "2021-02-10T23:27:38.326268Z"
    }
   },
   "outputs": [],
   "source": [
    "extract=df2[['Product line','Venue ID']]"
   ]
  },
  {
   "cell_type": "code",
   "execution_count": 13,
   "metadata": {
    "ExecuteTime": {
     "end_time": "2021-02-10T23:27:38.432270Z",
     "start_time": "2021-02-10T23:27:38.340266Z"
    }
   },
   "outputs": [],
   "source": [
    "top_sell_units=pd.merge(top_extract,extract,how='inner',on='Venue ID')"
   ]
  },
  {
   "cell_type": "code",
   "execution_count": 14,
   "metadata": {
    "ExecuteTime": {
     "end_time": "2021-02-10T23:27:38.540267Z",
     "start_time": "2021-02-10T23:27:38.435269Z"
    }
   },
   "outputs": [],
   "source": [
    "top_sell_units=top_sell_units.drop_duplicates(keep='first').reset_index(drop=True)"
   ]
  },
  {
   "cell_type": "code",
   "execution_count": 15,
   "metadata": {
    "ExecuteTime": {
     "end_time": "2021-02-10T23:27:38.570265Z",
     "start_time": "2021-02-10T23:27:38.546271Z"
    }
   },
   "outputs": [
    {
     "data": {
      "text/html": [
       "<div>\n",
       "<style scoped>\n",
       "    .dataframe tbody tr th:only-of-type {\n",
       "        vertical-align: middle;\n",
       "    }\n",
       "\n",
       "    .dataframe tbody tr th {\n",
       "        vertical-align: top;\n",
       "    }\n",
       "\n",
       "    .dataframe thead th {\n",
       "        text-align: right;\n",
       "    }\n",
       "</style>\n",
       "<table border=\"1\" class=\"dataframe\">\n",
       "  <thead>\n",
       "    <tr style=\"text-align: right;\">\n",
       "      <th></th>\n",
       "      <th>Venue ID</th>\n",
       "      <th>Count</th>\n",
       "      <th>Product line</th>\n",
       "    </tr>\n",
       "  </thead>\n",
       "  <tbody>\n",
       "    <tr>\n",
       "      <th>0</th>\n",
       "      <td>5e77a370fee9ef1ba62d6454</td>\n",
       "      <td>4602</td>\n",
       "      <td>Restaurant</td>\n",
       "    </tr>\n",
       "    <tr>\n",
       "      <th>1</th>\n",
       "      <td>5e7dc5c6d12956517345e7d0</td>\n",
       "      <td>4235</td>\n",
       "      <td>Restaurant</td>\n",
       "    </tr>\n",
       "    <tr>\n",
       "      <th>2</th>\n",
       "      <td>5e74b3973f3b342b1112c795</td>\n",
       "      <td>4176</td>\n",
       "      <td>Restaurant</td>\n",
       "    </tr>\n",
       "    <tr>\n",
       "      <th>3</th>\n",
       "      <td>5bbc6b0b9a23e8000c10ce2c</td>\n",
       "      <td>3250</td>\n",
       "      <td>Restaurant</td>\n",
       "    </tr>\n",
       "    <tr>\n",
       "      <th>4</th>\n",
       "      <td>5e7cf0de1d5f2d9994b536ba</td>\n",
       "      <td>3172</td>\n",
       "      <td>Restaurant</td>\n",
       "    </tr>\n",
       "    <tr>\n",
       "      <th>5</th>\n",
       "      <td>5e7747d9896d723f8302370d</td>\n",
       "      <td>2708</td>\n",
       "      <td>Restaurant</td>\n",
       "    </tr>\n",
       "    <tr>\n",
       "      <th>6</th>\n",
       "      <td>5e54e9202149d59d4f476298</td>\n",
       "      <td>2363</td>\n",
       "      <td>Restaurant</td>\n",
       "    </tr>\n",
       "    <tr>\n",
       "      <th>7</th>\n",
       "      <td>5e73cb5d891277fa4aa54e24</td>\n",
       "      <td>2162</td>\n",
       "      <td>Retail store</td>\n",
       "    </tr>\n",
       "    <tr>\n",
       "      <th>8</th>\n",
       "      <td>5e7781b4f4694683def749a6</td>\n",
       "      <td>2076</td>\n",
       "      <td>Restaurant</td>\n",
       "    </tr>\n",
       "    <tr>\n",
       "      <th>9</th>\n",
       "      <td>5e6ceab07df646d28037d17d</td>\n",
       "      <td>1871</td>\n",
       "      <td>Restaurant</td>\n",
       "    </tr>\n",
       "    <tr>\n",
       "      <th>10</th>\n",
       "      <td>5e74b46d8829822e4229c7f8</td>\n",
       "      <td>1824</td>\n",
       "      <td>Restaurant</td>\n",
       "    </tr>\n",
       "    <tr>\n",
       "      <th>11</th>\n",
       "      <td>5e7b8de7a7a5e36f91c7b17b</td>\n",
       "      <td>1706</td>\n",
       "      <td>Restaurant</td>\n",
       "    </tr>\n",
       "    <tr>\n",
       "      <th>12</th>\n",
       "      <td>5e77a757c55bc12714975c4d</td>\n",
       "      <td>1653</td>\n",
       "      <td>Restaurant</td>\n",
       "    </tr>\n",
       "    <tr>\n",
       "      <th>13</th>\n",
       "      <td>5e7663ebe3845b5fffaff7db</td>\n",
       "      <td>1634</td>\n",
       "      <td>Restaurant</td>\n",
       "    </tr>\n",
       "    <tr>\n",
       "      <th>14</th>\n",
       "      <td>5e74af9eb90fb76d88cca48a</td>\n",
       "      <td>1622</td>\n",
       "      <td>Restaurant</td>\n",
       "    </tr>\n",
       "    <tr>\n",
       "      <th>15</th>\n",
       "      <td>5bc066923bb2a0000b11c6d7</td>\n",
       "      <td>1590</td>\n",
       "      <td>Restaurant</td>\n",
       "    </tr>\n",
       "    <tr>\n",
       "      <th>16</th>\n",
       "      <td>5e7b8cb0d43edea68c4ff05e</td>\n",
       "      <td>1566</td>\n",
       "      <td>Restaurant</td>\n",
       "    </tr>\n",
       "    <tr>\n",
       "      <th>17</th>\n",
       "      <td>5d95eebb1ac8e2ab9bab84e1</td>\n",
       "      <td>1565</td>\n",
       "      <td>Restaurant</td>\n",
       "    </tr>\n",
       "    <tr>\n",
       "      <th>18</th>\n",
       "      <td>5e777d49b9e3054b13f35214</td>\n",
       "      <td>1549</td>\n",
       "      <td>Restaurant</td>\n",
       "    </tr>\n",
       "    <tr>\n",
       "      <th>19</th>\n",
       "      <td>5e6bd3a31cafc5bb101639ae</td>\n",
       "      <td>1539</td>\n",
       "      <td>Restaurant</td>\n",
       "    </tr>\n",
       "  </tbody>\n",
       "</table>\n",
       "</div>"
      ],
      "text/plain": [
       "                    Venue ID  Count  Product line\n",
       "0   5e77a370fee9ef1ba62d6454   4602    Restaurant\n",
       "1   5e7dc5c6d12956517345e7d0   4235    Restaurant\n",
       "2   5e74b3973f3b342b1112c795   4176    Restaurant\n",
       "3   5bbc6b0b9a23e8000c10ce2c   3250    Restaurant\n",
       "4   5e7cf0de1d5f2d9994b536ba   3172    Restaurant\n",
       "5   5e7747d9896d723f8302370d   2708    Restaurant\n",
       "6   5e54e9202149d59d4f476298   2363    Restaurant\n",
       "7   5e73cb5d891277fa4aa54e24   2162  Retail store\n",
       "8   5e7781b4f4694683def749a6   2076    Restaurant\n",
       "9   5e6ceab07df646d28037d17d   1871    Restaurant\n",
       "10  5e74b46d8829822e4229c7f8   1824    Restaurant\n",
       "11  5e7b8de7a7a5e36f91c7b17b   1706    Restaurant\n",
       "12  5e77a757c55bc12714975c4d   1653    Restaurant\n",
       "13  5e7663ebe3845b5fffaff7db   1634    Restaurant\n",
       "14  5e74af9eb90fb76d88cca48a   1622    Restaurant\n",
       "15  5bc066923bb2a0000b11c6d7   1590    Restaurant\n",
       "16  5e7b8cb0d43edea68c4ff05e   1566    Restaurant\n",
       "17  5d95eebb1ac8e2ab9bab84e1   1565    Restaurant\n",
       "18  5e777d49b9e3054b13f35214   1549    Restaurant\n",
       "19  5e6bd3a31cafc5bb101639ae   1539    Restaurant"
      ]
     },
     "execution_count": 15,
     "metadata": {},
     "output_type": "execute_result"
    }
   ],
   "source": [
    "# Top 100 selling units\n",
    "top_sell_units.head(20)"
   ]
  },
  {
   "cell_type": "markdown",
   "metadata": {},
   "source": [
    "Most of orders come from restaurants field"
   ]
  },
  {
   "cell_type": "markdown",
   "metadata": {},
   "source": [
    "## Extracting table with those lost user data from first_purchases:"
   ]
  },
  {
   "cell_type": "code",
   "execution_count": 16,
   "metadata": {
    "ExecuteTime": {
     "end_time": "2021-02-10T23:27:38.630266Z",
     "start_time": "2021-02-10T23:27:38.573268Z"
    }
   },
   "outputs": [
    {
     "data": {
      "text/plain": [
       "74568"
      ]
     },
     "execution_count": 16,
     "metadata": {},
     "output_type": "execute_result"
    }
   ],
   "source": [
    "len(df2['User ID'].unique())"
   ]
  },
  {
   "cell_type": "code",
   "execution_count": 17,
   "metadata": {
    "ExecuteTime": {
     "end_time": "2021-02-10T23:27:38.677280Z",
     "start_time": "2021-02-10T23:27:38.633271Z"
    }
   },
   "outputs": [
    {
     "data": {
      "text/plain": [
       "71257"
      ]
     },
     "execution_count": 17,
     "metadata": {},
     "output_type": "execute_result"
    }
   ],
   "source": [
    "len(df1['User ID'].unique())"
   ]
  },
  {
   "cell_type": "markdown",
   "metadata": {},
   "source": [
    "With the above results, we are able to recognize conficting data between the amount of customers in df1 (first_purchase table) and df2 (purchases table), specifically 71257 and 74568. It means there are 3311 customers that have purchases listed in df2 not in df1."
   ]
  },
  {
   "cell_type": "code",
   "execution_count": 18,
   "metadata": {
    "ExecuteTime": {
     "end_time": "2021-02-10T23:27:38.709269Z",
     "start_time": "2021-02-10T23:27:38.681271Z"
    }
   },
   "outputs": [],
   "source": [
    "a=list(df1['User ID'].unique())"
   ]
  },
  {
   "cell_type": "code",
   "execution_count": 19,
   "metadata": {
    "ExecuteTime": {
     "end_time": "2021-02-10T23:27:38.771268Z",
     "start_time": "2021-02-10T23:27:38.711269Z"
    }
   },
   "outputs": [],
   "source": [
    "b=list(df2['User ID'].unique())"
   ]
  },
  {
   "cell_type": "code",
   "execution_count": 75,
   "metadata": {
    "ExecuteTime": {
     "end_time": "2021-02-10T23:44:26.942807Z",
     "start_time": "2021-02-10T23:44:26.914822Z"
    }
   },
   "outputs": [],
   "source": [
    "missing_data=[]\n",
    "for i in b:\n",
    "    if i not in a:\n",
    "        missing_data.append(i)"
   ]
  },
  {
   "cell_type": "code",
   "execution_count": 21,
   "metadata": {
    "ExecuteTime": {
     "end_time": "2021-02-10T23:28:28.322562Z",
     "start_time": "2021-02-10T23:28:28.309559Z"
    }
   },
   "outputs": [
    {
     "data": {
      "text/plain": [
       "3311"
      ]
     },
     "execution_count": 21,
     "metadata": {},
     "output_type": "execute_result"
    }
   ],
   "source": [
    "len(missing_data)"
   ]
  },
  {
   "cell_type": "code",
   "execution_count": 22,
   "metadata": {
    "ExecuteTime": {
     "end_time": "2021-02-10T23:28:28.338558Z",
     "start_time": "2021-02-10T23:28:28.324559Z"
    }
   },
   "outputs": [],
   "source": [
    "missing_data=pd.DataFrame(missing_data,columns=['User ID'])"
   ]
  },
  {
   "cell_type": "code",
   "execution_count": 23,
   "metadata": {
    "ExecuteTime": {
     "end_time": "2021-02-10T23:28:28.369560Z",
     "start_time": "2021-02-10T23:28:28.347562Z"
    }
   },
   "outputs": [
    {
     "data": {
      "text/html": [
       "<div>\n",
       "<style scoped>\n",
       "    .dataframe tbody tr th:only-of-type {\n",
       "        vertical-align: middle;\n",
       "    }\n",
       "\n",
       "    .dataframe tbody tr th {\n",
       "        vertical-align: top;\n",
       "    }\n",
       "\n",
       "    .dataframe thead th {\n",
       "        text-align: right;\n",
       "    }\n",
       "</style>\n",
       "<table border=\"1\" class=\"dataframe\">\n",
       "  <thead>\n",
       "    <tr style=\"text-align: right;\">\n",
       "      <th></th>\n",
       "      <th>User ID</th>\n",
       "    </tr>\n",
       "  </thead>\n",
       "  <tbody>\n",
       "    <tr>\n",
       "      <th>0</th>\n",
       "      <td>556202537f84a43ac29ec7cb</td>\n",
       "    </tr>\n",
       "    <tr>\n",
       "      <th>1</th>\n",
       "      <td>57b5a1c7791b5a4aafe403ef</td>\n",
       "    </tr>\n",
       "    <tr>\n",
       "      <th>2</th>\n",
       "      <td>5840920d79f65102d70ede18</td>\n",
       "    </tr>\n",
       "    <tr>\n",
       "      <th>3</th>\n",
       "      <td>58653b9279f65127b206770e</td>\n",
       "    </tr>\n",
       "    <tr>\n",
       "      <th>4</th>\n",
       "      <td>58d7fba58033271c5a3a9caf</td>\n",
       "    </tr>\n",
       "    <tr>\n",
       "      <th>...</th>\n",
       "      <td>...</td>\n",
       "    </tr>\n",
       "    <tr>\n",
       "      <th>3306</th>\n",
       "      <td>5f762fb1fd6b85d071d65228</td>\n",
       "    </tr>\n",
       "    <tr>\n",
       "      <th>3307</th>\n",
       "      <td>5f7849898c0a1d38c21b53b1</td>\n",
       "    </tr>\n",
       "    <tr>\n",
       "      <th>3308</th>\n",
       "      <td>5f7eea19b461d6ab65fcde83</td>\n",
       "    </tr>\n",
       "    <tr>\n",
       "      <th>3309</th>\n",
       "      <td>5f80d6e62792b18d4381dad2</td>\n",
       "    </tr>\n",
       "    <tr>\n",
       "      <th>3310</th>\n",
       "      <td>5f842675751eb1dd8b080c47</td>\n",
       "    </tr>\n",
       "  </tbody>\n",
       "</table>\n",
       "<p>3311 rows × 1 columns</p>\n",
       "</div>"
      ],
      "text/plain": [
       "                       User ID\n",
       "0     556202537f84a43ac29ec7cb\n",
       "1     57b5a1c7791b5a4aafe403ef\n",
       "2     5840920d79f65102d70ede18\n",
       "3     58653b9279f65127b206770e\n",
       "4     58d7fba58033271c5a3a9caf\n",
       "...                        ...\n",
       "3306  5f762fb1fd6b85d071d65228\n",
       "3307  5f7849898c0a1d38c21b53b1\n",
       "3308  5f7eea19b461d6ab65fcde83\n",
       "3309  5f80d6e62792b18d4381dad2\n",
       "3310  5f842675751eb1dd8b080c47\n",
       "\n",
       "[3311 rows x 1 columns]"
      ]
     },
     "execution_count": 23,
     "metadata": {},
     "output_type": "execute_result"
    }
   ],
   "source": [
    "missing_data"
   ]
  },
  {
   "cell_type": "code",
   "execution_count": 24,
   "metadata": {
    "ExecuteTime": {
     "end_time": "2021-02-10T23:28:28.463556Z",
     "start_time": "2021-02-10T23:28:28.375577Z"
    }
   },
   "outputs": [],
   "source": [
    "df3=pd.merge(df2,missing_data,how='inner',on=['User ID'])"
   ]
  },
  {
   "cell_type": "code",
   "execution_count": 74,
   "metadata": {
    "ExecuteTime": {
     "end_time": "2021-02-10T23:44:07.495756Z",
     "start_time": "2021-02-10T23:44:07.460762Z"
    },
    "scrolled": true
   },
   "outputs": [
    {
     "data": {
      "text/html": [
       "<div>\n",
       "<style scoped>\n",
       "    .dataframe tbody tr th:only-of-type {\n",
       "        vertical-align: middle;\n",
       "    }\n",
       "\n",
       "    .dataframe tbody tr th {\n",
       "        vertical-align: top;\n",
       "    }\n",
       "\n",
       "    .dataframe thead th {\n",
       "        text-align: right;\n",
       "    }\n",
       "</style>\n",
       "<table border=\"1\" class=\"dataframe\">\n",
       "  <thead>\n",
       "    <tr style=\"text-align: right;\">\n",
       "      <th></th>\n",
       "      <th>Purchases Time Delivered</th>\n",
       "      <th>Product line</th>\n",
       "      <th>User ID</th>\n",
       "      <th>Purchase ID</th>\n",
       "      <th>Venue ID</th>\n",
       "    </tr>\n",
       "  </thead>\n",
       "  <tbody>\n",
       "    <tr>\n",
       "      <th>0</th>\n",
       "      <td>2020-07-01</td>\n",
       "      <td>Retail store</td>\n",
       "      <td>556202537f84a43ac29ec7cb</td>\n",
       "      <td>5f0aec594c3cbeb4049ea36a</td>\n",
       "      <td>5ec2ab4401f812138e435c89</td>\n",
       "    </tr>\n",
       "    <tr>\n",
       "      <th>1</th>\n",
       "      <td>2020-07-01</td>\n",
       "      <td>Retail store</td>\n",
       "      <td>556202537f84a43ac29ec7cb</td>\n",
       "      <td>5f184a3c88046da058c5ed1d</td>\n",
       "      <td>5ec2ab4401f812138e435c89</td>\n",
       "    </tr>\n",
       "    <tr>\n",
       "      <th>2</th>\n",
       "      <td>2020-10-01</td>\n",
       "      <td>Restaurant</td>\n",
       "      <td>57b5a1c7791b5a4aafe403ef</td>\n",
       "      <td>5f85cf115a38e7d584abeff6</td>\n",
       "      <td>5e779ec5c96b9193eb284c14</td>\n",
       "    </tr>\n",
       "    <tr>\n",
       "      <th>3</th>\n",
       "      <td>2020-10-01</td>\n",
       "      <td>Restaurant</td>\n",
       "      <td>57b5a1c7791b5a4aafe403ef</td>\n",
       "      <td>5f79fb5a06c145cdc12d09e0</td>\n",
       "      <td>5eec90cb5f3401e081fa2ae1</td>\n",
       "    </tr>\n",
       "    <tr>\n",
       "      <th>4</th>\n",
       "      <td>2020-09-01</td>\n",
       "      <td>Restaurant</td>\n",
       "      <td>5840920d79f65102d70ede18</td>\n",
       "      <td>5f63240a2c027f3009ff1e75</td>\n",
       "      <td>5f3a8ce44d768c7c157cce76</td>\n",
       "    </tr>\n",
       "    <tr>\n",
       "      <th>...</th>\n",
       "      <td>...</td>\n",
       "      <td>...</td>\n",
       "      <td>...</td>\n",
       "      <td>...</td>\n",
       "      <td>...</td>\n",
       "    </tr>\n",
       "    <tr>\n",
       "      <th>10140</th>\n",
       "      <td>2020-10-01</td>\n",
       "      <td>Restaurant</td>\n",
       "      <td>5f7849898c0a1d38c21b53b1</td>\n",
       "      <td>5f784c7fb5453f963c50507f</td>\n",
       "      <td>5d95f08bd205a22b10440290</td>\n",
       "    </tr>\n",
       "    <tr>\n",
       "      <th>10141</th>\n",
       "      <td>2020-10-01</td>\n",
       "      <td>Restaurant</td>\n",
       "      <td>5f7eea19b461d6ab65fcde83</td>\n",
       "      <td>5f7ef84783f13ce49c005482</td>\n",
       "      <td>5e7b8cb0d43edea68c4ff05e</td>\n",
       "    </tr>\n",
       "    <tr>\n",
       "      <th>10142</th>\n",
       "      <td>2020-10-01</td>\n",
       "      <td>Restaurant</td>\n",
       "      <td>5f80d6e62792b18d4381dad2</td>\n",
       "      <td>5f815630521757b130d2309d</td>\n",
       "      <td>5f61c72abea978646e490d98</td>\n",
       "    </tr>\n",
       "    <tr>\n",
       "      <th>10143</th>\n",
       "      <td>2020-10-01</td>\n",
       "      <td>Restaurant</td>\n",
       "      <td>5f80d6e62792b18d4381dad2</td>\n",
       "      <td>5f81a27b7b3991fc47afca9f</td>\n",
       "      <td>5f16add1e1e64c3df0d7dc34</td>\n",
       "    </tr>\n",
       "    <tr>\n",
       "      <th>10144</th>\n",
       "      <td>2020-10-01</td>\n",
       "      <td>Restaurant</td>\n",
       "      <td>5f842675751eb1dd8b080c47</td>\n",
       "      <td>5f85783a940b2c0afb15a351</td>\n",
       "      <td>5e981da56579a4111bc203ce</td>\n",
       "    </tr>\n",
       "  </tbody>\n",
       "</table>\n",
       "<p>10145 rows × 5 columns</p>\n",
       "</div>"
      ],
      "text/plain": [
       "      Purchases Time Delivered  Product line                   User ID  \\\n",
       "0                   2020-07-01  Retail store  556202537f84a43ac29ec7cb   \n",
       "1                   2020-07-01  Retail store  556202537f84a43ac29ec7cb   \n",
       "2                   2020-10-01    Restaurant  57b5a1c7791b5a4aafe403ef   \n",
       "3                   2020-10-01    Restaurant  57b5a1c7791b5a4aafe403ef   \n",
       "4                   2020-09-01    Restaurant  5840920d79f65102d70ede18   \n",
       "...                        ...           ...                       ...   \n",
       "10140               2020-10-01    Restaurant  5f7849898c0a1d38c21b53b1   \n",
       "10141               2020-10-01    Restaurant  5f7eea19b461d6ab65fcde83   \n",
       "10142               2020-10-01    Restaurant  5f80d6e62792b18d4381dad2   \n",
       "10143               2020-10-01    Restaurant  5f80d6e62792b18d4381dad2   \n",
       "10144               2020-10-01    Restaurant  5f842675751eb1dd8b080c47   \n",
       "\n",
       "                    Purchase ID                  Venue ID  \n",
       "0      5f0aec594c3cbeb4049ea36a  5ec2ab4401f812138e435c89  \n",
       "1      5f184a3c88046da058c5ed1d  5ec2ab4401f812138e435c89  \n",
       "2      5f85cf115a38e7d584abeff6  5e779ec5c96b9193eb284c14  \n",
       "3      5f79fb5a06c145cdc12d09e0  5eec90cb5f3401e081fa2ae1  \n",
       "4      5f63240a2c027f3009ff1e75  5f3a8ce44d768c7c157cce76  \n",
       "...                         ...                       ...  \n",
       "10140  5f784c7fb5453f963c50507f  5d95f08bd205a22b10440290  \n",
       "10141  5f7ef84783f13ce49c005482  5e7b8cb0d43edea68c4ff05e  \n",
       "10142  5f815630521757b130d2309d  5f61c72abea978646e490d98  \n",
       "10143  5f81a27b7b3991fc47afca9f  5f16add1e1e64c3df0d7dc34  \n",
       "10144  5f85783a940b2c0afb15a351  5e981da56579a4111bc203ce  \n",
       "\n",
       "[10145 rows x 5 columns]"
      ]
     },
     "execution_count": 74,
     "metadata": {},
     "output_type": "execute_result"
    }
   ],
   "source": [
    "# Table shows the missing data purchases of users in df2 not in df1\n",
    "df3"
   ]
  },
  {
   "cell_type": "code",
   "execution_count": 26,
   "metadata": {
    "ExecuteTime": {
     "end_time": "2021-02-10T23:28:28.510559Z",
     "start_time": "2021-02-10T23:28:28.496560Z"
    }
   },
   "outputs": [
    {
     "name": "stdout",
     "output_type": "stream",
     "text": [
      "The percentage is lost in data is 3.4%.\n"
     ]
    }
   ],
   "source": [
    "percentage=round((len(df3)/len(df2))*100,2)\n",
    "print(f'The percentage is lost in data is {percentage}%.')"
   ]
  },
  {
   "cell_type": "markdown",
   "metadata": {},
   "source": [
    "## Exploring statistics on purchases from each customers:"
   ]
  },
  {
   "cell_type": "code",
   "execution_count": 27,
   "metadata": {
    "ExecuteTime": {
     "end_time": "2021-02-10T23:28:28.634562Z",
     "start_time": "2021-02-10T23:28:28.512560Z"
    }
   },
   "outputs": [],
   "source": [
    "# Table to explore purchase count from each customers\n",
    "sample=df2['User ID'].value_counts()\n",
    "retention=pd.DataFrame({'User ID':sample.index, 'Purchase Count':sample.values})"
   ]
  },
  {
   "cell_type": "code",
   "execution_count": 28,
   "metadata": {
    "ExecuteTime": {
     "end_time": "2021-02-10T23:28:28.665558Z",
     "start_time": "2021-02-10T23:28:28.639562Z"
    }
   },
   "outputs": [
    {
     "data": {
      "text/html": [
       "<div>\n",
       "<style scoped>\n",
       "    .dataframe tbody tr th:only-of-type {\n",
       "        vertical-align: middle;\n",
       "    }\n",
       "\n",
       "    .dataframe tbody tr th {\n",
       "        vertical-align: top;\n",
       "    }\n",
       "\n",
       "    .dataframe thead th {\n",
       "        text-align: right;\n",
       "    }\n",
       "</style>\n",
       "<table border=\"1\" class=\"dataframe\">\n",
       "  <thead>\n",
       "    <tr style=\"text-align: right;\">\n",
       "      <th></th>\n",
       "      <th>User ID</th>\n",
       "      <th>Purchase Count</th>\n",
       "    </tr>\n",
       "  </thead>\n",
       "  <tbody>\n",
       "    <tr>\n",
       "      <th>0</th>\n",
       "      <td>5ec04f84d2868704abb52f98</td>\n",
       "      <td>205</td>\n",
       "    </tr>\n",
       "    <tr>\n",
       "      <th>1</th>\n",
       "      <td>5eea584439f726a586098e28</td>\n",
       "      <td>191</td>\n",
       "    </tr>\n",
       "    <tr>\n",
       "      <th>2</th>\n",
       "      <td>5ed37beb85374d378ed67758</td>\n",
       "      <td>181</td>\n",
       "    </tr>\n",
       "    <tr>\n",
       "      <th>3</th>\n",
       "      <td>5e92f86d8543cc9871d7057a</td>\n",
       "      <td>172</td>\n",
       "    </tr>\n",
       "    <tr>\n",
       "      <th>4</th>\n",
       "      <td>5ebb171bdf7d418abd2b0da6</td>\n",
       "      <td>168</td>\n",
       "    </tr>\n",
       "    <tr>\n",
       "      <th>...</th>\n",
       "      <td>...</td>\n",
       "      <td>...</td>\n",
       "    </tr>\n",
       "    <tr>\n",
       "      <th>74563</th>\n",
       "      <td>5f59f573a3f1d5d6dae7ab46</td>\n",
       "      <td>1</td>\n",
       "    </tr>\n",
       "    <tr>\n",
       "      <th>74564</th>\n",
       "      <td>5f5e59ae29d3103a85804f20</td>\n",
       "      <td>1</td>\n",
       "    </tr>\n",
       "    <tr>\n",
       "      <th>74565</th>\n",
       "      <td>5f68d082eb8a4bc816ebc631</td>\n",
       "      <td>1</td>\n",
       "    </tr>\n",
       "    <tr>\n",
       "      <th>74566</th>\n",
       "      <td>5e6a75fb92a6063aca166fd9</td>\n",
       "      <td>1</td>\n",
       "    </tr>\n",
       "    <tr>\n",
       "      <th>74567</th>\n",
       "      <td>5ec643fd7bf24e2f174b96de</td>\n",
       "      <td>1</td>\n",
       "    </tr>\n",
       "  </tbody>\n",
       "</table>\n",
       "<p>74568 rows × 2 columns</p>\n",
       "</div>"
      ],
      "text/plain": [
       "                        User ID  Purchase Count\n",
       "0      5ec04f84d2868704abb52f98             205\n",
       "1      5eea584439f726a586098e28             191\n",
       "2      5ed37beb85374d378ed67758             181\n",
       "3      5e92f86d8543cc9871d7057a             172\n",
       "4      5ebb171bdf7d418abd2b0da6             168\n",
       "...                         ...             ...\n",
       "74563  5f59f573a3f1d5d6dae7ab46               1\n",
       "74564  5f5e59ae29d3103a85804f20               1\n",
       "74565  5f68d082eb8a4bc816ebc631               1\n",
       "74566  5e6a75fb92a6063aca166fd9               1\n",
       "74567  5ec643fd7bf24e2f174b96de               1\n",
       "\n",
       "[74568 rows x 2 columns]"
      ]
     },
     "execution_count": 28,
     "metadata": {},
     "output_type": "execute_result"
    }
   ],
   "source": [
    "retention"
   ]
  },
  {
   "cell_type": "code",
   "execution_count": 29,
   "metadata": {
    "ExecuteTime": {
     "end_time": "2021-02-10T23:28:28.681562Z",
     "start_time": "2021-02-10T23:28:28.668586Z"
    }
   },
   "outputs": [
    {
     "data": {
      "text/html": [
       "<div>\n",
       "<style scoped>\n",
       "    .dataframe tbody tr th:only-of-type {\n",
       "        vertical-align: middle;\n",
       "    }\n",
       "\n",
       "    .dataframe tbody tr th {\n",
       "        vertical-align: top;\n",
       "    }\n",
       "\n",
       "    .dataframe thead th {\n",
       "        text-align: right;\n",
       "    }\n",
       "</style>\n",
       "<table border=\"1\" class=\"dataframe\">\n",
       "  <thead>\n",
       "    <tr style=\"text-align: right;\">\n",
       "      <th></th>\n",
       "      <th>User ID</th>\n",
       "      <th>Purchase Count</th>\n",
       "    </tr>\n",
       "  </thead>\n",
       "  <tbody>\n",
       "    <tr>\n",
       "      <th>0</th>\n",
       "      <td>5ec04f84d2868704abb52f98</td>\n",
       "      <td>205</td>\n",
       "    </tr>\n",
       "    <tr>\n",
       "      <th>1</th>\n",
       "      <td>5eea584439f726a586098e28</td>\n",
       "      <td>191</td>\n",
       "    </tr>\n",
       "    <tr>\n",
       "      <th>2</th>\n",
       "      <td>5ed37beb85374d378ed67758</td>\n",
       "      <td>181</td>\n",
       "    </tr>\n",
       "    <tr>\n",
       "      <th>3</th>\n",
       "      <td>5e92f86d8543cc9871d7057a</td>\n",
       "      <td>172</td>\n",
       "    </tr>\n",
       "    <tr>\n",
       "      <th>4</th>\n",
       "      <td>5ebb171bdf7d418abd2b0da6</td>\n",
       "      <td>168</td>\n",
       "    </tr>\n",
       "    <tr>\n",
       "      <th>5</th>\n",
       "      <td>5ee54eb4113c1657c503a95f</td>\n",
       "      <td>168</td>\n",
       "    </tr>\n",
       "    <tr>\n",
       "      <th>6</th>\n",
       "      <td>5eac42801adae91423b8ee6a</td>\n",
       "      <td>138</td>\n",
       "    </tr>\n",
       "    <tr>\n",
       "      <th>7</th>\n",
       "      <td>5f285087da54684fc419703f</td>\n",
       "      <td>133</td>\n",
       "    </tr>\n",
       "    <tr>\n",
       "      <th>8</th>\n",
       "      <td>5eb57a7e97293fe371cad295</td>\n",
       "      <td>131</td>\n",
       "    </tr>\n",
       "    <tr>\n",
       "      <th>9</th>\n",
       "      <td>5edce5e7754894f1bab21b2c</td>\n",
       "      <td>130</td>\n",
       "    </tr>\n",
       "    <tr>\n",
       "      <th>10</th>\n",
       "      <td>5dae03b650f2feac2a65eec0</td>\n",
       "      <td>122</td>\n",
       "    </tr>\n",
       "    <tr>\n",
       "      <th>11</th>\n",
       "      <td>5ec93fa6ab8fb7d050463d3c</td>\n",
       "      <td>121</td>\n",
       "    </tr>\n",
       "    <tr>\n",
       "      <th>12</th>\n",
       "      <td>5f182eabbd710f73ad0715f2</td>\n",
       "      <td>120</td>\n",
       "    </tr>\n",
       "    <tr>\n",
       "      <th>13</th>\n",
       "      <td>5edea6988864c516823e33d2</td>\n",
       "      <td>120</td>\n",
       "    </tr>\n",
       "    <tr>\n",
       "      <th>14</th>\n",
       "      <td>5cd7f95483de69644671b4cd</td>\n",
       "      <td>119</td>\n",
       "    </tr>\n",
       "    <tr>\n",
       "      <th>15</th>\n",
       "      <td>5d6a79965f4656931c99f7b1</td>\n",
       "      <td>117</td>\n",
       "    </tr>\n",
       "    <tr>\n",
       "      <th>16</th>\n",
       "      <td>5b7d82276eeb6e000bbb07e2</td>\n",
       "      <td>116</td>\n",
       "    </tr>\n",
       "    <tr>\n",
       "      <th>17</th>\n",
       "      <td>5ec6998ff85300fc6b7c7c1c</td>\n",
       "      <td>116</td>\n",
       "    </tr>\n",
       "    <tr>\n",
       "      <th>18</th>\n",
       "      <td>5eef3f8aec57540875c6f3a4</td>\n",
       "      <td>111</td>\n",
       "    </tr>\n",
       "    <tr>\n",
       "      <th>19</th>\n",
       "      <td>5c82679557ba37000b143034</td>\n",
       "      <td>109</td>\n",
       "    </tr>\n",
       "  </tbody>\n",
       "</table>\n",
       "</div>"
      ],
      "text/plain": [
       "                     User ID  Purchase Count\n",
       "0   5ec04f84d2868704abb52f98             205\n",
       "1   5eea584439f726a586098e28             191\n",
       "2   5ed37beb85374d378ed67758             181\n",
       "3   5e92f86d8543cc9871d7057a             172\n",
       "4   5ebb171bdf7d418abd2b0da6             168\n",
       "5   5ee54eb4113c1657c503a95f             168\n",
       "6   5eac42801adae91423b8ee6a             138\n",
       "7   5f285087da54684fc419703f             133\n",
       "8   5eb57a7e97293fe371cad295             131\n",
       "9   5edce5e7754894f1bab21b2c             130\n",
       "10  5dae03b650f2feac2a65eec0             122\n",
       "11  5ec93fa6ab8fb7d050463d3c             121\n",
       "12  5f182eabbd710f73ad0715f2             120\n",
       "13  5edea6988864c516823e33d2             120\n",
       "14  5cd7f95483de69644671b4cd             119\n",
       "15  5d6a79965f4656931c99f7b1             117\n",
       "16  5b7d82276eeb6e000bbb07e2             116\n",
       "17  5ec6998ff85300fc6b7c7c1c             116\n",
       "18  5eef3f8aec57540875c6f3a4             111\n",
       "19  5c82679557ba37000b143034             109"
      ]
     },
     "execution_count": 29,
     "metadata": {},
     "output_type": "execute_result"
    }
   ],
   "source": [
    "# Top 20 customers with the most regular usages\n",
    "retention.head(20)"
   ]
  },
  {
   "cell_type": "code",
   "execution_count": 30,
   "metadata": {
    "ExecuteTime": {
     "end_time": "2021-02-10T23:28:28.712560Z",
     "start_time": "2021-02-10T23:28:28.684565Z"
    }
   },
   "outputs": [
    {
     "data": {
      "text/plain": [
       "count    74568.000000\n",
       "mean         4.005927\n",
       "std          7.560976\n",
       "min          1.000000\n",
       "25%          1.000000\n",
       "50%          2.000000\n",
       "75%          4.000000\n",
       "max        205.000000\n",
       "Name: Purchase Count, dtype: float64"
      ]
     },
     "execution_count": 30,
     "metadata": {},
     "output_type": "execute_result"
    }
   ],
   "source": [
    "# Get insights from collective purchase count\n",
    "retention['Purchase Count'].describe()"
   ]
  },
  {
   "cell_type": "code",
   "execution_count": 31,
   "metadata": {
    "ExecuteTime": {
     "end_time": "2021-02-10T23:28:28.728561Z",
     "start_time": "2021-02-10T23:28:28.714562Z"
    }
   },
   "outputs": [
    {
     "data": {
      "text/plain": [
       "1.89"
      ]
     },
     "execution_count": 31,
     "metadata": {},
     "output_type": "execute_result"
    }
   ],
   "source": [
    "coefficient_variation=round((retention['Purchase Count'].std()/retention['Purchase Count'].mean()),2)\n",
    "coefficient_variation"
   ]
  },
  {
   "cell_type": "markdown",
   "metadata": {},
   "source": [
    "The coefficient of variation exceeds 1 which means the observastion values are further from the mean"
   ]
  },
  {
   "cell_type": "code",
   "execution_count": 32,
   "metadata": {
    "ExecuteTime": {
     "end_time": "2021-02-10T23:28:28.899563Z",
     "start_time": "2021-02-10T23:28:28.730568Z"
    },
    "scrolled": false
   },
   "outputs": [
    {
     "name": "stderr",
     "output_type": "stream",
     "text": [
      "C:\\Users\\ducng\\anaconda3\\lib\\site-packages\\seaborn\\_decorators.py:43: FutureWarning: Pass the following variable as a keyword arg: x. From version 0.12, the only valid positional argument will be `data`, and passing other arguments without an explicit keyword will result in an error or misinterpretation.\n",
      "  FutureWarning\n"
     ]
    },
    {
     "data": {
      "image/png": "[encoded data removed]",
      "text/plain": [
       "<Figure size 576x216 with 1 Axes>"
      ]
     },
     "metadata": {
      "needs_background": "light"
     },
     "output_type": "display_data"
    }
   ],
   "source": [
    "# Using boxplot to get statistics\n",
    "plt.figure(figsize=(8,3))\n",
    "sns.boxplot(retention['Purchase Count'], sym='')\n",
    "plt.xticks(fontsize=20)\n",
    "plt.xlabel('Purchase Count',fontsize=20)\n",
    "sns.despine(left=True,bottom=True)"
   ]
  },
  {
   "cell_type": "code",
   "execution_count": 33,
   "metadata": {
    "ExecuteTime": {
     "end_time": "2021-02-10T23:28:28.930563Z",
     "start_time": "2021-02-10T23:28:28.902566Z"
    }
   },
   "outputs": [
    {
     "data": {
      "text/plain": [
       "1"
      ]
     },
     "execution_count": 33,
     "metadata": {},
     "output_type": "execute_result"
    }
   ],
   "source": [
    "retention['Purchase Count'].mode()[0]"
   ]
  },
  {
   "cell_type": "markdown",
   "metadata": {
    "ExecuteTime": {
     "end_time": "2021-01-30T22:01:59.291637Z",
     "start_time": "2021-01-30T22:01:59.279634Z"
    }
   },
   "source": [
    "Median purchase count is 2 purchases<br>\n",
    "With the mean > median, this is a positive skew<br>\n",
    "75% of the users span from 1 to 4 purchases during a period<br>\n",
    "Most all of customers just has odered food through the app once"
   ]
  },
  {
   "cell_type": "code",
   "execution_count": 34,
   "metadata": {
    "ExecuteTime": {
     "end_time": "2021-02-10T23:28:28.978559Z",
     "start_time": "2021-02-10T23:28:28.932566Z"
    }
   },
   "outputs": [],
   "source": [
    "# Categorizing customers usage\n",
    "once=0\n",
    "twice_to_twelfth=0\n",
    "rarely=0\n",
    "regular=0\n",
    "for j in retention['Purchase Count']:\n",
    "    if j == 1:\n",
    "        once+=1\n",
    "    elif j > 1 and j <=12:\n",
    "        twice_to_twelfth+=1\n",
    "    elif j > 12 and j <= 24:\n",
    "        rarely+=1\n",
    "    elif j > 20:\n",
    "        regular+=1"
   ]
  },
  {
   "cell_type": "code",
   "execution_count": 35,
   "metadata": {
    "ExecuteTime": {
     "end_time": "2021-02-10T23:28:28.993558Z",
     "start_time": "2021-02-10T23:28:28.980561Z"
    }
   },
   "outputs": [
    {
     "name": "stdout",
     "output_type": "stream",
     "text": [
      "36709 33004 3183 1672\n"
     ]
    }
   ],
   "source": [
    "print(once,twice_to_twelfth,rarely,regular)"
   ]
  },
  {
   "cell_type": "code",
   "execution_count": 36,
   "metadata": {
    "ExecuteTime": {
     "end_time": "2021-02-10T23:28:29.196560Z",
     "start_time": "2021-02-10T23:28:28.996566Z"
    }
   },
   "outputs": [
    {
     "data": {
      "image/png": "[encoded data removed]",
      "text/plain": [
       "<Figure size 864x720 with 1 Axes>"
      ]
     },
     "metadata": {
      "needs_background": "light"
     },
     "output_type": "display_data"
    }
   ],
   "source": [
    "plt.figure(figsize=(12,10))\n",
    "sizes=[once,twice_to_twelfth,rarely,regular]\n",
    "labels=('once','twice_to_twelfth','rarely','regular')\n",
    "y_pos=np.arange(len(labels))\n",
    "ax=plt.barh(y_pos,sizes, align='center', alpha=0.7,color='#008B8B')\n",
    "plt.yticks(y_pos,labels,fontsize=20)\n",
    "plt.xticks(fontsize=20)\n",
    "plt.ylabel('Customer Retention',fontsize=20)\n",
    "plt.xlabel('Count',fontsize=20)\n",
    "plt.title('Types of Customer',fontsize=20)\n",
    "sns.despine(left=True,bottom=True)\n",
    "plt.show()"
   ]
  },
  {
   "cell_type": "markdown",
   "metadata": {
    "ExecuteTime": {
     "end_time": "2021-01-30T22:12:05.947423Z",
     "start_time": "2021-01-30T22:12:05.935424Z"
    }
   },
   "source": [
    "We can see that, most of customers used the service only once (36709), next is a group of customers who purchased from twice to twelfth (33004)\n",
    "in the given period time <br>\n",
    "Rarely customers class is in a puchasing range between more than twelve times and average once a week in 24 weeks, individually 3183. <br>\n",
    "Regular customers are the least group with 1672 people. <br>\n",
    "It could be due to the delivery fee ( based on distance), somehow delaying in delivery, less discount season from restaurants<br> or retail stores together with unappropriated food price have led to the difficulty to keep customers using service regularly"
   ]
  },
  {
   "cell_type": "markdown",
   "metadata": {},
   "source": [
    "## Checking monthly purchase:"
   ]
  },
  {
   "cell_type": "code",
   "execution_count": 37,
   "metadata": {
    "ExecuteTime": {
     "end_time": "2021-02-10T23:28:29.275559Z",
     "start_time": "2021-02-10T23:28:29.198560Z"
    }
   },
   "outputs": [],
   "source": [
    "# Using datetime library, we extracted the month, year\n",
    "df2['month'] = df2['Purchases Time Delivered'].dt.month\n",
    "df2['year']=df2['Purchases Time Delivered'].dt.year"
   ]
  },
  {
   "cell_type": "code",
   "execution_count": 38,
   "metadata": {
    "ExecuteTime": {
     "end_time": "2021-02-10T23:28:29.291560Z",
     "start_time": "2021-02-10T23:28:29.277559Z"
    }
   },
   "outputs": [],
   "source": [
    "# Showing the amount of purchases monthly\n",
    "b=df2['month'].value_counts().sort_index()"
   ]
  },
  {
   "cell_type": "code",
   "execution_count": 39,
   "metadata": {
    "ExecuteTime": {
     "end_time": "2021-02-10T23:28:29.307606Z",
     "start_time": "2021-02-10T23:28:29.293560Z"
    }
   },
   "outputs": [],
   "source": [
    "amount=pd.DataFrame({'Month':b.index,'Purchase_Count':b.values})"
   ]
  },
  {
   "cell_type": "code",
   "execution_count": 40,
   "metadata": {
    "ExecuteTime": {
     "end_time": "2021-02-10T23:28:29.337558Z",
     "start_time": "2021-02-10T23:28:29.315583Z"
    }
   },
   "outputs": [
    {
     "data": {
      "text/html": [
       "<div>\n",
       "<style scoped>\n",
       "    .dataframe tbody tr th:only-of-type {\n",
       "        vertical-align: middle;\n",
       "    }\n",
       "\n",
       "    .dataframe tbody tr th {\n",
       "        vertical-align: top;\n",
       "    }\n",
       "\n",
       "    .dataframe thead th {\n",
       "        text-align: right;\n",
       "    }\n",
       "</style>\n",
       "<table border=\"1\" class=\"dataframe\">\n",
       "  <thead>\n",
       "    <tr style=\"text-align: right;\">\n",
       "      <th></th>\n",
       "      <th>Month</th>\n",
       "      <th>Purchase_Count</th>\n",
       "    </tr>\n",
       "  </thead>\n",
       "  <tbody>\n",
       "    <tr>\n",
       "      <th>0</th>\n",
       "      <td>5</td>\n",
       "      <td>32684</td>\n",
       "    </tr>\n",
       "    <tr>\n",
       "      <th>1</th>\n",
       "      <td>6</td>\n",
       "      <td>41520</td>\n",
       "    </tr>\n",
       "    <tr>\n",
       "      <th>2</th>\n",
       "      <td>7</td>\n",
       "      <td>44313</td>\n",
       "    </tr>\n",
       "    <tr>\n",
       "      <th>3</th>\n",
       "      <td>8</td>\n",
       "      <td>52861</td>\n",
       "    </tr>\n",
       "    <tr>\n",
       "      <th>4</th>\n",
       "      <td>9</td>\n",
       "      <td>81160</td>\n",
       "    </tr>\n",
       "    <tr>\n",
       "      <th>5</th>\n",
       "      <td>10</td>\n",
       "      <td>46176</td>\n",
       "    </tr>\n",
       "  </tbody>\n",
       "</table>\n",
       "</div>"
      ],
      "text/plain": [
       "   Month  Purchase_Count\n",
       "0      5           32684\n",
       "1      6           41520\n",
       "2      7           44313\n",
       "3      8           52861\n",
       "4      9           81160\n",
       "5     10           46176"
      ]
     },
     "execution_count": 40,
     "metadata": {},
     "output_type": "execute_result"
    }
   ],
   "source": [
    "amount"
   ]
  },
  {
   "cell_type": "code",
   "execution_count": 41,
   "metadata": {
    "ExecuteTime": {
     "end_time": "2021-02-10T23:28:29.571558Z",
     "start_time": "2021-02-10T23:28:29.339561Z"
    },
    "scrolled": true
   },
   "outputs": [
    {
     "data": {
      "image/png": "[encoded data removed]",
      "text/plain": [
       "<Figure size 864x720 with 1 Axes>"
      ]
     },
     "metadata": {},
     "output_type": "display_data"
    }
   ],
   "source": [
    "sns.set_style('white')\n",
    "plt.figure(figsize=(12,10))\n",
    "objects = amount['Month']\n",
    "y_pos = np.arange(len(objects))\n",
    "performance = amount['Purchase_Count']\n",
    "plt.bar(y_pos, performance, align='center',color='#483D8B',alpha=0.9)\n",
    "plt.xticks(y_pos, objects,fontsize=20)\n",
    "plt.yticks(fontsize=20)\n",
    "plt.ylabel('Purchase_Count',fontsize=20)\n",
    "plt.xlabel('Monthly',fontsize=20)\n",
    "plt.title('Amount of Usage',fontsize=20)\n",
    "sns.despine(left=True, bottom=True)\n",
    "plt.show()"
   ]
  },
  {
   "cell_type": "markdown",
   "metadata": {},
   "source": [
    "## Preparing data for cohort analysis:"
   ]
  },
  {
   "cell_type": "code",
   "execution_count": 42,
   "metadata": {
    "ExecuteTime": {
     "end_time": "2021-02-10T23:28:38.621639Z",
     "start_time": "2021-02-10T23:28:29.573562Z"
    }
   },
   "outputs": [],
   "source": [
    "# In order to sort them in order, we should multiply the year by 100 and add the month to that value. \n",
    "# This will create an order that can be sorted correctly.\n",
    "df2['cohort'] = df2.apply(lambda row: (row['year'] * 100) + (row['month']), axis=1)"
   ]
  },
  {
   "cell_type": "code",
   "execution_count": 43,
   "metadata": {
    "ExecuteTime": {
     "end_time": "2021-02-10T23:28:38.668615Z",
     "start_time": "2021-02-10T23:28:38.624617Z"
    }
   },
   "outputs": [
    {
     "data": {
      "text/html": [
       "<div>\n",
       "<style scoped>\n",
       "    .dataframe tbody tr th:only-of-type {\n",
       "        vertical-align: middle;\n",
       "    }\n",
       "\n",
       "    .dataframe tbody tr th {\n",
       "        vertical-align: top;\n",
       "    }\n",
       "\n",
       "    .dataframe thead th {\n",
       "        text-align: right;\n",
       "    }\n",
       "</style>\n",
       "<table border=\"1\" class=\"dataframe\">\n",
       "  <thead>\n",
       "    <tr style=\"text-align: right;\">\n",
       "      <th></th>\n",
       "      <th>Purchases Time Delivered</th>\n",
       "      <th>Product line</th>\n",
       "      <th>User ID</th>\n",
       "      <th>Purchase ID</th>\n",
       "      <th>Venue ID</th>\n",
       "      <th>month</th>\n",
       "      <th>year</th>\n",
       "      <th>cohort</th>\n",
       "    </tr>\n",
       "  </thead>\n",
       "  <tbody>\n",
       "    <tr>\n",
       "      <th>0</th>\n",
       "      <td>2020-08-01</td>\n",
       "      <td>Restaurant</td>\n",
       "      <td>55080d6585f6661a3b37f7a5</td>\n",
       "      <td>5f3d81ef6cce0eeb05225f98</td>\n",
       "      <td>5e8b2c8be050b99f26647804</td>\n",
       "      <td>8</td>\n",
       "      <td>2020</td>\n",
       "      <td>202008</td>\n",
       "    </tr>\n",
       "    <tr>\n",
       "      <th>1</th>\n",
       "      <td>2020-08-01</td>\n",
       "      <td>Restaurant</td>\n",
       "      <td>55080d6585f6661a3b37f7a5</td>\n",
       "      <td>5f3c11f5a90667e766b04c19</td>\n",
       "      <td>5e8b2c8be050b99f26647804</td>\n",
       "      <td>8</td>\n",
       "      <td>2020</td>\n",
       "      <td>202008</td>\n",
       "    </tr>\n",
       "    <tr>\n",
       "      <th>2</th>\n",
       "      <td>2020-07-01</td>\n",
       "      <td>Retail store</td>\n",
       "      <td>556202537f84a43ac29ec7cb</td>\n",
       "      <td>5f0aec594c3cbeb4049ea36a</td>\n",
       "      <td>5ec2ab4401f812138e435c89</td>\n",
       "      <td>7</td>\n",
       "      <td>2020</td>\n",
       "      <td>202007</td>\n",
       "    </tr>\n",
       "    <tr>\n",
       "      <th>3</th>\n",
       "      <td>2020-07-01</td>\n",
       "      <td>Retail store</td>\n",
       "      <td>556202537f84a43ac29ec7cb</td>\n",
       "      <td>5f184a3c88046da058c5ed1d</td>\n",
       "      <td>5ec2ab4401f812138e435c89</td>\n",
       "      <td>7</td>\n",
       "      <td>2020</td>\n",
       "      <td>202007</td>\n",
       "    </tr>\n",
       "    <tr>\n",
       "      <th>4</th>\n",
       "      <td>2020-05-01</td>\n",
       "      <td>Restaurant</td>\n",
       "      <td>57b48aece14f6d64522f8c5f</td>\n",
       "      <td>5ecf98f34d3d68dc996dad7a</td>\n",
       "      <td>5cb4425ae93cce000d20612f</td>\n",
       "      <td>5</td>\n",
       "      <td>2020</td>\n",
       "      <td>202005</td>\n",
       "    </tr>\n",
       "    <tr>\n",
       "      <th>...</th>\n",
       "      <td>...</td>\n",
       "      <td>...</td>\n",
       "      <td>...</td>\n",
       "      <td>...</td>\n",
       "      <td>...</td>\n",
       "      <td>...</td>\n",
       "      <td>...</td>\n",
       "      <td>...</td>\n",
       "    </tr>\n",
       "    <tr>\n",
       "      <th>298709</th>\n",
       "      <td>2020-10-01</td>\n",
       "      <td>Restaurant</td>\n",
       "      <td>5f874372e71892d52313343f</td>\n",
       "      <td>5f8745bfae557239f1cbe4db</td>\n",
       "      <td>5f2d6542365ed912d6c545f2</td>\n",
       "      <td>10</td>\n",
       "      <td>2020</td>\n",
       "      <td>202010</td>\n",
       "    </tr>\n",
       "    <tr>\n",
       "      <th>298710</th>\n",
       "      <td>2020-10-01</td>\n",
       "      <td>Restaurant</td>\n",
       "      <td>5f874b92a026a2143bab6e63</td>\n",
       "      <td>5f874fd5e86004c65a133d47</td>\n",
       "      <td>5e6ccb03b1d0a9394d072fcd</td>\n",
       "      <td>10</td>\n",
       "      <td>2020</td>\n",
       "      <td>202010</td>\n",
       "    </tr>\n",
       "    <tr>\n",
       "      <th>298711</th>\n",
       "      <td>2020-10-01</td>\n",
       "      <td>Restaurant</td>\n",
       "      <td>5f874e647a7169ef6a023235</td>\n",
       "      <td>5f875660afcc5ba542f3f332</td>\n",
       "      <td>5e77a757c55bc12714975c4d</td>\n",
       "      <td>10</td>\n",
       "      <td>2020</td>\n",
       "      <td>202010</td>\n",
       "    </tr>\n",
       "    <tr>\n",
       "      <th>298712</th>\n",
       "      <td>2020-10-01</td>\n",
       "      <td>Restaurant</td>\n",
       "      <td>5f875552c7b1a240baf4cc97</td>\n",
       "      <td>5f87582ed5481f4e72e02218</td>\n",
       "      <td>5f4cfc839232473565cfd423</td>\n",
       "      <td>10</td>\n",
       "      <td>2020</td>\n",
       "      <td>202010</td>\n",
       "    </tr>\n",
       "    <tr>\n",
       "      <th>298713</th>\n",
       "      <td>2020-10-01</td>\n",
       "      <td>Restaurant</td>\n",
       "      <td>5f8755d29765e83cf2c7b52a</td>\n",
       "      <td>5f8757217a5f5d289a90b84a</td>\n",
       "      <td>5e7b8de7a7a5e36f91c7b17b</td>\n",
       "      <td>10</td>\n",
       "      <td>2020</td>\n",
       "      <td>202010</td>\n",
       "    </tr>\n",
       "  </tbody>\n",
       "</table>\n",
       "<p>298714 rows × 8 columns</p>\n",
       "</div>"
      ],
      "text/plain": [
       "       Purchases Time Delivered  Product line                   User ID  \\\n",
       "0                    2020-08-01    Restaurant  55080d6585f6661a3b37f7a5   \n",
       "1                    2020-08-01    Restaurant  55080d6585f6661a3b37f7a5   \n",
       "2                    2020-07-01  Retail store  556202537f84a43ac29ec7cb   \n",
       "3                    2020-07-01  Retail store  556202537f84a43ac29ec7cb   \n",
       "4                    2020-05-01    Restaurant  57b48aece14f6d64522f8c5f   \n",
       "...                         ...           ...                       ...   \n",
       "298709               2020-10-01    Restaurant  5f874372e71892d52313343f   \n",
       "298710               2020-10-01    Restaurant  5f874b92a026a2143bab6e63   \n",
       "298711               2020-10-01    Restaurant  5f874e647a7169ef6a023235   \n",
       "298712               2020-10-01    Restaurant  5f875552c7b1a240baf4cc97   \n",
       "298713               2020-10-01    Restaurant  5f8755d29765e83cf2c7b52a   \n",
       "\n",
       "                     Purchase ID                  Venue ID  month  year  \\\n",
       "0       5f3d81ef6cce0eeb05225f98  5e8b2c8be050b99f26647804      8  2020   \n",
       "1       5f3c11f5a90667e766b04c19  5e8b2c8be050b99f26647804      8  2020   \n",
       "2       5f0aec594c3cbeb4049ea36a  5ec2ab4401f812138e435c89      7  2020   \n",
       "3       5f184a3c88046da058c5ed1d  5ec2ab4401f812138e435c89      7  2020   \n",
       "4       5ecf98f34d3d68dc996dad7a  5cb4425ae93cce000d20612f      5  2020   \n",
       "...                          ...                       ...    ...   ...   \n",
       "298709  5f8745bfae557239f1cbe4db  5f2d6542365ed912d6c545f2     10  2020   \n",
       "298710  5f874fd5e86004c65a133d47  5e6ccb03b1d0a9394d072fcd     10  2020   \n",
       "298711  5f875660afcc5ba542f3f332  5e77a757c55bc12714975c4d     10  2020   \n",
       "298712  5f87582ed5481f4e72e02218  5f4cfc839232473565cfd423     10  2020   \n",
       "298713  5f8757217a5f5d289a90b84a  5e7b8de7a7a5e36f91c7b17b     10  2020   \n",
       "\n",
       "        cohort  \n",
       "0       202008  \n",
       "1       202008  \n",
       "2       202007  \n",
       "3       202007  \n",
       "4       202005  \n",
       "...        ...  \n",
       "298709  202010  \n",
       "298710  202010  \n",
       "298711  202010  \n",
       "298712  202010  \n",
       "298713  202010  \n",
       "\n",
       "[298714 rows x 8 columns]"
      ]
     },
     "execution_count": 43,
     "metadata": {},
     "output_type": "execute_result"
    }
   ],
   "source": [
    "df2"
   ]
  },
  {
   "cell_type": "markdown",
   "metadata": {},
   "source": [
    "Mostly orders increase from August and September, specifically reach a peak in September with 81162 purchases."
   ]
  },
  {
   "cell_type": "code",
   "execution_count": 44,
   "metadata": {
    "ExecuteTime": {
     "end_time": "2021-02-10T23:28:38.808629Z",
     "start_time": "2021-02-10T23:28:38.673616Z"
    }
   },
   "outputs": [],
   "source": [
    "# After we create a column called ‘cohort’, we will group all the orders by the CustomerID \n",
    "# and find the minimum cohort to find the cohort they belong in as their first purchase.\n",
    "cohorts = df2.groupby('User ID')['cohort'].min().reset_index()"
   ]
  },
  {
   "cell_type": "code",
   "execution_count": 45,
   "metadata": {
    "ExecuteTime": {
     "end_time": "2021-02-10T23:28:38.839631Z",
     "start_time": "2021-02-10T23:28:38.811625Z"
    }
   },
   "outputs": [
    {
     "data": {
      "text/html": [
       "<div>\n",
       "<style scoped>\n",
       "    .dataframe tbody tr th:only-of-type {\n",
       "        vertical-align: middle;\n",
       "    }\n",
       "\n",
       "    .dataframe tbody tr th {\n",
       "        vertical-align: top;\n",
       "    }\n",
       "\n",
       "    .dataframe thead th {\n",
       "        text-align: right;\n",
       "    }\n",
       "</style>\n",
       "<table border=\"1\" class=\"dataframe\">\n",
       "  <thead>\n",
       "    <tr style=\"text-align: right;\">\n",
       "      <th></th>\n",
       "      <th>User ID</th>\n",
       "      <th>cohort</th>\n",
       "    </tr>\n",
       "  </thead>\n",
       "  <tbody>\n",
       "    <tr>\n",
       "      <th>0</th>\n",
       "      <td>55080d6585f6661a3b37f7a5</td>\n",
       "      <td>202008</td>\n",
       "    </tr>\n",
       "    <tr>\n",
       "      <th>1</th>\n",
       "      <td>556202537f84a43ac29ec7cb</td>\n",
       "      <td>202007</td>\n",
       "    </tr>\n",
       "    <tr>\n",
       "      <th>2</th>\n",
       "      <td>57b48aece14f6d64522f8c5f</td>\n",
       "      <td>202005</td>\n",
       "    </tr>\n",
       "    <tr>\n",
       "      <th>3</th>\n",
       "      <td>57b5a1c7791b5a4aafe403ef</td>\n",
       "      <td>202010</td>\n",
       "    </tr>\n",
       "    <tr>\n",
       "      <th>4</th>\n",
       "      <td>582212cb8033270d91515225</td>\n",
       "      <td>202009</td>\n",
       "    </tr>\n",
       "    <tr>\n",
       "      <th>...</th>\n",
       "      <td>...</td>\n",
       "      <td>...</td>\n",
       "    </tr>\n",
       "    <tr>\n",
       "      <th>74563</th>\n",
       "      <td>5f874372e71892d52313343f</td>\n",
       "      <td>202010</td>\n",
       "    </tr>\n",
       "    <tr>\n",
       "      <th>74564</th>\n",
       "      <td>5f874b92a026a2143bab6e63</td>\n",
       "      <td>202010</td>\n",
       "    </tr>\n",
       "    <tr>\n",
       "      <th>74565</th>\n",
       "      <td>5f874e647a7169ef6a023235</td>\n",
       "      <td>202010</td>\n",
       "    </tr>\n",
       "    <tr>\n",
       "      <th>74566</th>\n",
       "      <td>5f875552c7b1a240baf4cc97</td>\n",
       "      <td>202010</td>\n",
       "    </tr>\n",
       "    <tr>\n",
       "      <th>74567</th>\n",
       "      <td>5f8755d29765e83cf2c7b52a</td>\n",
       "      <td>202010</td>\n",
       "    </tr>\n",
       "  </tbody>\n",
       "</table>\n",
       "<p>74568 rows × 2 columns</p>\n",
       "</div>"
      ],
      "text/plain": [
       "                        User ID  cohort\n",
       "0      55080d6585f6661a3b37f7a5  202008\n",
       "1      556202537f84a43ac29ec7cb  202007\n",
       "2      57b48aece14f6d64522f8c5f  202005\n",
       "3      57b5a1c7791b5a4aafe403ef  202010\n",
       "4      582212cb8033270d91515225  202009\n",
       "...                         ...     ...\n",
       "74563  5f874372e71892d52313343f  202010\n",
       "74564  5f874b92a026a2143bab6e63  202010\n",
       "74565  5f874e647a7169ef6a023235  202010\n",
       "74566  5f875552c7b1a240baf4cc97  202010\n",
       "74567  5f8755d29765e83cf2c7b52a  202010\n",
       "\n",
       "[74568 rows x 2 columns]"
      ]
     },
     "execution_count": 45,
     "metadata": {},
     "output_type": "execute_result"
    }
   ],
   "source": [
    "cohorts"
   ]
  },
  {
   "cell_type": "code",
   "execution_count": 46,
   "metadata": {
    "ExecuteTime": {
     "end_time": "2021-02-10T23:28:38.998613Z",
     "start_time": "2021-02-10T23:28:38.843616Z"
    }
   },
   "outputs": [],
   "source": [
    "# We’ll rename the columns to CustomerID and first cohort \n",
    "# Merge new DataFrame with our previous data\n",
    "cohorts.columns = ['User ID', 'first_cohort']\n",
    "df2 = df2.merge(cohorts, on='User ID', how='left')"
   ]
  },
  {
   "cell_type": "code",
   "execution_count": 47,
   "metadata": {
    "ExecuteTime": {
     "end_time": "2021-02-10T23:28:39.029613Z",
     "start_time": "2021-02-10T23:28:39.000615Z"
    }
   },
   "outputs": [
    {
     "data": {
      "text/plain": [
       "array(['Restaurant', 'Retail store'], dtype=object)"
      ]
     },
     "execution_count": 47,
     "metadata": {},
     "output_type": "execute_result"
    }
   ],
   "source": [
    "# Define types of product line\n",
    "df2['Product line'].unique()"
   ]
  },
  {
   "cell_type": "code",
   "execution_count": 48,
   "metadata": {
    "ExecuteTime": {
     "end_time": "2021-02-10T23:28:39.044613Z",
     "start_time": "2021-02-10T23:28:39.031614Z"
    }
   },
   "outputs": [],
   "source": [
    "# Call the “value_counts” function on cohorts column and reset the index\n",
    "headers = df2['cohort'].value_counts().reset_index()"
   ]
  },
  {
   "cell_type": "code",
   "execution_count": 49,
   "metadata": {
    "ExecuteTime": {
     "end_time": "2021-02-10T23:28:39.060616Z",
     "start_time": "2021-02-10T23:28:39.048618Z"
    }
   },
   "outputs": [],
   "source": [
    "headers.columns = ['Cohorts', 'Count']"
   ]
  },
  {
   "cell_type": "code",
   "execution_count": 50,
   "metadata": {
    "ExecuteTime": {
     "end_time": "2021-02-10T23:28:39.075625Z",
     "start_time": "2021-02-10T23:28:39.064613Z"
    }
   },
   "outputs": [
    {
     "data": {
      "text/html": [
       "<div>\n",
       "<style scoped>\n",
       "    .dataframe tbody tr th:only-of-type {\n",
       "        vertical-align: middle;\n",
       "    }\n",
       "\n",
       "    .dataframe tbody tr th {\n",
       "        vertical-align: top;\n",
       "    }\n",
       "\n",
       "    .dataframe thead th {\n",
       "        text-align: right;\n",
       "    }\n",
       "</style>\n",
       "<table border=\"1\" class=\"dataframe\">\n",
       "  <thead>\n",
       "    <tr style=\"text-align: right;\">\n",
       "      <th></th>\n",
       "      <th>Cohorts</th>\n",
       "      <th>Count</th>\n",
       "    </tr>\n",
       "  </thead>\n",
       "  <tbody>\n",
       "    <tr>\n",
       "      <th>0</th>\n",
       "      <td>202009</td>\n",
       "      <td>81160</td>\n",
       "    </tr>\n",
       "    <tr>\n",
       "      <th>1</th>\n",
       "      <td>202008</td>\n",
       "      <td>52861</td>\n",
       "    </tr>\n",
       "    <tr>\n",
       "      <th>2</th>\n",
       "      <td>202010</td>\n",
       "      <td>46176</td>\n",
       "    </tr>\n",
       "    <tr>\n",
       "      <th>3</th>\n",
       "      <td>202007</td>\n",
       "      <td>44313</td>\n",
       "    </tr>\n",
       "    <tr>\n",
       "      <th>4</th>\n",
       "      <td>202006</td>\n",
       "      <td>41520</td>\n",
       "    </tr>\n",
       "    <tr>\n",
       "      <th>5</th>\n",
       "      <td>202005</td>\n",
       "      <td>32684</td>\n",
       "    </tr>\n",
       "  </tbody>\n",
       "</table>\n",
       "</div>"
      ],
      "text/plain": [
       "   Cohorts  Count\n",
       "0   202009  81160\n",
       "1   202008  52861\n",
       "2   202010  46176\n",
       "3   202007  44313\n",
       "4   202006  41520\n",
       "5   202005  32684"
      ]
     },
     "execution_count": 50,
     "metadata": {},
     "output_type": "execute_result"
    }
   ],
   "source": [
    "# Result in two columns of all cohorts and presenting the total amount of purchases monthly occurs\n",
    "headers"
   ]
  },
  {
   "cell_type": "code",
   "execution_count": 51,
   "metadata": {
    "ExecuteTime": {
     "end_time": "2021-02-10T23:28:39.091613Z",
     "start_time": "2021-02-10T23:28:39.078616Z"
    }
   },
   "outputs": [
    {
     "data": {
      "text/plain": [
       "[202005, 202006, 202007, 202008, 202009, 202010]"
      ]
     },
     "execution_count": 51,
     "metadata": {},
     "output_type": "execute_result"
    }
   ],
   "source": [
    "# Result in an ordered list of cohorts\n",
    "headers = headers.sort_values(['Cohorts'])['Cohorts'].to_list()\n",
    "headers"
   ]
  },
  {
   "cell_type": "code",
   "execution_count": 70,
   "metadata": {
    "ExecuteTime": {
     "end_time": "2021-02-10T23:39:00.500334Z",
     "start_time": "2021-02-10T23:39:00.473341Z"
    }
   },
   "outputs": [],
   "source": [
    "# In order to create a cohort analysis, we need to create a DataFrame that has an index of each user’s first month of making a purchase \n",
    "# and the amount of times that the percent that made a purchase in the subsequent months.\n",
    "# Cohort distance will be the amount of months between the current order and the first purchase from the customer\n",
    "df2['cohort_distance'] = df2['cohort'] - df2['first_cohort']"
   ]
  },
  {
   "cell_type": "code",
   "execution_count": 71,
   "metadata": {
    "ExecuteTime": {
     "end_time": "2021-02-10T23:39:05.480405Z",
     "start_time": "2021-02-10T23:39:05.436337Z"
    }
   },
   "outputs": [
    {
     "data": {
      "text/html": [
       "<div>\n",
       "<style scoped>\n",
       "    .dataframe tbody tr th:only-of-type {\n",
       "        vertical-align: middle;\n",
       "    }\n",
       "\n",
       "    .dataframe tbody tr th {\n",
       "        vertical-align: top;\n",
       "    }\n",
       "\n",
       "    .dataframe thead th {\n",
       "        text-align: right;\n",
       "    }\n",
       "</style>\n",
       "<table border=\"1\" class=\"dataframe\">\n",
       "  <thead>\n",
       "    <tr style=\"text-align: right;\">\n",
       "      <th></th>\n",
       "      <th>Purchases Time Delivered</th>\n",
       "      <th>Product line</th>\n",
       "      <th>User ID</th>\n",
       "      <th>Purchase ID</th>\n",
       "      <th>Venue ID</th>\n",
       "      <th>month</th>\n",
       "      <th>year</th>\n",
       "      <th>cohort</th>\n",
       "      <th>first_cohort</th>\n",
       "      <th>cohort_distance</th>\n",
       "    </tr>\n",
       "  </thead>\n",
       "  <tbody>\n",
       "    <tr>\n",
       "      <th>0</th>\n",
       "      <td>2020-08-01</td>\n",
       "      <td>Restaurant</td>\n",
       "      <td>55080d6585f6661a3b37f7a5</td>\n",
       "      <td>5f3d81ef6cce0eeb05225f98</td>\n",
       "      <td>5e8b2c8be050b99f26647804</td>\n",
       "      <td>8</td>\n",
       "      <td>2020</td>\n",
       "      <td>202008</td>\n",
       "      <td>202008</td>\n",
       "      <td>0</td>\n",
       "    </tr>\n",
       "    <tr>\n",
       "      <th>1</th>\n",
       "      <td>2020-08-01</td>\n",
       "      <td>Restaurant</td>\n",
       "      <td>55080d6585f6661a3b37f7a5</td>\n",
       "      <td>5f3c11f5a90667e766b04c19</td>\n",
       "      <td>5e8b2c8be050b99f26647804</td>\n",
       "      <td>8</td>\n",
       "      <td>2020</td>\n",
       "      <td>202008</td>\n",
       "      <td>202008</td>\n",
       "      <td>0</td>\n",
       "    </tr>\n",
       "    <tr>\n",
       "      <th>2</th>\n",
       "      <td>2020-07-01</td>\n",
       "      <td>Retail store</td>\n",
       "      <td>556202537f84a43ac29ec7cb</td>\n",
       "      <td>5f0aec594c3cbeb4049ea36a</td>\n",
       "      <td>5ec2ab4401f812138e435c89</td>\n",
       "      <td>7</td>\n",
       "      <td>2020</td>\n",
       "      <td>202007</td>\n",
       "      <td>202007</td>\n",
       "      <td>0</td>\n",
       "    </tr>\n",
       "    <tr>\n",
       "      <th>3</th>\n",
       "      <td>2020-07-01</td>\n",
       "      <td>Retail store</td>\n",
       "      <td>556202537f84a43ac29ec7cb</td>\n",
       "      <td>5f184a3c88046da058c5ed1d</td>\n",
       "      <td>5ec2ab4401f812138e435c89</td>\n",
       "      <td>7</td>\n",
       "      <td>2020</td>\n",
       "      <td>202007</td>\n",
       "      <td>202007</td>\n",
       "      <td>0</td>\n",
       "    </tr>\n",
       "    <tr>\n",
       "      <th>4</th>\n",
       "      <td>2020-05-01</td>\n",
       "      <td>Restaurant</td>\n",
       "      <td>57b48aece14f6d64522f8c5f</td>\n",
       "      <td>5ecf98f34d3d68dc996dad7a</td>\n",
       "      <td>5cb4425ae93cce000d20612f</td>\n",
       "      <td>5</td>\n",
       "      <td>2020</td>\n",
       "      <td>202005</td>\n",
       "      <td>202005</td>\n",
       "      <td>0</td>\n",
       "    </tr>\n",
       "    <tr>\n",
       "      <th>...</th>\n",
       "      <td>...</td>\n",
       "      <td>...</td>\n",
       "      <td>...</td>\n",
       "      <td>...</td>\n",
       "      <td>...</td>\n",
       "      <td>...</td>\n",
       "      <td>...</td>\n",
       "      <td>...</td>\n",
       "      <td>...</td>\n",
       "      <td>...</td>\n",
       "    </tr>\n",
       "    <tr>\n",
       "      <th>298709</th>\n",
       "      <td>2020-10-01</td>\n",
       "      <td>Restaurant</td>\n",
       "      <td>5f874372e71892d52313343f</td>\n",
       "      <td>5f8745bfae557239f1cbe4db</td>\n",
       "      <td>5f2d6542365ed912d6c545f2</td>\n",
       "      <td>10</td>\n",
       "      <td>2020</td>\n",
       "      <td>202010</td>\n",
       "      <td>202010</td>\n",
       "      <td>0</td>\n",
       "    </tr>\n",
       "    <tr>\n",
       "      <th>298710</th>\n",
       "      <td>2020-10-01</td>\n",
       "      <td>Restaurant</td>\n",
       "      <td>5f874b92a026a2143bab6e63</td>\n",
       "      <td>5f874fd5e86004c65a133d47</td>\n",
       "      <td>5e6ccb03b1d0a9394d072fcd</td>\n",
       "      <td>10</td>\n",
       "      <td>2020</td>\n",
       "      <td>202010</td>\n",
       "      <td>202010</td>\n",
       "      <td>0</td>\n",
       "    </tr>\n",
       "    <tr>\n",
       "      <th>298711</th>\n",
       "      <td>2020-10-01</td>\n",
       "      <td>Restaurant</td>\n",
       "      <td>5f874e647a7169ef6a023235</td>\n",
       "      <td>5f875660afcc5ba542f3f332</td>\n",
       "      <td>5e77a757c55bc12714975c4d</td>\n",
       "      <td>10</td>\n",
       "      <td>2020</td>\n",
       "      <td>202010</td>\n",
       "      <td>202010</td>\n",
       "      <td>0</td>\n",
       "    </tr>\n",
       "    <tr>\n",
       "      <th>298712</th>\n",
       "      <td>2020-10-01</td>\n",
       "      <td>Restaurant</td>\n",
       "      <td>5f875552c7b1a240baf4cc97</td>\n",
       "      <td>5f87582ed5481f4e72e02218</td>\n",
       "      <td>5f4cfc839232473565cfd423</td>\n",
       "      <td>10</td>\n",
       "      <td>2020</td>\n",
       "      <td>202010</td>\n",
       "      <td>202010</td>\n",
       "      <td>0</td>\n",
       "    </tr>\n",
       "    <tr>\n",
       "      <th>298713</th>\n",
       "      <td>2020-10-01</td>\n",
       "      <td>Restaurant</td>\n",
       "      <td>5f8755d29765e83cf2c7b52a</td>\n",
       "      <td>5f8757217a5f5d289a90b84a</td>\n",
       "      <td>5e7b8de7a7a5e36f91c7b17b</td>\n",
       "      <td>10</td>\n",
       "      <td>2020</td>\n",
       "      <td>202010</td>\n",
       "      <td>202010</td>\n",
       "      <td>0</td>\n",
       "    </tr>\n",
       "  </tbody>\n",
       "</table>\n",
       "<p>298714 rows × 10 columns</p>\n",
       "</div>"
      ],
      "text/plain": [
       "       Purchases Time Delivered  Product line                   User ID  \\\n",
       "0                    2020-08-01    Restaurant  55080d6585f6661a3b37f7a5   \n",
       "1                    2020-08-01    Restaurant  55080d6585f6661a3b37f7a5   \n",
       "2                    2020-07-01  Retail store  556202537f84a43ac29ec7cb   \n",
       "3                    2020-07-01  Retail store  556202537f84a43ac29ec7cb   \n",
       "4                    2020-05-01    Restaurant  57b48aece14f6d64522f8c5f   \n",
       "...                         ...           ...                       ...   \n",
       "298709               2020-10-01    Restaurant  5f874372e71892d52313343f   \n",
       "298710               2020-10-01    Restaurant  5f874b92a026a2143bab6e63   \n",
       "298711               2020-10-01    Restaurant  5f874e647a7169ef6a023235   \n",
       "298712               2020-10-01    Restaurant  5f875552c7b1a240baf4cc97   \n",
       "298713               2020-10-01    Restaurant  5f8755d29765e83cf2c7b52a   \n",
       "\n",
       "                     Purchase ID                  Venue ID  month  year  \\\n",
       "0       5f3d81ef6cce0eeb05225f98  5e8b2c8be050b99f26647804      8  2020   \n",
       "1       5f3c11f5a90667e766b04c19  5e8b2c8be050b99f26647804      8  2020   \n",
       "2       5f0aec594c3cbeb4049ea36a  5ec2ab4401f812138e435c89      7  2020   \n",
       "3       5f184a3c88046da058c5ed1d  5ec2ab4401f812138e435c89      7  2020   \n",
       "4       5ecf98f34d3d68dc996dad7a  5cb4425ae93cce000d20612f      5  2020   \n",
       "...                          ...                       ...    ...   ...   \n",
       "298709  5f8745bfae557239f1cbe4db  5f2d6542365ed912d6c545f2     10  2020   \n",
       "298710  5f874fd5e86004c65a133d47  5e6ccb03b1d0a9394d072fcd     10  2020   \n",
       "298711  5f875660afcc5ba542f3f332  5e77a757c55bc12714975c4d     10  2020   \n",
       "298712  5f87582ed5481f4e72e02218  5f4cfc839232473565cfd423     10  2020   \n",
       "298713  5f8757217a5f5d289a90b84a  5e7b8de7a7a5e36f91c7b17b     10  2020   \n",
       "\n",
       "        cohort  first_cohort  cohort_distance  \n",
       "0       202008        202008                0  \n",
       "1       202008        202008                0  \n",
       "2       202007        202007                0  \n",
       "3       202007        202007                0  \n",
       "4       202005        202005                0  \n",
       "...        ...           ...              ...  \n",
       "298709  202010        202010                0  \n",
       "298710  202010        202010                0  \n",
       "298711  202010        202010                0  \n",
       "298712  202010        202010                0  \n",
       "298713  202010        202010                0  \n",
       "\n",
       "[298714 rows x 10 columns]"
      ]
     },
     "execution_count": 71,
     "metadata": {},
     "output_type": "execute_result"
    }
   ],
   "source": [
    "df2"
   ]
  },
  {
   "cell_type": "markdown",
   "metadata": {},
   "source": [
    "## Cohort based monthly retention for Restaurant product line:"
   ]
  },
  {
   "cell_type": "code",
   "execution_count": 54,
   "metadata": {
    "ExecuteTime": {
     "end_time": "2021-02-10T23:28:53.066616Z",
     "start_time": "2021-02-10T23:28:52.963617Z"
    }
   },
   "outputs": [],
   "source": [
    "# Product line for restaurant\n",
    "restaurant=df2[df2['Product line']=='Restaurant']"
   ]
  },
  {
   "cell_type": "code",
   "execution_count": 55,
   "metadata": {
    "ExecuteTime": {
     "end_time": "2021-02-10T23:28:53.097616Z",
     "start_time": "2021-02-10T23:28:53.070615Z"
    }
   },
   "outputs": [
    {
     "data": {
      "text/html": [
       "<div>\n",
       "<style scoped>\n",
       "    .dataframe tbody tr th:only-of-type {\n",
       "        vertical-align: middle;\n",
       "    }\n",
       "\n",
       "    .dataframe tbody tr th {\n",
       "        vertical-align: top;\n",
       "    }\n",
       "\n",
       "    .dataframe thead th {\n",
       "        text-align: right;\n",
       "    }\n",
       "</style>\n",
       "<table border=\"1\" class=\"dataframe\">\n",
       "  <thead>\n",
       "    <tr style=\"text-align: right;\">\n",
       "      <th></th>\n",
       "      <th>Purchases Time Delivered</th>\n",
       "      <th>Product line</th>\n",
       "      <th>User ID</th>\n",
       "      <th>Purchase ID</th>\n",
       "      <th>Venue ID</th>\n",
       "      <th>month</th>\n",
       "      <th>year</th>\n",
       "      <th>cohort</th>\n",
       "      <th>first_cohort</th>\n",
       "      <th>cohort_distance</th>\n",
       "    </tr>\n",
       "  </thead>\n",
       "  <tbody>\n",
       "    <tr>\n",
       "      <th>0</th>\n",
       "      <td>2020-08-01</td>\n",
       "      <td>Restaurant</td>\n",
       "      <td>55080d6585f6661a3b37f7a5</td>\n",
       "      <td>5f3d81ef6cce0eeb05225f98</td>\n",
       "      <td>5e8b2c8be050b99f26647804</td>\n",
       "      <td>8</td>\n",
       "      <td>2020</td>\n",
       "      <td>202008</td>\n",
       "      <td>202008</td>\n",
       "      <td>0</td>\n",
       "    </tr>\n",
       "    <tr>\n",
       "      <th>1</th>\n",
       "      <td>2020-08-01</td>\n",
       "      <td>Restaurant</td>\n",
       "      <td>55080d6585f6661a3b37f7a5</td>\n",
       "      <td>5f3c11f5a90667e766b04c19</td>\n",
       "      <td>5e8b2c8be050b99f26647804</td>\n",
       "      <td>8</td>\n",
       "      <td>2020</td>\n",
       "      <td>202008</td>\n",
       "      <td>202008</td>\n",
       "      <td>0</td>\n",
       "    </tr>\n",
       "    <tr>\n",
       "      <th>4</th>\n",
       "      <td>2020-05-01</td>\n",
       "      <td>Restaurant</td>\n",
       "      <td>57b48aece14f6d64522f8c5f</td>\n",
       "      <td>5ecf98f34d3d68dc996dad7a</td>\n",
       "      <td>5cb4425ae93cce000d20612f</td>\n",
       "      <td>5</td>\n",
       "      <td>2020</td>\n",
       "      <td>202005</td>\n",
       "      <td>202005</td>\n",
       "      <td>0</td>\n",
       "    </tr>\n",
       "    <tr>\n",
       "      <th>5</th>\n",
       "      <td>2020-05-01</td>\n",
       "      <td>Restaurant</td>\n",
       "      <td>57b48aece14f6d64522f8c5f</td>\n",
       "      <td>5ed37adbacce7cf8bbbcf9a9</td>\n",
       "      <td>5e6a936291ac996202316a1e</td>\n",
       "      <td>5</td>\n",
       "      <td>2020</td>\n",
       "      <td>202005</td>\n",
       "      <td>202005</td>\n",
       "      <td>0</td>\n",
       "    </tr>\n",
       "    <tr>\n",
       "      <th>6</th>\n",
       "      <td>2020-05-01</td>\n",
       "      <td>Restaurant</td>\n",
       "      <td>57b48aece14f6d64522f8c5f</td>\n",
       "      <td>5ec6b23c96741b6db6266639</td>\n",
       "      <td>5d7a32a73b546fccd88a05e9</td>\n",
       "      <td>5</td>\n",
       "      <td>2020</td>\n",
       "      <td>202005</td>\n",
       "      <td>202005</td>\n",
       "      <td>0</td>\n",
       "    </tr>\n",
       "    <tr>\n",
       "      <th>...</th>\n",
       "      <td>...</td>\n",
       "      <td>...</td>\n",
       "      <td>...</td>\n",
       "      <td>...</td>\n",
       "      <td>...</td>\n",
       "      <td>...</td>\n",
       "      <td>...</td>\n",
       "      <td>...</td>\n",
       "      <td>...</td>\n",
       "      <td>...</td>\n",
       "    </tr>\n",
       "    <tr>\n",
       "      <th>298709</th>\n",
       "      <td>2020-10-01</td>\n",
       "      <td>Restaurant</td>\n",
       "      <td>5f874372e71892d52313343f</td>\n",
       "      <td>5f8745bfae557239f1cbe4db</td>\n",
       "      <td>5f2d6542365ed912d6c545f2</td>\n",
       "      <td>10</td>\n",
       "      <td>2020</td>\n",
       "      <td>202010</td>\n",
       "      <td>202010</td>\n",
       "      <td>0</td>\n",
       "    </tr>\n",
       "    <tr>\n",
       "      <th>298710</th>\n",
       "      <td>2020-10-01</td>\n",
       "      <td>Restaurant</td>\n",
       "      <td>5f874b92a026a2143bab6e63</td>\n",
       "      <td>5f874fd5e86004c65a133d47</td>\n",
       "      <td>5e6ccb03b1d0a9394d072fcd</td>\n",
       "      <td>10</td>\n",
       "      <td>2020</td>\n",
       "      <td>202010</td>\n",
       "      <td>202010</td>\n",
       "      <td>0</td>\n",
       "    </tr>\n",
       "    <tr>\n",
       "      <th>298711</th>\n",
       "      <td>2020-10-01</td>\n",
       "      <td>Restaurant</td>\n",
       "      <td>5f874e647a7169ef6a023235</td>\n",
       "      <td>5f875660afcc5ba542f3f332</td>\n",
       "      <td>5e77a757c55bc12714975c4d</td>\n",
       "      <td>10</td>\n",
       "      <td>2020</td>\n",
       "      <td>202010</td>\n",
       "      <td>202010</td>\n",
       "      <td>0</td>\n",
       "    </tr>\n",
       "    <tr>\n",
       "      <th>298712</th>\n",
       "      <td>2020-10-01</td>\n",
       "      <td>Restaurant</td>\n",
       "      <td>5f875552c7b1a240baf4cc97</td>\n",
       "      <td>5f87582ed5481f4e72e02218</td>\n",
       "      <td>5f4cfc839232473565cfd423</td>\n",
       "      <td>10</td>\n",
       "      <td>2020</td>\n",
       "      <td>202010</td>\n",
       "      <td>202010</td>\n",
       "      <td>0</td>\n",
       "    </tr>\n",
       "    <tr>\n",
       "      <th>298713</th>\n",
       "      <td>2020-10-01</td>\n",
       "      <td>Restaurant</td>\n",
       "      <td>5f8755d29765e83cf2c7b52a</td>\n",
       "      <td>5f8757217a5f5d289a90b84a</td>\n",
       "      <td>5e7b8de7a7a5e36f91c7b17b</td>\n",
       "      <td>10</td>\n",
       "      <td>2020</td>\n",
       "      <td>202010</td>\n",
       "      <td>202010</td>\n",
       "      <td>0</td>\n",
       "    </tr>\n",
       "  </tbody>\n",
       "</table>\n",
       "<p>287921 rows × 10 columns</p>\n",
       "</div>"
      ],
      "text/plain": [
       "       Purchases Time Delivered Product line                   User ID  \\\n",
       "0                    2020-08-01   Restaurant  55080d6585f6661a3b37f7a5   \n",
       "1                    2020-08-01   Restaurant  55080d6585f6661a3b37f7a5   \n",
       "4                    2020-05-01   Restaurant  57b48aece14f6d64522f8c5f   \n",
       "5                    2020-05-01   Restaurant  57b48aece14f6d64522f8c5f   \n",
       "6                    2020-05-01   Restaurant  57b48aece14f6d64522f8c5f   \n",
       "...                         ...          ...                       ...   \n",
       "298709               2020-10-01   Restaurant  5f874372e71892d52313343f   \n",
       "298710               2020-10-01   Restaurant  5f874b92a026a2143bab6e63   \n",
       "298711               2020-10-01   Restaurant  5f874e647a7169ef6a023235   \n",
       "298712               2020-10-01   Restaurant  5f875552c7b1a240baf4cc97   \n",
       "298713               2020-10-01   Restaurant  5f8755d29765e83cf2c7b52a   \n",
       "\n",
       "                     Purchase ID                  Venue ID  month  year  \\\n",
       "0       5f3d81ef6cce0eeb05225f98  5e8b2c8be050b99f26647804      8  2020   \n",
       "1       5f3c11f5a90667e766b04c19  5e8b2c8be050b99f26647804      8  2020   \n",
       "4       5ecf98f34d3d68dc996dad7a  5cb4425ae93cce000d20612f      5  2020   \n",
       "5       5ed37adbacce7cf8bbbcf9a9  5e6a936291ac996202316a1e      5  2020   \n",
       "6       5ec6b23c96741b6db6266639  5d7a32a73b546fccd88a05e9      5  2020   \n",
       "...                          ...                       ...    ...   ...   \n",
       "298709  5f8745bfae557239f1cbe4db  5f2d6542365ed912d6c545f2     10  2020   \n",
       "298710  5f874fd5e86004c65a133d47  5e6ccb03b1d0a9394d072fcd     10  2020   \n",
       "298711  5f875660afcc5ba542f3f332  5e77a757c55bc12714975c4d     10  2020   \n",
       "298712  5f87582ed5481f4e72e02218  5f4cfc839232473565cfd423     10  2020   \n",
       "298713  5f8757217a5f5d289a90b84a  5e7b8de7a7a5e36f91c7b17b     10  2020   \n",
       "\n",
       "        cohort  first_cohort  cohort_distance  \n",
       "0       202008        202008                0  \n",
       "1       202008        202008                0  \n",
       "4       202005        202005                0  \n",
       "5       202005        202005                0  \n",
       "6       202005        202005                0  \n",
       "...        ...           ...              ...  \n",
       "298709  202010        202010                0  \n",
       "298710  202010        202010                0  \n",
       "298711  202010        202010                0  \n",
       "298712  202010        202010                0  \n",
       "298713  202010        202010                0  \n",
       "\n",
       "[287921 rows x 10 columns]"
      ]
     },
     "execution_count": 55,
     "metadata": {},
     "output_type": "execute_result"
    }
   ],
   "source": [
    "restaurant"
   ]
  },
  {
   "cell_type": "markdown",
   "metadata": {},
   "source": [
    "There are 287921 orders from Restaurant"
   ]
  },
  {
   "cell_type": "code",
   "execution_count": 56,
   "metadata": {
    "ExecuteTime": {
     "end_time": "2021-02-10T23:28:53.112614Z",
     "start_time": "2021-02-10T23:28:53.100627Z"
    }
   },
   "outputs": [
    {
     "data": {
      "text/plain": [
       "array([0, 1, 2, 3, 5, 4], dtype=int64)"
      ]
     },
     "execution_count": 56,
     "metadata": {},
     "output_type": "execute_result"
    }
   ],
   "source": [
    "restaurant['cohort_distance'].unique()"
   ]
  },
  {
   "cell_type": "code",
   "execution_count": 57,
   "metadata": {
    "ExecuteTime": {
     "end_time": "2021-02-10T23:28:53.283616Z",
     "start_time": "2021-02-10T23:28:53.114623Z"
    }
   },
   "outputs": [],
   "source": [
    "# Create a DataFrame that has its rows mark the first purchase cohort while the columns are the months since. \n",
    "# The values inside will signify how many customers from that cohort purchases in that period. \n",
    "# The first column will always be the largest.\n",
    "cohort_pivot_restaurant = pd.pivot_table(restaurant, index='first_cohort', columns='cohort_distance', values='User ID', aggfunc=pd.Series.nunique)"
   ]
  },
  {
   "cell_type": "code",
   "execution_count": 58,
   "metadata": {
    "ExecuteTime": {
     "end_time": "2021-02-10T23:28:53.298615Z",
     "start_time": "2021-02-10T23:28:53.285618Z"
    }
   },
   "outputs": [
    {
     "data": {
      "text/html": [
       "<div>\n",
       "<style scoped>\n",
       "    .dataframe tbody tr th:only-of-type {\n",
       "        vertical-align: middle;\n",
       "    }\n",
       "\n",
       "    .dataframe tbody tr th {\n",
       "        vertical-align: top;\n",
       "    }\n",
       "\n",
       "    .dataframe thead th {\n",
       "        text-align: right;\n",
       "    }\n",
       "</style>\n",
       "<table border=\"1\" class=\"dataframe\">\n",
       "  <thead>\n",
       "    <tr style=\"text-align: right;\">\n",
       "      <th>cohort_distance</th>\n",
       "      <th>0</th>\n",
       "      <th>1</th>\n",
       "      <th>2</th>\n",
       "      <th>3</th>\n",
       "      <th>4</th>\n",
       "      <th>5</th>\n",
       "    </tr>\n",
       "    <tr>\n",
       "      <th>first_cohort</th>\n",
       "      <th></th>\n",
       "      <th></th>\n",
       "      <th></th>\n",
       "      <th></th>\n",
       "      <th></th>\n",
       "      <th></th>\n",
       "    </tr>\n",
       "  </thead>\n",
       "  <tbody>\n",
       "    <tr>\n",
       "      <th>202005</th>\n",
       "      <td>16874.0</td>\n",
       "      <td>6107.0</td>\n",
       "      <td>4766.0</td>\n",
       "      <td>4483.0</td>\n",
       "      <td>4753.0</td>\n",
       "      <td>3446.0</td>\n",
       "    </tr>\n",
       "    <tr>\n",
       "      <th>202006</th>\n",
       "      <td>11280.0</td>\n",
       "      <td>3955.0</td>\n",
       "      <td>3369.0</td>\n",
       "      <td>3309.0</td>\n",
       "      <td>2299.0</td>\n",
       "      <td>NaN</td>\n",
       "    </tr>\n",
       "    <tr>\n",
       "      <th>202007</th>\n",
       "      <td>9140.0</td>\n",
       "      <td>3042.0</td>\n",
       "      <td>2731.0</td>\n",
       "      <td>1916.0</td>\n",
       "      <td>NaN</td>\n",
       "      <td>NaN</td>\n",
       "    </tr>\n",
       "    <tr>\n",
       "      <th>202008</th>\n",
       "      <td>9938.0</td>\n",
       "      <td>3436.0</td>\n",
       "      <td>2205.0</td>\n",
       "      <td>NaN</td>\n",
       "      <td>NaN</td>\n",
       "      <td>NaN</td>\n",
       "    </tr>\n",
       "    <tr>\n",
       "      <th>202009</th>\n",
       "      <td>16259.0</td>\n",
       "      <td>4669.0</td>\n",
       "      <td>NaN</td>\n",
       "      <td>NaN</td>\n",
       "      <td>NaN</td>\n",
       "      <td>NaN</td>\n",
       "    </tr>\n",
       "    <tr>\n",
       "      <th>202010</th>\n",
       "      <td>7838.0</td>\n",
       "      <td>NaN</td>\n",
       "      <td>NaN</td>\n",
       "      <td>NaN</td>\n",
       "      <td>NaN</td>\n",
       "      <td>NaN</td>\n",
       "    </tr>\n",
       "  </tbody>\n",
       "</table>\n",
       "</div>"
      ],
      "text/plain": [
       "cohort_distance        0       1       2       3       4       5\n",
       "first_cohort                                                    \n",
       "202005           16874.0  6107.0  4766.0  4483.0  4753.0  3446.0\n",
       "202006           11280.0  3955.0  3369.0  3309.0  2299.0     NaN\n",
       "202007            9140.0  3042.0  2731.0  1916.0     NaN     NaN\n",
       "202008            9938.0  3436.0  2205.0     NaN     NaN     NaN\n",
       "202009           16259.0  4669.0     NaN     NaN     NaN     NaN\n",
       "202010            7838.0     NaN     NaN     NaN     NaN     NaN"
      ]
     },
     "execution_count": 58,
     "metadata": {},
     "output_type": "execute_result"
    }
   ],
   "source": [
    "# Pivot_table method allows us to pivot our data so that we can calculate the amount of unique customers \n",
    "# in each cohort based on that purchases distance from their first purchase in months.\n",
    "cohort_pivot_restaurant"
   ]
  },
  {
   "cell_type": "code",
   "execution_count": 59,
   "metadata": {
    "ExecuteTime": {
     "end_time": "2021-02-10T23:28:53.313617Z",
     "start_time": "2021-02-10T23:28:53.301616Z"
    }
   },
   "outputs": [],
   "source": [
    "# Divide each row by the first column \n",
    "# so that we can have a percentage of the customers that have returned from that cohort to make a purchase\n",
    "# by using the div function\n",
    "cohort_pivot_restaurant = cohort_pivot_restaurant.div(cohort_pivot_restaurant[0],axis=0)"
   ]
  },
  {
   "cell_type": "code",
   "execution_count": 60,
   "metadata": {
    "ExecuteTime": {
     "end_time": "2021-02-10T23:28:53.344621Z",
     "start_time": "2021-02-10T23:28:53.316617Z"
    }
   },
   "outputs": [
    {
     "data": {
      "text/html": [
       "<div>\n",
       "<style scoped>\n",
       "    .dataframe tbody tr th:only-of-type {\n",
       "        vertical-align: middle;\n",
       "    }\n",
       "\n",
       "    .dataframe tbody tr th {\n",
       "        vertical-align: top;\n",
       "    }\n",
       "\n",
       "    .dataframe thead th {\n",
       "        text-align: right;\n",
       "    }\n",
       "</style>\n",
       "<table border=\"1\" class=\"dataframe\">\n",
       "  <thead>\n",
       "    <tr style=\"text-align: right;\">\n",
       "      <th>cohort_distance</th>\n",
       "      <th>0</th>\n",
       "      <th>1</th>\n",
       "      <th>2</th>\n",
       "      <th>3</th>\n",
       "      <th>4</th>\n",
       "      <th>5</th>\n",
       "    </tr>\n",
       "    <tr>\n",
       "      <th>first_cohort</th>\n",
       "      <th></th>\n",
       "      <th></th>\n",
       "      <th></th>\n",
       "      <th></th>\n",
       "      <th></th>\n",
       "      <th></th>\n",
       "    </tr>\n",
       "  </thead>\n",
       "  <tbody>\n",
       "    <tr>\n",
       "      <th>202005</th>\n",
       "      <td>1.0</td>\n",
       "      <td>0.361918</td>\n",
       "      <td>0.282446</td>\n",
       "      <td>0.265675</td>\n",
       "      <td>0.281676</td>\n",
       "      <td>0.20422</td>\n",
       "    </tr>\n",
       "    <tr>\n",
       "      <th>202006</th>\n",
       "      <td>1.0</td>\n",
       "      <td>0.350621</td>\n",
       "      <td>0.298670</td>\n",
       "      <td>0.293351</td>\n",
       "      <td>0.203812</td>\n",
       "      <td>NaN</td>\n",
       "    </tr>\n",
       "    <tr>\n",
       "      <th>202007</th>\n",
       "      <td>1.0</td>\n",
       "      <td>0.332823</td>\n",
       "      <td>0.298796</td>\n",
       "      <td>0.209628</td>\n",
       "      <td>NaN</td>\n",
       "      <td>NaN</td>\n",
       "    </tr>\n",
       "    <tr>\n",
       "      <th>202008</th>\n",
       "      <td>1.0</td>\n",
       "      <td>0.345744</td>\n",
       "      <td>0.221876</td>\n",
       "      <td>NaN</td>\n",
       "      <td>NaN</td>\n",
       "      <td>NaN</td>\n",
       "    </tr>\n",
       "    <tr>\n",
       "      <th>202009</th>\n",
       "      <td>1.0</td>\n",
       "      <td>0.287164</td>\n",
       "      <td>NaN</td>\n",
       "      <td>NaN</td>\n",
       "      <td>NaN</td>\n",
       "      <td>NaN</td>\n",
       "    </tr>\n",
       "    <tr>\n",
       "      <th>202010</th>\n",
       "      <td>1.0</td>\n",
       "      <td>NaN</td>\n",
       "      <td>NaN</td>\n",
       "      <td>NaN</td>\n",
       "      <td>NaN</td>\n",
       "      <td>NaN</td>\n",
       "    </tr>\n",
       "  </tbody>\n",
       "</table>\n",
       "</div>"
      ],
      "text/plain": [
       "cohort_distance    0         1         2         3         4        5\n",
       "first_cohort                                                         \n",
       "202005           1.0  0.361918  0.282446  0.265675  0.281676  0.20422\n",
       "202006           1.0  0.350621  0.298670  0.293351  0.203812      NaN\n",
       "202007           1.0  0.332823  0.298796  0.209628       NaN      NaN\n",
       "202008           1.0  0.345744  0.221876       NaN       NaN      NaN\n",
       "202009           1.0  0.287164       NaN       NaN       NaN      NaN\n",
       "202010           1.0       NaN       NaN       NaN       NaN      NaN"
      ]
     },
     "execution_count": 60,
     "metadata": {},
     "output_type": "execute_result"
    }
   ],
   "source": [
    "cohort_pivot_restaurant"
   ]
  },
  {
   "cell_type": "code",
   "execution_count": 61,
   "metadata": {
    "ExecuteTime": {
     "end_time": "2021-02-10T23:28:55.428616Z",
     "start_time": "2021-02-10T23:28:53.349621Z"
    }
   },
   "outputs": [
    {
     "data": {
      "image/png": "[encoded data removed]",
      "text/plain": [
       "<Figure size 864x720 with 2 Axes>"
      ]
     },
     "metadata": {},
     "output_type": "display_data"
    }
   ],
   "source": [
    "# Heatmap out of cohort analysis\n",
    "plt.figure(figsize=(12,10))\n",
    "sns.set(font_scale=2)\n",
    "y_labels = [str(int(header)%100) + '-' + str(int(header)/100) for header in headers]\n",
    "x_labels = range(0, len(y_labels))\n",
    "plt.yticks(ticks=headers, labels=y_labels)\n",
    "plt.xticks(ticks=x_labels, labels=x_labels)\n",
    "plt.title(\"Cohort Analysis Restaurant\")\n",
    "sns.heatmap(cohort_pivot_restaurant, annot=True, fmt='.0%', mask=cohort_pivot_restaurant.isnull(), square=True, linewidths=.5, cmap=sns.cubehelix_palette(8),robust=True)\n",
    "plt.xlabel('Months After First Purchase')\n",
    "plt.ylabel('First Purchase Cohort')\n",
    "plt.show()"
   ]
  },
  {
   "cell_type": "markdown",
   "metadata": {},
   "source": [
    "In the restaurant field, all types of customer tend to order less in the next few months. <br>\n",
    "I assume that the price for food from restaurants are more expensive and maybe less discount season.<br>\n",
    "Another reason would be shipping fee due to a further location from restaurant to customer's address"
   ]
  },
  {
   "cell_type": "markdown",
   "metadata": {},
   "source": [
    "## Cohort based monthly retention for Retail product line:"
   ]
  },
  {
   "cell_type": "code",
   "execution_count": 62,
   "metadata": {
    "ExecuteTime": {
     "end_time": "2021-02-10T23:28:55.475612Z",
     "start_time": "2021-02-10T23:28:55.431614Z"
    }
   },
   "outputs": [],
   "source": [
    "# Product line for retail store\n",
    "retail=df2[df2['Product line']=='Retail store']"
   ]
  },
  {
   "cell_type": "code",
   "execution_count": 63,
   "metadata": {
    "ExecuteTime": {
     "end_time": "2021-02-10T23:28:55.522638Z",
     "start_time": "2021-02-10T23:28:55.478618Z"
    }
   },
   "outputs": [
    {
     "data": {
      "text/html": [
       "<div>\n",
       "<style scoped>\n",
       "    .dataframe tbody tr th:only-of-type {\n",
       "        vertical-align: middle;\n",
       "    }\n",
       "\n",
       "    .dataframe tbody tr th {\n",
       "        vertical-align: top;\n",
       "    }\n",
       "\n",
       "    .dataframe thead th {\n",
       "        text-align: right;\n",
       "    }\n",
       "</style>\n",
       "<table border=\"1\" class=\"dataframe\">\n",
       "  <thead>\n",
       "    <tr style=\"text-align: right;\">\n",
       "      <th></th>\n",
       "      <th>Purchases Time Delivered</th>\n",
       "      <th>Product line</th>\n",
       "      <th>User ID</th>\n",
       "      <th>Purchase ID</th>\n",
       "      <th>Venue ID</th>\n",
       "      <th>month</th>\n",
       "      <th>year</th>\n",
       "      <th>cohort</th>\n",
       "      <th>first_cohort</th>\n",
       "      <th>cohort_distance</th>\n",
       "    </tr>\n",
       "  </thead>\n",
       "  <tbody>\n",
       "    <tr>\n",
       "      <th>2</th>\n",
       "      <td>2020-07-01</td>\n",
       "      <td>Retail store</td>\n",
       "      <td>556202537f84a43ac29ec7cb</td>\n",
       "      <td>5f0aec594c3cbeb4049ea36a</td>\n",
       "      <td>5ec2ab4401f812138e435c89</td>\n",
       "      <td>7</td>\n",
       "      <td>2020</td>\n",
       "      <td>202007</td>\n",
       "      <td>202007</td>\n",
       "      <td>0</td>\n",
       "    </tr>\n",
       "    <tr>\n",
       "      <th>3</th>\n",
       "      <td>2020-07-01</td>\n",
       "      <td>Retail store</td>\n",
       "      <td>556202537f84a43ac29ec7cb</td>\n",
       "      <td>5f184a3c88046da058c5ed1d</td>\n",
       "      <td>5ec2ab4401f812138e435c89</td>\n",
       "      <td>7</td>\n",
       "      <td>2020</td>\n",
       "      <td>202007</td>\n",
       "      <td>202007</td>\n",
       "      <td>0</td>\n",
       "    </tr>\n",
       "    <tr>\n",
       "      <th>12</th>\n",
       "      <td>2020-09-01</td>\n",
       "      <td>Retail store</td>\n",
       "      <td>58653b9279f65127b206770e</td>\n",
       "      <td>5f6cc5e0e6e850a1860e2145</td>\n",
       "      <td>5ec2ab4401f812138e435c89</td>\n",
       "      <td>9</td>\n",
       "      <td>2020</td>\n",
       "      <td>202009</td>\n",
       "      <td>202009</td>\n",
       "      <td>0</td>\n",
       "    </tr>\n",
       "    <tr>\n",
       "      <th>13</th>\n",
       "      <td>2020-09-01</td>\n",
       "      <td>Retail store</td>\n",
       "      <td>58653b9279f65127b206770e</td>\n",
       "      <td>5f74bf6997b7683d701b2e3e</td>\n",
       "      <td>5f2d15d601afb21ec6c0dfdf</td>\n",
       "      <td>9</td>\n",
       "      <td>2020</td>\n",
       "      <td>202009</td>\n",
       "      <td>202009</td>\n",
       "      <td>0</td>\n",
       "    </tr>\n",
       "    <tr>\n",
       "      <th>14</th>\n",
       "      <td>2020-05-01</td>\n",
       "      <td>Retail store</td>\n",
       "      <td>58d7fba58033271c5a3a9caf</td>\n",
       "      <td>5ecf795e525deec14d142f33</td>\n",
       "      <td>5e73cb5d891277fa4aa54e24</td>\n",
       "      <td>5</td>\n",
       "      <td>2020</td>\n",
       "      <td>202005</td>\n",
       "      <td>202005</td>\n",
       "      <td>0</td>\n",
       "    </tr>\n",
       "    <tr>\n",
       "      <th>...</th>\n",
       "      <td>...</td>\n",
       "      <td>...</td>\n",
       "      <td>...</td>\n",
       "      <td>...</td>\n",
       "      <td>...</td>\n",
       "      <td>...</td>\n",
       "      <td>...</td>\n",
       "      <td>...</td>\n",
       "      <td>...</td>\n",
       "      <td>...</td>\n",
       "    </tr>\n",
       "    <tr>\n",
       "      <th>298308</th>\n",
       "      <td>2020-10-01</td>\n",
       "      <td>Retail store</td>\n",
       "      <td>5f859dedb9aba42d12676d48</td>\n",
       "      <td>5f85ba652239d4d7258cbc60</td>\n",
       "      <td>5e73cb5d891277fa4aa54e24</td>\n",
       "      <td>10</td>\n",
       "      <td>2020</td>\n",
       "      <td>202010</td>\n",
       "      <td>202010</td>\n",
       "      <td>0</td>\n",
       "    </tr>\n",
       "    <tr>\n",
       "      <th>298379</th>\n",
       "      <td>2020-10-01</td>\n",
       "      <td>Retail store</td>\n",
       "      <td>5f85cf7dd2e602d4b45d2cce</td>\n",
       "      <td>5f8729647ccb7de6c66c3f34</td>\n",
       "      <td>5e73cb5d891277fa4aa54e24</td>\n",
       "      <td>10</td>\n",
       "      <td>2020</td>\n",
       "      <td>202010</td>\n",
       "      <td>202010</td>\n",
       "      <td>0</td>\n",
       "    </tr>\n",
       "    <tr>\n",
       "      <th>298392</th>\n",
       "      <td>2020-10-01</td>\n",
       "      <td>Retail store</td>\n",
       "      <td>5f85d46ce092f8028962d76a</td>\n",
       "      <td>5f86fed2629cfe4db11d036f</td>\n",
       "      <td>5ea2e5166a0b5ae76f4d3c21</td>\n",
       "      <td>10</td>\n",
       "      <td>2020</td>\n",
       "      <td>202010</td>\n",
       "      <td>202010</td>\n",
       "      <td>0</td>\n",
       "    </tr>\n",
       "    <tr>\n",
       "      <th>298609</th>\n",
       "      <td>2020-10-01</td>\n",
       "      <td>Retail store</td>\n",
       "      <td>5f87027440cb30e327ce24c6</td>\n",
       "      <td>5f8703ff3acebf25456c2e16</td>\n",
       "      <td>5ecd33c7c9f93bac27626c62</td>\n",
       "      <td>10</td>\n",
       "      <td>2020</td>\n",
       "      <td>202010</td>\n",
       "      <td>202010</td>\n",
       "      <td>0</td>\n",
       "    </tr>\n",
       "    <tr>\n",
       "      <th>298656</th>\n",
       "      <td>2020-10-01</td>\n",
       "      <td>Retail store</td>\n",
       "      <td>5f8721f9014be001ff1d12a5</td>\n",
       "      <td>5f87276f80cb0ff3271a47e8</td>\n",
       "      <td>5f2d15d601afb21ec6c0dfdf</td>\n",
       "      <td>10</td>\n",
       "      <td>2020</td>\n",
       "      <td>202010</td>\n",
       "      <td>202010</td>\n",
       "      <td>0</td>\n",
       "    </tr>\n",
       "  </tbody>\n",
       "</table>\n",
       "<p>10793 rows × 10 columns</p>\n",
       "</div>"
      ],
      "text/plain": [
       "       Purchases Time Delivered  Product line                   User ID  \\\n",
       "2                    2020-07-01  Retail store  556202537f84a43ac29ec7cb   \n",
       "3                    2020-07-01  Retail store  556202537f84a43ac29ec7cb   \n",
       "12                   2020-09-01  Retail store  58653b9279f65127b206770e   \n",
       "13                   2020-09-01  Retail store  58653b9279f65127b206770e   \n",
       "14                   2020-05-01  Retail store  58d7fba58033271c5a3a9caf   \n",
       "...                         ...           ...                       ...   \n",
       "298308               2020-10-01  Retail store  5f859dedb9aba42d12676d48   \n",
       "298379               2020-10-01  Retail store  5f85cf7dd2e602d4b45d2cce   \n",
       "298392               2020-10-01  Retail store  5f85d46ce092f8028962d76a   \n",
       "298609               2020-10-01  Retail store  5f87027440cb30e327ce24c6   \n",
       "298656               2020-10-01  Retail store  5f8721f9014be001ff1d12a5   \n",
       "\n",
       "                     Purchase ID                  Venue ID  month  year  \\\n",
       "2       5f0aec594c3cbeb4049ea36a  5ec2ab4401f812138e435c89      7  2020   \n",
       "3       5f184a3c88046da058c5ed1d  5ec2ab4401f812138e435c89      7  2020   \n",
       "12      5f6cc5e0e6e850a1860e2145  5ec2ab4401f812138e435c89      9  2020   \n",
       "13      5f74bf6997b7683d701b2e3e  5f2d15d601afb21ec6c0dfdf      9  2020   \n",
       "14      5ecf795e525deec14d142f33  5e73cb5d891277fa4aa54e24      5  2020   \n",
       "...                          ...                       ...    ...   ...   \n",
       "298308  5f85ba652239d4d7258cbc60  5e73cb5d891277fa4aa54e24     10  2020   \n",
       "298379  5f8729647ccb7de6c66c3f34  5e73cb5d891277fa4aa54e24     10  2020   \n",
       "298392  5f86fed2629cfe4db11d036f  5ea2e5166a0b5ae76f4d3c21     10  2020   \n",
       "298609  5f8703ff3acebf25456c2e16  5ecd33c7c9f93bac27626c62     10  2020   \n",
       "298656  5f87276f80cb0ff3271a47e8  5f2d15d601afb21ec6c0dfdf     10  2020   \n",
       "\n",
       "        cohort  first_cohort  cohort_distance  \n",
       "2       202007        202007                0  \n",
       "3       202007        202007                0  \n",
       "12      202009        202009                0  \n",
       "13      202009        202009                0  \n",
       "14      202005        202005                0  \n",
       "...        ...           ...              ...  \n",
       "298308  202010        202010                0  \n",
       "298379  202010        202010                0  \n",
       "298392  202010        202010                0  \n",
       "298609  202010        202010                0  \n",
       "298656  202010        202010                0  \n",
       "\n",
       "[10793 rows x 10 columns]"
      ]
     },
     "execution_count": 63,
     "metadata": {},
     "output_type": "execute_result"
    }
   ],
   "source": [
    "retail"
   ]
  },
  {
   "cell_type": "markdown",
   "metadata": {},
   "source": [
    "There are 10793 orders from Retail Store"
   ]
  },
  {
   "cell_type": "code",
   "execution_count": 64,
   "metadata": {
    "ExecuteTime": {
     "end_time": "2021-02-10T23:28:55.538615Z",
     "start_time": "2021-02-10T23:28:55.525616Z"
    }
   },
   "outputs": [
    {
     "data": {
      "text/plain": [
       "array([0, 1, 2, 3, 4, 5], dtype=int64)"
      ]
     },
     "execution_count": 64,
     "metadata": {},
     "output_type": "execute_result"
    }
   ],
   "source": [
    "retail['cohort_distance'].unique()"
   ]
  },
  {
   "cell_type": "code",
   "execution_count": 65,
   "metadata": {
    "ExecuteTime": {
     "end_time": "2021-02-10T23:28:55.585614Z",
     "start_time": "2021-02-10T23:28:55.541615Z"
    }
   },
   "outputs": [],
   "source": [
    "cohort_pivot_retail = pd.pivot_table(retail, index='first_cohort', columns='cohort_distance', values='User ID', aggfunc=pd.Series.nunique)"
   ]
  },
  {
   "cell_type": "code",
   "execution_count": 66,
   "metadata": {
    "ExecuteTime": {
     "end_time": "2021-02-10T23:28:55.631662Z",
     "start_time": "2021-02-10T23:28:55.588618Z"
    }
   },
   "outputs": [
    {
     "data": {
      "text/html": [
       "<div>\n",
       "<style scoped>\n",
       "    .dataframe tbody tr th:only-of-type {\n",
       "        vertical-align: middle;\n",
       "    }\n",
       "\n",
       "    .dataframe tbody tr th {\n",
       "        vertical-align: top;\n",
       "    }\n",
       "\n",
       "    .dataframe thead th {\n",
       "        text-align: right;\n",
       "    }\n",
       "</style>\n",
       "<table border=\"1\" class=\"dataframe\">\n",
       "  <thead>\n",
       "    <tr style=\"text-align: right;\">\n",
       "      <th>cohort_distance</th>\n",
       "      <th>0</th>\n",
       "      <th>1</th>\n",
       "      <th>2</th>\n",
       "      <th>3</th>\n",
       "      <th>4</th>\n",
       "      <th>5</th>\n",
       "    </tr>\n",
       "    <tr>\n",
       "      <th>first_cohort</th>\n",
       "      <th></th>\n",
       "      <th></th>\n",
       "      <th></th>\n",
       "      <th></th>\n",
       "      <th></th>\n",
       "      <th></th>\n",
       "    </tr>\n",
       "  </thead>\n",
       "  <tbody>\n",
       "    <tr>\n",
       "      <th>202005</th>\n",
       "      <td>1034.0</td>\n",
       "      <td>296.0</td>\n",
       "      <td>208.0</td>\n",
       "      <td>188.0</td>\n",
       "      <td>231.0</td>\n",
       "      <td>170.0</td>\n",
       "    </tr>\n",
       "    <tr>\n",
       "      <th>202006</th>\n",
       "      <td>643.0</td>\n",
       "      <td>170.0</td>\n",
       "      <td>148.0</td>\n",
       "      <td>180.0</td>\n",
       "      <td>100.0</td>\n",
       "      <td>NaN</td>\n",
       "    </tr>\n",
       "    <tr>\n",
       "      <th>202007</th>\n",
       "      <td>430.0</td>\n",
       "      <td>133.0</td>\n",
       "      <td>134.0</td>\n",
       "      <td>60.0</td>\n",
       "      <td>NaN</td>\n",
       "      <td>NaN</td>\n",
       "    </tr>\n",
       "    <tr>\n",
       "      <th>202008</th>\n",
       "      <td>544.0</td>\n",
       "      <td>202.0</td>\n",
       "      <td>87.0</td>\n",
       "      <td>NaN</td>\n",
       "      <td>NaN</td>\n",
       "      <td>NaN</td>\n",
       "    </tr>\n",
       "    <tr>\n",
       "      <th>202009</th>\n",
       "      <td>873.0</td>\n",
       "      <td>195.0</td>\n",
       "      <td>NaN</td>\n",
       "      <td>NaN</td>\n",
       "      <td>NaN</td>\n",
       "      <td>NaN</td>\n",
       "    </tr>\n",
       "    <tr>\n",
       "      <th>202010</th>\n",
       "      <td>305.0</td>\n",
       "      <td>NaN</td>\n",
       "      <td>NaN</td>\n",
       "      <td>NaN</td>\n",
       "      <td>NaN</td>\n",
       "      <td>NaN</td>\n",
       "    </tr>\n",
       "  </tbody>\n",
       "</table>\n",
       "</div>"
      ],
      "text/plain": [
       "cohort_distance       0      1      2      3      4      5\n",
       "first_cohort                                              \n",
       "202005           1034.0  296.0  208.0  188.0  231.0  170.0\n",
       "202006            643.0  170.0  148.0  180.0  100.0    NaN\n",
       "202007            430.0  133.0  134.0   60.0    NaN    NaN\n",
       "202008            544.0  202.0   87.0    NaN    NaN    NaN\n",
       "202009            873.0  195.0    NaN    NaN    NaN    NaN\n",
       "202010            305.0    NaN    NaN    NaN    NaN    NaN"
      ]
     },
     "execution_count": 66,
     "metadata": {},
     "output_type": "execute_result"
    }
   ],
   "source": [
    "cohort_pivot_retail"
   ]
  },
  {
   "cell_type": "code",
   "execution_count": 67,
   "metadata": {
    "ExecuteTime": {
     "end_time": "2021-02-10T23:28:55.648674Z",
     "start_time": "2021-02-10T23:28:55.634615Z"
    }
   },
   "outputs": [],
   "source": [
    "cohort_pivot_retail = cohort_pivot_retail.div(cohort_pivot_retail[0],axis=0)"
   ]
  },
  {
   "cell_type": "code",
   "execution_count": 68,
   "metadata": {
    "ExecuteTime": {
     "end_time": "2021-02-10T23:28:55.708614Z",
     "start_time": "2021-02-10T23:28:55.674619Z"
    },
    "scrolled": true
   },
   "outputs": [
    {
     "data": {
      "text/html": [
       "<div>\n",
       "<style scoped>\n",
       "    .dataframe tbody tr th:only-of-type {\n",
       "        vertical-align: middle;\n",
       "    }\n",
       "\n",
       "    .dataframe tbody tr th {\n",
       "        vertical-align: top;\n",
       "    }\n",
       "\n",
       "    .dataframe thead th {\n",
       "        text-align: right;\n",
       "    }\n",
       "</style>\n",
       "<table border=\"1\" class=\"dataframe\">\n",
       "  <thead>\n",
       "    <tr style=\"text-align: right;\">\n",
       "      <th>cohort_distance</th>\n",
       "      <th>0</th>\n",
       "      <th>1</th>\n",
       "      <th>2</th>\n",
       "      <th>3</th>\n",
       "      <th>4</th>\n",
       "      <th>5</th>\n",
       "    </tr>\n",
       "    <tr>\n",
       "      <th>first_cohort</th>\n",
       "      <th></th>\n",
       "      <th></th>\n",
       "      <th></th>\n",
       "      <th></th>\n",
       "      <th></th>\n",
       "      <th></th>\n",
       "    </tr>\n",
       "  </thead>\n",
       "  <tbody>\n",
       "    <tr>\n",
       "      <th>202005</th>\n",
       "      <td>1.0</td>\n",
       "      <td>0.286267</td>\n",
       "      <td>0.201161</td>\n",
       "      <td>0.181818</td>\n",
       "      <td>0.223404</td>\n",
       "      <td>0.16441</td>\n",
       "    </tr>\n",
       "    <tr>\n",
       "      <th>202006</th>\n",
       "      <td>1.0</td>\n",
       "      <td>0.264386</td>\n",
       "      <td>0.230171</td>\n",
       "      <td>0.279938</td>\n",
       "      <td>0.155521</td>\n",
       "      <td>NaN</td>\n",
       "    </tr>\n",
       "    <tr>\n",
       "      <th>202007</th>\n",
       "      <td>1.0</td>\n",
       "      <td>0.309302</td>\n",
       "      <td>0.311628</td>\n",
       "      <td>0.139535</td>\n",
       "      <td>NaN</td>\n",
       "      <td>NaN</td>\n",
       "    </tr>\n",
       "    <tr>\n",
       "      <th>202008</th>\n",
       "      <td>1.0</td>\n",
       "      <td>0.371324</td>\n",
       "      <td>0.159926</td>\n",
       "      <td>NaN</td>\n",
       "      <td>NaN</td>\n",
       "      <td>NaN</td>\n",
       "    </tr>\n",
       "    <tr>\n",
       "      <th>202009</th>\n",
       "      <td>1.0</td>\n",
       "      <td>0.223368</td>\n",
       "      <td>NaN</td>\n",
       "      <td>NaN</td>\n",
       "      <td>NaN</td>\n",
       "      <td>NaN</td>\n",
       "    </tr>\n",
       "    <tr>\n",
       "      <th>202010</th>\n",
       "      <td>1.0</td>\n",
       "      <td>NaN</td>\n",
       "      <td>NaN</td>\n",
       "      <td>NaN</td>\n",
       "      <td>NaN</td>\n",
       "      <td>NaN</td>\n",
       "    </tr>\n",
       "  </tbody>\n",
       "</table>\n",
       "</div>"
      ],
      "text/plain": [
       "cohort_distance    0         1         2         3         4        5\n",
       "first_cohort                                                         \n",
       "202005           1.0  0.286267  0.201161  0.181818  0.223404  0.16441\n",
       "202006           1.0  0.264386  0.230171  0.279938  0.155521      NaN\n",
       "202007           1.0  0.309302  0.311628  0.139535       NaN      NaN\n",
       "202008           1.0  0.371324  0.159926       NaN       NaN      NaN\n",
       "202009           1.0  0.223368       NaN       NaN       NaN      NaN\n",
       "202010           1.0       NaN       NaN       NaN       NaN      NaN"
      ]
     },
     "execution_count": 68,
     "metadata": {},
     "output_type": "execute_result"
    }
   ],
   "source": [
    "cohort_pivot_retail"
   ]
  },
  {
   "cell_type": "code",
   "execution_count": 69,
   "metadata": {
    "ExecuteTime": {
     "end_time": "2021-02-10T23:28:56.195648Z",
     "start_time": "2021-02-10T23:28:55.718617Z"
    }
   },
   "outputs": [
    {
     "data": {
      "image/png": "[encoded data removed]",
      "text/plain": [
       "<Figure size 864x720 with 2 Axes>"
      ]
     },
     "metadata": {},
     "output_type": "display_data"
    }
   ],
   "source": [
    "plt.figure(figsize=(12,10))\n",
    "sns.set(font_scale=2)\n",
    "y_labels = [str(int(header)%100) + '-' + str(int(header)/100) for header in headers]\n",
    "x_labels = range(5, 11)\n",
    "plt.yticks(ticks=headers, labels=y_labels)\n",
    "plt.xticks(ticks=x_labels, labels=x_labels)\n",
    "plt.title(\"Cohort Analysis Retail\")\n",
    "sns.heatmap(cohort_pivot_retail, annot=True, fmt='.0%', mask=cohort_pivot_retail.isnull(), square=True, linewidths=.5, cmap=sns.cubehelix_palette(8),robust=True)\n",
    "plt.xlabel('Months After First Purchase')\n",
    "plt.ylabel('First Purchase Cohort')\n",
    "plt.show()"
   ]
  },
  {
   "cell_type": "markdown",
   "metadata": {},
   "source": [
    "The customer's purchase behavior in the retail ordering is quite fluctuated.<br>\n",
    "For customers who have first purchases in May tend to order less from next few months<br>\n",
    "But customers who have first purchases in June, they increasingly order more in August<br>\n",
    "Customers who have first purchases in July maintain the order rate from August to September (31%) then bottom down in October.<br>\n",
    "Customers who have first purchases in August have the most order maintaining rate on September (37%)<br>\n",
    "In conclusion, most customers have registered to the service and regularly used to order food from June to September (Summer and Autumn season)"
   ]
  },
  {
   "cell_type": "markdown",
   "metadata": {},
   "source": [
    "Beside the retention, I would chose to explore time delivery (on time delivering is important to a customer service), ratings and comments to analyze customers satisfaction to a product/service and listen to their needs to improve more."
   ]
  }
 ],
 "metadata": {
  "kernelspec": {
   "display_name": "Python 3",
   "language": "python",
   "name": "python3"
  },
  "language_info": {
   "codemirror_mode": {
    "name": "ipython",
    "version": 3
   },
   "file_extension": ".py",
   "mimetype": "text/x-python",
   "name": "python",
   "nbconvert_exporter": "python",
   "pygments_lexer": "ipython3",
   "version": "3.7.6"
  },
  "toc": {
   "base_numbering": 1,
   "nav_menu": {},
   "number_sections": true,
   "sideBar": true,
   "skip_h1_title": false,
   "title_cell": "Table of Contents",
   "title_sidebar": "Contents",
   "toc_cell": false,
   "toc_position": {},
   "toc_section_display": true,
   "toc_window_display": true
  },
  "varInspector": {
   "cols": {
    "lenName": 16,
    "lenType": 16,
    "lenVar": 40
   },
   "kernels_config": {
    "python": {
     "delete_cmd_postfix": "",
     "delete_cmd_prefix": "del ",
     "library": "var_list.py",
     "varRefreshCmd": "print(var_dic_list())"
    },
    "r": {
     "delete_cmd_postfix": ") ",
     "delete_cmd_prefix": "rm(",
     "library": "var_list.r",
     "varRefreshCmd": "cat(var_dic_list()) "
    }
   },
   "types_to_exclude": [
    "module",
    "function",
    "builtin_function_or_method",
    "instance",
    "_Feature"
   ],
   "window_display": false
  }
 },
 "nbformat": 4,
 "nbformat_minor": 4
}
