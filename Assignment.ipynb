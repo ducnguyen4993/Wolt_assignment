{
 "cells": [
  {
   "cell_type": "markdown",
   "metadata": {},
   "source": [
    "<center><b>Assignment for Business Intelligence Summer 2021 Internship</b></center>"
   ]
  },
  {
   "cell_type": "code",
   "execution_count": 1,
   "metadata": {
    "ExecuteTime": {
     "end_time": "2021-02-02T09:41:51.241885Z",
     "start_time": "2021-02-02T09:41:44.781849Z"
    }
   },
   "outputs": [],
   "source": [
    "import pandas as pd\n",
    "import numpy as np\n",
    "import matplotlib.pyplot as plt\n",
    "import seaborn as sns\n",
    "%matplotlib inline\n",
    "import datetime as dt"
   ]
  },
  {
   "cell_type": "code",
   "execution_count": 2,
   "metadata": {
    "ExecuteTime": {
     "end_time": "2021-02-02T09:41:52.308904Z",
     "start_time": "2021-02-02T09:41:51.247886Z"
    }
   },
   "outputs": [],
   "source": [
    "df1=pd.read_csv('BI-Intern first_purchases.csv',date_parser=True)\n",
    "df2=pd.read_csv('BI-Intern purchases.csv',date_parser=True)"
   ]
  },
  {
   "cell_type": "code",
   "execution_count": 3,
   "metadata": {
    "ExecuteTime": {
     "end_time": "2021-02-02T09:41:52.340927Z",
     "start_time": "2021-02-02T09:41:52.310884Z"
    },
    "scrolled": true
   },
   "outputs": [
    {
     "data": {
      "text/html": [
       "<div>\n",
       "<style scoped>\n",
       "    .dataframe tbody tr th:only-of-type {\n",
       "        vertical-align: middle;\n",
       "    }\n",
       "\n",
       "    .dataframe tbody tr th {\n",
       "        vertical-align: top;\n",
       "    }\n",
       "\n",
       "    .dataframe thead th {\n",
       "        text-align: right;\n",
       "    }\n",
       "</style>\n",
       "<table border=\"1\" class=\"dataframe\">\n",
       "  <thead>\n",
       "    <tr style=\"text-align: right;\">\n",
       "      <th></th>\n",
       "      <th>User First Purchase Month</th>\n",
       "      <th>First Purchase Product Line</th>\n",
       "      <th>User ID</th>\n",
       "      <th>Purchase ID</th>\n",
       "      <th>Venue ID</th>\n",
       "    </tr>\n",
       "  </thead>\n",
       "  <tbody>\n",
       "    <tr>\n",
       "      <th>0</th>\n",
       "      <td>1.5.2020</td>\n",
       "      <td>Restaurant</td>\n",
       "      <td>57b48aece14f6d64522f8c5f</td>\n",
       "      <td>5ec6b23c96741b6db6266639</td>\n",
       "      <td>5d7a32a73b546fccd88a05e9</td>\n",
       "    </tr>\n",
       "    <tr>\n",
       "      <th>1</th>\n",
       "      <td>1.5.2020</td>\n",
       "      <td>Restaurant</td>\n",
       "      <td>59f4803cdf196473b7fc124d</td>\n",
       "      <td>5ec6be1e712a4248e67d2bf0</td>\n",
       "      <td>5cd16542c7420059cc10b792</td>\n",
       "    </tr>\n",
       "    <tr>\n",
       "      <th>2</th>\n",
       "      <td>1.5.2020</td>\n",
       "      <td>Restaurant</td>\n",
       "      <td>5a427fbbea63d5000aff0ade</td>\n",
       "      <td>5ec7f07674bbff7edcb5be0d</td>\n",
       "      <td>5e7bce9ae360062306b4a233</td>\n",
       "    </tr>\n",
       "    <tr>\n",
       "      <th>3</th>\n",
       "      <td>1.5.2020</td>\n",
       "      <td>Restaurant</td>\n",
       "      <td>5a8c70b58fac51000b2ca9d8</td>\n",
       "      <td>5eac48651db7a19612824809</td>\n",
       "      <td>5e6ce90a7455f89bbb00be37</td>\n",
       "    </tr>\n",
       "    <tr>\n",
       "      <th>4</th>\n",
       "      <td>1.5.2020</td>\n",
       "      <td>Restaurant</td>\n",
       "      <td>5a9efa9bab3442000c2ba457</td>\n",
       "      <td>5eca9ed670a4dafe5de07698</td>\n",
       "      <td>5ea18277857aaa1b337ee201</td>\n",
       "    </tr>\n",
       "    <tr>\n",
       "      <th>...</th>\n",
       "      <td>...</td>\n",
       "      <td>...</td>\n",
       "      <td>...</td>\n",
       "      <td>...</td>\n",
       "      <td>...</td>\n",
       "    </tr>\n",
       "    <tr>\n",
       "      <th>71252</th>\n",
       "      <td>1.10.2020</td>\n",
       "      <td>Restaurant</td>\n",
       "      <td>5f874372e71892d52313343f</td>\n",
       "      <td>5f8745bfae557239f1cbe4db</td>\n",
       "      <td>5f2d6542365ed912d6c545f2</td>\n",
       "    </tr>\n",
       "    <tr>\n",
       "      <th>71253</th>\n",
       "      <td>1.10.2020</td>\n",
       "      <td>Restaurant</td>\n",
       "      <td>5f874b92a026a2143bab6e63</td>\n",
       "      <td>5f874fd5e86004c65a133d47</td>\n",
       "      <td>5e6ccb03b1d0a9394d072fcd</td>\n",
       "    </tr>\n",
       "    <tr>\n",
       "      <th>71254</th>\n",
       "      <td>1.10.2020</td>\n",
       "      <td>Restaurant</td>\n",
       "      <td>5f874e647a7169ef6a023235</td>\n",
       "      <td>5f875660afcc5ba542f3f332</td>\n",
       "      <td>5e77a757c55bc12714975c4d</td>\n",
       "    </tr>\n",
       "    <tr>\n",
       "      <th>71255</th>\n",
       "      <td>1.10.2020</td>\n",
       "      <td>Restaurant</td>\n",
       "      <td>5f875552c7b1a240baf4cc97</td>\n",
       "      <td>5f87582ed5481f4e72e02218</td>\n",
       "      <td>5f4cfc839232473565cfd423</td>\n",
       "    </tr>\n",
       "    <tr>\n",
       "      <th>71256</th>\n",
       "      <td>1.10.2020</td>\n",
       "      <td>Restaurant</td>\n",
       "      <td>5f8755d29765e83cf2c7b52a</td>\n",
       "      <td>5f8757217a5f5d289a90b84a</td>\n",
       "      <td>5e7b8de7a7a5e36f91c7b17b</td>\n",
       "    </tr>\n",
       "  </tbody>\n",
       "</table>\n",
       "<p>71257 rows × 5 columns</p>\n",
       "</div>"
      ],
      "text/plain": [
       "      User First Purchase Month First Purchase Product Line  \\\n",
       "0                      1.5.2020                  Restaurant   \n",
       "1                      1.5.2020                  Restaurant   \n",
       "2                      1.5.2020                  Restaurant   \n",
       "3                      1.5.2020                  Restaurant   \n",
       "4                      1.5.2020                  Restaurant   \n",
       "...                         ...                         ...   \n",
       "71252                 1.10.2020                  Restaurant   \n",
       "71253                 1.10.2020                  Restaurant   \n",
       "71254                 1.10.2020                  Restaurant   \n",
       "71255                 1.10.2020                  Restaurant   \n",
       "71256                 1.10.2020                  Restaurant   \n",
       "\n",
       "                        User ID               Purchase ID  \\\n",
       "0      57b48aece14f6d64522f8c5f  5ec6b23c96741b6db6266639   \n",
       "1      59f4803cdf196473b7fc124d  5ec6be1e712a4248e67d2bf0   \n",
       "2      5a427fbbea63d5000aff0ade  5ec7f07674bbff7edcb5be0d   \n",
       "3      5a8c70b58fac51000b2ca9d8  5eac48651db7a19612824809   \n",
       "4      5a9efa9bab3442000c2ba457  5eca9ed670a4dafe5de07698   \n",
       "...                         ...                       ...   \n",
       "71252  5f874372e71892d52313343f  5f8745bfae557239f1cbe4db   \n",
       "71253  5f874b92a026a2143bab6e63  5f874fd5e86004c65a133d47   \n",
       "71254  5f874e647a7169ef6a023235  5f875660afcc5ba542f3f332   \n",
       "71255  5f875552c7b1a240baf4cc97  5f87582ed5481f4e72e02218   \n",
       "71256  5f8755d29765e83cf2c7b52a  5f8757217a5f5d289a90b84a   \n",
       "\n",
       "                       Venue ID  \n",
       "0      5d7a32a73b546fccd88a05e9  \n",
       "1      5cd16542c7420059cc10b792  \n",
       "2      5e7bce9ae360062306b4a233  \n",
       "3      5e6ce90a7455f89bbb00be37  \n",
       "4      5ea18277857aaa1b337ee201  \n",
       "...                         ...  \n",
       "71252  5f2d6542365ed912d6c545f2  \n",
       "71253  5e6ccb03b1d0a9394d072fcd  \n",
       "71254  5e77a757c55bc12714975c4d  \n",
       "71255  5f4cfc839232473565cfd423  \n",
       "71256  5e7b8de7a7a5e36f91c7b17b  \n",
       "\n",
       "[71257 rows x 5 columns]"
      ]
     },
     "execution_count": 3,
     "metadata": {},
     "output_type": "execute_result"
    }
   ],
   "source": [
    "df1"
   ]
  },
  {
   "cell_type": "code",
   "execution_count": 4,
   "metadata": {
    "ExecuteTime": {
     "end_time": "2021-02-02T09:41:52.372997Z",
     "start_time": "2021-02-02T09:41:52.343885Z"
    }
   },
   "outputs": [
    {
     "data": {
      "text/plain": [
       "User First Purchase Month      71257\n",
       "First Purchase Product Line    71257\n",
       "User ID                        71257\n",
       "Purchase ID                    71257\n",
       "Venue ID                       71257\n",
       "dtype: int64"
      ]
     },
     "execution_count": 4,
     "metadata": {},
     "output_type": "execute_result"
    }
   ],
   "source": [
    "df1.count()"
   ]
  },
  {
   "cell_type": "code",
   "execution_count": 5,
   "metadata": {
    "ExecuteTime": {
     "end_time": "2021-02-02T09:41:52.418907Z",
     "start_time": "2021-02-02T09:41:52.381885Z"
    }
   },
   "outputs": [],
   "source": [
    "# Rename columns for concatenating\n",
    "df1.rename(columns={'User First Purchase Month':'Purchases Time Delivered','First Purchase Product Line':'Product line'},inplace=True)"
   ]
  },
  {
   "cell_type": "code",
   "execution_count": 6,
   "metadata": {
    "ExecuteTime": {
     "end_time": "2021-02-02T09:41:52.482906Z",
     "start_time": "2021-02-02T09:41:52.423886Z"
    }
   },
   "outputs": [],
   "source": [
    "# Change type of column to datetime\n",
    "df1['Purchases Time Delivered'] = pd.to_datetime(df1['Purchases Time Delivered'], format=\"%d.%m.%Y\")"
   ]
  },
  {
   "cell_type": "code",
   "execution_count": 7,
   "metadata": {
    "ExecuteTime": {
     "end_time": "2021-02-02T09:41:52.514885Z",
     "start_time": "2021-02-02T09:41:52.489888Z"
    }
   },
   "outputs": [
    {
     "data": {
      "text/plain": [
       "Purchases Time Delivered    datetime64[ns]\n",
       "Product line                        object\n",
       "User ID                             object\n",
       "Purchase ID                         object\n",
       "Venue ID                            object\n",
       "dtype: object"
      ]
     },
     "execution_count": 7,
     "metadata": {},
     "output_type": "execute_result"
    }
   ],
   "source": [
    "df1.dtypes"
   ]
  },
  {
   "cell_type": "code",
   "execution_count": 8,
   "metadata": {
    "ExecuteTime": {
     "end_time": "2021-02-02T09:41:52.576958Z",
     "start_time": "2021-02-02T09:41:52.528887Z"
    }
   },
   "outputs": [
    {
     "data": {
      "text/html": [
       "<div>\n",
       "<style scoped>\n",
       "    .dataframe tbody tr th:only-of-type {\n",
       "        vertical-align: middle;\n",
       "    }\n",
       "\n",
       "    .dataframe tbody tr th {\n",
       "        vertical-align: top;\n",
       "    }\n",
       "\n",
       "    .dataframe thead th {\n",
       "        text-align: right;\n",
       "    }\n",
       "</style>\n",
       "<table border=\"1\" class=\"dataframe\">\n",
       "  <thead>\n",
       "    <tr style=\"text-align: right;\">\n",
       "      <th></th>\n",
       "      <th>Purchases Time Delivered</th>\n",
       "      <th>Product line</th>\n",
       "      <th>User ID</th>\n",
       "      <th>Purchase ID</th>\n",
       "      <th>Venue ID</th>\n",
       "    </tr>\n",
       "  </thead>\n",
       "  <tbody>\n",
       "    <tr>\n",
       "      <th>0</th>\n",
       "      <td>1.8.2020</td>\n",
       "      <td>Restaurant</td>\n",
       "      <td>55080d6585f6661a3b37f7a5</td>\n",
       "      <td>5f3d81ef6cce0eeb05225f98</td>\n",
       "      <td>5e8b2c8be050b99f26647804</td>\n",
       "    </tr>\n",
       "    <tr>\n",
       "      <th>1</th>\n",
       "      <td>1.8.2020</td>\n",
       "      <td>Restaurant</td>\n",
       "      <td>55080d6585f6661a3b37f7a5</td>\n",
       "      <td>5f3c11f5a90667e766b04c19</td>\n",
       "      <td>5e8b2c8be050b99f26647804</td>\n",
       "    </tr>\n",
       "    <tr>\n",
       "      <th>2</th>\n",
       "      <td>1.7.2020</td>\n",
       "      <td>Retail store</td>\n",
       "      <td>556202537f84a43ac29ec7cb</td>\n",
       "      <td>5f0aec594c3cbeb4049ea36a</td>\n",
       "      <td>5ec2ab4401f812138e435c89</td>\n",
       "    </tr>\n",
       "    <tr>\n",
       "      <th>3</th>\n",
       "      <td>1.7.2020</td>\n",
       "      <td>Retail store</td>\n",
       "      <td>556202537f84a43ac29ec7cb</td>\n",
       "      <td>5f184a3c88046da058c5ed1d</td>\n",
       "      <td>5ec2ab4401f812138e435c89</td>\n",
       "    </tr>\n",
       "    <tr>\n",
       "      <th>4</th>\n",
       "      <td>1.5.2020</td>\n",
       "      <td>Restaurant</td>\n",
       "      <td>57b48aece14f6d64522f8c5f</td>\n",
       "      <td>5ecf98f34d3d68dc996dad7a</td>\n",
       "      <td>5cb4425ae93cce000d20612f</td>\n",
       "    </tr>\n",
       "    <tr>\n",
       "      <th>...</th>\n",
       "      <td>...</td>\n",
       "      <td>...</td>\n",
       "      <td>...</td>\n",
       "      <td>...</td>\n",
       "      <td>...</td>\n",
       "    </tr>\n",
       "    <tr>\n",
       "      <th>298709</th>\n",
       "      <td>1.10.2020</td>\n",
       "      <td>Restaurant</td>\n",
       "      <td>5f874372e71892d52313343f</td>\n",
       "      <td>5f8745bfae557239f1cbe4db</td>\n",
       "      <td>5f2d6542365ed912d6c545f2</td>\n",
       "    </tr>\n",
       "    <tr>\n",
       "      <th>298710</th>\n",
       "      <td>1.10.2020</td>\n",
       "      <td>Restaurant</td>\n",
       "      <td>5f874b92a026a2143bab6e63</td>\n",
       "      <td>5f874fd5e86004c65a133d47</td>\n",
       "      <td>5e6ccb03b1d0a9394d072fcd</td>\n",
       "    </tr>\n",
       "    <tr>\n",
       "      <th>298711</th>\n",
       "      <td>1.10.2020</td>\n",
       "      <td>Restaurant</td>\n",
       "      <td>5f874e647a7169ef6a023235</td>\n",
       "      <td>5f875660afcc5ba542f3f332</td>\n",
       "      <td>5e77a757c55bc12714975c4d</td>\n",
       "    </tr>\n",
       "    <tr>\n",
       "      <th>298712</th>\n",
       "      <td>1.10.2020</td>\n",
       "      <td>Restaurant</td>\n",
       "      <td>5f875552c7b1a240baf4cc97</td>\n",
       "      <td>5f87582ed5481f4e72e02218</td>\n",
       "      <td>5f4cfc839232473565cfd423</td>\n",
       "    </tr>\n",
       "    <tr>\n",
       "      <th>298713</th>\n",
       "      <td>1.10.2020</td>\n",
       "      <td>Restaurant</td>\n",
       "      <td>5f8755d29765e83cf2c7b52a</td>\n",
       "      <td>5f8757217a5f5d289a90b84a</td>\n",
       "      <td>5e7b8de7a7a5e36f91c7b17b</td>\n",
       "    </tr>\n",
       "  </tbody>\n",
       "</table>\n",
       "<p>298714 rows × 5 columns</p>\n",
       "</div>"
      ],
      "text/plain": [
       "       Purchases Time Delivered  Product line                   User ID  \\\n",
       "0                      1.8.2020    Restaurant  55080d6585f6661a3b37f7a5   \n",
       "1                      1.8.2020    Restaurant  55080d6585f6661a3b37f7a5   \n",
       "2                      1.7.2020  Retail store  556202537f84a43ac29ec7cb   \n",
       "3                      1.7.2020  Retail store  556202537f84a43ac29ec7cb   \n",
       "4                      1.5.2020    Restaurant  57b48aece14f6d64522f8c5f   \n",
       "...                         ...           ...                       ...   \n",
       "298709                1.10.2020    Restaurant  5f874372e71892d52313343f   \n",
       "298710                1.10.2020    Restaurant  5f874b92a026a2143bab6e63   \n",
       "298711                1.10.2020    Restaurant  5f874e647a7169ef6a023235   \n",
       "298712                1.10.2020    Restaurant  5f875552c7b1a240baf4cc97   \n",
       "298713                1.10.2020    Restaurant  5f8755d29765e83cf2c7b52a   \n",
       "\n",
       "                     Purchase ID                  Venue ID  \n",
       "0       5f3d81ef6cce0eeb05225f98  5e8b2c8be050b99f26647804  \n",
       "1       5f3c11f5a90667e766b04c19  5e8b2c8be050b99f26647804  \n",
       "2       5f0aec594c3cbeb4049ea36a  5ec2ab4401f812138e435c89  \n",
       "3       5f184a3c88046da058c5ed1d  5ec2ab4401f812138e435c89  \n",
       "4       5ecf98f34d3d68dc996dad7a  5cb4425ae93cce000d20612f  \n",
       "...                          ...                       ...  \n",
       "298709  5f8745bfae557239f1cbe4db  5f2d6542365ed912d6c545f2  \n",
       "298710  5f874fd5e86004c65a133d47  5e6ccb03b1d0a9394d072fcd  \n",
       "298711  5f875660afcc5ba542f3f332  5e77a757c55bc12714975c4d  \n",
       "298712  5f87582ed5481f4e72e02218  5f4cfc839232473565cfd423  \n",
       "298713  5f8757217a5f5d289a90b84a  5e7b8de7a7a5e36f91c7b17b  \n",
       "\n",
       "[298714 rows x 5 columns]"
      ]
     },
     "execution_count": 8,
     "metadata": {},
     "output_type": "execute_result"
    }
   ],
   "source": [
    "df2"
   ]
  },
  {
   "cell_type": "code",
   "execution_count": 9,
   "metadata": {
    "ExecuteTime": {
     "end_time": "2021-02-02T09:41:52.686886Z",
     "start_time": "2021-02-02T09:41:52.586893Z"
    }
   },
   "outputs": [
    {
     "data": {
      "text/plain": [
       "Purchases Time Delivered    298714\n",
       "Product line                298714\n",
       "User ID                     298714\n",
       "Purchase ID                 298714\n",
       "Venue ID                    298714\n",
       "dtype: int64"
      ]
     },
     "execution_count": 9,
     "metadata": {},
     "output_type": "execute_result"
    }
   ],
   "source": [
    "df2.count()"
   ]
  },
  {
   "cell_type": "code",
   "execution_count": 10,
   "metadata": {
    "ExecuteTime": {
     "end_time": "2021-02-02T09:41:52.765882Z",
     "start_time": "2021-02-02T09:41:52.689890Z"
    }
   },
   "outputs": [],
   "source": [
    "# Change type of column to datetime\n",
    "df2['Purchases Time Delivered'] = pd.to_datetime(df2['Purchases Time Delivered'], format=\"%d.%m.%Y\")"
   ]
  },
  {
   "cell_type": "code",
   "execution_count": 11,
   "metadata": {
    "ExecuteTime": {
     "end_time": "2021-02-02T09:41:52.780893Z",
     "start_time": "2021-02-02T09:41:52.768887Z"
    }
   },
   "outputs": [
    {
     "data": {
      "text/plain": [
       "Purchases Time Delivered    datetime64[ns]\n",
       "Product line                        object\n",
       "User ID                             object\n",
       "Purchase ID                         object\n",
       "Venue ID                            object\n",
       "dtype: object"
      ]
     },
     "execution_count": 11,
     "metadata": {},
     "output_type": "execute_result"
    }
   ],
   "source": [
    "df2.dtypes"
   ]
  },
  {
   "cell_type": "code",
   "execution_count": 12,
   "metadata": {
    "ExecuteTime": {
     "end_time": "2021-02-02T09:41:52.811897Z",
     "start_time": "2021-02-02T09:41:52.782886Z"
    }
   },
   "outputs": [],
   "source": [
    "# Concatenating two tables of data\n",
    "df3=pd.concat([df1, df2], ignore_index=True)"
   ]
  },
  {
   "cell_type": "code",
   "execution_count": 13,
   "metadata": {
    "ExecuteTime": {
     "end_time": "2021-02-02T09:41:52.841997Z",
     "start_time": "2021-02-02T09:41:52.813883Z"
    }
   },
   "outputs": [
    {
     "data": {
      "text/html": [
       "<div>\n",
       "<style scoped>\n",
       "    .dataframe tbody tr th:only-of-type {\n",
       "        vertical-align: middle;\n",
       "    }\n",
       "\n",
       "    .dataframe tbody tr th {\n",
       "        vertical-align: top;\n",
       "    }\n",
       "\n",
       "    .dataframe thead th {\n",
       "        text-align: right;\n",
       "    }\n",
       "</style>\n",
       "<table border=\"1\" class=\"dataframe\">\n",
       "  <thead>\n",
       "    <tr style=\"text-align: right;\">\n",
       "      <th></th>\n",
       "      <th>Purchases Time Delivered</th>\n",
       "      <th>Product line</th>\n",
       "      <th>User ID</th>\n",
       "      <th>Purchase ID</th>\n",
       "      <th>Venue ID</th>\n",
       "    </tr>\n",
       "  </thead>\n",
       "  <tbody>\n",
       "    <tr>\n",
       "      <th>0</th>\n",
       "      <td>2020-05-01</td>\n",
       "      <td>Restaurant</td>\n",
       "      <td>57b48aece14f6d64522f8c5f</td>\n",
       "      <td>5ec6b23c96741b6db6266639</td>\n",
       "      <td>5d7a32a73b546fccd88a05e9</td>\n",
       "    </tr>\n",
       "    <tr>\n",
       "      <th>1</th>\n",
       "      <td>2020-05-01</td>\n",
       "      <td>Restaurant</td>\n",
       "      <td>59f4803cdf196473b7fc124d</td>\n",
       "      <td>5ec6be1e712a4248e67d2bf0</td>\n",
       "      <td>5cd16542c7420059cc10b792</td>\n",
       "    </tr>\n",
       "    <tr>\n",
       "      <th>2</th>\n",
       "      <td>2020-05-01</td>\n",
       "      <td>Restaurant</td>\n",
       "      <td>5a427fbbea63d5000aff0ade</td>\n",
       "      <td>5ec7f07674bbff7edcb5be0d</td>\n",
       "      <td>5e7bce9ae360062306b4a233</td>\n",
       "    </tr>\n",
       "    <tr>\n",
       "      <th>3</th>\n",
       "      <td>2020-05-01</td>\n",
       "      <td>Restaurant</td>\n",
       "      <td>5a8c70b58fac51000b2ca9d8</td>\n",
       "      <td>5eac48651db7a19612824809</td>\n",
       "      <td>5e6ce90a7455f89bbb00be37</td>\n",
       "    </tr>\n",
       "    <tr>\n",
       "      <th>4</th>\n",
       "      <td>2020-05-01</td>\n",
       "      <td>Restaurant</td>\n",
       "      <td>5a9efa9bab3442000c2ba457</td>\n",
       "      <td>5eca9ed670a4dafe5de07698</td>\n",
       "      <td>5ea18277857aaa1b337ee201</td>\n",
       "    </tr>\n",
       "    <tr>\n",
       "      <th>...</th>\n",
       "      <td>...</td>\n",
       "      <td>...</td>\n",
       "      <td>...</td>\n",
       "      <td>...</td>\n",
       "      <td>...</td>\n",
       "    </tr>\n",
       "    <tr>\n",
       "      <th>369966</th>\n",
       "      <td>2020-10-01</td>\n",
       "      <td>Restaurant</td>\n",
       "      <td>5f874372e71892d52313343f</td>\n",
       "      <td>5f8745bfae557239f1cbe4db</td>\n",
       "      <td>5f2d6542365ed912d6c545f2</td>\n",
       "    </tr>\n",
       "    <tr>\n",
       "      <th>369967</th>\n",
       "      <td>2020-10-01</td>\n",
       "      <td>Restaurant</td>\n",
       "      <td>5f874b92a026a2143bab6e63</td>\n",
       "      <td>5f874fd5e86004c65a133d47</td>\n",
       "      <td>5e6ccb03b1d0a9394d072fcd</td>\n",
       "    </tr>\n",
       "    <tr>\n",
       "      <th>369968</th>\n",
       "      <td>2020-10-01</td>\n",
       "      <td>Restaurant</td>\n",
       "      <td>5f874e647a7169ef6a023235</td>\n",
       "      <td>5f875660afcc5ba542f3f332</td>\n",
       "      <td>5e77a757c55bc12714975c4d</td>\n",
       "    </tr>\n",
       "    <tr>\n",
       "      <th>369969</th>\n",
       "      <td>2020-10-01</td>\n",
       "      <td>Restaurant</td>\n",
       "      <td>5f875552c7b1a240baf4cc97</td>\n",
       "      <td>5f87582ed5481f4e72e02218</td>\n",
       "      <td>5f4cfc839232473565cfd423</td>\n",
       "    </tr>\n",
       "    <tr>\n",
       "      <th>369970</th>\n",
       "      <td>2020-10-01</td>\n",
       "      <td>Restaurant</td>\n",
       "      <td>5f8755d29765e83cf2c7b52a</td>\n",
       "      <td>5f8757217a5f5d289a90b84a</td>\n",
       "      <td>5e7b8de7a7a5e36f91c7b17b</td>\n",
       "    </tr>\n",
       "  </tbody>\n",
       "</table>\n",
       "<p>369971 rows × 5 columns</p>\n",
       "</div>"
      ],
      "text/plain": [
       "       Purchases Time Delivered Product line                   User ID  \\\n",
       "0                    2020-05-01   Restaurant  57b48aece14f6d64522f8c5f   \n",
       "1                    2020-05-01   Restaurant  59f4803cdf196473b7fc124d   \n",
       "2                    2020-05-01   Restaurant  5a427fbbea63d5000aff0ade   \n",
       "3                    2020-05-01   Restaurant  5a8c70b58fac51000b2ca9d8   \n",
       "4                    2020-05-01   Restaurant  5a9efa9bab3442000c2ba457   \n",
       "...                         ...          ...                       ...   \n",
       "369966               2020-10-01   Restaurant  5f874372e71892d52313343f   \n",
       "369967               2020-10-01   Restaurant  5f874b92a026a2143bab6e63   \n",
       "369968               2020-10-01   Restaurant  5f874e647a7169ef6a023235   \n",
       "369969               2020-10-01   Restaurant  5f875552c7b1a240baf4cc97   \n",
       "369970               2020-10-01   Restaurant  5f8755d29765e83cf2c7b52a   \n",
       "\n",
       "                     Purchase ID                  Venue ID  \n",
       "0       5ec6b23c96741b6db6266639  5d7a32a73b546fccd88a05e9  \n",
       "1       5ec6be1e712a4248e67d2bf0  5cd16542c7420059cc10b792  \n",
       "2       5ec7f07674bbff7edcb5be0d  5e7bce9ae360062306b4a233  \n",
       "3       5eac48651db7a19612824809  5e6ce90a7455f89bbb00be37  \n",
       "4       5eca9ed670a4dafe5de07698  5ea18277857aaa1b337ee201  \n",
       "...                          ...                       ...  \n",
       "369966  5f8745bfae557239f1cbe4db  5f2d6542365ed912d6c545f2  \n",
       "369967  5f874fd5e86004c65a133d47  5e6ccb03b1d0a9394d072fcd  \n",
       "369968  5f875660afcc5ba542f3f332  5e77a757c55bc12714975c4d  \n",
       "369969  5f87582ed5481f4e72e02218  5f4cfc839232473565cfd423  \n",
       "369970  5f8757217a5f5d289a90b84a  5e7b8de7a7a5e36f91c7b17b  \n",
       "\n",
       "[369971 rows x 5 columns]"
      ]
     },
     "execution_count": 13,
     "metadata": {},
     "output_type": "execute_result"
    }
   ],
   "source": [
    "df3"
   ]
  },
  {
   "cell_type": "code",
   "execution_count": 14,
   "metadata": {
    "ExecuteTime": {
     "end_time": "2021-02-02T09:41:52.949725Z",
     "start_time": "2021-02-02T09:41:52.843883Z"
    }
   },
   "outputs": [],
   "source": [
    "# Table to explore purchase times from each customers\n",
    "a=df3['User ID'].value_counts()\n",
    "retention=pd.DataFrame({'User ID':a.index, 'Purchase Count':a.values})"
   ]
  },
  {
   "cell_type": "code",
   "execution_count": 15,
   "metadata": {
    "ExecuteTime": {
     "end_time": "2021-02-02T09:41:52.965680Z",
     "start_time": "2021-02-02T09:41:52.951711Z"
    }
   },
   "outputs": [
    {
     "data": {
      "text/html": [
       "<div>\n",
       "<style scoped>\n",
       "    .dataframe tbody tr th:only-of-type {\n",
       "        vertical-align: middle;\n",
       "    }\n",
       "\n",
       "    .dataframe tbody tr th {\n",
       "        vertical-align: top;\n",
       "    }\n",
       "\n",
       "    .dataframe thead th {\n",
       "        text-align: right;\n",
       "    }\n",
       "</style>\n",
       "<table border=\"1\" class=\"dataframe\">\n",
       "  <thead>\n",
       "    <tr style=\"text-align: right;\">\n",
       "      <th></th>\n",
       "      <th>User ID</th>\n",
       "      <th>Purchase Count</th>\n",
       "    </tr>\n",
       "  </thead>\n",
       "  <tbody>\n",
       "    <tr>\n",
       "      <th>0</th>\n",
       "      <td>5ec04f84d2868704abb52f98</td>\n",
       "      <td>206</td>\n",
       "    </tr>\n",
       "    <tr>\n",
       "      <th>1</th>\n",
       "      <td>5eea584439f726a586098e28</td>\n",
       "      <td>192</td>\n",
       "    </tr>\n",
       "    <tr>\n",
       "      <th>2</th>\n",
       "      <td>5ed37beb85374d378ed67758</td>\n",
       "      <td>182</td>\n",
       "    </tr>\n",
       "    <tr>\n",
       "      <th>3</th>\n",
       "      <td>5e92f86d8543cc9871d7057a</td>\n",
       "      <td>173</td>\n",
       "    </tr>\n",
       "    <tr>\n",
       "      <th>4</th>\n",
       "      <td>5ee54eb4113c1657c503a95f</td>\n",
       "      <td>169</td>\n",
       "    </tr>\n",
       "    <tr>\n",
       "      <th>...</th>\n",
       "      <td>...</td>\n",
       "      <td>...</td>\n",
       "    </tr>\n",
       "    <tr>\n",
       "      <th>74563</th>\n",
       "      <td>5e7711a9400b2e148ba85f87</td>\n",
       "      <td>1</td>\n",
       "    </tr>\n",
       "    <tr>\n",
       "      <th>74564</th>\n",
       "      <td>5e53f72b7c8153fc25cafb7d</td>\n",
       "      <td>1</td>\n",
       "    </tr>\n",
       "    <tr>\n",
       "      <th>74565</th>\n",
       "      <td>5b4b1b3d3570b7000b272651</td>\n",
       "      <td>1</td>\n",
       "    </tr>\n",
       "    <tr>\n",
       "      <th>74566</th>\n",
       "      <td>5e32b2790fb9881f3fbb88d9</td>\n",
       "      <td>1</td>\n",
       "    </tr>\n",
       "    <tr>\n",
       "      <th>74567</th>\n",
       "      <td>5ba20b4dd0fd01000a3fdf17</td>\n",
       "      <td>1</td>\n",
       "    </tr>\n",
       "  </tbody>\n",
       "</table>\n",
       "<p>74568 rows × 2 columns</p>\n",
       "</div>"
      ],
      "text/plain": [
       "                        User ID  Purchase Count\n",
       "0      5ec04f84d2868704abb52f98             206\n",
       "1      5eea584439f726a586098e28             192\n",
       "2      5ed37beb85374d378ed67758             182\n",
       "3      5e92f86d8543cc9871d7057a             173\n",
       "4      5ee54eb4113c1657c503a95f             169\n",
       "...                         ...             ...\n",
       "74563  5e7711a9400b2e148ba85f87               1\n",
       "74564  5e53f72b7c8153fc25cafb7d               1\n",
       "74565  5b4b1b3d3570b7000b272651               1\n",
       "74566  5e32b2790fb9881f3fbb88d9               1\n",
       "74567  5ba20b4dd0fd01000a3fdf17               1\n",
       "\n",
       "[74568 rows x 2 columns]"
      ]
     },
     "execution_count": 15,
     "metadata": {},
     "output_type": "execute_result"
    }
   ],
   "source": [
    "retention"
   ]
  },
  {
   "cell_type": "code",
   "execution_count": 130,
   "metadata": {
    "ExecuteTime": {
     "end_time": "2021-02-03T10:43:28.644662Z",
     "start_time": "2021-02-03T10:43:28.627661Z"
    }
   },
   "outputs": [
    {
     "data": {
      "text/html": [
       "<div>\n",
       "<style scoped>\n",
       "    .dataframe tbody tr th:only-of-type {\n",
       "        vertical-align: middle;\n",
       "    }\n",
       "\n",
       "    .dataframe tbody tr th {\n",
       "        vertical-align: top;\n",
       "    }\n",
       "\n",
       "    .dataframe thead th {\n",
       "        text-align: right;\n",
       "    }\n",
       "</style>\n",
       "<table border=\"1\" class=\"dataframe\">\n",
       "  <thead>\n",
       "    <tr style=\"text-align: right;\">\n",
       "      <th></th>\n",
       "      <th>User ID</th>\n",
       "      <th>Purchase Count</th>\n",
       "    </tr>\n",
       "  </thead>\n",
       "  <tbody>\n",
       "    <tr>\n",
       "      <th>0</th>\n",
       "      <td>5ec04f84d2868704abb52f98</td>\n",
       "      <td>206</td>\n",
       "    </tr>\n",
       "    <tr>\n",
       "      <th>1</th>\n",
       "      <td>5eea584439f726a586098e28</td>\n",
       "      <td>192</td>\n",
       "    </tr>\n",
       "    <tr>\n",
       "      <th>2</th>\n",
       "      <td>5ed37beb85374d378ed67758</td>\n",
       "      <td>182</td>\n",
       "    </tr>\n",
       "    <tr>\n",
       "      <th>3</th>\n",
       "      <td>5e92f86d8543cc9871d7057a</td>\n",
       "      <td>173</td>\n",
       "    </tr>\n",
       "    <tr>\n",
       "      <th>4</th>\n",
       "      <td>5ee54eb4113c1657c503a95f</td>\n",
       "      <td>169</td>\n",
       "    </tr>\n",
       "    <tr>\n",
       "      <th>5</th>\n",
       "      <td>5ebb171bdf7d418abd2b0da6</td>\n",
       "      <td>169</td>\n",
       "    </tr>\n",
       "    <tr>\n",
       "      <th>6</th>\n",
       "      <td>5eac42801adae91423b8ee6a</td>\n",
       "      <td>139</td>\n",
       "    </tr>\n",
       "    <tr>\n",
       "      <th>7</th>\n",
       "      <td>5f285087da54684fc419703f</td>\n",
       "      <td>134</td>\n",
       "    </tr>\n",
       "    <tr>\n",
       "      <th>8</th>\n",
       "      <td>5eb57a7e97293fe371cad295</td>\n",
       "      <td>132</td>\n",
       "    </tr>\n",
       "    <tr>\n",
       "      <th>9</th>\n",
       "      <td>5edce5e7754894f1bab21b2c</td>\n",
       "      <td>131</td>\n",
       "    </tr>\n",
       "    <tr>\n",
       "      <th>10</th>\n",
       "      <td>5dae03b650f2feac2a65eec0</td>\n",
       "      <td>123</td>\n",
       "    </tr>\n",
       "    <tr>\n",
       "      <th>11</th>\n",
       "      <td>5ec93fa6ab8fb7d050463d3c</td>\n",
       "      <td>122</td>\n",
       "    </tr>\n",
       "    <tr>\n",
       "      <th>12</th>\n",
       "      <td>5edea6988864c516823e33d2</td>\n",
       "      <td>121</td>\n",
       "    </tr>\n",
       "    <tr>\n",
       "      <th>13</th>\n",
       "      <td>5f182eabbd710f73ad0715f2</td>\n",
       "      <td>121</td>\n",
       "    </tr>\n",
       "    <tr>\n",
       "      <th>14</th>\n",
       "      <td>5cd7f95483de69644671b4cd</td>\n",
       "      <td>120</td>\n",
       "    </tr>\n",
       "    <tr>\n",
       "      <th>15</th>\n",
       "      <td>5d6a79965f4656931c99f7b1</td>\n",
       "      <td>118</td>\n",
       "    </tr>\n",
       "    <tr>\n",
       "      <th>16</th>\n",
       "      <td>5ec6998ff85300fc6b7c7c1c</td>\n",
       "      <td>117</td>\n",
       "    </tr>\n",
       "    <tr>\n",
       "      <th>17</th>\n",
       "      <td>5b7d82276eeb6e000bbb07e2</td>\n",
       "      <td>117</td>\n",
       "    </tr>\n",
       "    <tr>\n",
       "      <th>18</th>\n",
       "      <td>5eef3f8aec57540875c6f3a4</td>\n",
       "      <td>112</td>\n",
       "    </tr>\n",
       "    <tr>\n",
       "      <th>19</th>\n",
       "      <td>5ef19095f07da3426cb1801f</td>\n",
       "      <td>110</td>\n",
       "    </tr>\n",
       "  </tbody>\n",
       "</table>\n",
       "</div>"
      ],
      "text/plain": [
       "                     User ID  Purchase Count\n",
       "0   5ec04f84d2868704abb52f98             206\n",
       "1   5eea584439f726a586098e28             192\n",
       "2   5ed37beb85374d378ed67758             182\n",
       "3   5e92f86d8543cc9871d7057a             173\n",
       "4   5ee54eb4113c1657c503a95f             169\n",
       "5   5ebb171bdf7d418abd2b0da6             169\n",
       "6   5eac42801adae91423b8ee6a             139\n",
       "7   5f285087da54684fc419703f             134\n",
       "8   5eb57a7e97293fe371cad295             132\n",
       "9   5edce5e7754894f1bab21b2c             131\n",
       "10  5dae03b650f2feac2a65eec0             123\n",
       "11  5ec93fa6ab8fb7d050463d3c             122\n",
       "12  5edea6988864c516823e33d2             121\n",
       "13  5f182eabbd710f73ad0715f2             121\n",
       "14  5cd7f95483de69644671b4cd             120\n",
       "15  5d6a79965f4656931c99f7b1             118\n",
       "16  5ec6998ff85300fc6b7c7c1c             117\n",
       "17  5b7d82276eeb6e000bbb07e2             117\n",
       "18  5eef3f8aec57540875c6f3a4             112\n",
       "19  5ef19095f07da3426cb1801f             110"
      ]
     },
     "execution_count": 130,
     "metadata": {},
     "output_type": "execute_result"
    }
   ],
   "source": [
    "# Top 20 customers with the most regular usages\n",
    "retention.head(20)"
   ]
  },
  {
   "cell_type": "code",
   "execution_count": 16,
   "metadata": {
    "ExecuteTime": {
     "end_time": "2021-02-02T09:41:52.995679Z",
     "start_time": "2021-02-02T09:41:52.967681Z"
    }
   },
   "outputs": [
    {
     "data": {
      "text/plain": [
       "count    74568.000000\n",
       "mean         4.961525\n",
       "std          7.569309\n",
       "min          1.000000\n",
       "25%          2.000000\n",
       "50%          3.000000\n",
       "75%          5.000000\n",
       "max        206.000000\n",
       "Name: Purchase Count, dtype: float64"
      ]
     },
     "execution_count": 16,
     "metadata": {},
     "output_type": "execute_result"
    }
   ],
   "source": [
    "# Get insights from collective purchase count\n",
    "retention['Purchase Count'].describe()"
   ]
  },
  {
   "cell_type": "code",
   "execution_count": 129,
   "metadata": {
    "ExecuteTime": {
     "end_time": "2021-02-03T10:42:50.922079Z",
     "start_time": "2021-02-03T10:42:50.788725Z"
    }
   },
   "outputs": [
    {
     "name": "stderr",
     "output_type": "stream",
     "text": [
      "C:\\Users\\ducng\\anaconda3\\lib\\site-packages\\seaborn\\_decorators.py:43: FutureWarning: Pass the following variable as a keyword arg: x. From version 0.12, the only valid positional argument will be `data`, and passing other arguments without an explicit keyword will result in an error or misinterpretation.\n",
      "  FutureWarning\n"
     ]
    },
    {
     "data": {
      "image/png": "[encoded data removed]",
      "text/plain": [
       "<Figure size 576x216 with 1 Axes>"
      ]
     },
     "metadata": {},
     "output_type": "display_data"
    }
   ],
   "source": [
    "# Using boxplot\n",
    "plt.figure(figsize=(8,3))\n",
    "sns.boxplot(retention['Purchase Count'], sym='')\n",
    "sns.despine(left=True,bottom=True)"
   ]
  },
  {
   "cell_type": "markdown",
   "metadata": {
    "ExecuteTime": {
     "end_time": "2021-01-30T22:01:59.291637Z",
     "start_time": "2021-01-30T22:01:59.279634Z"
    }
   },
   "source": [
    "Median purchase count is 3<br>\n",
    "75% of the users span from 2 to 5"
   ]
  },
  {
   "cell_type": "code",
   "execution_count": 18,
   "metadata": {
    "ExecuteTime": {
     "end_time": "2021-02-02T09:41:53.213794Z",
     "start_time": "2021-02-02T09:41:53.185679Z"
    }
   },
   "outputs": [],
   "source": [
    "once=0\n",
    "twice_to_tenth=0\n",
    "rarely=0\n",
    "regular=0\n",
    "for j in retention['Purchase Count']:\n",
    "    if j == 1:\n",
    "        once+=1\n",
    "    elif j > 1 and j <=10:\n",
    "        twice_to_tenth+=1\n",
    "    elif j > 10 and j <= 20:\n",
    "        rarely+=1\n",
    "    elif j > 20:\n",
    "        regular+=1"
   ]
  },
  {
   "cell_type": "code",
   "execution_count": 19,
   "metadata": {
    "ExecuteTime": {
     "end_time": "2021-02-02T09:41:53.229793Z",
     "start_time": "2021-02-02T09:41:53.214684Z"
    }
   },
   "outputs": [
    {
     "name": "stdout",
     "output_type": "stream",
     "text": [
      "1885 65791 4455 2437\n"
     ]
    }
   ],
   "source": [
    "print(once,twice_to_tenth,rarely,regular)"
   ]
  },
  {
   "cell_type": "markdown",
   "metadata": {
    "ExecuteTime": {
     "end_time": "2021-01-30T22:12:05.947423Z",
     "start_time": "2021-01-30T22:12:05.935424Z"
    }
   },
   "source": [
    "We can see that, most of customers used the service merely twice to tenth time in the given period time <br>\n",
    "Rarely customers used approximately once a week in 20 weeks <br>\n",
    "Regular customers are greater than once time using customers but smaller than rarely using customers<br>\n",
    "It could be due to the delivery fee ( based on distance), somehow delaying in delivery, less discount season from restaurants<br> and retail stores together with unappropriated price have led to the difficulty to keep customers"
   ]
  },
  {
   "cell_type": "code",
   "execution_count": 113,
   "metadata": {
    "ExecuteTime": {
     "end_time": "2021-02-03T10:28:01.147599Z",
     "start_time": "2021-02-03T10:28:00.958595Z"
    }
   },
   "outputs": [
    {
     "data": {
      "image/png": "[encoded data removed]",
      "text/plain": [
       "<Figure size 864x720 with 1 Axes>"
      ]
     },
     "metadata": {},
     "output_type": "display_data"
    }
   ],
   "source": [
    "plt.figure(figsize=(12,10))\n",
    "sizes=[once,twice_to_tenth,rarely,regular]\n",
    "labels=('once','twice_to_tenth','rarely','regular')\n",
    "y_pos=np.arange(len(labels))\n",
    "ax=plt.barh(y_pos,sizes, align='center', alpha=0.7,color='#008B8B')\n",
    "plt.yticks(y_pos,labels)\n",
    "plt.ylabel('Customer Retention',fontsize=20)\n",
    "plt.xlabel('Count',fontsize=20)\n",
    "plt.title('Types of Customer')\n",
    "sns.despine(left=True,bottom=True)\n",
    "plt.show()"
   ]
  },
  {
   "cell_type": "markdown",
   "metadata": {},
   "source": [
    "## Data preparation"
   ]
  },
  {
   "cell_type": "code",
   "execution_count": 21,
   "metadata": {
    "ExecuteTime": {
     "end_time": "2021-02-02T09:41:53.428426Z",
     "start_time": "2021-02-02T09:41:53.354679Z"
    }
   },
   "outputs": [],
   "source": [
    "# Using datetime library, we extracted the month, year\n",
    "df3['month'] = df3['Purchases Time Delivered'].dt.month\n",
    "df3['year']=df3['Purchases Time Delivered'].dt.year"
   ]
  },
  {
   "cell_type": "code",
   "execution_count": 22,
   "metadata": {
    "ExecuteTime": {
     "end_time": "2021-02-02T09:42:07.781398Z",
     "start_time": "2021-02-02T09:41:53.430394Z"
    }
   },
   "outputs": [],
   "source": [
    "# In order to sort them in order, we should multiply the year by 100 and add the month to that value. \n",
    "# This will create an order that can be sorted correctly.\n",
    "df3['cohort'] = df3.apply(lambda row: (row['year'] * 100) + (row['month']), axis=1)"
   ]
  },
  {
   "cell_type": "code",
   "execution_count": 23,
   "metadata": {
    "ExecuteTime": {
     "end_time": "2021-02-02T09:42:07.843395Z",
     "start_time": "2021-02-02T09:42:07.797400Z"
    }
   },
   "outputs": [
    {
     "data": {
      "text/html": [
       "<div>\n",
       "<style scoped>\n",
       "    .dataframe tbody tr th:only-of-type {\n",
       "        vertical-align: middle;\n",
       "    }\n",
       "\n",
       "    .dataframe tbody tr th {\n",
       "        vertical-align: top;\n",
       "    }\n",
       "\n",
       "    .dataframe thead th {\n",
       "        text-align: right;\n",
       "    }\n",
       "</style>\n",
       "<table border=\"1\" class=\"dataframe\">\n",
       "  <thead>\n",
       "    <tr style=\"text-align: right;\">\n",
       "      <th></th>\n",
       "      <th>Purchases Time Delivered</th>\n",
       "      <th>Product line</th>\n",
       "      <th>User ID</th>\n",
       "      <th>Purchase ID</th>\n",
       "      <th>Venue ID</th>\n",
       "      <th>month</th>\n",
       "      <th>year</th>\n",
       "      <th>cohort</th>\n",
       "    </tr>\n",
       "  </thead>\n",
       "  <tbody>\n",
       "    <tr>\n",
       "      <th>0</th>\n",
       "      <td>2020-05-01</td>\n",
       "      <td>Restaurant</td>\n",
       "      <td>57b48aece14f6d64522f8c5f</td>\n",
       "      <td>5ec6b23c96741b6db6266639</td>\n",
       "      <td>5d7a32a73b546fccd88a05e9</td>\n",
       "      <td>5</td>\n",
       "      <td>2020</td>\n",
       "      <td>202005</td>\n",
       "    </tr>\n",
       "    <tr>\n",
       "      <th>1</th>\n",
       "      <td>2020-05-01</td>\n",
       "      <td>Restaurant</td>\n",
       "      <td>59f4803cdf196473b7fc124d</td>\n",
       "      <td>5ec6be1e712a4248e67d2bf0</td>\n",
       "      <td>5cd16542c7420059cc10b792</td>\n",
       "      <td>5</td>\n",
       "      <td>2020</td>\n",
       "      <td>202005</td>\n",
       "    </tr>\n",
       "    <tr>\n",
       "      <th>2</th>\n",
       "      <td>2020-05-01</td>\n",
       "      <td>Restaurant</td>\n",
       "      <td>5a427fbbea63d5000aff0ade</td>\n",
       "      <td>5ec7f07674bbff7edcb5be0d</td>\n",
       "      <td>5e7bce9ae360062306b4a233</td>\n",
       "      <td>5</td>\n",
       "      <td>2020</td>\n",
       "      <td>202005</td>\n",
       "    </tr>\n",
       "    <tr>\n",
       "      <th>3</th>\n",
       "      <td>2020-05-01</td>\n",
       "      <td>Restaurant</td>\n",
       "      <td>5a8c70b58fac51000b2ca9d8</td>\n",
       "      <td>5eac48651db7a19612824809</td>\n",
       "      <td>5e6ce90a7455f89bbb00be37</td>\n",
       "      <td>5</td>\n",
       "      <td>2020</td>\n",
       "      <td>202005</td>\n",
       "    </tr>\n",
       "    <tr>\n",
       "      <th>4</th>\n",
       "      <td>2020-05-01</td>\n",
       "      <td>Restaurant</td>\n",
       "      <td>5a9efa9bab3442000c2ba457</td>\n",
       "      <td>5eca9ed670a4dafe5de07698</td>\n",
       "      <td>5ea18277857aaa1b337ee201</td>\n",
       "      <td>5</td>\n",
       "      <td>2020</td>\n",
       "      <td>202005</td>\n",
       "    </tr>\n",
       "    <tr>\n",
       "      <th>...</th>\n",
       "      <td>...</td>\n",
       "      <td>...</td>\n",
       "      <td>...</td>\n",
       "      <td>...</td>\n",
       "      <td>...</td>\n",
       "      <td>...</td>\n",
       "      <td>...</td>\n",
       "      <td>...</td>\n",
       "    </tr>\n",
       "    <tr>\n",
       "      <th>369966</th>\n",
       "      <td>2020-10-01</td>\n",
       "      <td>Restaurant</td>\n",
       "      <td>5f874372e71892d52313343f</td>\n",
       "      <td>5f8745bfae557239f1cbe4db</td>\n",
       "      <td>5f2d6542365ed912d6c545f2</td>\n",
       "      <td>10</td>\n",
       "      <td>2020</td>\n",
       "      <td>202010</td>\n",
       "    </tr>\n",
       "    <tr>\n",
       "      <th>369967</th>\n",
       "      <td>2020-10-01</td>\n",
       "      <td>Restaurant</td>\n",
       "      <td>5f874b92a026a2143bab6e63</td>\n",
       "      <td>5f874fd5e86004c65a133d47</td>\n",
       "      <td>5e6ccb03b1d0a9394d072fcd</td>\n",
       "      <td>10</td>\n",
       "      <td>2020</td>\n",
       "      <td>202010</td>\n",
       "    </tr>\n",
       "    <tr>\n",
       "      <th>369968</th>\n",
       "      <td>2020-10-01</td>\n",
       "      <td>Restaurant</td>\n",
       "      <td>5f874e647a7169ef6a023235</td>\n",
       "      <td>5f875660afcc5ba542f3f332</td>\n",
       "      <td>5e77a757c55bc12714975c4d</td>\n",
       "      <td>10</td>\n",
       "      <td>2020</td>\n",
       "      <td>202010</td>\n",
       "    </tr>\n",
       "    <tr>\n",
       "      <th>369969</th>\n",
       "      <td>2020-10-01</td>\n",
       "      <td>Restaurant</td>\n",
       "      <td>5f875552c7b1a240baf4cc97</td>\n",
       "      <td>5f87582ed5481f4e72e02218</td>\n",
       "      <td>5f4cfc839232473565cfd423</td>\n",
       "      <td>10</td>\n",
       "      <td>2020</td>\n",
       "      <td>202010</td>\n",
       "    </tr>\n",
       "    <tr>\n",
       "      <th>369970</th>\n",
       "      <td>2020-10-01</td>\n",
       "      <td>Restaurant</td>\n",
       "      <td>5f8755d29765e83cf2c7b52a</td>\n",
       "      <td>5f8757217a5f5d289a90b84a</td>\n",
       "      <td>5e7b8de7a7a5e36f91c7b17b</td>\n",
       "      <td>10</td>\n",
       "      <td>2020</td>\n",
       "      <td>202010</td>\n",
       "    </tr>\n",
       "  </tbody>\n",
       "</table>\n",
       "<p>369971 rows × 8 columns</p>\n",
       "</div>"
      ],
      "text/plain": [
       "       Purchases Time Delivered Product line                   User ID  \\\n",
       "0                    2020-05-01   Restaurant  57b48aece14f6d64522f8c5f   \n",
       "1                    2020-05-01   Restaurant  59f4803cdf196473b7fc124d   \n",
       "2                    2020-05-01   Restaurant  5a427fbbea63d5000aff0ade   \n",
       "3                    2020-05-01   Restaurant  5a8c70b58fac51000b2ca9d8   \n",
       "4                    2020-05-01   Restaurant  5a9efa9bab3442000c2ba457   \n",
       "...                         ...          ...                       ...   \n",
       "369966               2020-10-01   Restaurant  5f874372e71892d52313343f   \n",
       "369967               2020-10-01   Restaurant  5f874b92a026a2143bab6e63   \n",
       "369968               2020-10-01   Restaurant  5f874e647a7169ef6a023235   \n",
       "369969               2020-10-01   Restaurant  5f875552c7b1a240baf4cc97   \n",
       "369970               2020-10-01   Restaurant  5f8755d29765e83cf2c7b52a   \n",
       "\n",
       "                     Purchase ID                  Venue ID  month  year  \\\n",
       "0       5ec6b23c96741b6db6266639  5d7a32a73b546fccd88a05e9      5  2020   \n",
       "1       5ec6be1e712a4248e67d2bf0  5cd16542c7420059cc10b792      5  2020   \n",
       "2       5ec7f07674bbff7edcb5be0d  5e7bce9ae360062306b4a233      5  2020   \n",
       "3       5eac48651db7a19612824809  5e6ce90a7455f89bbb00be37      5  2020   \n",
       "4       5eca9ed670a4dafe5de07698  5ea18277857aaa1b337ee201      5  2020   \n",
       "...                          ...                       ...    ...   ...   \n",
       "369966  5f8745bfae557239f1cbe4db  5f2d6542365ed912d6c545f2     10  2020   \n",
       "369967  5f874fd5e86004c65a133d47  5e6ccb03b1d0a9394d072fcd     10  2020   \n",
       "369968  5f875660afcc5ba542f3f332  5e77a757c55bc12714975c4d     10  2020   \n",
       "369969  5f87582ed5481f4e72e02218  5f4cfc839232473565cfd423     10  2020   \n",
       "369970  5f8757217a5f5d289a90b84a  5e7b8de7a7a5e36f91c7b17b     10  2020   \n",
       "\n",
       "        cohort  \n",
       "0       202005  \n",
       "1       202005  \n",
       "2       202005  \n",
       "3       202005  \n",
       "4       202005  \n",
       "...        ...  \n",
       "369966  202010  \n",
       "369967  202010  \n",
       "369968  202010  \n",
       "369969  202010  \n",
       "369970  202010  \n",
       "\n",
       "[369971 rows x 8 columns]"
      ]
     },
     "execution_count": 23,
     "metadata": {},
     "output_type": "execute_result"
    }
   ],
   "source": [
    "df3"
   ]
  },
  {
   "cell_type": "code",
   "execution_count": 65,
   "metadata": {
    "ExecuteTime": {
     "end_time": "2021-02-02T10:12:33.267540Z",
     "start_time": "2021-02-02T10:12:33.246545Z"
    }
   },
   "outputs": [],
   "source": [
    "b=df3['month'].value_counts().sort_index()"
   ]
  },
  {
   "cell_type": "code",
   "execution_count": 66,
   "metadata": {
    "ExecuteTime": {
     "end_time": "2021-02-02T10:12:33.937550Z",
     "start_time": "2021-02-02T10:12:33.913559Z"
    }
   },
   "outputs": [],
   "source": [
    "amount=pd.DataFrame({'Month':b.index,'Purchase_Count':b.values})"
   ]
  },
  {
   "cell_type": "code",
   "execution_count": 67,
   "metadata": {
    "ExecuteTime": {
     "end_time": "2021-02-02T10:12:34.669273Z",
     "start_time": "2021-02-02T10:12:34.657274Z"
    }
   },
   "outputs": [
    {
     "data": {
      "text/html": [
       "<div>\n",
       "<style scoped>\n",
       "    .dataframe tbody tr th:only-of-type {\n",
       "        vertical-align: middle;\n",
       "    }\n",
       "\n",
       "    .dataframe tbody tr th {\n",
       "        vertical-align: top;\n",
       "    }\n",
       "\n",
       "    .dataframe thead th {\n",
       "        text-align: right;\n",
       "    }\n",
       "</style>\n",
       "<table border=\"1\" class=\"dataframe\">\n",
       "  <thead>\n",
       "    <tr style=\"text-align: right;\">\n",
       "      <th></th>\n",
       "      <th>Month</th>\n",
       "      <th>Purchase_Count</th>\n",
       "    </tr>\n",
       "  </thead>\n",
       "  <tbody>\n",
       "    <tr>\n",
       "      <th>0</th>\n",
       "      <td>5</td>\n",
       "      <td>49567</td>\n",
       "    </tr>\n",
       "    <tr>\n",
       "      <th>1</th>\n",
       "      <td>6</td>\n",
       "      <td>52806</td>\n",
       "    </tr>\n",
       "    <tr>\n",
       "      <th>2</th>\n",
       "      <td>7</td>\n",
       "      <td>53430</td>\n",
       "    </tr>\n",
       "    <tr>\n",
       "      <th>3</th>\n",
       "      <td>8</td>\n",
       "      <td>62766</td>\n",
       "    </tr>\n",
       "    <tr>\n",
       "      <th>4</th>\n",
       "      <td>9</td>\n",
       "      <td>97397</td>\n",
       "    </tr>\n",
       "    <tr>\n",
       "      <th>5</th>\n",
       "      <td>10</td>\n",
       "      <td>54005</td>\n",
       "    </tr>\n",
       "  </tbody>\n",
       "</table>\n",
       "</div>"
      ],
      "text/plain": [
       "   Month  Purchase_Count\n",
       "0      5           49567\n",
       "1      6           52806\n",
       "2      7           53430\n",
       "3      8           62766\n",
       "4      9           97397\n",
       "5     10           54005"
      ]
     },
     "execution_count": 67,
     "metadata": {},
     "output_type": "execute_result"
    }
   ],
   "source": [
    "amount"
   ]
  },
  {
   "cell_type": "code",
   "execution_count": 114,
   "metadata": {
    "ExecuteTime": {
     "end_time": "2021-02-03T10:28:27.134021Z",
     "start_time": "2021-02-03T10:28:26.941025Z"
    }
   },
   "outputs": [
    {
     "data": {
      "image/png": "[encoded data removed]",
      "text/plain": [
       "<Figure size 864x720 with 1 Axes>"
      ]
     },
     "metadata": {},
     "output_type": "display_data"
    }
   ],
   "source": [
    "sns.set_style('white')\n",
    "plt.figure(figsize=(12,10))\n",
    "objects = amount['Month']\n",
    "y_pos = np.arange(len(objects))\n",
    "performance = amount['Purchase_Count']\n",
    "\n",
    "plt.bar(y_pos, performance, align='center',color='#483D8B',alpha=0.9)\n",
    "plt.xticks(y_pos, objects)\n",
    "plt.ylabel('Purchase_Count',fontsize=20)\n",
    "plt.xlabel('Monthly',fontsize=20)\n",
    "plt.title('Amount of Usage')\n",
    "sns.despine(left=True, bottom=True)\n",
    "plt.show()"
   ]
  },
  {
   "cell_type": "markdown",
   "metadata": {},
   "source": [
    "Mostly orders increase from August to October, specifically reach a peak in September with 97397 usages."
   ]
  },
  {
   "cell_type": "code",
   "execution_count": 25,
   "metadata": {
    "ExecuteTime": {
     "end_time": "2021-02-02T09:42:08.030428Z",
     "start_time": "2021-02-02T09:42:07.880395Z"
    }
   },
   "outputs": [],
   "source": [
    "# After we create a column called ‘cohort’, we will group all the orders by the CustomerID \n",
    "# and find the minimum cohort to find the cohort they belong in as their first purchase.\n",
    "cohorts = df3.groupby('User ID')['cohort'].min().reset_index()"
   ]
  },
  {
   "cell_type": "code",
   "execution_count": 26,
   "metadata": {
    "ExecuteTime": {
     "end_time": "2021-02-02T09:42:08.076402Z",
     "start_time": "2021-02-02T09:42:08.038398Z"
    }
   },
   "outputs": [
    {
     "data": {
      "text/html": [
       "<div>\n",
       "<style scoped>\n",
       "    .dataframe tbody tr th:only-of-type {\n",
       "        vertical-align: middle;\n",
       "    }\n",
       "\n",
       "    .dataframe tbody tr th {\n",
       "        vertical-align: top;\n",
       "    }\n",
       "\n",
       "    .dataframe thead th {\n",
       "        text-align: right;\n",
       "    }\n",
       "</style>\n",
       "<table border=\"1\" class=\"dataframe\">\n",
       "  <thead>\n",
       "    <tr style=\"text-align: right;\">\n",
       "      <th></th>\n",
       "      <th>User ID</th>\n",
       "      <th>cohort</th>\n",
       "    </tr>\n",
       "  </thead>\n",
       "  <tbody>\n",
       "    <tr>\n",
       "      <th>0</th>\n",
       "      <td>55080d6585f6661a3b37f7a5</td>\n",
       "      <td>202008</td>\n",
       "    </tr>\n",
       "    <tr>\n",
       "      <th>1</th>\n",
       "      <td>556202537f84a43ac29ec7cb</td>\n",
       "      <td>202007</td>\n",
       "    </tr>\n",
       "    <tr>\n",
       "      <th>2</th>\n",
       "      <td>57b48aece14f6d64522f8c5f</td>\n",
       "      <td>202005</td>\n",
       "    </tr>\n",
       "    <tr>\n",
       "      <th>3</th>\n",
       "      <td>57b5a1c7791b5a4aafe403ef</td>\n",
       "      <td>202010</td>\n",
       "    </tr>\n",
       "    <tr>\n",
       "      <th>4</th>\n",
       "      <td>582212cb8033270d91515225</td>\n",
       "      <td>202009</td>\n",
       "    </tr>\n",
       "    <tr>\n",
       "      <th>...</th>\n",
       "      <td>...</td>\n",
       "      <td>...</td>\n",
       "    </tr>\n",
       "    <tr>\n",
       "      <th>74563</th>\n",
       "      <td>5f874372e71892d52313343f</td>\n",
       "      <td>202010</td>\n",
       "    </tr>\n",
       "    <tr>\n",
       "      <th>74564</th>\n",
       "      <td>5f874b92a026a2143bab6e63</td>\n",
       "      <td>202010</td>\n",
       "    </tr>\n",
       "    <tr>\n",
       "      <th>74565</th>\n",
       "      <td>5f874e647a7169ef6a023235</td>\n",
       "      <td>202010</td>\n",
       "    </tr>\n",
       "    <tr>\n",
       "      <th>74566</th>\n",
       "      <td>5f875552c7b1a240baf4cc97</td>\n",
       "      <td>202010</td>\n",
       "    </tr>\n",
       "    <tr>\n",
       "      <th>74567</th>\n",
       "      <td>5f8755d29765e83cf2c7b52a</td>\n",
       "      <td>202010</td>\n",
       "    </tr>\n",
       "  </tbody>\n",
       "</table>\n",
       "<p>74568 rows × 2 columns</p>\n",
       "</div>"
      ],
      "text/plain": [
       "                        User ID  cohort\n",
       "0      55080d6585f6661a3b37f7a5  202008\n",
       "1      556202537f84a43ac29ec7cb  202007\n",
       "2      57b48aece14f6d64522f8c5f  202005\n",
       "3      57b5a1c7791b5a4aafe403ef  202010\n",
       "4      582212cb8033270d91515225  202009\n",
       "...                         ...     ...\n",
       "74563  5f874372e71892d52313343f  202010\n",
       "74564  5f874b92a026a2143bab6e63  202010\n",
       "74565  5f874e647a7169ef6a023235  202010\n",
       "74566  5f875552c7b1a240baf4cc97  202010\n",
       "74567  5f8755d29765e83cf2c7b52a  202010\n",
       "\n",
       "[74568 rows x 2 columns]"
      ]
     },
     "execution_count": 26,
     "metadata": {},
     "output_type": "execute_result"
    }
   ],
   "source": [
    "cohorts"
   ]
  },
  {
   "cell_type": "code",
   "execution_count": 27,
   "metadata": {
    "ExecuteTime": {
     "end_time": "2021-02-02T09:42:08.231402Z",
     "start_time": "2021-02-02T09:42:08.081402Z"
    }
   },
   "outputs": [],
   "source": [
    "# We’ll rename the columns to CustomerID and first cohort \n",
    "# Merge new DataFrame with our previous data\n",
    "cohorts.columns = ['User ID', 'first_cohort']\n",
    "df3 = df3.merge(cohorts, on='User ID', how='left')"
   ]
  },
  {
   "cell_type": "code",
   "execution_count": 28,
   "metadata": {
    "ExecuteTime": {
     "end_time": "2021-02-02T09:42:08.262395Z",
     "start_time": "2021-02-02T09:42:08.236403Z"
    }
   },
   "outputs": [
    {
     "data": {
      "text/html": [
       "<div>\n",
       "<style scoped>\n",
       "    .dataframe tbody tr th:only-of-type {\n",
       "        vertical-align: middle;\n",
       "    }\n",
       "\n",
       "    .dataframe tbody tr th {\n",
       "        vertical-align: top;\n",
       "    }\n",
       "\n",
       "    .dataframe thead th {\n",
       "        text-align: right;\n",
       "    }\n",
       "</style>\n",
       "<table border=\"1\" class=\"dataframe\">\n",
       "  <thead>\n",
       "    <tr style=\"text-align: right;\">\n",
       "      <th></th>\n",
       "      <th>Purchases Time Delivered</th>\n",
       "      <th>Product line</th>\n",
       "      <th>User ID</th>\n",
       "      <th>Purchase ID</th>\n",
       "      <th>Venue ID</th>\n",
       "      <th>month</th>\n",
       "      <th>year</th>\n",
       "      <th>cohort</th>\n",
       "      <th>first_cohort</th>\n",
       "    </tr>\n",
       "  </thead>\n",
       "  <tbody>\n",
       "    <tr>\n",
       "      <th>0</th>\n",
       "      <td>2020-05-01</td>\n",
       "      <td>Restaurant</td>\n",
       "      <td>57b48aece14f6d64522f8c5f</td>\n",
       "      <td>5ec6b23c96741b6db6266639</td>\n",
       "      <td>5d7a32a73b546fccd88a05e9</td>\n",
       "      <td>5</td>\n",
       "      <td>2020</td>\n",
       "      <td>202005</td>\n",
       "      <td>202005</td>\n",
       "    </tr>\n",
       "    <tr>\n",
       "      <th>1</th>\n",
       "      <td>2020-05-01</td>\n",
       "      <td>Restaurant</td>\n",
       "      <td>59f4803cdf196473b7fc124d</td>\n",
       "      <td>5ec6be1e712a4248e67d2bf0</td>\n",
       "      <td>5cd16542c7420059cc10b792</td>\n",
       "      <td>5</td>\n",
       "      <td>2020</td>\n",
       "      <td>202005</td>\n",
       "      <td>202005</td>\n",
       "    </tr>\n",
       "    <tr>\n",
       "      <th>2</th>\n",
       "      <td>2020-05-01</td>\n",
       "      <td>Restaurant</td>\n",
       "      <td>5a427fbbea63d5000aff0ade</td>\n",
       "      <td>5ec7f07674bbff7edcb5be0d</td>\n",
       "      <td>5e7bce9ae360062306b4a233</td>\n",
       "      <td>5</td>\n",
       "      <td>2020</td>\n",
       "      <td>202005</td>\n",
       "      <td>202005</td>\n",
       "    </tr>\n",
       "    <tr>\n",
       "      <th>3</th>\n",
       "      <td>2020-05-01</td>\n",
       "      <td>Restaurant</td>\n",
       "      <td>5a8c70b58fac51000b2ca9d8</td>\n",
       "      <td>5eac48651db7a19612824809</td>\n",
       "      <td>5e6ce90a7455f89bbb00be37</td>\n",
       "      <td>5</td>\n",
       "      <td>2020</td>\n",
       "      <td>202005</td>\n",
       "      <td>202005</td>\n",
       "    </tr>\n",
       "    <tr>\n",
       "      <th>4</th>\n",
       "      <td>2020-05-01</td>\n",
       "      <td>Restaurant</td>\n",
       "      <td>5a9efa9bab3442000c2ba457</td>\n",
       "      <td>5eca9ed670a4dafe5de07698</td>\n",
       "      <td>5ea18277857aaa1b337ee201</td>\n",
       "      <td>5</td>\n",
       "      <td>2020</td>\n",
       "      <td>202005</td>\n",
       "      <td>202005</td>\n",
       "    </tr>\n",
       "    <tr>\n",
       "      <th>...</th>\n",
       "      <td>...</td>\n",
       "      <td>...</td>\n",
       "      <td>...</td>\n",
       "      <td>...</td>\n",
       "      <td>...</td>\n",
       "      <td>...</td>\n",
       "      <td>...</td>\n",
       "      <td>...</td>\n",
       "      <td>...</td>\n",
       "    </tr>\n",
       "    <tr>\n",
       "      <th>369966</th>\n",
       "      <td>2020-10-01</td>\n",
       "      <td>Restaurant</td>\n",
       "      <td>5f874372e71892d52313343f</td>\n",
       "      <td>5f8745bfae557239f1cbe4db</td>\n",
       "      <td>5f2d6542365ed912d6c545f2</td>\n",
       "      <td>10</td>\n",
       "      <td>2020</td>\n",
       "      <td>202010</td>\n",
       "      <td>202010</td>\n",
       "    </tr>\n",
       "    <tr>\n",
       "      <th>369967</th>\n",
       "      <td>2020-10-01</td>\n",
       "      <td>Restaurant</td>\n",
       "      <td>5f874b92a026a2143bab6e63</td>\n",
       "      <td>5f874fd5e86004c65a133d47</td>\n",
       "      <td>5e6ccb03b1d0a9394d072fcd</td>\n",
       "      <td>10</td>\n",
       "      <td>2020</td>\n",
       "      <td>202010</td>\n",
       "      <td>202010</td>\n",
       "    </tr>\n",
       "    <tr>\n",
       "      <th>369968</th>\n",
       "      <td>2020-10-01</td>\n",
       "      <td>Restaurant</td>\n",
       "      <td>5f874e647a7169ef6a023235</td>\n",
       "      <td>5f875660afcc5ba542f3f332</td>\n",
       "      <td>5e77a757c55bc12714975c4d</td>\n",
       "      <td>10</td>\n",
       "      <td>2020</td>\n",
       "      <td>202010</td>\n",
       "      <td>202010</td>\n",
       "    </tr>\n",
       "    <tr>\n",
       "      <th>369969</th>\n",
       "      <td>2020-10-01</td>\n",
       "      <td>Restaurant</td>\n",
       "      <td>5f875552c7b1a240baf4cc97</td>\n",
       "      <td>5f87582ed5481f4e72e02218</td>\n",
       "      <td>5f4cfc839232473565cfd423</td>\n",
       "      <td>10</td>\n",
       "      <td>2020</td>\n",
       "      <td>202010</td>\n",
       "      <td>202010</td>\n",
       "    </tr>\n",
       "    <tr>\n",
       "      <th>369970</th>\n",
       "      <td>2020-10-01</td>\n",
       "      <td>Restaurant</td>\n",
       "      <td>5f8755d29765e83cf2c7b52a</td>\n",
       "      <td>5f8757217a5f5d289a90b84a</td>\n",
       "      <td>5e7b8de7a7a5e36f91c7b17b</td>\n",
       "      <td>10</td>\n",
       "      <td>2020</td>\n",
       "      <td>202010</td>\n",
       "      <td>202010</td>\n",
       "    </tr>\n",
       "  </tbody>\n",
       "</table>\n",
       "<p>369971 rows × 9 columns</p>\n",
       "</div>"
      ],
      "text/plain": [
       "       Purchases Time Delivered Product line                   User ID  \\\n",
       "0                    2020-05-01   Restaurant  57b48aece14f6d64522f8c5f   \n",
       "1                    2020-05-01   Restaurant  59f4803cdf196473b7fc124d   \n",
       "2                    2020-05-01   Restaurant  5a427fbbea63d5000aff0ade   \n",
       "3                    2020-05-01   Restaurant  5a8c70b58fac51000b2ca9d8   \n",
       "4                    2020-05-01   Restaurant  5a9efa9bab3442000c2ba457   \n",
       "...                         ...          ...                       ...   \n",
       "369966               2020-10-01   Restaurant  5f874372e71892d52313343f   \n",
       "369967               2020-10-01   Restaurant  5f874b92a026a2143bab6e63   \n",
       "369968               2020-10-01   Restaurant  5f874e647a7169ef6a023235   \n",
       "369969               2020-10-01   Restaurant  5f875552c7b1a240baf4cc97   \n",
       "369970               2020-10-01   Restaurant  5f8755d29765e83cf2c7b52a   \n",
       "\n",
       "                     Purchase ID                  Venue ID  month  year  \\\n",
       "0       5ec6b23c96741b6db6266639  5d7a32a73b546fccd88a05e9      5  2020   \n",
       "1       5ec6be1e712a4248e67d2bf0  5cd16542c7420059cc10b792      5  2020   \n",
       "2       5ec7f07674bbff7edcb5be0d  5e7bce9ae360062306b4a233      5  2020   \n",
       "3       5eac48651db7a19612824809  5e6ce90a7455f89bbb00be37      5  2020   \n",
       "4       5eca9ed670a4dafe5de07698  5ea18277857aaa1b337ee201      5  2020   \n",
       "...                          ...                       ...    ...   ...   \n",
       "369966  5f8745bfae557239f1cbe4db  5f2d6542365ed912d6c545f2     10  2020   \n",
       "369967  5f874fd5e86004c65a133d47  5e6ccb03b1d0a9394d072fcd     10  2020   \n",
       "369968  5f875660afcc5ba542f3f332  5e77a757c55bc12714975c4d     10  2020   \n",
       "369969  5f87582ed5481f4e72e02218  5f4cfc839232473565cfd423     10  2020   \n",
       "369970  5f8757217a5f5d289a90b84a  5e7b8de7a7a5e36f91c7b17b     10  2020   \n",
       "\n",
       "        cohort  first_cohort  \n",
       "0       202005        202005  \n",
       "1       202005        202005  \n",
       "2       202005        202005  \n",
       "3       202005        202005  \n",
       "4       202005        202005  \n",
       "...        ...           ...  \n",
       "369966  202010        202010  \n",
       "369967  202010        202010  \n",
       "369968  202010        202010  \n",
       "369969  202010        202010  \n",
       "369970  202010        202010  \n",
       "\n",
       "[369971 rows x 9 columns]"
      ]
     },
     "execution_count": 28,
     "metadata": {},
     "output_type": "execute_result"
    }
   ],
   "source": [
    "df3"
   ]
  },
  {
   "cell_type": "code",
   "execution_count": 29,
   "metadata": {
    "ExecuteTime": {
     "end_time": "2021-02-02T09:42:08.293395Z",
     "start_time": "2021-02-02T09:42:08.265397Z"
    }
   },
   "outputs": [
    {
     "data": {
      "text/plain": [
       "array(['Restaurant', 'Retail store'], dtype=object)"
      ]
     },
     "execution_count": 29,
     "metadata": {},
     "output_type": "execute_result"
    }
   ],
   "source": [
    "# Define types of product line\n",
    "df3['Product line'].unique()"
   ]
  },
  {
   "cell_type": "code",
   "execution_count": 30,
   "metadata": {
    "ExecuteTime": {
     "end_time": "2021-02-02T09:42:08.324394Z",
     "start_time": "2021-02-02T09:42:08.296396Z"
    }
   },
   "outputs": [],
   "source": [
    "# Call the “value_counts” function on cohorts column and reset the index\n",
    "headers = df3['cohort'].value_counts().reset_index()"
   ]
  },
  {
   "cell_type": "code",
   "execution_count": 31,
   "metadata": {
    "ExecuteTime": {
     "end_time": "2021-02-02T09:42:08.340392Z",
     "start_time": "2021-02-02T09:42:08.327395Z"
    }
   },
   "outputs": [],
   "source": [
    "headers.columns = ['Cohorts', 'Count']"
   ]
  },
  {
   "cell_type": "code",
   "execution_count": 32,
   "metadata": {
    "ExecuteTime": {
     "end_time": "2021-02-02T09:42:08.355398Z",
     "start_time": "2021-02-02T09:42:08.342398Z"
    }
   },
   "outputs": [
    {
     "data": {
      "text/html": [
       "<div>\n",
       "<style scoped>\n",
       "    .dataframe tbody tr th:only-of-type {\n",
       "        vertical-align: middle;\n",
       "    }\n",
       "\n",
       "    .dataframe tbody tr th {\n",
       "        vertical-align: top;\n",
       "    }\n",
       "\n",
       "    .dataframe thead th {\n",
       "        text-align: right;\n",
       "    }\n",
       "</style>\n",
       "<table border=\"1\" class=\"dataframe\">\n",
       "  <thead>\n",
       "    <tr style=\"text-align: right;\">\n",
       "      <th></th>\n",
       "      <th>Cohorts</th>\n",
       "      <th>Count</th>\n",
       "    </tr>\n",
       "  </thead>\n",
       "  <tbody>\n",
       "    <tr>\n",
       "      <th>0</th>\n",
       "      <td>202009</td>\n",
       "      <td>97397</td>\n",
       "    </tr>\n",
       "    <tr>\n",
       "      <th>1</th>\n",
       "      <td>202008</td>\n",
       "      <td>62766</td>\n",
       "    </tr>\n",
       "    <tr>\n",
       "      <th>2</th>\n",
       "      <td>202010</td>\n",
       "      <td>54005</td>\n",
       "    </tr>\n",
       "    <tr>\n",
       "      <th>3</th>\n",
       "      <td>202007</td>\n",
       "      <td>53430</td>\n",
       "    </tr>\n",
       "    <tr>\n",
       "      <th>4</th>\n",
       "      <td>202006</td>\n",
       "      <td>52806</td>\n",
       "    </tr>\n",
       "    <tr>\n",
       "      <th>5</th>\n",
       "      <td>202005</td>\n",
       "      <td>49567</td>\n",
       "    </tr>\n",
       "  </tbody>\n",
       "</table>\n",
       "</div>"
      ],
      "text/plain": [
       "   Cohorts  Count\n",
       "0   202009  97397\n",
       "1   202008  62766\n",
       "2   202010  54005\n",
       "3   202007  53430\n",
       "4   202006  52806\n",
       "5   202005  49567"
      ]
     },
     "execution_count": 32,
     "metadata": {},
     "output_type": "execute_result"
    }
   ],
   "source": [
    "# Result in two columns of all cohorts and the amount occurs\n",
    "headers"
   ]
  },
  {
   "cell_type": "code",
   "execution_count": 33,
   "metadata": {
    "ExecuteTime": {
     "end_time": "2021-02-02T09:42:08.371432Z",
     "start_time": "2021-02-02T09:42:08.358398Z"
    }
   },
   "outputs": [],
   "source": [
    "headers = headers.sort_values(['Cohorts'])['Cohorts'].to_list()"
   ]
  },
  {
   "cell_type": "code",
   "execution_count": 34,
   "metadata": {
    "ExecuteTime": {
     "end_time": "2021-02-02T09:42:08.387395Z",
     "start_time": "2021-02-02T09:42:08.375399Z"
    }
   },
   "outputs": [
    {
     "data": {
      "text/plain": [
       "[202005, 202006, 202007, 202008, 202009, 202010]"
      ]
     },
     "execution_count": 34,
     "metadata": {},
     "output_type": "execute_result"
    }
   ],
   "source": [
    "# Result in an ordered list of cohorts\n",
    "headers"
   ]
  },
  {
   "cell_type": "code",
   "execution_count": 35,
   "metadata": {
    "ExecuteTime": {
     "end_time": "2021-02-02T09:42:26.003018Z",
     "start_time": "2021-02-02T09:42:08.390395Z"
    }
   },
   "outputs": [],
   "source": [
    "# In order to create a cohort analysis, we need to create a DataFrame that has an index of each user’s first month of making a purchase \n",
    "# and the amount of times that the percent that made a purchase in the subsequent months.\n",
    "# Cohort distance will be the amount of months between the current order and the first purchase from the customer\n",
    "df3['cohort_distance'] = df3.apply(lambda row: (headers.index(row['cohort']) - headers.index(row['first_cohort'])) if (row['first_cohort'] != 0 and row['cohort'] != 0)else np.nan, axis=1)"
   ]
  },
  {
   "cell_type": "code",
   "execution_count": 36,
   "metadata": {
    "ExecuteTime": {
     "end_time": "2021-02-02T09:42:26.066053Z",
     "start_time": "2021-02-02T09:42:26.007008Z"
    }
   },
   "outputs": [
    {
     "data": {
      "text/html": [
       "<div>\n",
       "<style scoped>\n",
       "    .dataframe tbody tr th:only-of-type {\n",
       "        vertical-align: middle;\n",
       "    }\n",
       "\n",
       "    .dataframe tbody tr th {\n",
       "        vertical-align: top;\n",
       "    }\n",
       "\n",
       "    .dataframe thead th {\n",
       "        text-align: right;\n",
       "    }\n",
       "</style>\n",
       "<table border=\"1\" class=\"dataframe\">\n",
       "  <thead>\n",
       "    <tr style=\"text-align: right;\">\n",
       "      <th></th>\n",
       "      <th>Purchases Time Delivered</th>\n",
       "      <th>Product line</th>\n",
       "      <th>User ID</th>\n",
       "      <th>Purchase ID</th>\n",
       "      <th>Venue ID</th>\n",
       "      <th>month</th>\n",
       "      <th>year</th>\n",
       "      <th>cohort</th>\n",
       "      <th>first_cohort</th>\n",
       "      <th>cohort_distance</th>\n",
       "    </tr>\n",
       "  </thead>\n",
       "  <tbody>\n",
       "    <tr>\n",
       "      <th>0</th>\n",
       "      <td>2020-05-01</td>\n",
       "      <td>Restaurant</td>\n",
       "      <td>57b48aece14f6d64522f8c5f</td>\n",
       "      <td>5ec6b23c96741b6db6266639</td>\n",
       "      <td>5d7a32a73b546fccd88a05e9</td>\n",
       "      <td>5</td>\n",
       "      <td>2020</td>\n",
       "      <td>202005</td>\n",
       "      <td>202005</td>\n",
       "      <td>0</td>\n",
       "    </tr>\n",
       "    <tr>\n",
       "      <th>1</th>\n",
       "      <td>2020-05-01</td>\n",
       "      <td>Restaurant</td>\n",
       "      <td>59f4803cdf196473b7fc124d</td>\n",
       "      <td>5ec6be1e712a4248e67d2bf0</td>\n",
       "      <td>5cd16542c7420059cc10b792</td>\n",
       "      <td>5</td>\n",
       "      <td>2020</td>\n",
       "      <td>202005</td>\n",
       "      <td>202005</td>\n",
       "      <td>0</td>\n",
       "    </tr>\n",
       "    <tr>\n",
       "      <th>2</th>\n",
       "      <td>2020-05-01</td>\n",
       "      <td>Restaurant</td>\n",
       "      <td>5a427fbbea63d5000aff0ade</td>\n",
       "      <td>5ec7f07674bbff7edcb5be0d</td>\n",
       "      <td>5e7bce9ae360062306b4a233</td>\n",
       "      <td>5</td>\n",
       "      <td>2020</td>\n",
       "      <td>202005</td>\n",
       "      <td>202005</td>\n",
       "      <td>0</td>\n",
       "    </tr>\n",
       "    <tr>\n",
       "      <th>3</th>\n",
       "      <td>2020-05-01</td>\n",
       "      <td>Restaurant</td>\n",
       "      <td>5a8c70b58fac51000b2ca9d8</td>\n",
       "      <td>5eac48651db7a19612824809</td>\n",
       "      <td>5e6ce90a7455f89bbb00be37</td>\n",
       "      <td>5</td>\n",
       "      <td>2020</td>\n",
       "      <td>202005</td>\n",
       "      <td>202005</td>\n",
       "      <td>0</td>\n",
       "    </tr>\n",
       "    <tr>\n",
       "      <th>4</th>\n",
       "      <td>2020-05-01</td>\n",
       "      <td>Restaurant</td>\n",
       "      <td>5a9efa9bab3442000c2ba457</td>\n",
       "      <td>5eca9ed670a4dafe5de07698</td>\n",
       "      <td>5ea18277857aaa1b337ee201</td>\n",
       "      <td>5</td>\n",
       "      <td>2020</td>\n",
       "      <td>202005</td>\n",
       "      <td>202005</td>\n",
       "      <td>0</td>\n",
       "    </tr>\n",
       "    <tr>\n",
       "      <th>...</th>\n",
       "      <td>...</td>\n",
       "      <td>...</td>\n",
       "      <td>...</td>\n",
       "      <td>...</td>\n",
       "      <td>...</td>\n",
       "      <td>...</td>\n",
       "      <td>...</td>\n",
       "      <td>...</td>\n",
       "      <td>...</td>\n",
       "      <td>...</td>\n",
       "    </tr>\n",
       "    <tr>\n",
       "      <th>369966</th>\n",
       "      <td>2020-10-01</td>\n",
       "      <td>Restaurant</td>\n",
       "      <td>5f874372e71892d52313343f</td>\n",
       "      <td>5f8745bfae557239f1cbe4db</td>\n",
       "      <td>5f2d6542365ed912d6c545f2</td>\n",
       "      <td>10</td>\n",
       "      <td>2020</td>\n",
       "      <td>202010</td>\n",
       "      <td>202010</td>\n",
       "      <td>0</td>\n",
       "    </tr>\n",
       "    <tr>\n",
       "      <th>369967</th>\n",
       "      <td>2020-10-01</td>\n",
       "      <td>Restaurant</td>\n",
       "      <td>5f874b92a026a2143bab6e63</td>\n",
       "      <td>5f874fd5e86004c65a133d47</td>\n",
       "      <td>5e6ccb03b1d0a9394d072fcd</td>\n",
       "      <td>10</td>\n",
       "      <td>2020</td>\n",
       "      <td>202010</td>\n",
       "      <td>202010</td>\n",
       "      <td>0</td>\n",
       "    </tr>\n",
       "    <tr>\n",
       "      <th>369968</th>\n",
       "      <td>2020-10-01</td>\n",
       "      <td>Restaurant</td>\n",
       "      <td>5f874e647a7169ef6a023235</td>\n",
       "      <td>5f875660afcc5ba542f3f332</td>\n",
       "      <td>5e77a757c55bc12714975c4d</td>\n",
       "      <td>10</td>\n",
       "      <td>2020</td>\n",
       "      <td>202010</td>\n",
       "      <td>202010</td>\n",
       "      <td>0</td>\n",
       "    </tr>\n",
       "    <tr>\n",
       "      <th>369969</th>\n",
       "      <td>2020-10-01</td>\n",
       "      <td>Restaurant</td>\n",
       "      <td>5f875552c7b1a240baf4cc97</td>\n",
       "      <td>5f87582ed5481f4e72e02218</td>\n",
       "      <td>5f4cfc839232473565cfd423</td>\n",
       "      <td>10</td>\n",
       "      <td>2020</td>\n",
       "      <td>202010</td>\n",
       "      <td>202010</td>\n",
       "      <td>0</td>\n",
       "    </tr>\n",
       "    <tr>\n",
       "      <th>369970</th>\n",
       "      <td>2020-10-01</td>\n",
       "      <td>Restaurant</td>\n",
       "      <td>5f8755d29765e83cf2c7b52a</td>\n",
       "      <td>5f8757217a5f5d289a90b84a</td>\n",
       "      <td>5e7b8de7a7a5e36f91c7b17b</td>\n",
       "      <td>10</td>\n",
       "      <td>2020</td>\n",
       "      <td>202010</td>\n",
       "      <td>202010</td>\n",
       "      <td>0</td>\n",
       "    </tr>\n",
       "  </tbody>\n",
       "</table>\n",
       "<p>369971 rows × 10 columns</p>\n",
       "</div>"
      ],
      "text/plain": [
       "       Purchases Time Delivered Product line                   User ID  \\\n",
       "0                    2020-05-01   Restaurant  57b48aece14f6d64522f8c5f   \n",
       "1                    2020-05-01   Restaurant  59f4803cdf196473b7fc124d   \n",
       "2                    2020-05-01   Restaurant  5a427fbbea63d5000aff0ade   \n",
       "3                    2020-05-01   Restaurant  5a8c70b58fac51000b2ca9d8   \n",
       "4                    2020-05-01   Restaurant  5a9efa9bab3442000c2ba457   \n",
       "...                         ...          ...                       ...   \n",
       "369966               2020-10-01   Restaurant  5f874372e71892d52313343f   \n",
       "369967               2020-10-01   Restaurant  5f874b92a026a2143bab6e63   \n",
       "369968               2020-10-01   Restaurant  5f874e647a7169ef6a023235   \n",
       "369969               2020-10-01   Restaurant  5f875552c7b1a240baf4cc97   \n",
       "369970               2020-10-01   Restaurant  5f8755d29765e83cf2c7b52a   \n",
       "\n",
       "                     Purchase ID                  Venue ID  month  year  \\\n",
       "0       5ec6b23c96741b6db6266639  5d7a32a73b546fccd88a05e9      5  2020   \n",
       "1       5ec6be1e712a4248e67d2bf0  5cd16542c7420059cc10b792      5  2020   \n",
       "2       5ec7f07674bbff7edcb5be0d  5e7bce9ae360062306b4a233      5  2020   \n",
       "3       5eac48651db7a19612824809  5e6ce90a7455f89bbb00be37      5  2020   \n",
       "4       5eca9ed670a4dafe5de07698  5ea18277857aaa1b337ee201      5  2020   \n",
       "...                          ...                       ...    ...   ...   \n",
       "369966  5f8745bfae557239f1cbe4db  5f2d6542365ed912d6c545f2     10  2020   \n",
       "369967  5f874fd5e86004c65a133d47  5e6ccb03b1d0a9394d072fcd     10  2020   \n",
       "369968  5f875660afcc5ba542f3f332  5e77a757c55bc12714975c4d     10  2020   \n",
       "369969  5f87582ed5481f4e72e02218  5f4cfc839232473565cfd423     10  2020   \n",
       "369970  5f8757217a5f5d289a90b84a  5e7b8de7a7a5e36f91c7b17b     10  2020   \n",
       "\n",
       "        cohort  first_cohort  cohort_distance  \n",
       "0       202005        202005                0  \n",
       "1       202005        202005                0  \n",
       "2       202005        202005                0  \n",
       "3       202005        202005                0  \n",
       "4       202005        202005                0  \n",
       "...        ...           ...              ...  \n",
       "369966  202010        202010                0  \n",
       "369967  202010        202010                0  \n",
       "369968  202010        202010                0  \n",
       "369969  202010        202010                0  \n",
       "369970  202010        202010                0  \n",
       "\n",
       "[369971 rows x 10 columns]"
      ]
     },
     "execution_count": 36,
     "metadata": {},
     "output_type": "execute_result"
    }
   ],
   "source": [
    "df3"
   ]
  },
  {
   "cell_type": "markdown",
   "metadata": {},
   "source": [
    "## Cohort based monthly retention for Restaurant product line"
   ]
  },
  {
   "cell_type": "code",
   "execution_count": 37,
   "metadata": {
    "ExecuteTime": {
     "end_time": "2021-02-02T09:42:26.190009Z",
     "start_time": "2021-02-02T09:42:26.073102Z"
    }
   },
   "outputs": [],
   "source": [
    "# Product line for restaurant\n",
    "restaurant=df3[df3['Product line']=='Restaurant']"
   ]
  },
  {
   "cell_type": "code",
   "execution_count": 38,
   "metadata": {
    "ExecuteTime": {
     "end_time": "2021-02-02T09:42:26.236005Z",
     "start_time": "2021-02-02T09:42:26.195013Z"
    }
   },
   "outputs": [
    {
     "data": {
      "text/html": [
       "<div>\n",
       "<style scoped>\n",
       "    .dataframe tbody tr th:only-of-type {\n",
       "        vertical-align: middle;\n",
       "    }\n",
       "\n",
       "    .dataframe tbody tr th {\n",
       "        vertical-align: top;\n",
       "    }\n",
       "\n",
       "    .dataframe thead th {\n",
       "        text-align: right;\n",
       "    }\n",
       "</style>\n",
       "<table border=\"1\" class=\"dataframe\">\n",
       "  <thead>\n",
       "    <tr style=\"text-align: right;\">\n",
       "      <th></th>\n",
       "      <th>Purchases Time Delivered</th>\n",
       "      <th>Product line</th>\n",
       "      <th>User ID</th>\n",
       "      <th>Purchase ID</th>\n",
       "      <th>Venue ID</th>\n",
       "      <th>month</th>\n",
       "      <th>year</th>\n",
       "      <th>cohort</th>\n",
       "      <th>first_cohort</th>\n",
       "      <th>cohort_distance</th>\n",
       "    </tr>\n",
       "  </thead>\n",
       "  <tbody>\n",
       "    <tr>\n",
       "      <th>0</th>\n",
       "      <td>2020-05-01</td>\n",
       "      <td>Restaurant</td>\n",
       "      <td>57b48aece14f6d64522f8c5f</td>\n",
       "      <td>5ec6b23c96741b6db6266639</td>\n",
       "      <td>5d7a32a73b546fccd88a05e9</td>\n",
       "      <td>5</td>\n",
       "      <td>2020</td>\n",
       "      <td>202005</td>\n",
       "      <td>202005</td>\n",
       "      <td>0</td>\n",
       "    </tr>\n",
       "    <tr>\n",
       "      <th>1</th>\n",
       "      <td>2020-05-01</td>\n",
       "      <td>Restaurant</td>\n",
       "      <td>59f4803cdf196473b7fc124d</td>\n",
       "      <td>5ec6be1e712a4248e67d2bf0</td>\n",
       "      <td>5cd16542c7420059cc10b792</td>\n",
       "      <td>5</td>\n",
       "      <td>2020</td>\n",
       "      <td>202005</td>\n",
       "      <td>202005</td>\n",
       "      <td>0</td>\n",
       "    </tr>\n",
       "    <tr>\n",
       "      <th>2</th>\n",
       "      <td>2020-05-01</td>\n",
       "      <td>Restaurant</td>\n",
       "      <td>5a427fbbea63d5000aff0ade</td>\n",
       "      <td>5ec7f07674bbff7edcb5be0d</td>\n",
       "      <td>5e7bce9ae360062306b4a233</td>\n",
       "      <td>5</td>\n",
       "      <td>2020</td>\n",
       "      <td>202005</td>\n",
       "      <td>202005</td>\n",
       "      <td>0</td>\n",
       "    </tr>\n",
       "    <tr>\n",
       "      <th>3</th>\n",
       "      <td>2020-05-01</td>\n",
       "      <td>Restaurant</td>\n",
       "      <td>5a8c70b58fac51000b2ca9d8</td>\n",
       "      <td>5eac48651db7a19612824809</td>\n",
       "      <td>5e6ce90a7455f89bbb00be37</td>\n",
       "      <td>5</td>\n",
       "      <td>2020</td>\n",
       "      <td>202005</td>\n",
       "      <td>202005</td>\n",
       "      <td>0</td>\n",
       "    </tr>\n",
       "    <tr>\n",
       "      <th>4</th>\n",
       "      <td>2020-05-01</td>\n",
       "      <td>Restaurant</td>\n",
       "      <td>5a9efa9bab3442000c2ba457</td>\n",
       "      <td>5eca9ed670a4dafe5de07698</td>\n",
       "      <td>5ea18277857aaa1b337ee201</td>\n",
       "      <td>5</td>\n",
       "      <td>2020</td>\n",
       "      <td>202005</td>\n",
       "      <td>202005</td>\n",
       "      <td>0</td>\n",
       "    </tr>\n",
       "    <tr>\n",
       "      <th>...</th>\n",
       "      <td>...</td>\n",
       "      <td>...</td>\n",
       "      <td>...</td>\n",
       "      <td>...</td>\n",
       "      <td>...</td>\n",
       "      <td>...</td>\n",
       "      <td>...</td>\n",
       "      <td>...</td>\n",
       "      <td>...</td>\n",
       "      <td>...</td>\n",
       "    </tr>\n",
       "    <tr>\n",
       "      <th>369966</th>\n",
       "      <td>2020-10-01</td>\n",
       "      <td>Restaurant</td>\n",
       "      <td>5f874372e71892d52313343f</td>\n",
       "      <td>5f8745bfae557239f1cbe4db</td>\n",
       "      <td>5f2d6542365ed912d6c545f2</td>\n",
       "      <td>10</td>\n",
       "      <td>2020</td>\n",
       "      <td>202010</td>\n",
       "      <td>202010</td>\n",
       "      <td>0</td>\n",
       "    </tr>\n",
       "    <tr>\n",
       "      <th>369967</th>\n",
       "      <td>2020-10-01</td>\n",
       "      <td>Restaurant</td>\n",
       "      <td>5f874b92a026a2143bab6e63</td>\n",
       "      <td>5f874fd5e86004c65a133d47</td>\n",
       "      <td>5e6ccb03b1d0a9394d072fcd</td>\n",
       "      <td>10</td>\n",
       "      <td>2020</td>\n",
       "      <td>202010</td>\n",
       "      <td>202010</td>\n",
       "      <td>0</td>\n",
       "    </tr>\n",
       "    <tr>\n",
       "      <th>369968</th>\n",
       "      <td>2020-10-01</td>\n",
       "      <td>Restaurant</td>\n",
       "      <td>5f874e647a7169ef6a023235</td>\n",
       "      <td>5f875660afcc5ba542f3f332</td>\n",
       "      <td>5e77a757c55bc12714975c4d</td>\n",
       "      <td>10</td>\n",
       "      <td>2020</td>\n",
       "      <td>202010</td>\n",
       "      <td>202010</td>\n",
       "      <td>0</td>\n",
       "    </tr>\n",
       "    <tr>\n",
       "      <th>369969</th>\n",
       "      <td>2020-10-01</td>\n",
       "      <td>Restaurant</td>\n",
       "      <td>5f875552c7b1a240baf4cc97</td>\n",
       "      <td>5f87582ed5481f4e72e02218</td>\n",
       "      <td>5f4cfc839232473565cfd423</td>\n",
       "      <td>10</td>\n",
       "      <td>2020</td>\n",
       "      <td>202010</td>\n",
       "      <td>202010</td>\n",
       "      <td>0</td>\n",
       "    </tr>\n",
       "    <tr>\n",
       "      <th>369970</th>\n",
       "      <td>2020-10-01</td>\n",
       "      <td>Restaurant</td>\n",
       "      <td>5f8755d29765e83cf2c7b52a</td>\n",
       "      <td>5f8757217a5f5d289a90b84a</td>\n",
       "      <td>5e7b8de7a7a5e36f91c7b17b</td>\n",
       "      <td>10</td>\n",
       "      <td>2020</td>\n",
       "      <td>202010</td>\n",
       "      <td>202010</td>\n",
       "      <td>0</td>\n",
       "    </tr>\n",
       "  </tbody>\n",
       "</table>\n",
       "<p>358743 rows × 10 columns</p>\n",
       "</div>"
      ],
      "text/plain": [
       "       Purchases Time Delivered Product line                   User ID  \\\n",
       "0                    2020-05-01   Restaurant  57b48aece14f6d64522f8c5f   \n",
       "1                    2020-05-01   Restaurant  59f4803cdf196473b7fc124d   \n",
       "2                    2020-05-01   Restaurant  5a427fbbea63d5000aff0ade   \n",
       "3                    2020-05-01   Restaurant  5a8c70b58fac51000b2ca9d8   \n",
       "4                    2020-05-01   Restaurant  5a9efa9bab3442000c2ba457   \n",
       "...                         ...          ...                       ...   \n",
       "369966               2020-10-01   Restaurant  5f874372e71892d52313343f   \n",
       "369967               2020-10-01   Restaurant  5f874b92a026a2143bab6e63   \n",
       "369968               2020-10-01   Restaurant  5f874e647a7169ef6a023235   \n",
       "369969               2020-10-01   Restaurant  5f875552c7b1a240baf4cc97   \n",
       "369970               2020-10-01   Restaurant  5f8755d29765e83cf2c7b52a   \n",
       "\n",
       "                     Purchase ID                  Venue ID  month  year  \\\n",
       "0       5ec6b23c96741b6db6266639  5d7a32a73b546fccd88a05e9      5  2020   \n",
       "1       5ec6be1e712a4248e67d2bf0  5cd16542c7420059cc10b792      5  2020   \n",
       "2       5ec7f07674bbff7edcb5be0d  5e7bce9ae360062306b4a233      5  2020   \n",
       "3       5eac48651db7a19612824809  5e6ce90a7455f89bbb00be37      5  2020   \n",
       "4       5eca9ed670a4dafe5de07698  5ea18277857aaa1b337ee201      5  2020   \n",
       "...                          ...                       ...    ...   ...   \n",
       "369966  5f8745bfae557239f1cbe4db  5f2d6542365ed912d6c545f2     10  2020   \n",
       "369967  5f874fd5e86004c65a133d47  5e6ccb03b1d0a9394d072fcd     10  2020   \n",
       "369968  5f875660afcc5ba542f3f332  5e77a757c55bc12714975c4d     10  2020   \n",
       "369969  5f87582ed5481f4e72e02218  5f4cfc839232473565cfd423     10  2020   \n",
       "369970  5f8757217a5f5d289a90b84a  5e7b8de7a7a5e36f91c7b17b     10  2020   \n",
       "\n",
       "        cohort  first_cohort  cohort_distance  \n",
       "0       202005        202005                0  \n",
       "1       202005        202005                0  \n",
       "2       202005        202005                0  \n",
       "3       202005        202005                0  \n",
       "4       202005        202005                0  \n",
       "...        ...           ...              ...  \n",
       "369966  202010        202010                0  \n",
       "369967  202010        202010                0  \n",
       "369968  202010        202010                0  \n",
       "369969  202010        202010                0  \n",
       "369970  202010        202010                0  \n",
       "\n",
       "[358743 rows x 10 columns]"
      ]
     },
     "execution_count": 38,
     "metadata": {},
     "output_type": "execute_result"
    }
   ],
   "source": [
    "restaurant"
   ]
  },
  {
   "cell_type": "code",
   "execution_count": 39,
   "metadata": {
    "ExecuteTime": {
     "end_time": "2021-02-02T09:42:26.251007Z",
     "start_time": "2021-02-02T09:42:26.239009Z"
    }
   },
   "outputs": [
    {
     "data": {
      "text/plain": [
       "array([0, 1, 2, 3, 5, 4], dtype=int64)"
      ]
     },
     "execution_count": 39,
     "metadata": {},
     "output_type": "execute_result"
    }
   ],
   "source": [
    "restaurant['cohort_distance'].unique()"
   ]
  },
  {
   "cell_type": "code",
   "execution_count": 40,
   "metadata": {
    "ExecuteTime": {
     "end_time": "2021-02-02T09:42:26.455004Z",
     "start_time": "2021-02-02T09:42:26.253007Z"
    }
   },
   "outputs": [],
   "source": [
    "# Create a DataFrame that has its rows mark the first purchase cohort while the columns are the months since. \n",
    "# The values inside will signify how many customers from that cohort purchases in that period. \n",
    "# The first column will always be the largest.\n",
    "cohort_pivot_restaurant = pd.pivot_table(restaurant, index='first_cohort', columns='cohort_distance', values='User ID', aggfunc=pd.Series.nunique)"
   ]
  },
  {
   "cell_type": "code",
   "execution_count": 41,
   "metadata": {
    "ExecuteTime": {
     "end_time": "2021-02-02T09:42:26.486004Z",
     "start_time": "2021-02-02T09:42:26.458010Z"
    }
   },
   "outputs": [
    {
     "data": {
      "text/html": [
       "<div>\n",
       "<style scoped>\n",
       "    .dataframe tbody tr th:only-of-type {\n",
       "        vertical-align: middle;\n",
       "    }\n",
       "\n",
       "    .dataframe tbody tr th {\n",
       "        vertical-align: top;\n",
       "    }\n",
       "\n",
       "    .dataframe thead th {\n",
       "        text-align: right;\n",
       "    }\n",
       "</style>\n",
       "<table border=\"1\" class=\"dataframe\">\n",
       "  <thead>\n",
       "    <tr style=\"text-align: right;\">\n",
       "      <th>cohort_distance</th>\n",
       "      <th>0</th>\n",
       "      <th>1</th>\n",
       "      <th>2</th>\n",
       "      <th>3</th>\n",
       "      <th>4</th>\n",
       "      <th>5</th>\n",
       "    </tr>\n",
       "    <tr>\n",
       "      <th>first_cohort</th>\n",
       "      <th></th>\n",
       "      <th></th>\n",
       "      <th></th>\n",
       "      <th></th>\n",
       "      <th></th>\n",
       "      <th></th>\n",
       "    </tr>\n",
       "  </thead>\n",
       "  <tbody>\n",
       "    <tr>\n",
       "      <th>202005</th>\n",
       "      <td>16874.0</td>\n",
       "      <td>6107.0</td>\n",
       "      <td>4766.0</td>\n",
       "      <td>4483.0</td>\n",
       "      <td>4753.0</td>\n",
       "      <td>3446.0</td>\n",
       "    </tr>\n",
       "    <tr>\n",
       "      <th>202006</th>\n",
       "      <td>11280.0</td>\n",
       "      <td>3955.0</td>\n",
       "      <td>3369.0</td>\n",
       "      <td>3309.0</td>\n",
       "      <td>2299.0</td>\n",
       "      <td>NaN</td>\n",
       "    </tr>\n",
       "    <tr>\n",
       "      <th>202007</th>\n",
       "      <td>9140.0</td>\n",
       "      <td>3042.0</td>\n",
       "      <td>2731.0</td>\n",
       "      <td>1916.0</td>\n",
       "      <td>NaN</td>\n",
       "      <td>NaN</td>\n",
       "    </tr>\n",
       "    <tr>\n",
       "      <th>202008</th>\n",
       "      <td>9938.0</td>\n",
       "      <td>3436.0</td>\n",
       "      <td>2205.0</td>\n",
       "      <td>NaN</td>\n",
       "      <td>NaN</td>\n",
       "      <td>NaN</td>\n",
       "    </tr>\n",
       "    <tr>\n",
       "      <th>202009</th>\n",
       "      <td>16259.0</td>\n",
       "      <td>4669.0</td>\n",
       "      <td>NaN</td>\n",
       "      <td>NaN</td>\n",
       "      <td>NaN</td>\n",
       "      <td>NaN</td>\n",
       "    </tr>\n",
       "    <tr>\n",
       "      <th>202010</th>\n",
       "      <td>7838.0</td>\n",
       "      <td>NaN</td>\n",
       "      <td>NaN</td>\n",
       "      <td>NaN</td>\n",
       "      <td>NaN</td>\n",
       "      <td>NaN</td>\n",
       "    </tr>\n",
       "  </tbody>\n",
       "</table>\n",
       "</div>"
      ],
      "text/plain": [
       "cohort_distance        0       1       2       3       4       5\n",
       "first_cohort                                                    \n",
       "202005           16874.0  6107.0  4766.0  4483.0  4753.0  3446.0\n",
       "202006           11280.0  3955.0  3369.0  3309.0  2299.0     NaN\n",
       "202007            9140.0  3042.0  2731.0  1916.0     NaN     NaN\n",
       "202008            9938.0  3436.0  2205.0     NaN     NaN     NaN\n",
       "202009           16259.0  4669.0     NaN     NaN     NaN     NaN\n",
       "202010            7838.0     NaN     NaN     NaN     NaN     NaN"
      ]
     },
     "execution_count": 41,
     "metadata": {},
     "output_type": "execute_result"
    }
   ],
   "source": [
    "# Pivot_table method allows us to pivot our data so that we can calculate the amount of unique customers \n",
    "# in each cohort based on that purchases distance from their first purchase in months.\n",
    "cohort_pivot_restaurant"
   ]
  },
  {
   "cell_type": "code",
   "execution_count": 42,
   "metadata": {
    "ExecuteTime": {
     "end_time": "2021-02-02T09:42:26.501005Z",
     "start_time": "2021-02-02T09:42:26.489008Z"
    }
   },
   "outputs": [],
   "source": [
    "# Divide each row by the first column \n",
    "# so that we can have a percentage of the customers that have returned from that cohort to make a purchase\n",
    "# by using the div function\n",
    "cohort_pivot_restaurant = cohort_pivot_restaurant.div(cohort_pivot_restaurant[0],axis=0)"
   ]
  },
  {
   "cell_type": "code",
   "execution_count": 43,
   "metadata": {
    "ExecuteTime": {
     "end_time": "2021-02-02T09:42:26.532007Z",
     "start_time": "2021-02-02T09:42:26.503012Z"
    }
   },
   "outputs": [
    {
     "data": {
      "text/html": [
       "<div>\n",
       "<style scoped>\n",
       "    .dataframe tbody tr th:only-of-type {\n",
       "        vertical-align: middle;\n",
       "    }\n",
       "\n",
       "    .dataframe tbody tr th {\n",
       "        vertical-align: top;\n",
       "    }\n",
       "\n",
       "    .dataframe thead th {\n",
       "        text-align: right;\n",
       "    }\n",
       "</style>\n",
       "<table border=\"1\" class=\"dataframe\">\n",
       "  <thead>\n",
       "    <tr style=\"text-align: right;\">\n",
       "      <th>cohort_distance</th>\n",
       "      <th>0</th>\n",
       "      <th>1</th>\n",
       "      <th>2</th>\n",
       "      <th>3</th>\n",
       "      <th>4</th>\n",
       "      <th>5</th>\n",
       "    </tr>\n",
       "    <tr>\n",
       "      <th>first_cohort</th>\n",
       "      <th></th>\n",
       "      <th></th>\n",
       "      <th></th>\n",
       "      <th></th>\n",
       "      <th></th>\n",
       "      <th></th>\n",
       "    </tr>\n",
       "  </thead>\n",
       "  <tbody>\n",
       "    <tr>\n",
       "      <th>202005</th>\n",
       "      <td>1.0</td>\n",
       "      <td>0.361918</td>\n",
       "      <td>0.282446</td>\n",
       "      <td>0.265675</td>\n",
       "      <td>0.281676</td>\n",
       "      <td>0.20422</td>\n",
       "    </tr>\n",
       "    <tr>\n",
       "      <th>202006</th>\n",
       "      <td>1.0</td>\n",
       "      <td>0.350621</td>\n",
       "      <td>0.298670</td>\n",
       "      <td>0.293351</td>\n",
       "      <td>0.203812</td>\n",
       "      <td>NaN</td>\n",
       "    </tr>\n",
       "    <tr>\n",
       "      <th>202007</th>\n",
       "      <td>1.0</td>\n",
       "      <td>0.332823</td>\n",
       "      <td>0.298796</td>\n",
       "      <td>0.209628</td>\n",
       "      <td>NaN</td>\n",
       "      <td>NaN</td>\n",
       "    </tr>\n",
       "    <tr>\n",
       "      <th>202008</th>\n",
       "      <td>1.0</td>\n",
       "      <td>0.345744</td>\n",
       "      <td>0.221876</td>\n",
       "      <td>NaN</td>\n",
       "      <td>NaN</td>\n",
       "      <td>NaN</td>\n",
       "    </tr>\n",
       "    <tr>\n",
       "      <th>202009</th>\n",
       "      <td>1.0</td>\n",
       "      <td>0.287164</td>\n",
       "      <td>NaN</td>\n",
       "      <td>NaN</td>\n",
       "      <td>NaN</td>\n",
       "      <td>NaN</td>\n",
       "    </tr>\n",
       "    <tr>\n",
       "      <th>202010</th>\n",
       "      <td>1.0</td>\n",
       "      <td>NaN</td>\n",
       "      <td>NaN</td>\n",
       "      <td>NaN</td>\n",
       "      <td>NaN</td>\n",
       "      <td>NaN</td>\n",
       "    </tr>\n",
       "  </tbody>\n",
       "</table>\n",
       "</div>"
      ],
      "text/plain": [
       "cohort_distance    0         1         2         3         4        5\n",
       "first_cohort                                                         \n",
       "202005           1.0  0.361918  0.282446  0.265675  0.281676  0.20422\n",
       "202006           1.0  0.350621  0.298670  0.293351  0.203812      NaN\n",
       "202007           1.0  0.332823  0.298796  0.209628       NaN      NaN\n",
       "202008           1.0  0.345744  0.221876       NaN       NaN      NaN\n",
       "202009           1.0  0.287164       NaN       NaN       NaN      NaN\n",
       "202010           1.0       NaN       NaN       NaN       NaN      NaN"
      ]
     },
     "execution_count": 43,
     "metadata": {},
     "output_type": "execute_result"
    }
   ],
   "source": [
    "cohort_pivot_restaurant"
   ]
  },
  {
   "cell_type": "code",
   "execution_count": 115,
   "metadata": {
    "ExecuteTime": {
     "end_time": "2021-02-03T10:28:44.454798Z",
     "start_time": "2021-02-03T10:28:44.126836Z"
    }
   },
   "outputs": [
    {
     "data": {
      "image/png": "[encoded data removed]",
      "text/plain": [
       "<Figure size 864x720 with 2 Axes>"
      ]
     },
     "metadata": {},
     "output_type": "display_data"
    }
   ],
   "source": [
    "# Heatmap out of cohort analysis\n",
    "fig, ax = plt.subplots(figsize=(12,10))\n",
    "y_labels = [str(int(header)%100) + '-' + str(int(header)/100) for header in headers]\n",
    "x_labels = range(0, len(y_labels))\n",
    "plt.yticks(ticks=headers, labels=y_labels)\n",
    "plt.xticks(x_labels, x_labels)\n",
    "ax.set(xlabel='Months After First Purchase', ylabel='First Purchase Cohort', title=\"Cohort Analysis Restaurant\")\n",
    "sns.heatmap(cohort_pivot_restaurant, annot=True, fmt='.0%', mask=cohort_pivot_restaurant.isnull(), ax=ax, square=True, linewidths=.5, cmap=sns.cubehelix_palette(8))\n",
    "\n",
    "plt.show()"
   ]
  },
  {
   "cell_type": "markdown",
   "metadata": {},
   "source": [
    "In the restaurant field, all types of customer tend to order less in the next few months. <br>\n",
    "I assume that the price for food from restaurants are more expensive and maybe less discount season.<br>\n",
    "Another reason would be shipping fee due to a further location from restaurant to customer's address"
   ]
  },
  {
   "cell_type": "markdown",
   "metadata": {},
   "source": [
    "## Cohort based monthly retention for Retail product line"
   ]
  },
  {
   "cell_type": "code",
   "execution_count": 45,
   "metadata": {
    "ExecuteTime": {
     "end_time": "2021-02-02T09:42:27.849151Z",
     "start_time": "2021-02-02T09:42:27.805151Z"
    }
   },
   "outputs": [],
   "source": [
    "# Product line for retail store\n",
    "retail=df3[df3['Product line']=='Retail store']"
   ]
  },
  {
   "cell_type": "code",
   "execution_count": 46,
   "metadata": {
    "ExecuteTime": {
     "end_time": "2021-02-02T09:42:27.881154Z",
     "start_time": "2021-02-02T09:42:27.851165Z"
    }
   },
   "outputs": [
    {
     "data": {
      "text/html": [
       "<div>\n",
       "<style scoped>\n",
       "    .dataframe tbody tr th:only-of-type {\n",
       "        vertical-align: middle;\n",
       "    }\n",
       "\n",
       "    .dataframe tbody tr th {\n",
       "        vertical-align: top;\n",
       "    }\n",
       "\n",
       "    .dataframe thead th {\n",
       "        text-align: right;\n",
       "    }\n",
       "</style>\n",
       "<table border=\"1\" class=\"dataframe\">\n",
       "  <thead>\n",
       "    <tr style=\"text-align: right;\">\n",
       "      <th></th>\n",
       "      <th>Purchases Time Delivered</th>\n",
       "      <th>Product line</th>\n",
       "      <th>User ID</th>\n",
       "      <th>Purchase ID</th>\n",
       "      <th>Venue ID</th>\n",
       "      <th>month</th>\n",
       "      <th>year</th>\n",
       "      <th>cohort</th>\n",
       "      <th>first_cohort</th>\n",
       "      <th>cohort_distance</th>\n",
       "    </tr>\n",
       "  </thead>\n",
       "  <tbody>\n",
       "    <tr>\n",
       "      <th>70</th>\n",
       "      <td>2020-05-01</td>\n",
       "      <td>Retail store</td>\n",
       "      <td>5b28db0f7a8472000abda645</td>\n",
       "      <td>5ebeb46426cab35aa85405fb</td>\n",
       "      <td>5cd4307fcb5b91c9618a38a5</td>\n",
       "      <td>5</td>\n",
       "      <td>2020</td>\n",
       "      <td>202005</td>\n",
       "      <td>202005</td>\n",
       "      <td>0</td>\n",
       "    </tr>\n",
       "    <tr>\n",
       "      <th>104</th>\n",
       "      <td>2020-05-01</td>\n",
       "      <td>Retail store</td>\n",
       "      <td>5b3f27a7a877e4000bcdd4b4</td>\n",
       "      <td>5ec65d89fb9a2f43bc714441</td>\n",
       "      <td>5ebc105f7ffe55a986c9c53a</td>\n",
       "      <td>5</td>\n",
       "      <td>2020</td>\n",
       "      <td>202005</td>\n",
       "      <td>202005</td>\n",
       "      <td>0</td>\n",
       "    </tr>\n",
       "    <tr>\n",
       "      <th>304</th>\n",
       "      <td>2020-05-01</td>\n",
       "      <td>Retail store</td>\n",
       "      <td>5b796e7e3e727c000a1e6f71</td>\n",
       "      <td>5eafd34766113bbf2fc1cadf</td>\n",
       "      <td>5cd4307fcb5b91c9618a38a5</td>\n",
       "      <td>5</td>\n",
       "      <td>2020</td>\n",
       "      <td>202005</td>\n",
       "      <td>202005</td>\n",
       "      <td>0</td>\n",
       "    </tr>\n",
       "    <tr>\n",
       "      <th>314</th>\n",
       "      <td>2020-05-01</td>\n",
       "      <td>Retail store</td>\n",
       "      <td>5b7d8b166eeb6e00094c69e7</td>\n",
       "      <td>5ec186d81bd84e3c57f9c5d9</td>\n",
       "      <td>5e73cb5d891277fa4aa54e24</td>\n",
       "      <td>5</td>\n",
       "      <td>2020</td>\n",
       "      <td>202005</td>\n",
       "      <td>202005</td>\n",
       "      <td>0</td>\n",
       "    </tr>\n",
       "    <tr>\n",
       "      <th>376</th>\n",
       "      <td>2020-05-01</td>\n",
       "      <td>Retail store</td>\n",
       "      <td>5b8ffa55d17edb000ca36b4e</td>\n",
       "      <td>5eb3c8370d03e88142044500</td>\n",
       "      <td>5e7357143df80dcb8ccc5494</td>\n",
       "      <td>5</td>\n",
       "      <td>2020</td>\n",
       "      <td>202005</td>\n",
       "      <td>202005</td>\n",
       "      <td>0</td>\n",
       "    </tr>\n",
       "    <tr>\n",
       "      <th>...</th>\n",
       "      <td>...</td>\n",
       "      <td>...</td>\n",
       "      <td>...</td>\n",
       "      <td>...</td>\n",
       "      <td>...</td>\n",
       "      <td>...</td>\n",
       "      <td>...</td>\n",
       "      <td>...</td>\n",
       "      <td>...</td>\n",
       "      <td>...</td>\n",
       "    </tr>\n",
       "    <tr>\n",
       "      <th>369565</th>\n",
       "      <td>2020-10-01</td>\n",
       "      <td>Retail store</td>\n",
       "      <td>5f859dedb9aba42d12676d48</td>\n",
       "      <td>5f85ba652239d4d7258cbc60</td>\n",
       "      <td>5e73cb5d891277fa4aa54e24</td>\n",
       "      <td>10</td>\n",
       "      <td>2020</td>\n",
       "      <td>202010</td>\n",
       "      <td>202010</td>\n",
       "      <td>0</td>\n",
       "    </tr>\n",
       "    <tr>\n",
       "      <th>369636</th>\n",
       "      <td>2020-10-01</td>\n",
       "      <td>Retail store</td>\n",
       "      <td>5f85cf7dd2e602d4b45d2cce</td>\n",
       "      <td>5f8729647ccb7de6c66c3f34</td>\n",
       "      <td>5e73cb5d891277fa4aa54e24</td>\n",
       "      <td>10</td>\n",
       "      <td>2020</td>\n",
       "      <td>202010</td>\n",
       "      <td>202010</td>\n",
       "      <td>0</td>\n",
       "    </tr>\n",
       "    <tr>\n",
       "      <th>369649</th>\n",
       "      <td>2020-10-01</td>\n",
       "      <td>Retail store</td>\n",
       "      <td>5f85d46ce092f8028962d76a</td>\n",
       "      <td>5f86fed2629cfe4db11d036f</td>\n",
       "      <td>5ea2e5166a0b5ae76f4d3c21</td>\n",
       "      <td>10</td>\n",
       "      <td>2020</td>\n",
       "      <td>202010</td>\n",
       "      <td>202010</td>\n",
       "      <td>0</td>\n",
       "    </tr>\n",
       "    <tr>\n",
       "      <th>369866</th>\n",
       "      <td>2020-10-01</td>\n",
       "      <td>Retail store</td>\n",
       "      <td>5f87027440cb30e327ce24c6</td>\n",
       "      <td>5f8703ff3acebf25456c2e16</td>\n",
       "      <td>5ecd33c7c9f93bac27626c62</td>\n",
       "      <td>10</td>\n",
       "      <td>2020</td>\n",
       "      <td>202010</td>\n",
       "      <td>202010</td>\n",
       "      <td>0</td>\n",
       "    </tr>\n",
       "    <tr>\n",
       "      <th>369913</th>\n",
       "      <td>2020-10-01</td>\n",
       "      <td>Retail store</td>\n",
       "      <td>5f8721f9014be001ff1d12a5</td>\n",
       "      <td>5f87276f80cb0ff3271a47e8</td>\n",
       "      <td>5f2d15d601afb21ec6c0dfdf</td>\n",
       "      <td>10</td>\n",
       "      <td>2020</td>\n",
       "      <td>202010</td>\n",
       "      <td>202010</td>\n",
       "      <td>0</td>\n",
       "    </tr>\n",
       "  </tbody>\n",
       "</table>\n",
       "<p>11228 rows × 10 columns</p>\n",
       "</div>"
      ],
      "text/plain": [
       "       Purchases Time Delivered  Product line                   User ID  \\\n",
       "70                   2020-05-01  Retail store  5b28db0f7a8472000abda645   \n",
       "104                  2020-05-01  Retail store  5b3f27a7a877e4000bcdd4b4   \n",
       "304                  2020-05-01  Retail store  5b796e7e3e727c000a1e6f71   \n",
       "314                  2020-05-01  Retail store  5b7d8b166eeb6e00094c69e7   \n",
       "376                  2020-05-01  Retail store  5b8ffa55d17edb000ca36b4e   \n",
       "...                         ...           ...                       ...   \n",
       "369565               2020-10-01  Retail store  5f859dedb9aba42d12676d48   \n",
       "369636               2020-10-01  Retail store  5f85cf7dd2e602d4b45d2cce   \n",
       "369649               2020-10-01  Retail store  5f85d46ce092f8028962d76a   \n",
       "369866               2020-10-01  Retail store  5f87027440cb30e327ce24c6   \n",
       "369913               2020-10-01  Retail store  5f8721f9014be001ff1d12a5   \n",
       "\n",
       "                     Purchase ID                  Venue ID  month  year  \\\n",
       "70      5ebeb46426cab35aa85405fb  5cd4307fcb5b91c9618a38a5      5  2020   \n",
       "104     5ec65d89fb9a2f43bc714441  5ebc105f7ffe55a986c9c53a      5  2020   \n",
       "304     5eafd34766113bbf2fc1cadf  5cd4307fcb5b91c9618a38a5      5  2020   \n",
       "314     5ec186d81bd84e3c57f9c5d9  5e73cb5d891277fa4aa54e24      5  2020   \n",
       "376     5eb3c8370d03e88142044500  5e7357143df80dcb8ccc5494      5  2020   \n",
       "...                          ...                       ...    ...   ...   \n",
       "369565  5f85ba652239d4d7258cbc60  5e73cb5d891277fa4aa54e24     10  2020   \n",
       "369636  5f8729647ccb7de6c66c3f34  5e73cb5d891277fa4aa54e24     10  2020   \n",
       "369649  5f86fed2629cfe4db11d036f  5ea2e5166a0b5ae76f4d3c21     10  2020   \n",
       "369866  5f8703ff3acebf25456c2e16  5ecd33c7c9f93bac27626c62     10  2020   \n",
       "369913  5f87276f80cb0ff3271a47e8  5f2d15d601afb21ec6c0dfdf     10  2020   \n",
       "\n",
       "        cohort  first_cohort  cohort_distance  \n",
       "70      202005        202005                0  \n",
       "104     202005        202005                0  \n",
       "304     202005        202005                0  \n",
       "314     202005        202005                0  \n",
       "376     202005        202005                0  \n",
       "...        ...           ...              ...  \n",
       "369565  202010        202010                0  \n",
       "369636  202010        202010                0  \n",
       "369649  202010        202010                0  \n",
       "369866  202010        202010                0  \n",
       "369913  202010        202010                0  \n",
       "\n",
       "[11228 rows x 10 columns]"
      ]
     },
     "execution_count": 46,
     "metadata": {},
     "output_type": "execute_result"
    }
   ],
   "source": [
    "retail"
   ]
  },
  {
   "cell_type": "code",
   "execution_count": 47,
   "metadata": {
    "ExecuteTime": {
     "end_time": "2021-02-02T09:42:27.897152Z",
     "start_time": "2021-02-02T09:42:27.884152Z"
    }
   },
   "outputs": [
    {
     "data": {
      "text/plain": [
       "array([0, 1, 2, 3, 4, 5], dtype=int64)"
      ]
     },
     "execution_count": 47,
     "metadata": {},
     "output_type": "execute_result"
    }
   ],
   "source": [
    "retail['cohort_distance'].unique()"
   ]
  },
  {
   "cell_type": "code",
   "execution_count": 48,
   "metadata": {
    "ExecuteTime": {
     "end_time": "2021-02-02T09:42:27.943151Z",
     "start_time": "2021-02-02T09:42:27.900158Z"
    }
   },
   "outputs": [],
   "source": [
    "cohort_pivot_retail = pd.pivot_table(retail, index='first_cohort', columns='cohort_distance', values='User ID', aggfunc=pd.Series.nunique)"
   ]
  },
  {
   "cell_type": "code",
   "execution_count": 49,
   "metadata": {
    "ExecuteTime": {
     "end_time": "2021-02-02T09:42:27.974152Z",
     "start_time": "2021-02-02T09:42:27.945152Z"
    }
   },
   "outputs": [
    {
     "data": {
      "text/html": [
       "<div>\n",
       "<style scoped>\n",
       "    .dataframe tbody tr th:only-of-type {\n",
       "        vertical-align: middle;\n",
       "    }\n",
       "\n",
       "    .dataframe tbody tr th {\n",
       "        vertical-align: top;\n",
       "    }\n",
       "\n",
       "    .dataframe thead th {\n",
       "        text-align: right;\n",
       "    }\n",
       "</style>\n",
       "<table border=\"1\" class=\"dataframe\">\n",
       "  <thead>\n",
       "    <tr style=\"text-align: right;\">\n",
       "      <th>cohort_distance</th>\n",
       "      <th>0</th>\n",
       "      <th>1</th>\n",
       "      <th>2</th>\n",
       "      <th>3</th>\n",
       "      <th>4</th>\n",
       "      <th>5</th>\n",
       "    </tr>\n",
       "    <tr>\n",
       "      <th>first_cohort</th>\n",
       "      <th></th>\n",
       "      <th></th>\n",
       "      <th></th>\n",
       "      <th></th>\n",
       "      <th></th>\n",
       "      <th></th>\n",
       "    </tr>\n",
       "  </thead>\n",
       "  <tbody>\n",
       "    <tr>\n",
       "      <th>202005</th>\n",
       "      <td>1034.0</td>\n",
       "      <td>296.0</td>\n",
       "      <td>208.0</td>\n",
       "      <td>188.0</td>\n",
       "      <td>231.0</td>\n",
       "      <td>170.0</td>\n",
       "    </tr>\n",
       "    <tr>\n",
       "      <th>202006</th>\n",
       "      <td>643.0</td>\n",
       "      <td>170.0</td>\n",
       "      <td>148.0</td>\n",
       "      <td>180.0</td>\n",
       "      <td>100.0</td>\n",
       "      <td>NaN</td>\n",
       "    </tr>\n",
       "    <tr>\n",
       "      <th>202007</th>\n",
       "      <td>430.0</td>\n",
       "      <td>133.0</td>\n",
       "      <td>134.0</td>\n",
       "      <td>60.0</td>\n",
       "      <td>NaN</td>\n",
       "      <td>NaN</td>\n",
       "    </tr>\n",
       "    <tr>\n",
       "      <th>202008</th>\n",
       "      <td>544.0</td>\n",
       "      <td>202.0</td>\n",
       "      <td>87.0</td>\n",
       "      <td>NaN</td>\n",
       "      <td>NaN</td>\n",
       "      <td>NaN</td>\n",
       "    </tr>\n",
       "    <tr>\n",
       "      <th>202009</th>\n",
       "      <td>873.0</td>\n",
       "      <td>195.0</td>\n",
       "      <td>NaN</td>\n",
       "      <td>NaN</td>\n",
       "      <td>NaN</td>\n",
       "      <td>NaN</td>\n",
       "    </tr>\n",
       "    <tr>\n",
       "      <th>202010</th>\n",
       "      <td>305.0</td>\n",
       "      <td>NaN</td>\n",
       "      <td>NaN</td>\n",
       "      <td>NaN</td>\n",
       "      <td>NaN</td>\n",
       "      <td>NaN</td>\n",
       "    </tr>\n",
       "  </tbody>\n",
       "</table>\n",
       "</div>"
      ],
      "text/plain": [
       "cohort_distance       0      1      2      3      4      5\n",
       "first_cohort                                              \n",
       "202005           1034.0  296.0  208.0  188.0  231.0  170.0\n",
       "202006            643.0  170.0  148.0  180.0  100.0    NaN\n",
       "202007            430.0  133.0  134.0   60.0    NaN    NaN\n",
       "202008            544.0  202.0   87.0    NaN    NaN    NaN\n",
       "202009            873.0  195.0    NaN    NaN    NaN    NaN\n",
       "202010            305.0    NaN    NaN    NaN    NaN    NaN"
      ]
     },
     "execution_count": 49,
     "metadata": {},
     "output_type": "execute_result"
    }
   ],
   "source": [
    "cohort_pivot_retail"
   ]
  },
  {
   "cell_type": "code",
   "execution_count": 50,
   "metadata": {
    "ExecuteTime": {
     "end_time": "2021-02-02T09:42:27.989151Z",
     "start_time": "2021-02-02T09:42:27.976151Z"
    }
   },
   "outputs": [],
   "source": [
    "cohort_pivot_retail = cohort_pivot_retail.div(cohort_pivot_retail[0],axis=0)"
   ]
  },
  {
   "cell_type": "code",
   "execution_count": 51,
   "metadata": {
    "ExecuteTime": {
     "end_time": "2021-02-02T09:42:28.021151Z",
     "start_time": "2021-02-02T09:42:27.996179Z"
    },
    "scrolled": true
   },
   "outputs": [
    {
     "data": {
      "text/html": [
       "<div>\n",
       "<style scoped>\n",
       "    .dataframe tbody tr th:only-of-type {\n",
       "        vertical-align: middle;\n",
       "    }\n",
       "\n",
       "    .dataframe tbody tr th {\n",
       "        vertical-align: top;\n",
       "    }\n",
       "\n",
       "    .dataframe thead th {\n",
       "        text-align: right;\n",
       "    }\n",
       "</style>\n",
       "<table border=\"1\" class=\"dataframe\">\n",
       "  <thead>\n",
       "    <tr style=\"text-align: right;\">\n",
       "      <th>cohort_distance</th>\n",
       "      <th>0</th>\n",
       "      <th>1</th>\n",
       "      <th>2</th>\n",
       "      <th>3</th>\n",
       "      <th>4</th>\n",
       "      <th>5</th>\n",
       "    </tr>\n",
       "    <tr>\n",
       "      <th>first_cohort</th>\n",
       "      <th></th>\n",
       "      <th></th>\n",
       "      <th></th>\n",
       "      <th></th>\n",
       "      <th></th>\n",
       "      <th></th>\n",
       "    </tr>\n",
       "  </thead>\n",
       "  <tbody>\n",
       "    <tr>\n",
       "      <th>202005</th>\n",
       "      <td>1.0</td>\n",
       "      <td>0.286267</td>\n",
       "      <td>0.201161</td>\n",
       "      <td>0.181818</td>\n",
       "      <td>0.223404</td>\n",
       "      <td>0.16441</td>\n",
       "    </tr>\n",
       "    <tr>\n",
       "      <th>202006</th>\n",
       "      <td>1.0</td>\n",
       "      <td>0.264386</td>\n",
       "      <td>0.230171</td>\n",
       "      <td>0.279938</td>\n",
       "      <td>0.155521</td>\n",
       "      <td>NaN</td>\n",
       "    </tr>\n",
       "    <tr>\n",
       "      <th>202007</th>\n",
       "      <td>1.0</td>\n",
       "      <td>0.309302</td>\n",
       "      <td>0.311628</td>\n",
       "      <td>0.139535</td>\n",
       "      <td>NaN</td>\n",
       "      <td>NaN</td>\n",
       "    </tr>\n",
       "    <tr>\n",
       "      <th>202008</th>\n",
       "      <td>1.0</td>\n",
       "      <td>0.371324</td>\n",
       "      <td>0.159926</td>\n",
       "      <td>NaN</td>\n",
       "      <td>NaN</td>\n",
       "      <td>NaN</td>\n",
       "    </tr>\n",
       "    <tr>\n",
       "      <th>202009</th>\n",
       "      <td>1.0</td>\n",
       "      <td>0.223368</td>\n",
       "      <td>NaN</td>\n",
       "      <td>NaN</td>\n",
       "      <td>NaN</td>\n",
       "      <td>NaN</td>\n",
       "    </tr>\n",
       "    <tr>\n",
       "      <th>202010</th>\n",
       "      <td>1.0</td>\n",
       "      <td>NaN</td>\n",
       "      <td>NaN</td>\n",
       "      <td>NaN</td>\n",
       "      <td>NaN</td>\n",
       "      <td>NaN</td>\n",
       "    </tr>\n",
       "  </tbody>\n",
       "</table>\n",
       "</div>"
      ],
      "text/plain": [
       "cohort_distance    0         1         2         3         4        5\n",
       "first_cohort                                                         \n",
       "202005           1.0  0.286267  0.201161  0.181818  0.223404  0.16441\n",
       "202006           1.0  0.264386  0.230171  0.279938  0.155521      NaN\n",
       "202007           1.0  0.309302  0.311628  0.139535       NaN      NaN\n",
       "202008           1.0  0.371324  0.159926       NaN       NaN      NaN\n",
       "202009           1.0  0.223368       NaN       NaN       NaN      NaN\n",
       "202010           1.0       NaN       NaN       NaN       NaN      NaN"
      ]
     },
     "execution_count": 51,
     "metadata": {},
     "output_type": "execute_result"
    }
   ],
   "source": [
    "cohort_pivot_retail"
   ]
  },
  {
   "cell_type": "code",
   "execution_count": 116,
   "metadata": {
    "ExecuteTime": {
     "end_time": "2021-02-03T10:28:55.544789Z",
     "start_time": "2021-02-03T10:28:55.236823Z"
    }
   },
   "outputs": [
    {
     "data": {
      "image/png": "[encoded data removed]",
      "text/plain": [
       "<Figure size 864x720 with 2 Axes>"
      ]
     },
     "metadata": {},
     "output_type": "display_data"
    }
   ],
   "source": [
    "fig, ax = plt.subplots(figsize=(12,10))\n",
    "y_labels = [str(int(header)%100) + '-' + str(int(header)/100) for header in headers]\n",
    "x_labels = range(0, len(y_labels))\n",
    "plt.yticks(ticks=headers, labels=y_labels)\n",
    "plt.xticks(x_labels, x_labels)\n",
    "ax.set(xlabel='Months After First Purchase', ylabel='First Purchase Cohort', title=\"Cohort Analysis Retail\")\n",
    "sns.heatmap(cohort_pivot_retail, annot=True, fmt='.0%', mask=cohort_pivot_retail.isnull(), ax=ax, square=True, linewidths=.5, cmap=sns.cubehelix_palette(8))\n",
    "\n",
    "plt.show()"
   ]
  },
  {
   "cell_type": "markdown",
   "metadata": {},
   "source": [
    "The customer's purchase behavior in the retail ordering is quite fluctuated.<br>\n",
    "For customers who have first purchases in May tend to order less from next few months<br>\n",
    "But customers who have first purchases in June, they increasingly order more in August<br>\n",
    "Customers who have first purchases in July maintain the order rate from August to September (31%) then bottom down in October.<br>\n",
    "Customers who have first purchases in August have the most order maintaining rate on September (37%)<br>\n",
    "In conclusion, most customers have registered to the service and regularly used to order food from June to September (Summer and Autumn season)"
   ]
  },
  {
   "cell_type": "markdown",
   "metadata": {},
   "source": [
    "Beside the retention, I would chose to explore time delivery (on time delivering is important to a customer service), ratings and comments to analyze customers satisfaction to a product/service and listen to their needs to improve more."
   ]
  }
 ],
 "metadata": {
  "kernelspec": {
   "display_name": "Python 3",
   "language": "python",
   "name": "python3"
  },
  "language_info": {
   "codemirror_mode": {
    "name": "ipython",
    "version": 3
   },
   "file_extension": ".py",
   "mimetype": "text/x-python",
   "name": "python",
   "nbconvert_exporter": "python",
   "pygments_lexer": "ipython3",
   "version": "3.7.6"
  },
  "toc": {
   "base_numbering": 1,
   "nav_menu": {},
   "number_sections": true,
   "sideBar": true,
   "skip_h1_title": false,
   "title_cell": "Table of Contents",
   "title_sidebar": "Contents",
   "toc_cell": false,
   "toc_position": {},
   "toc_section_display": true,
   "toc_window_display": false
  },
  "varInspector": {
   "cols": {
    "lenName": 16,
    "lenType": 16,
    "lenVar": 40
   },
   "kernels_config": {
    "python": {
     "delete_cmd_postfix": "",
     "delete_cmd_prefix": "del ",
     "library": "var_list.py",
     "varRefreshCmd": "print(var_dic_list())"
    },
    "r": {
     "delete_cmd_postfix": ") ",
     "delete_cmd_prefix": "rm(",
     "library": "var_list.r",
     "varRefreshCmd": "cat(var_dic_list()) "
    }
   },
   "types_to_exclude": [
    "module",
    "function",
    "builtin_function_or_method",
    "instance",
    "_Feature"
   ],
   "window_display": false
  }
 },
 "nbformat": 4,
 "nbformat_minor": 4
}
