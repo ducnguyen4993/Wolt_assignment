{
 "cells": [
  {
   "cell_type": "markdown",
   "metadata": {},
   "source": [
    "<center><b>Assignment for Business Intelligence Summer 2021 Internship</b></center>"
   ]
  },
  {
   "cell_type": "code",
   "execution_count": 1,
   "metadata": {
    "ExecuteTime": {
     "end_time": "2021-02-07T15:57:40.268929Z",
     "start_time": "2021-02-07T15:57:38.404980Z"
    }
   },
   "outputs": [],
   "source": [
    "import pandas as pd\n",
    "import numpy as np\n",
    "import matplotlib.pyplot as plt\n",
    "import seaborn as sns\n",
    "%matplotlib inline\n",
    "import datetime as dt"
   ]
  },
  {
   "cell_type": "code",
   "execution_count": 2,
   "metadata": {
    "ExecuteTime": {
     "end_time": "2021-02-07T15:57:40.846016Z",
     "start_time": "2021-02-07T15:57:40.272926Z"
    }
   },
   "outputs": [],
   "source": [
    "df1=pd.read_csv('BI-Intern first_purchases.csv',date_parser=True)\n",
    "df2=pd.read_csv('BI-Intern purchases.csv',date_parser=True)"
   ]
  },
  {
   "cell_type": "code",
   "execution_count": 3,
   "metadata": {
    "ExecuteTime": {
     "end_time": "2021-02-07T15:57:40.877772Z",
     "start_time": "2021-02-07T15:57:40.847922Z"
    },
    "scrolled": true
   },
   "outputs": [
    {
     "data": {
      "text/html": [
       "<div>\n",
       "<style scoped>\n",
       "    .dataframe tbody tr th:only-of-type {\n",
       "        vertical-align: middle;\n",
       "    }\n",
       "\n",
       "    .dataframe tbody tr th {\n",
       "        vertical-align: top;\n",
       "    }\n",
       "\n",
       "    .dataframe thead th {\n",
       "        text-align: right;\n",
       "    }\n",
       "</style>\n",
       "<table border=\"1\" class=\"dataframe\">\n",
       "  <thead>\n",
       "    <tr style=\"text-align: right;\">\n",
       "      <th></th>\n",
       "      <th>User First Purchase Month</th>\n",
       "      <th>First Purchase Product Line</th>\n",
       "      <th>User ID</th>\n",
       "      <th>Purchase ID</th>\n",
       "      <th>Venue ID</th>\n",
       "    </tr>\n",
       "  </thead>\n",
       "  <tbody>\n",
       "    <tr>\n",
       "      <th>0</th>\n",
       "      <td>1.5.2020</td>\n",
       "      <td>Restaurant</td>\n",
       "      <td>57b48aece14f6d64522f8c5f</td>\n",
       "      <td>5ec6b23c96741b6db6266639</td>\n",
       "      <td>5d7a32a73b546fccd88a05e9</td>\n",
       "    </tr>\n",
       "    <tr>\n",
       "      <th>1</th>\n",
       "      <td>1.5.2020</td>\n",
       "      <td>Restaurant</td>\n",
       "      <td>59f4803cdf196473b7fc124d</td>\n",
       "      <td>5ec6be1e712a4248e67d2bf0</td>\n",
       "      <td>5cd16542c7420059cc10b792</td>\n",
       "    </tr>\n",
       "    <tr>\n",
       "      <th>2</th>\n",
       "      <td>1.5.2020</td>\n",
       "      <td>Restaurant</td>\n",
       "      <td>5a427fbbea63d5000aff0ade</td>\n",
       "      <td>5ec7f07674bbff7edcb5be0d</td>\n",
       "      <td>5e7bce9ae360062306b4a233</td>\n",
       "    </tr>\n",
       "    <tr>\n",
       "      <th>3</th>\n",
       "      <td>1.5.2020</td>\n",
       "      <td>Restaurant</td>\n",
       "      <td>5a8c70b58fac51000b2ca9d8</td>\n",
       "      <td>5eac48651db7a19612824809</td>\n",
       "      <td>5e6ce90a7455f89bbb00be37</td>\n",
       "    </tr>\n",
       "    <tr>\n",
       "      <th>4</th>\n",
       "      <td>1.5.2020</td>\n",
       "      <td>Restaurant</td>\n",
       "      <td>5a9efa9bab3442000c2ba457</td>\n",
       "      <td>5eca9ed670a4dafe5de07698</td>\n",
       "      <td>5ea18277857aaa1b337ee201</td>\n",
       "    </tr>\n",
       "    <tr>\n",
       "      <th>...</th>\n",
       "      <td>...</td>\n",
       "      <td>...</td>\n",
       "      <td>...</td>\n",
       "      <td>...</td>\n",
       "      <td>...</td>\n",
       "    </tr>\n",
       "    <tr>\n",
       "      <th>71252</th>\n",
       "      <td>1.10.2020</td>\n",
       "      <td>Restaurant</td>\n",
       "      <td>5f874372e71892d52313343f</td>\n",
       "      <td>5f8745bfae557239f1cbe4db</td>\n",
       "      <td>5f2d6542365ed912d6c545f2</td>\n",
       "    </tr>\n",
       "    <tr>\n",
       "      <th>71253</th>\n",
       "      <td>1.10.2020</td>\n",
       "      <td>Restaurant</td>\n",
       "      <td>5f874b92a026a2143bab6e63</td>\n",
       "      <td>5f874fd5e86004c65a133d47</td>\n",
       "      <td>5e6ccb03b1d0a9394d072fcd</td>\n",
       "    </tr>\n",
       "    <tr>\n",
       "      <th>71254</th>\n",
       "      <td>1.10.2020</td>\n",
       "      <td>Restaurant</td>\n",
       "      <td>5f874e647a7169ef6a023235</td>\n",
       "      <td>5f875660afcc5ba542f3f332</td>\n",
       "      <td>5e77a757c55bc12714975c4d</td>\n",
       "    </tr>\n",
       "    <tr>\n",
       "      <th>71255</th>\n",
       "      <td>1.10.2020</td>\n",
       "      <td>Restaurant</td>\n",
       "      <td>5f875552c7b1a240baf4cc97</td>\n",
       "      <td>5f87582ed5481f4e72e02218</td>\n",
       "      <td>5f4cfc839232473565cfd423</td>\n",
       "    </tr>\n",
       "    <tr>\n",
       "      <th>71256</th>\n",
       "      <td>1.10.2020</td>\n",
       "      <td>Restaurant</td>\n",
       "      <td>5f8755d29765e83cf2c7b52a</td>\n",
       "      <td>5f8757217a5f5d289a90b84a</td>\n",
       "      <td>5e7b8de7a7a5e36f91c7b17b</td>\n",
       "    </tr>\n",
       "  </tbody>\n",
       "</table>\n",
       "<p>71257 rows × 5 columns</p>\n",
       "</div>"
      ],
      "text/plain": [
       "      User First Purchase Month First Purchase Product Line  \\\n",
       "0                      1.5.2020                  Restaurant   \n",
       "1                      1.5.2020                  Restaurant   \n",
       "2                      1.5.2020                  Restaurant   \n",
       "3                      1.5.2020                  Restaurant   \n",
       "4                      1.5.2020                  Restaurant   \n",
       "...                         ...                         ...   \n",
       "71252                 1.10.2020                  Restaurant   \n",
       "71253                 1.10.2020                  Restaurant   \n",
       "71254                 1.10.2020                  Restaurant   \n",
       "71255                 1.10.2020                  Restaurant   \n",
       "71256                 1.10.2020                  Restaurant   \n",
       "\n",
       "                        User ID               Purchase ID  \\\n",
       "0      57b48aece14f6d64522f8c5f  5ec6b23c96741b6db6266639   \n",
       "1      59f4803cdf196473b7fc124d  5ec6be1e712a4248e67d2bf0   \n",
       "2      5a427fbbea63d5000aff0ade  5ec7f07674bbff7edcb5be0d   \n",
       "3      5a8c70b58fac51000b2ca9d8  5eac48651db7a19612824809   \n",
       "4      5a9efa9bab3442000c2ba457  5eca9ed670a4dafe5de07698   \n",
       "...                         ...                       ...   \n",
       "71252  5f874372e71892d52313343f  5f8745bfae557239f1cbe4db   \n",
       "71253  5f874b92a026a2143bab6e63  5f874fd5e86004c65a133d47   \n",
       "71254  5f874e647a7169ef6a023235  5f875660afcc5ba542f3f332   \n",
       "71255  5f875552c7b1a240baf4cc97  5f87582ed5481f4e72e02218   \n",
       "71256  5f8755d29765e83cf2c7b52a  5f8757217a5f5d289a90b84a   \n",
       "\n",
       "                       Venue ID  \n",
       "0      5d7a32a73b546fccd88a05e9  \n",
       "1      5cd16542c7420059cc10b792  \n",
       "2      5e7bce9ae360062306b4a233  \n",
       "3      5e6ce90a7455f89bbb00be37  \n",
       "4      5ea18277857aaa1b337ee201  \n",
       "...                         ...  \n",
       "71252  5f2d6542365ed912d6c545f2  \n",
       "71253  5e6ccb03b1d0a9394d072fcd  \n",
       "71254  5e77a757c55bc12714975c4d  \n",
       "71255  5f4cfc839232473565cfd423  \n",
       "71256  5e7b8de7a7a5e36f91c7b17b  \n",
       "\n",
       "[71257 rows x 5 columns]"
      ]
     },
     "execution_count": 3,
     "metadata": {},
     "output_type": "execute_result"
    }
   ],
   "source": [
    "df1"
   ]
  },
  {
   "cell_type": "code",
   "execution_count": 4,
   "metadata": {
    "ExecuteTime": {
     "end_time": "2021-02-07T15:57:40.908979Z",
     "start_time": "2021-02-07T15:57:40.879783Z"
    }
   },
   "outputs": [
    {
     "data": {
      "text/plain": [
       "User First Purchase Month      71257\n",
       "First Purchase Product Line    71257\n",
       "User ID                        71257\n",
       "Purchase ID                    71257\n",
       "Venue ID                       71257\n",
       "dtype: int64"
      ]
     },
     "execution_count": 4,
     "metadata": {},
     "output_type": "execute_result"
    }
   ],
   "source": [
    "df1.count()"
   ]
  },
  {
   "cell_type": "code",
   "execution_count": 5,
   "metadata": {
    "ExecuteTime": {
     "end_time": "2021-02-07T15:57:40.924987Z",
     "start_time": "2021-02-07T15:57:40.910988Z"
    },
    "scrolled": true
   },
   "outputs": [
    {
     "data": {
      "text/html": [
       "<div>\n",
       "<style scoped>\n",
       "    .dataframe tbody tr th:only-of-type {\n",
       "        vertical-align: middle;\n",
       "    }\n",
       "\n",
       "    .dataframe tbody tr th {\n",
       "        vertical-align: top;\n",
       "    }\n",
       "\n",
       "    .dataframe thead th {\n",
       "        text-align: right;\n",
       "    }\n",
       "</style>\n",
       "<table border=\"1\" class=\"dataframe\">\n",
       "  <thead>\n",
       "    <tr style=\"text-align: right;\">\n",
       "      <th></th>\n",
       "      <th>Purchases Time Delivered</th>\n",
       "      <th>Product line</th>\n",
       "      <th>User ID</th>\n",
       "      <th>Purchase ID</th>\n",
       "      <th>Venue ID</th>\n",
       "    </tr>\n",
       "  </thead>\n",
       "  <tbody>\n",
       "    <tr>\n",
       "      <th>0</th>\n",
       "      <td>1.8.2020</td>\n",
       "      <td>Restaurant</td>\n",
       "      <td>55080d6585f6661a3b37f7a5</td>\n",
       "      <td>5f3d81ef6cce0eeb05225f98</td>\n",
       "      <td>5e8b2c8be050b99f26647804</td>\n",
       "    </tr>\n",
       "    <tr>\n",
       "      <th>1</th>\n",
       "      <td>1.8.2020</td>\n",
       "      <td>Restaurant</td>\n",
       "      <td>55080d6585f6661a3b37f7a5</td>\n",
       "      <td>5f3c11f5a90667e766b04c19</td>\n",
       "      <td>5e8b2c8be050b99f26647804</td>\n",
       "    </tr>\n",
       "    <tr>\n",
       "      <th>2</th>\n",
       "      <td>1.7.2020</td>\n",
       "      <td>Retail store</td>\n",
       "      <td>556202537f84a43ac29ec7cb</td>\n",
       "      <td>5f0aec594c3cbeb4049ea36a</td>\n",
       "      <td>5ec2ab4401f812138e435c89</td>\n",
       "    </tr>\n",
       "    <tr>\n",
       "      <th>3</th>\n",
       "      <td>1.7.2020</td>\n",
       "      <td>Retail store</td>\n",
       "      <td>556202537f84a43ac29ec7cb</td>\n",
       "      <td>5f184a3c88046da058c5ed1d</td>\n",
       "      <td>5ec2ab4401f812138e435c89</td>\n",
       "    </tr>\n",
       "    <tr>\n",
       "      <th>4</th>\n",
       "      <td>1.5.2020</td>\n",
       "      <td>Restaurant</td>\n",
       "      <td>57b48aece14f6d64522f8c5f</td>\n",
       "      <td>5ecf98f34d3d68dc996dad7a</td>\n",
       "      <td>5cb4425ae93cce000d20612f</td>\n",
       "    </tr>\n",
       "    <tr>\n",
       "      <th>...</th>\n",
       "      <td>...</td>\n",
       "      <td>...</td>\n",
       "      <td>...</td>\n",
       "      <td>...</td>\n",
       "      <td>...</td>\n",
       "    </tr>\n",
       "    <tr>\n",
       "      <th>298709</th>\n",
       "      <td>1.10.2020</td>\n",
       "      <td>Restaurant</td>\n",
       "      <td>5f874372e71892d52313343f</td>\n",
       "      <td>5f8745bfae557239f1cbe4db</td>\n",
       "      <td>5f2d6542365ed912d6c545f2</td>\n",
       "    </tr>\n",
       "    <tr>\n",
       "      <th>298710</th>\n",
       "      <td>1.10.2020</td>\n",
       "      <td>Restaurant</td>\n",
       "      <td>5f874b92a026a2143bab6e63</td>\n",
       "      <td>5f874fd5e86004c65a133d47</td>\n",
       "      <td>5e6ccb03b1d0a9394d072fcd</td>\n",
       "    </tr>\n",
       "    <tr>\n",
       "      <th>298711</th>\n",
       "      <td>1.10.2020</td>\n",
       "      <td>Restaurant</td>\n",
       "      <td>5f874e647a7169ef6a023235</td>\n",
       "      <td>5f875660afcc5ba542f3f332</td>\n",
       "      <td>5e77a757c55bc12714975c4d</td>\n",
       "    </tr>\n",
       "    <tr>\n",
       "      <th>298712</th>\n",
       "      <td>1.10.2020</td>\n",
       "      <td>Restaurant</td>\n",
       "      <td>5f875552c7b1a240baf4cc97</td>\n",
       "      <td>5f87582ed5481f4e72e02218</td>\n",
       "      <td>5f4cfc839232473565cfd423</td>\n",
       "    </tr>\n",
       "    <tr>\n",
       "      <th>298713</th>\n",
       "      <td>1.10.2020</td>\n",
       "      <td>Restaurant</td>\n",
       "      <td>5f8755d29765e83cf2c7b52a</td>\n",
       "      <td>5f8757217a5f5d289a90b84a</td>\n",
       "      <td>5e7b8de7a7a5e36f91c7b17b</td>\n",
       "    </tr>\n",
       "  </tbody>\n",
       "</table>\n",
       "<p>298714 rows × 5 columns</p>\n",
       "</div>"
      ],
      "text/plain": [
       "       Purchases Time Delivered  Product line                   User ID  \\\n",
       "0                      1.8.2020    Restaurant  55080d6585f6661a3b37f7a5   \n",
       "1                      1.8.2020    Restaurant  55080d6585f6661a3b37f7a5   \n",
       "2                      1.7.2020  Retail store  556202537f84a43ac29ec7cb   \n",
       "3                      1.7.2020  Retail store  556202537f84a43ac29ec7cb   \n",
       "4                      1.5.2020    Restaurant  57b48aece14f6d64522f8c5f   \n",
       "...                         ...           ...                       ...   \n",
       "298709                1.10.2020    Restaurant  5f874372e71892d52313343f   \n",
       "298710                1.10.2020    Restaurant  5f874b92a026a2143bab6e63   \n",
       "298711                1.10.2020    Restaurant  5f874e647a7169ef6a023235   \n",
       "298712                1.10.2020    Restaurant  5f875552c7b1a240baf4cc97   \n",
       "298713                1.10.2020    Restaurant  5f8755d29765e83cf2c7b52a   \n",
       "\n",
       "                     Purchase ID                  Venue ID  \n",
       "0       5f3d81ef6cce0eeb05225f98  5e8b2c8be050b99f26647804  \n",
       "1       5f3c11f5a90667e766b04c19  5e8b2c8be050b99f26647804  \n",
       "2       5f0aec594c3cbeb4049ea36a  5ec2ab4401f812138e435c89  \n",
       "3       5f184a3c88046da058c5ed1d  5ec2ab4401f812138e435c89  \n",
       "4       5ecf98f34d3d68dc996dad7a  5cb4425ae93cce000d20612f  \n",
       "...                          ...                       ...  \n",
       "298709  5f8745bfae557239f1cbe4db  5f2d6542365ed912d6c545f2  \n",
       "298710  5f874fd5e86004c65a133d47  5e6ccb03b1d0a9394d072fcd  \n",
       "298711  5f875660afcc5ba542f3f332  5e77a757c55bc12714975c4d  \n",
       "298712  5f87582ed5481f4e72e02218  5f4cfc839232473565cfd423  \n",
       "298713  5f8757217a5f5d289a90b84a  5e7b8de7a7a5e36f91c7b17b  \n",
       "\n",
       "[298714 rows x 5 columns]"
      ]
     },
     "execution_count": 5,
     "metadata": {},
     "output_type": "execute_result"
    }
   ],
   "source": [
    "df2"
   ]
  },
  {
   "cell_type": "code",
   "execution_count": 6,
   "metadata": {
    "ExecuteTime": {
     "end_time": "2021-02-07T15:57:40.987093Z",
     "start_time": "2021-02-07T15:57:40.926987Z"
    }
   },
   "outputs": [
    {
     "data": {
      "text/plain": [
       "Purchases Time Delivered    298714\n",
       "Product line                298714\n",
       "User ID                     298714\n",
       "Purchase ID                 298714\n",
       "Venue ID                    298714\n",
       "dtype: int64"
      ]
     },
     "execution_count": 6,
     "metadata": {},
     "output_type": "execute_result"
    }
   ],
   "source": [
    "df2.count()"
   ]
  },
  {
   "cell_type": "code",
   "execution_count": 7,
   "metadata": {
    "ExecuteTime": {
     "end_time": "2021-02-07T15:57:41.050018Z",
     "start_time": "2021-02-07T15:57:40.989989Z"
    }
   },
   "outputs": [],
   "source": [
    "# Change type of column to datetime\n",
    "df2['Purchases Time Delivered'] = pd.to_datetime(df2['Purchases Time Delivered'], format=\"%d.%m.%Y\")"
   ]
  },
  {
   "cell_type": "code",
   "execution_count": 8,
   "metadata": {
    "ExecuteTime": {
     "end_time": "2021-02-07T15:57:41.065986Z",
     "start_time": "2021-02-07T15:57:41.052989Z"
    }
   },
   "outputs": [
    {
     "data": {
      "text/plain": [
       "Purchases Time Delivered    datetime64[ns]\n",
       "Product line                        object\n",
       "User ID                             object\n",
       "Purchase ID                         object\n",
       "Venue ID                            object\n",
       "dtype: object"
      ]
     },
     "execution_count": 8,
     "metadata": {},
     "output_type": "execute_result"
    }
   ],
   "source": [
    "df2.dtypes"
   ]
  },
  {
   "cell_type": "markdown",
   "metadata": {},
   "source": [
    "## Searching for top online food ordering:"
   ]
  },
  {
   "cell_type": "code",
   "execution_count": 51,
   "metadata": {
    "ExecuteTime": {
     "end_time": "2021-02-07T18:45:38.882610Z",
     "start_time": "2021-02-07T18:45:38.845578Z"
    }
   },
   "outputs": [
    {
     "data": {
      "text/plain": [
       "1503"
      ]
     },
     "execution_count": 51,
     "metadata": {},
     "output_type": "execute_result"
    }
   ],
   "source": [
    "len(df2['Venue ID'].unique())"
   ]
  },
  {
   "cell_type": "code",
   "execution_count": 52,
   "metadata": {
    "ExecuteTime": {
     "end_time": "2021-02-07T18:45:40.458998Z",
     "start_time": "2021-02-07T18:45:40.413991Z"
    }
   },
   "outputs": [],
   "source": [
    "# Top selling units available on service\n",
    "top=df2['Venue ID'].value_counts()\n",
    "top_extract=pd.DataFrame({'Venue ID':top.index,'Count':top.values})"
   ]
  },
  {
   "cell_type": "code",
   "execution_count": 53,
   "metadata": {
    "ExecuteTime": {
     "end_time": "2021-02-07T18:45:42.356989Z",
     "start_time": "2021-02-07T18:45:42.330991Z"
    }
   },
   "outputs": [
    {
     "data": {
      "text/plain": [
       "count    1503.000000\n",
       "mean      198.745176\n",
       "std       371.440041\n",
       "min         1.000000\n",
       "25%        20.000000\n",
       "50%        74.000000\n",
       "75%       215.500000\n",
       "max      4602.000000\n",
       "Name: Count, dtype: float64"
      ]
     },
     "execution_count": 53,
     "metadata": {},
     "output_type": "execute_result"
    }
   ],
   "source": [
    "top_extract['Count'].describe()"
   ]
  },
  {
   "cell_type": "code",
   "execution_count": 54,
   "metadata": {
    "ExecuteTime": {
     "end_time": "2021-02-07T18:45:44.249965Z",
     "start_time": "2021-02-07T18:45:44.230974Z"
    }
   },
   "outputs": [],
   "source": [
    "extract=df2[['Product line','Venue ID']]"
   ]
  },
  {
   "cell_type": "code",
   "execution_count": 55,
   "metadata": {
    "ExecuteTime": {
     "end_time": "2021-02-07T18:45:45.936402Z",
     "start_time": "2021-02-07T18:45:45.860300Z"
    }
   },
   "outputs": [],
   "source": [
    "top_sell_units=pd.merge(top_sell_unit,extract,how='inner',on='Venue ID')"
   ]
  },
  {
   "cell_type": "code",
   "execution_count": 56,
   "metadata": {
    "ExecuteTime": {
     "end_time": "2021-02-07T18:45:47.979302Z",
     "start_time": "2021-02-07T18:45:47.903753Z"
    }
   },
   "outputs": [],
   "source": [
    "top_sell_units=top_sell_units.drop_duplicates(keep='first')"
   ]
  },
  {
   "cell_type": "code",
   "execution_count": 57,
   "metadata": {
    "ExecuteTime": {
     "end_time": "2021-02-07T18:45:53.052200Z",
     "start_time": "2021-02-07T18:45:53.028172Z"
    }
   },
   "outputs": [
    {
     "data": {
      "text/html": [
       "<div>\n",
       "<style scoped>\n",
       "    .dataframe tbody tr th:only-of-type {\n",
       "        vertical-align: middle;\n",
       "    }\n",
       "\n",
       "    .dataframe tbody tr th {\n",
       "        vertical-align: top;\n",
       "    }\n",
       "\n",
       "    .dataframe thead th {\n",
       "        text-align: right;\n",
       "    }\n",
       "</style>\n",
       "<table border=\"1\" class=\"dataframe\">\n",
       "  <thead>\n",
       "    <tr style=\"text-align: right;\">\n",
       "      <th></th>\n",
       "      <th>Venue ID</th>\n",
       "      <th>Count</th>\n",
       "      <th>Product line</th>\n",
       "    </tr>\n",
       "  </thead>\n",
       "  <tbody>\n",
       "    <tr>\n",
       "      <th>0</th>\n",
       "      <td>5e77a370fee9ef1ba62d6454</td>\n",
       "      <td>4602</td>\n",
       "      <td>Restaurant</td>\n",
       "    </tr>\n",
       "    <tr>\n",
       "      <th>4602</th>\n",
       "      <td>5e7dc5c6d12956517345e7d0</td>\n",
       "      <td>4235</td>\n",
       "      <td>Restaurant</td>\n",
       "    </tr>\n",
       "    <tr>\n",
       "      <th>8837</th>\n",
       "      <td>5e74b3973f3b342b1112c795</td>\n",
       "      <td>4176</td>\n",
       "      <td>Restaurant</td>\n",
       "    </tr>\n",
       "    <tr>\n",
       "      <th>13013</th>\n",
       "      <td>5bbc6b0b9a23e8000c10ce2c</td>\n",
       "      <td>3250</td>\n",
       "      <td>Restaurant</td>\n",
       "    </tr>\n",
       "    <tr>\n",
       "      <th>16263</th>\n",
       "      <td>5e7cf0de1d5f2d9994b536ba</td>\n",
       "      <td>3172</td>\n",
       "      <td>Restaurant</td>\n",
       "    </tr>\n",
       "    <tr>\n",
       "      <th>19435</th>\n",
       "      <td>5e7747d9896d723f8302370d</td>\n",
       "      <td>2708</td>\n",
       "      <td>Restaurant</td>\n",
       "    </tr>\n",
       "    <tr>\n",
       "      <th>22143</th>\n",
       "      <td>5e54e9202149d59d4f476298</td>\n",
       "      <td>2363</td>\n",
       "      <td>Restaurant</td>\n",
       "    </tr>\n",
       "    <tr>\n",
       "      <th>24506</th>\n",
       "      <td>5e73cb5d891277fa4aa54e24</td>\n",
       "      <td>2162</td>\n",
       "      <td>Retail store</td>\n",
       "    </tr>\n",
       "    <tr>\n",
       "      <th>26668</th>\n",
       "      <td>5e7781b4f4694683def749a6</td>\n",
       "      <td>2076</td>\n",
       "      <td>Restaurant</td>\n",
       "    </tr>\n",
       "    <tr>\n",
       "      <th>28744</th>\n",
       "      <td>5e6ceab07df646d28037d17d</td>\n",
       "      <td>1871</td>\n",
       "      <td>Restaurant</td>\n",
       "    </tr>\n",
       "    <tr>\n",
       "      <th>30615</th>\n",
       "      <td>5e74b46d8829822e4229c7f8</td>\n",
       "      <td>1824</td>\n",
       "      <td>Restaurant</td>\n",
       "    </tr>\n",
       "    <tr>\n",
       "      <th>32439</th>\n",
       "      <td>5e7b8de7a7a5e36f91c7b17b</td>\n",
       "      <td>1706</td>\n",
       "      <td>Restaurant</td>\n",
       "    </tr>\n",
       "    <tr>\n",
       "      <th>34145</th>\n",
       "      <td>5e77a757c55bc12714975c4d</td>\n",
       "      <td>1653</td>\n",
       "      <td>Restaurant</td>\n",
       "    </tr>\n",
       "    <tr>\n",
       "      <th>35798</th>\n",
       "      <td>5e7663ebe3845b5fffaff7db</td>\n",
       "      <td>1634</td>\n",
       "      <td>Restaurant</td>\n",
       "    </tr>\n",
       "    <tr>\n",
       "      <th>37432</th>\n",
       "      <td>5e74af9eb90fb76d88cca48a</td>\n",
       "      <td>1622</td>\n",
       "      <td>Restaurant</td>\n",
       "    </tr>\n",
       "    <tr>\n",
       "      <th>39054</th>\n",
       "      <td>5bc066923bb2a0000b11c6d7</td>\n",
       "      <td>1590</td>\n",
       "      <td>Restaurant</td>\n",
       "    </tr>\n",
       "    <tr>\n",
       "      <th>40644</th>\n",
       "      <td>5e7b8cb0d43edea68c4ff05e</td>\n",
       "      <td>1566</td>\n",
       "      <td>Restaurant</td>\n",
       "    </tr>\n",
       "    <tr>\n",
       "      <th>42210</th>\n",
       "      <td>5d95eebb1ac8e2ab9bab84e1</td>\n",
       "      <td>1565</td>\n",
       "      <td>Restaurant</td>\n",
       "    </tr>\n",
       "    <tr>\n",
       "      <th>43775</th>\n",
       "      <td>5e777d49b9e3054b13f35214</td>\n",
       "      <td>1549</td>\n",
       "      <td>Restaurant</td>\n",
       "    </tr>\n",
       "    <tr>\n",
       "      <th>45324</th>\n",
       "      <td>5e6bd3a31cafc5bb101639ae</td>\n",
       "      <td>1539</td>\n",
       "      <td>Restaurant</td>\n",
       "    </tr>\n",
       "  </tbody>\n",
       "</table>\n",
       "</div>"
      ],
      "text/plain": [
       "                       Venue ID  Count  Product line\n",
       "0      5e77a370fee9ef1ba62d6454   4602    Restaurant\n",
       "4602   5e7dc5c6d12956517345e7d0   4235    Restaurant\n",
       "8837   5e74b3973f3b342b1112c795   4176    Restaurant\n",
       "13013  5bbc6b0b9a23e8000c10ce2c   3250    Restaurant\n",
       "16263  5e7cf0de1d5f2d9994b536ba   3172    Restaurant\n",
       "19435  5e7747d9896d723f8302370d   2708    Restaurant\n",
       "22143  5e54e9202149d59d4f476298   2363    Restaurant\n",
       "24506  5e73cb5d891277fa4aa54e24   2162  Retail store\n",
       "26668  5e7781b4f4694683def749a6   2076    Restaurant\n",
       "28744  5e6ceab07df646d28037d17d   1871    Restaurant\n",
       "30615  5e74b46d8829822e4229c7f8   1824    Restaurant\n",
       "32439  5e7b8de7a7a5e36f91c7b17b   1706    Restaurant\n",
       "34145  5e77a757c55bc12714975c4d   1653    Restaurant\n",
       "35798  5e7663ebe3845b5fffaff7db   1634    Restaurant\n",
       "37432  5e74af9eb90fb76d88cca48a   1622    Restaurant\n",
       "39054  5bc066923bb2a0000b11c6d7   1590    Restaurant\n",
       "40644  5e7b8cb0d43edea68c4ff05e   1566    Restaurant\n",
       "42210  5d95eebb1ac8e2ab9bab84e1   1565    Restaurant\n",
       "43775  5e777d49b9e3054b13f35214   1549    Restaurant\n",
       "45324  5e6bd3a31cafc5bb101639ae   1539    Restaurant"
      ]
     },
     "execution_count": 57,
     "metadata": {},
     "output_type": "execute_result"
    }
   ],
   "source": [
    "# Top 100 selling units\n",
    "top_sell_units.head(20)"
   ]
  },
  {
   "cell_type": "markdown",
   "metadata": {},
   "source": [
    "Most of orders come from restaurants field"
   ]
  },
  {
   "cell_type": "markdown",
   "metadata": {},
   "source": [
    "## Extracting table with those lost user data from first_purchases:"
   ]
  },
  {
   "cell_type": "code",
   "execution_count": 9,
   "metadata": {
    "ExecuteTime": {
     "end_time": "2021-02-07T15:57:41.113083Z",
     "start_time": "2021-02-07T15:57:41.068987Z"
    }
   },
   "outputs": [
    {
     "data": {
      "text/plain": [
       "74568"
      ]
     },
     "execution_count": 9,
     "metadata": {},
     "output_type": "execute_result"
    }
   ],
   "source": [
    "len(df2['User ID'].unique())"
   ]
  },
  {
   "cell_type": "code",
   "execution_count": 10,
   "metadata": {
    "ExecuteTime": {
     "end_time": "2021-02-07T15:57:41.144087Z",
     "start_time": "2021-02-07T15:57:41.114986Z"
    }
   },
   "outputs": [
    {
     "data": {
      "text/plain": [
       "71257"
      ]
     },
     "execution_count": 10,
     "metadata": {},
     "output_type": "execute_result"
    }
   ],
   "source": [
    "len(df1['User ID'].unique())"
   ]
  },
  {
   "cell_type": "markdown",
   "metadata": {},
   "source": [
    "With the above results, we are able to recognize conficting data between the amount of customers in df1 (first_purchase table) and df2 (purchases table), specifically 71257 and 74568. It means there are 3311 customers that have purchases listed in df2 not in df1."
   ]
  },
  {
   "cell_type": "code",
   "execution_count": 11,
   "metadata": {
    "ExecuteTime": {
     "end_time": "2021-02-07T15:57:41.174991Z",
     "start_time": "2021-02-07T15:57:41.145985Z"
    }
   },
   "outputs": [],
   "source": [
    "a=list(df1['User ID'].unique())"
   ]
  },
  {
   "cell_type": "code",
   "execution_count": 12,
   "metadata": {
    "ExecuteTime": {
     "end_time": "2021-02-07T15:57:41.222262Z",
     "start_time": "2021-02-07T15:57:41.176963Z"
    }
   },
   "outputs": [],
   "source": [
    "b=list(df2['User ID'].unique())"
   ]
  },
  {
   "cell_type": "code",
   "execution_count": 13,
   "metadata": {
    "ExecuteTime": {
     "end_time": "2021-02-07T15:58:40.206926Z",
     "start_time": "2021-02-07T15:57:41.224273Z"
    }
   },
   "outputs": [
    {
     "data": {
      "text/plain": [
       "['556202537f84a43ac29ec7cb',\n",
       " '57b5a1c7791b5a4aafe403ef',\n",
       " '5840920d79f65102d70ede18',\n",
       " '58653b9279f65127b206770e',\n",
       " '58d7fba58033271c5a3a9caf',\n",
       " '599ee35379f65143c0b3c94d',\n",
       " '5a098af562f55f06c26eac91',\n",
       " '5a82dc2e615ca5000a5fb303',\n",
       " '5a8ffa198fac510009315335',\n",
       " '5a968a9c572fd6000a09baee',\n",
       " '5ad5dee2826817000a64d554',\n",
       " '5adce6095400c6000a3e4fed',\n",
       " '5ae1e21d5400c6000b77f8d3',\n",
       " '5ae4adaf919fae000ccfd99a',\n",
       " '5af6f689986b9f000ced8828',\n",
       " '5afd4f8b820567000aea5619',\n",
       " '5b0017f4a7a356000c65b46b',\n",
       " '5b027bb3820567000aeaa9f9',\n",
       " '5b03067ba7a356000c65e89f',\n",
       " '5b03e74fa7a356000c65f0d5',\n",
       " '5b044051820567000aeacdd7',\n",
       " '5b084bc38be1dd000c359495',\n",
       " '5b0957928be1dd000c35a3f8',\n",
       " '5b0d0cd98be1dd000c35ee31',\n",
       " '5b0d4fb58be1dd000c35f7e7',\n",
       " '5b0d59e352949b000af60b70',\n",
       " '5b0d637452949b00098c4c28',\n",
       " '5b0d83498be1dd000c36002a',\n",
       " '5b0d8c8a8be1dd000c3601d9',\n",
       " '5b0e2ef98be1dd000ab5283e',\n",
       " '5b0e7cfe52949b000af61c1b',\n",
       " '5b0e82318be1dd000ab52d99',\n",
       " '5b1159d8cacdac000b49753f',\n",
       " '5b11bee552949b00098cb296',\n",
       " '5b1291ff52949b00098cbfe2',\n",
       " '5b12c9bf8be1dd000ab57e48',\n",
       " '5b12e4f58be1dd000c367900',\n",
       " '5b13e97a95946a000cd90209',\n",
       " '5b141ce695946a000cd909d2',\n",
       " '5b1457771505ed000af99652',\n",
       " '5b14da0b1505ed000af997ef',\n",
       " '5b151e8ee253d8000b71f7c2',\n",
       " '5b1543351505ed000af9a611',\n",
       " '5b15561e1505ed0009603c77',\n",
       " '5b157d31e253d8000b7207de',\n",
       " '5b15986fe253d8000ad832ad',\n",
       " '5b165487e253d8000b721379',\n",
       " '5b166e25e253d8000ad83c29',\n",
       " '5b1696ad1505ed00096052dc',\n",
       " '5b16d9a71505ed000af9cf58',\n",
       " '5b16dec31505ed000af9cfdc',\n",
       " '5b16e827e253d8000ad84b58',\n",
       " '5b16e9ec1505ed0009605d65',\n",
       " '5b176dd6e253d8000b722dd6',\n",
       " '5b17e38ce253d8000b723a3f',\n",
       " '5b17f4b1e253d8000b723cee',\n",
       " '5b185bb0e253d8000ad86371',\n",
       " '5b194badab2a09000cf056aa',\n",
       " '5b1995a1ab2a09000a2f2e73',\n",
       " '5b1aa6f47df92c000c488777',\n",
       " '5b1aa7ee583580000ae62311',\n",
       " '5b1ae67a7a8472000abcdd16',\n",
       " '5b1b9145e253d8000b728c39',\n",
       " '5b1bf3459e4202000ac0dd22',\n",
       " '5b1cc5d47a8472000b6148ff',\n",
       " '5b1cfd91e253d8000ad8b929',\n",
       " '5b1d91867a8472000abd0e86',\n",
       " '5b1e52ed7a8472000abd14f8',\n",
       " '5b1ea55f901556000a374cc5',\n",
       " '5b1ec4157a8472000abd2004',\n",
       " '5b1f57cde253d8000b72e27d',\n",
       " '5b1fedb6e253d8000ad8f4de',\n",
       " '5b20c5f4e253d8000ad8fdea',\n",
       " '5b2272f47a8472000b61cf5f',\n",
       " '5b22a9ed7a8472000b61d72d',\n",
       " '5b22ad88e253d8000ad920f8',\n",
       " '5b23e2362e7a3e000b2d03bc',\n",
       " '5b2673760c7c77000b575676',\n",
       " '5b27b49f7a8472000b623b1a',\n",
       " '5b27d34a7a8472000abd9b7b',\n",
       " '5b28cc60e68db9000a87844b',\n",
       " '5b294ad20a196e000b6e4566',\n",
       " '5b2a0eaafa7e11000b8ec71c',\n",
       " '5b2a70fbe0b7a8000ce9568c',\n",
       " '5b2b7fa5e0b7a8000eca0a5c',\n",
       " '5b2cc892fa7e11000a93aedf',\n",
       " '5b2d15ede0b7a8000eca2e91',\n",
       " '5b2d18c7fa7e11000a93b7c6',\n",
       " '5b2ddbe4e0b7a8000eca3948',\n",
       " '5b2e543a8eae07000c487e79',\n",
       " '5b2e768ae0b7a8000ce998c2',\n",
       " '5b2e7b95fa7e11000b8f287a',\n",
       " '5b2f7162fa7e11000a93d743',\n",
       " '5b2fb1024fb3f2000a26e561',\n",
       " '5b30084de0b7a8000eca69e0',\n",
       " '5b31ee59fa7e11000b8f66c8',\n",
       " '5b3251a8483bc3000ca6de1c',\n",
       " '5b32648d1f6b2e000a51119e',\n",
       " '5b32753aa27835000cb8da11',\n",
       " '5b33c1c76d8391000ca95bd5',\n",
       " '5b34cda86d8391000a3a4f99',\n",
       " '5b351f131f6b2e000cbf89ef',\n",
       " '5b35547a6d8391000a3a5ba7',\n",
       " '5b35c28c6d8391000ca9790a',\n",
       " '5b35fec41f6b2e000cbf9300',\n",
       " '5b363d891f6b2e000cbf99a2',\n",
       " '5b3662cb6d8391000ca988f8',\n",
       " '5b3664d51f6b2e000a5149c5',\n",
       " '5b367a176d8391000ca98bdc',\n",
       " '5b3775f16d8391000ca997e0',\n",
       " '5b390e0c6d8391000ca9bad6',\n",
       " '5b391eca6d8391000ca9bd2b',\n",
       " '5b393c4e1db4de000cd1e5f9',\n",
       " '5b3a070b1db4de000cd1ec0a',\n",
       " '5b3a457d1db4de000cd1f2a8',\n",
       " '5b3a5cc86d8391000a3aa177',\n",
       " '5b3a85301db4de000aa2634e',\n",
       " '5b3b31851db4de000cd1fddb',\n",
       " '5b3b505b6d8391000a3aaa70',\n",
       " '5b3b5b621db4de000cd20269',\n",
       " '5b3b719c1db4de000cd2044c',\n",
       " '5b3c61ef6d8391000a3ab905',\n",
       " '5b3c84061db4de000cd2142e',\n",
       " '5b3d005e1db4de000aa282f1',\n",
       " '5b3d22dc6d8391000a3ac912',\n",
       " '5b3dd7ae6d8391000a3acc9e',\n",
       " '5b3f7a5a5d06e8000c90b15e',\n",
       " '5b3fb20327ecf3000c418451',\n",
       " '5b3fba8127ecf3000ad986b3',\n",
       " '5b40809d6d8391000caa2f97',\n",
       " '5b40aef1b35fe900091d9afc',\n",
       " '5b40b9dcb35fe9000baf3a67',\n",
       " '5b40f493b35fe9000baf4229',\n",
       " '5b4102966d8391000a3afe34',\n",
       " '5b41249bb35fe900091da60c',\n",
       " '5b41e209312c9e000cec9dc7',\n",
       " '5b4247696d8391000a3b1021',\n",
       " '5b439b37dce762000cf19a87',\n",
       " '5b44c147dce762000cf1a519',\n",
       " '5b44f18d6d8391000a3b316e',\n",
       " '5b45da1edce762000cf1afe5',\n",
       " '5b45dcdfdce762000a12c1d7',\n",
       " '5b45ef91dce762000cf1b152',\n",
       " '5b45fa5e6d8391000caa8521',\n",
       " '5b4617a774dc9d000be6aee3',\n",
       " '5b4634451838b6000cbf63ac',\n",
       " '5b4730b0dce762000a12d18f',\n",
       " '5b4794de3b8375000a0cf60e',\n",
       " '5b479c6dc134e3000a495101',\n",
       " '5b48f4bddce762000a12ee5d',\n",
       " '5b48f515d1fca7000a362574',\n",
       " '5b49e77edce762000a12f6a6',\n",
       " '5b4a00d23570b7000b271617',\n",
       " '5b4b1b3d3570b7000b272651',\n",
       " '5b4b781bdce762000cf1f2bc',\n",
       " '5b4c63d13570b7000b273a7d',\n",
       " '5b4ccd463570b7000932bfef',\n",
       " '5b4cec383570b7000b274760',\n",
       " '5b4d0f8c3570b7000b274933',\n",
       " '5b4e13054d05d9000986b4ae',\n",
       " '5b4e2055b4fad4000cf19697',\n",
       " '5b4e341e4d05d9000986b85b',\n",
       " '5b4f657dfded7c000be4b678',\n",
       " '5b4f7ef13570b7000b276b85',\n",
       " '5b5050cb4d05d9000986d191',\n",
       " '5b5051513570b7000932e0ca',\n",
       " '5b507ece205133000c0513be',\n",
       " '5b50be75a59591000ae1aaa1',\n",
       " '5b50e3dc4d05d9000986e17e',\n",
       " '5b5115c84d05d9000a370a7d',\n",
       " '5b51b1b34d05d9000986eb33',\n",
       " '5b51b24e3570b7000b278d13',\n",
       " '5b51bc754d05d9000a370f85',\n",
       " '5b51c4414d05d9000986ecb9',\n",
       " '5b5253ba3570b7000b279cda',\n",
       " '5b535a92dc4f66000ac8db81',\n",
       " '5b53987d4d05d9000a372b56',\n",
       " '5b539fd64d05d90009870f57',\n",
       " '5b5416fb4d05d900098710b2',\n",
       " '5b542d653570b7000b27b5cb',\n",
       " '5b5484356a66590009df1943',\n",
       " '5b55030f3570b70009331d30',\n",
       " '5b5588583570b7000b27ccb1',\n",
       " '5b55a0df4d05d900098729cb',\n",
       " '5b55cca83570b7000b27d2d5',\n",
       " '5b55eef34d05d9000a374613',\n",
       " '5b55f1663570b7000b27d68d',\n",
       " '5b5615964d05d90009873582',\n",
       " '5b561b104d05d900098735ff',\n",
       " '5b5626063570b7000933290a',\n",
       " '5b56ed5a4d05d9000a375060',\n",
       " '5b56f1404d05d9000a37510e',\n",
       " '5b5726e33570b7000b27eceb',\n",
       " '5b573d44dd83c1000c7fc228',\n",
       " '5b574c767d659b000a3e9487',\n",
       " '5b576f94c55d57000a807c2f',\n",
       " '5b578dae4d05d9000987520c',\n",
       " '5b57ae604d05d900098753e3',\n",
       " '5b5875953570b7000b280599',\n",
       " '5b587c413570b700093341c9',\n",
       " '5b58a0b74d05d9000a376aff',\n",
       " '5b5999514d05d9000a37744b',\n",
       " '5b59ca6a19b713000c7567fe',\n",
       " '5b59e0ab8424dc000a1a20ef',\n",
       " '5b59ecbd3570b7000b28212e',\n",
       " '5b5a07984d05d9000a377cd5',\n",
       " '5b5a1f264d05d9000a377ec9',\n",
       " '5b5a40ac4d05d90009877bb2',\n",
       " '5b5ad23f4d05d90009877ec7',\n",
       " '5b5ae75be4ebd9000af7474c',\n",
       " '5b5b16a53570b70009335b87',\n",
       " '5b5b53413570b7000b2839e3',\n",
       " '5b5b5bcf3d83fb000ae9c533',\n",
       " '5b5b66414d05d9000a378d5f',\n",
       " '5b5b71b43570b7000b283ce7',\n",
       " '5b5c29473570b70009336529',\n",
       " '5b5c3e9b3570b70009336641',\n",
       " '5b5c451d3570b700093366a3',\n",
       " '5b5c46d23570b7000b284467',\n",
       " '5b5c55763570b700093367bc',\n",
       " '5b5c56d947c65c000b600293',\n",
       " '5b5c7772cfc662000af2f70c',\n",
       " '5b5c9f1b3570b70009336d85',\n",
       " '5b5ca6e30ff3eb0009e78478',\n",
       " '5b5d7df0564573000ceccdd0',\n",
       " '5b5d8fff3570b7000b2858ff',\n",
       " '5b5dd07e3570b70009337a1a',\n",
       " '5b5dd37a3570b7000b28607e',\n",
       " '5b5deb233570b7000b2863e2',\n",
       " '5b5ded863570b70009337d20',\n",
       " '5b5f072e47c65c000a2af008',\n",
       " '5b5f37706679c4000aa9b8b9',\n",
       " '5b5f48cb6679c4000aa9baad',\n",
       " '5b5f59cb6679c4000aa9bc74',\n",
       " '5b5f898c47c65c000a2afc01',\n",
       " '5b602c506679c4000aa9c2f1',\n",
       " '5b60ac6d6679c4000aa9ce9a',\n",
       " '5b61ceda47c65c000a3c44e1',\n",
       " '5b61ef6c6679c4000aa9e0d0',\n",
       " '5b6222fb04f71e000b491e33',\n",
       " '5b62c251c6f9ef000a40b2c3',\n",
       " '5b62cb1747c65c000a3c5044',\n",
       " '5b631a4904f71e000b49296a',\n",
       " '5b633bb047c65c000a3c5b25',\n",
       " '5b636fb847c65c000a3c5fe6',\n",
       " '5b63f9bf05ed4a000a622299',\n",
       " '5b641c4f05ed4a000cf03328',\n",
       " '5b6481cf04f71e000a993d41',\n",
       " '5b6499953e4409000b4d02aa',\n",
       " '5b65528304f71e000a9944da',\n",
       " '5b657a213e4409000b4d0aa9',\n",
       " '5b657c453e4409000909520c',\n",
       " '5b66bfe104f71e000a995d83',\n",
       " '5b66f3ee3e4409000909689f',\n",
       " '5b6712bb04f71e000b49606d',\n",
       " '5b6726a93e4409000909701e',\n",
       " '5b680f803e4409000b4d35f9',\n",
       " '5b6879503e44090009098199',\n",
       " '5b688d653e440900090983b9',\n",
       " '5b6963d604f71e000b497b21',\n",
       " '5b69705404f71e000b497c47',\n",
       " '5b6985053e44090009098dbe',\n",
       " '5b69c2593e440900090993cc',\n",
       " '5b69c2e43e440900090993d6',\n",
       " '5b69e6eb3e44090009099726',\n",
       " '5b6ab89d3e4409000b4d5cca',\n",
       " '5b6b201cf82124000b870423',\n",
       " '5b6b2af996ba5c000a1fae34',\n",
       " '5b6c056174f8f1000aef23ab',\n",
       " '5b6c0e9c74f8f1000c6551cd',\n",
       " '5b6c361374f8f1000c65567e',\n",
       " '5b6c4734ea40a1000b836fc8',\n",
       " '5b6c516b74f8f1000aef2c0e',\n",
       " '5b6c7088ea40a1000a81b089',\n",
       " '5b6c714aea40a1000a81b0c8',\n",
       " '5b6c7186ea40a1000a81b0e8',\n",
       " '5b6d5b4bea40a1000b837e9e',\n",
       " '5b6d9557f96390000b45b44d',\n",
       " '5b6db726ea40a1000b83876b',\n",
       " '5b6df684fdb592000b33bb4f',\n",
       " '5b6ec997fdb592000b33c2eb',\n",
       " '5b6fe7438e213e000be6ea7b',\n",
       " '5b702e54747d0b000c56d710',\n",
       " '5b7031908e213e000be6f3f4',\n",
       " '5b706b3f74f8f1000c65a63b',\n",
       " '5b70af1c8e213e000956f40b',\n",
       " '5b7192c574f8f1000c65b41b',\n",
       " '5b71a1e18e213e000956fd85',\n",
       " '5b71ad3b74f8f1000aef7c6d',\n",
       " '5b71af5a6f279a000a8e4c90',\n",
       " '5b7319648e213e000be72254',\n",
       " '5b73cfd874f8f1000aef915b',\n",
       " '5b73fdab74f8f1000c65d366',\n",
       " '5b7422d374f8f1000c65d702',\n",
       " '5b7477bf8e213e000be7348b',\n",
       " '5b748d4f74f8f1000aefa020',\n",
       " '5b754a513e727c000bed5e66',\n",
       " '5b7593564dd0ed000ab260e4',\n",
       " '5b761dbd3e727c000bed6dbd',\n",
       " '5b76a9b43e727c000bed7350',\n",
       " '5b76e19f3e727c000bed781d',\n",
       " '5b7715063e727c000a1e4fda',\n",
       " '5b78365a3e727c000bed8ee1',\n",
       " '5b786b323e727c000bed96d7',\n",
       " '5b7884481dad4e000c0118e5',\n",
       " '5b788bf21dad4e000c011927',\n",
       " '5b7974b61dad4e000c012444',\n",
       " '5b797b871dad4e000c012539',\n",
       " '5b798e865fe5560009e6e238',\n",
       " '5b79ce093e727c000bedb1ae',\n",
       " '5b79f3cd6eeb6e00094c3a87',\n",
       " '5b7a00ed3e727c000a1e7b25',\n",
       " '5b7a8e573e727c000bedb6a4',\n",
       " '5b7ad7673e727c000a1e841a',\n",
       " '5b7b06373e727c000a1e896e',\n",
       " '5b7bd6183e727c000a1e8f3d',\n",
       " '5b7bfbc86eeb6e00094c5228',\n",
       " '5b7c01f93e727c000bedcfd8',\n",
       " '5b7d38433e727c000bede096',\n",
       " '5b7dd3393e727c000bedee7c',\n",
       " '5b7f0d873e727c000bee026b',\n",
       " '5b7fc9663e727c000bee07ae',\n",
       " '5b81248d3e727c000bee2024',\n",
       " '5b8141edfc2bd3000ab44bfd',\n",
       " '5b81537c3e727c000a1edad3',\n",
       " '5b8186b9382561000c7c845f',\n",
       " '5b81df1b967597000a22dcbb',\n",
       " '5b82842bfc2bd3000c0d8039',\n",
       " '5b829076fc2bd3000c0d81de',\n",
       " '5b82c6d1fc2bd3000ab46be9',\n",
       " '5b82c7ecfc2bd3000c0d8c32',\n",
       " '5b83ed57fc2bd3000ab47c08',\n",
       " '5b84119cfc2bd3000c0da2ea',\n",
       " '5b841e7b72d3d8000cc6e6f2',\n",
       " '5b8510cb72d3d8000cc6f122',\n",
       " '5b851a8272d3d8000cc6f253',\n",
       " '5b852a9772d3d8000a10f171',\n",
       " '5b85455d72d3d8000cc6f5e6',\n",
       " '5b858d5772d3d8000cc6fede',\n",
       " '5b85907f72d3d8000cc6ff3b',\n",
       " '5b865fb6c912de000ad3e42c',\n",
       " '5b8675aefc2bd3000c0dc461',\n",
       " '5b86bd84c912de000cf2b49d',\n",
       " '5b86dc08c912de000cf2b862',\n",
       " '5b86ed2ec912de000cf2b9e6',\n",
       " '5b87ad35c912de000ad3f567',\n",
       " '5b87d9aafc2bd3000ab4afe4',\n",
       " '5b87fc1ac912de000ad3fc73',\n",
       " '5b8822b7c912de000cf2cca1',\n",
       " '5b890966c912de000ad40ab4',\n",
       " '5b892de76f3068000a8d885f',\n",
       " '5b897e996f3068000c5e2881',\n",
       " '5b8a7a156f3068000c5e3487',\n",
       " '5b8a83d06f3068000c5e35c0',\n",
       " '5b8abb91c912de000ad42fd3',\n",
       " '5b8ad92b6f3068000a8db09a',\n",
       " '5b8bcf78c912de000ad44064',\n",
       " '5b8c0dd66f3068000c5e5799',\n",
       " '5b8c17456f3068000c5e58ce',\n",
       " '5b8c76ddc912de000ad45137',\n",
       " '5b8cfc94c912de000cf32064',\n",
       " '5b8d0ec86f3068000c5e62fe',\n",
       " '5b8d20cec912de000cf323b8',\n",
       " '5b8d6c146f3068000a8ddf4e',\n",
       " '5b8d7109c912de000cf32c5f',\n",
       " '5b8d8132c912de000ad46336',\n",
       " '5b8e5fcec912de000ad46915',\n",
       " '5b8e61e4c912de000cf33463',\n",
       " '5b8e83f3c912de000cf3374e',\n",
       " '5b8e97c6c912de000ad46d25',\n",
       " '5b8f019ec912de000cf3456e',\n",
       " '5b8faa8e20982e000afc7045',\n",
       " '5b8fbbecd17edb000ca36539',\n",
       " '5b8fbcd7d17edb000ca36547',\n",
       " '5b90117a20982e000afc7b8b',\n",
       " '5b90122d20982e000cddf5f5',\n",
       " '5b9019d2d17edb000a26ea98',\n",
       " '5b901b6220982e000afc7caa',\n",
       " '5b90267e20982e000cddf7c7',\n",
       " '5b902b4f20982e000afc7e43',\n",
       " '5b90bf7b898dc1000b923be1',\n",
       " '5b913a3f898dc1000a096fd2',\n",
       " '5b915a06898dc1000a0975bd',\n",
       " '5b9179de3c416a000a6a404a',\n",
       " '5b918ae93c416a000a6a416d',\n",
       " '5b9242f23c416a000c4c20d3',\n",
       " '5b9255853c416a000c4c22e3',\n",
       " '5b928e58898dc1000a0987e7',\n",
       " '5b93a6923c416a000c4c3859',\n",
       " '5b93befd3c416a000a6a6320',\n",
       " '5b9414c13c416a000a6a709f',\n",
       " '5b94f8473c416a000a6a7ad1',\n",
       " '5b94fc693c416a000a6a7b82',\n",
       " '5b950098898dc1000b928977',\n",
       " '5b951a3e3c416a000a6a806e',\n",
       " '5b955eb71c6bc7000c2684a3',\n",
       " '5b956b50208964000ce8234c',\n",
       " '5b96392b5d519b000ad08111',\n",
       " '5b9639e45d519b000b1cb3e5',\n",
       " '5b97cd6ad0fd01000c825c91',\n",
       " '5b980c05d0fd01000a3f358c',\n",
       " '5b98122b8cbe8e000c992371',\n",
       " '5b990ca1d0fd01000c827358',\n",
       " '5b993c9cd0fd01000a3f4602',\n",
       " '5b998be08cbe8e000c993c99',\n",
       " '5b9a40228cbe8e000a6ea5f1',\n",
       " '5b9a4bcad0fd01000c828aa9',\n",
       " '5b9aa7e88cbe8e000c9950f3',\n",
       " '5b9ab1cfd0fd01000c829a71',\n",
       " '5b9ab9c68cbe8e000a6eb733',\n",
       " '5b9ad6788cbe8e000a6eb918',\n",
       " '5b9be4178cbe8e000c99672b',\n",
       " '5b9be4b705856c000b133d1f',\n",
       " '5b9bff3c8cbe8e000a6ed08f',\n",
       " '5b9c037fd0fd01000c82b759',\n",
       " '5b9ce77a8cbe8e000a6edc26',\n",
       " '5b9d35788cbe8e000c99818b',\n",
       " '5b9d584a8cbe8e000a6ef0ca',\n",
       " '5b9d5d9cd0fd01000a3f92fd',\n",
       " '5b9d683a8cbe8e000a6ef232',\n",
       " '5b9e09728cbe8e000c998b86',\n",
       " '5b9e253bd0fd01000a3f993d',\n",
       " '5b9e52b3d7f0b9000947c96f',\n",
       " '5b9e5425bed6b8000cfeefd2',\n",
       " '5b9e64b7d0fd01000a3fa1f1',\n",
       " '5b9e7447d0fd01000c82f04f',\n",
       " '5b9e75788cbe8e000a6f07bc',\n",
       " '5b9e7fadd0fd01000c82f2c6',\n",
       " '5b9e89a3fd47d70009259706',\n",
       " '5b9e9776d0fd01000a3faa98',\n",
       " '5b9f70578cbe8e000c99a9cb',\n",
       " '5b9f70698cbe8e000a6f18a7',\n",
       " '5b9fec638cbe8e000a6f2c76',\n",
       " '5ba0f7958cbe8e000a6f3d55',\n",
       " '5ba103d08cbe8e000c99c82e',\n",
       " '5ba13450d0fd01000a3fd5d4',\n",
       " '5ba13e2a8cbe8e000a6f4807',\n",
       " '5ba13e428cbe8e000a6f480e',\n",
       " '5ba20b4dd0fd01000a3fdf17',\n",
       " '5ba24f45d0fd01000c834580',\n",
       " '5ba269b806666a000a932fc0',\n",
       " '5ba276c9d0fd01000c834d21',\n",
       " '5ba2ba46d0fd01000a3ff309',\n",
       " '5ba3612dd0fd01000c835d9a',\n",
       " '5ba39bf9d0fd01000c836a12',\n",
       " '5ba3b5fd1fa877000c825115',\n",
       " '5ba3d61e06666a000a935152',\n",
       " '5ba3eacad0fd01000a400e2f',\n",
       " '5ba49d9806666a000a935b90',\n",
       " '5ba49f81d0fd01000c8381e7',\n",
       " '5ba4bd9a06666a000a936049',\n",
       " '5ba5185bee2f06000a4865d6',\n",
       " '5ba521d7630c94000a50ee7a',\n",
       " '5ba526eb7b52e3000a409428',\n",
       " '5ba60cf9a2642c000a67a3f3',\n",
       " '5ba61d8ea2642c000b551585',\n",
       " '5ba63bbf45a1ca000ac552e6',\n",
       " '5ba63f90a2642c000b551b04',\n",
       " '5ba79a6e20d12d000c1d2685',\n",
       " '5ba7baf61685b5000c041b8a',\n",
       " '5ba7ce9209f9e1000c8084e1',\n",
       " '5ba7d9ad1685b5000c04228c',\n",
       " '5ba8a33d990ad2000acea178',\n",
       " '5ba8b3311be938000c0a6d7e',\n",
       " '5ba8c7821be938000adcdf77',\n",
       " '5ba8cab41be938000adcdfdd',\n",
       " '5ba8e4f0990ad2000aceaa96',\n",
       " '5ba8f6fd990ad2000acead2e',\n",
       " '5ba9043d1be938000adce853',\n",
       " '5ba909f41d3976000a528f5d',\n",
       " '5ba93c011be938000adcf07d',\n",
       " '5ba9e23694b43e000c1dbdf7',\n",
       " '5baa0ad894b43e000a655ca3',\n",
       " '5baa28cb94b43e000c1dc5d6',\n",
       " '5baa3d4f94b43e000a656300',\n",
       " '5bab4bd394b43e000c1ddab9',\n",
       " '5bab4fe494b43e000c1ddb67',\n",
       " '5bab5af618d62f0009337c56',\n",
       " '5bab868218d62f000b34080c',\n",
       " '5babb60818d62f000b340f96',\n",
       " '5babc10318d62f000b341160',\n",
       " '5babc48018d62f000933895f',\n",
       " '5babcb1318d62f0009338a3a',\n",
       " '5bac8fbd94b43e000a6597ba',\n",
       " '5bace30b94b43e000c1dfda5',\n",
       " '5bacf0226d62c3000c3842c2',\n",
       " '5bad01986d62c3000a9fa113',\n",
       " '5bad083d94b43e000a65aac0',\n",
       " '5bad13a58c2ecc000ad159d7',\n",
       " '5bad3d20dfa9de000bb45911',\n",
       " '5bad5dbddfa9de000bb459e8',\n",
       " '5bade720dfa9de000ad16208',\n",
       " '5badee2835bbbd000bc3cd14',\n",
       " '5badeefcdfa9de000ad162cf',\n",
       " '5bae2adda5d3a8000c35a0ba',\n",
       " '5bae4a44dfa9de000ad16d5a',\n",
       " '5bae596f94b43e000c1e20c4',\n",
       " '5bae6c0694b43e000c1e2416',\n",
       " '5baf255c94b43e000a65d890',\n",
       " '5baf3e57dfa9de000bb47a49',\n",
       " '5baf400a94b43e000c1e2f91',\n",
       " '5baf5c6e94b43e000a65e0fb',\n",
       " '5baf5fc0dfa9de000bb47f70',\n",
       " '5baf6567abe3d7000a58e3d9',\n",
       " '5baf70fd94b43e000c1e384d',\n",
       " '5bafa28edfa9de000ad188b4',\n",
       " '5bafc50fdfa9de000ad18df4',\n",
       " '5baffef394b43e000c1e4c7e',\n",
       " '5bb0888094b43e000c1e513b',\n",
       " '5bb08e9d94b43e000a660103',\n",
       " '5bb0b26fc4ae5f000bef46b1',\n",
       " '5bb0e1d3dfa9de000bb4a69b',\n",
       " '5bb0e370dfa9de000ad1a014',\n",
       " '5bb0e66ff29d380009f62e60',\n",
       " '5bb0f04194b43e000a6614ee',\n",
       " '5bb0f380dfa9de000ad1a2f1',\n",
       " '5bb11a9c94b43e000c1e6abd',\n",
       " '5bb125a594b43e000c1e6bf5',\n",
       " '5bb152bcdfa9de000bb4b3bb',\n",
       " '5bb17c4394b43e000c1e6ec8',\n",
       " '5bb1d3d594b43e000c1e7147',\n",
       " '5bb1d86794b43e000c1e71cf',\n",
       " '5bb1f14edfa9de000bb4b8d3',\n",
       " '5bb20721dfa9de000ad1b124',\n",
       " '5bb262ffdfa9de000bb4c735',\n",
       " '5bb2692bdfa9de000bb4c7dd',\n",
       " '5bb27c67dfa9de000bb4c9ce',\n",
       " '5bb3306b076499000ba1c9fa',\n",
       " '5bb33b4e0d6402000ab2cb13',\n",
       " '5bb342c7076499000a81e0e1',\n",
       " '5bb3553d076499000ba1cef6',\n",
       " '5bb37a27076499000a81e803',\n",
       " '5bb3b5260d6402000ab2e127',\n",
       " '5bb47646cea867000c0f79f1',\n",
       " '5bb4ae21cea867000a9004b0',\n",
       " '5bb4b864cea867000a90060c',\n",
       " '5bb4f067cea867000c0f8ada',\n",
       " '5bb5114bcea867000c0f904a',\n",
       " '5bb51350cea867000a901227',\n",
       " '5bb51577cea867000c0f90d6',\n",
       " '5bb62cf4cea867000a9021a7',\n",
       " '5bb63ad74a2039000c0699a3',\n",
       " '5bb65a8db16825000ae554dd',\n",
       " '5bb660cacea867000a902888',\n",
       " '5bb67509b16825000b437324',\n",
       " '5bb69175cea867000a902b57',\n",
       " '5bb70cc9cea867000c0faf5c',\n",
       " '5bb73b60cea867000a9032d3',\n",
       " '5bb760aab16825000ae5650b',\n",
       " '5bb7bbf4cea867000c0fc9eb',\n",
       " '5bb8948dcf88c8000a09f3be',\n",
       " '5bb8b063cf88c8000b5c8226',\n",
       " '5bb8edbecea867000a905b29',\n",
       " '5bb8f3f90800e6000a9319a2',\n",
       " '5bb9c1e6d27904000a538707',\n",
       " '5bb9f765d27904000a538e8b',\n",
       " '5bba4840cea867000a907c89',\n",
       " '5bba6579d27904000a539fce',\n",
       " '5bbb0db3cea867000a90868c',\n",
       " '5bbb1deacea867000c101603',\n",
       " '5bbb63373c349a000bb72907',\n",
       " '5bbb6f6f8e4184000ab017ec',\n",
       " '5bbb7dc96207d9000aa3fb5b',\n",
       " '5bbbae38cea867000c103405',\n",
       " '5bbc6c6ecea867000c103ae3',\n",
       " '5bbc6dcbcea867000a90b0b1',\n",
       " '5bbc91888e4184000ce3b198',\n",
       " '5bbdf2b08e4184000ab05681',\n",
       " '5bbe0f3f8e4184000ce3d871',\n",
       " '5bbe445ccd52c3000cc91656',\n",
       " '5bbe4647cea867000a90e8d4',\n",
       " '5bbe7c698e4184000ab0693c',\n",
       " '5bbefb76cea867000c107dc0',\n",
       " '5bbf76058e4184000ce3f870',\n",
       " '5bbf7726cea867000c109006',\n",
       " '5bbf7804cea867000c109039',\n",
       " '5bbf78c8cea867000c109066',\n",
       " '5bbf9eb78e4184000ab084f7',\n",
       " '5bc05373cea867000c109df9',\n",
       " '5bc09b2ea99deb000c7773ca',\n",
       " '5bc0e683cea867000a912389',\n",
       " '5bc1a60867b34c000cca7206',\n",
       " '5bc1e64867b34c000cca8023',\n",
       " '5bc2292b67b34c000a4cbaeb',\n",
       " '5bc2fd9667b34c000cca9fa4',\n",
       " '5bc32a05b37e73000af9ae2b',\n",
       " '5bc3496c67b34c000a4cd49f',\n",
       " '5bc3686ab37e73000cb574b2',\n",
       " '5bc48942437e37000aec257a',\n",
       " '5bc4e5b6437e37000aec341b',\n",
       " '5bc6f8a7437e37000aec5974',\n",
       " '5bc70347437e37000c4e77fb',\n",
       " '5bc704c98d16d90009b3dd25',\n",
       " '5bc736a2437e37000aec60f0',\n",
       " '5bc743238d16d9000a91f4b2',\n",
       " '5bc856498d16d9000a9210cf',\n",
       " '5bc88eea8d16d9000a9219ec',\n",
       " '5bc8bd588d16d9000a922379',\n",
       " '5bc8cb188d16d90009b41183',\n",
       " '5bca0fc4437e37000aecadb9',\n",
       " '5bca16eb8d16d90009b42fe0',\n",
       " '5bcadbe8437e37000aecb8a6',\n",
       " '5bcaebb7437e37000aecbaa4',\n",
       " '5bcafb988d16d90009b43dd3',\n",
       " '5bcaffc18d16d90009b43ec4',\n",
       " '5bcb038d8d16d90009b43f41',\n",
       " '5bcb0e3f911ae0000c1fdf97',\n",
       " '5bcb171302cbbe000a6c90b2',\n",
       " '5bcb29ef437e37000c4ee646',\n",
       " '5bcc3aec8d16d90009b45d44',\n",
       " '5bcc43578d16d90009b45e50',\n",
       " '5bcc75a58d16d9000a927fe0',\n",
       " '5bcca7148d16d90009b47023',\n",
       " '5bcca8a4437e37000c4f12ab',\n",
       " '5bccace4437e37000aecf4c1',\n",
       " '5bccc2cf8d16d9000a928f45',\n",
       " '5bcd58778d16d9000a9294dc',\n",
       " '5bcd718c437e37000c4f1c87',\n",
       " '5bcd9dfb437e37000aed04a1',\n",
       " '5bce09448d16d9000a92aa64',\n",
       " '5bce115f8d16d9000a92ab92',\n",
       " '5bce16f08d16d90009b48ee0',\n",
       " '5bce21ef8d16d9000a92adae',\n",
       " '5bce23128d16d9000a92adee',\n",
       " '5bce3b7e8d16d9000a92aff7',\n",
       " '5bcee862437e37000c4f3a79',\n",
       " '5bcef4bf8d16d90009b49933',\n",
       " '5bcf01558d16d9000a92b823',\n",
       " '5bcf1336770a6e0009833be5',\n",
       " '5bcf3aee770a6e000983414f',\n",
       " '5bcf3e99770a6e0009834274',\n",
       " '5bcf458cbe11a9000ac9f8d4',\n",
       " '5bcfa4258d16d9000a92cda9',\n",
       " '5bd02c768d16d90009b4b101',\n",
       " '5bd08be68d16d90009b4bc30',\n",
       " '5bd0a38ebe11a9000cc49131',\n",
       " '5bd0ace630061e000ca10b3d',\n",
       " '5bd1a5b88d16d9000a92f0fb',\n",
       " '5bd1b0d58d16d90009b4d21e',\n",
       " '5bd1bd258d16d9000a92f364',\n",
       " '5bd1d12b8d16d90009b4d62f',\n",
       " '5bd22f098d16d90009b4e1ef',\n",
       " '5bd2c39c8d16d9000a9305c6',\n",
       " '5bd33b1a8d16d9000a931830',\n",
       " '5bd341028d16d90009b4f55d',\n",
       " '5bd34732be11a9000cc4c21e',\n",
       " '5bd3536dbe11a9000cc4c3c5',\n",
       " '5bd3741bbe11a9000aca5b7e',\n",
       " '5bd4b3628d16d9000a93460c',\n",
       " '5bd4eb58be11a9000aca7f99',\n",
       " '5bd57afe8d16d9000a934e6d',\n",
       " '5bd5afb123f571000ca64d0e',\n",
       " '5bd5d73d8d16d90009b52fd1',\n",
       " '5bd5da7f8d16d9000a9360d6',\n",
       " '5bd5f3bbb0245d000c341b2e',\n",
       " '5bd5f55fbe11a9000cc5093e',\n",
       " '5bd5f9cd03fcf8000b682c58',\n",
       " '5bd6003dbe11a9000aca9a30',\n",
       " '5bd6cc9529607e000cae82b5',\n",
       " '5bd6fed729607e000cae878f',\n",
       " '5bd745e1635a360009e9c1cd',\n",
       " '5bd7541f29607e000aba272a',\n",
       " '5bd839ba56404600090b4b0c',\n",
       " '5bd83bd929607e000aba3069',\n",
       " '5bd85dfb978cab000ad99018',\n",
       " '5bd8b9ac978cab000ad99c86',\n",
       " '5bd8db6e01e0fe000c88b153',\n",
       " '5bd8f7d9978cab000c3b9b96',\n",
       " '5bd93fcc01e0fe000c88b295',\n",
       " '5bd9a35f978cab000c3ba468',\n",
       " '5bda0936978cab000c3bb266',\n",
       " '5bda17d301e0fe000c88cd37',\n",
       " '5bdab062978cab000ad9b937',\n",
       " '5bdb33cb470331000a6d0e00',\n",
       " '5bdb402d01e0fe000c88e451',\n",
       " '5bdb53f801e0fe000aaf0bcc',\n",
       " '5bdb6ebd978cab000c3bcc78',\n",
       " '5bdc2210978cab000c3bd0db',\n",
       " '5bdc541f978cab000c3bd722',\n",
       " '5bdcad3701e0fe000c8906c6',\n",
       " '5bdcccef978cab000c3bea0f',\n",
       " '5bdd6791978cab000ad9f314',\n",
       " '5bdd955c978cab000ad9fb9d',\n",
       " '5bdec8b601e0fe000c8932c3',\n",
       " '5bdf2c2e978cab000c3c255f',\n",
       " '5bdf4c5aa752a9000bd227a5',\n",
       " '5be0b85501e0fe000aaf8fbe',\n",
       " '5be1bb33978cab000ada66bf',\n",
       " '5be1daab01e0fe000aafa690',\n",
       " '5be2ba6e01e0fe000c898f54',\n",
       " '5be2e37301e0fe000aafbcb2',\n",
       " '5be3180e978cab000ada91dd',\n",
       " '5be321d031eb6c000a90da31',\n",
       " '5be34b77c35d68000a9e10ca',\n",
       " '5be34eb9978cab000ada9bd6',\n",
       " '5be36624c35d68000c58f683',\n",
       " '5be469aac35d68000a9e2b29',\n",
       " '5be4736d978cab000c3c9f93',\n",
       " '5be47b5a978cab000c3ca178',\n",
       " '5be493ca978cab000adabe3d',\n",
       " '5be53551978cab000c3ca94b',\n",
       " '5be5929f978cab000adacf4f',\n",
       " '5be59537978cab000adacfbc',\n",
       " '5be5a205c35d68000a9e45a8',\n",
       " '5be5a802c35d68000c592c92',\n",
       " '5be5bacec35d68000a9e4bcc',\n",
       " '5be5bc5fc35d68000a9e4c36',\n",
       " '5be5d8e5529366000a316137',\n",
       " '5be5e378529366000a3162f6',\n",
       " '5be6af079f3c90000c695f7e',\n",
       " '5be6bae2bc2662000a827e29',\n",
       " '5be6be78291592000a7d34c1',\n",
       " '5be6d12746a0720009674f1d',\n",
       " '5be6e6e1529366000a317ad2',\n",
       " '5be7116e529366000b3fc3dd',\n",
       " '5be71bbe978cab000c3cdecb',\n",
       " '5be72f3f529366000a3189b4',\n",
       " '5be84428978cab000adb2a36',\n",
       " '5be85d49978cab000c3cfd44',\n",
       " '5be86aa8529366000b3fea48',\n",
       " '5be86e8f978cab000adb3327',\n",
       " '5be96180529366000a31bbab',\n",
       " '5be98c019db387000a19a75d',\n",
       " '5be9b25c579acc000adf8538',\n",
       " '5be9cf15978cab000adb593a',\n",
       " '5be9e721978cab000adb5c8d',\n",
       " '5bea9e97978cab000adb6443',\n",
       " '5beaaada529366000b4013d4',\n",
       " '5beb1396529366000a31ea35',\n",
       " '5beb3598978cab000adb7d6d',\n",
       " '5bec38450b4a25000c5a80d8',\n",
       " '5bec5e4e529366000a3209ef',\n",
       " '5bec61d80b4a25000c5a8901',\n",
       " '5bec8c800b4a25000a826712',\n",
       " '5bec9ceb0b4a25000c5a9036',\n",
       " '5bed32b90b4a25000c5a946e',\n",
       " '5bed6cb10b4a25000a827598',\n",
       " '5bed8aa10b4a25000c5aa2d8',\n",
       " '5bedb8d6529366000b405daf',\n",
       " '5bedc03a529366000a323075',\n",
       " '5bedd1d6529366000b406211',\n",
       " '5bedd6540b4a25000a8285b8',\n",
       " '5bede7520b4a25000a82878a',\n",
       " '5beed5e5529366000b40716e',\n",
       " '5bef0a790b4a25000a829d9d',\n",
       " '5bef1a4a529366000a325218',\n",
       " '5befea730b4a25000a82aa2a',\n",
       " '5befef9a0af696000c1e32af',\n",
       " '5bf02334529366000b409490',\n",
       " '5bf06800529366000b40a511',\n",
       " '5bf06c5c529366000a327351',\n",
       " '5bf074ed0b4a25000c5af7a9',\n",
       " '5bf09679529366000b40ab76',\n",
       " '5bf156a50b4a25000a82d222',\n",
       " '5bf180aa6b8564000ccc14df',\n",
       " '5bf1e4600b4a25000c5b1f46',\n",
       " '5bf1f3130b4a25000c5b1fe6',\n",
       " '5bf2822d529366000b40d5c7',\n",
       " '5bf2a12d529366000a329fe5',\n",
       " '5bf2d4ad12b288000c46c859',\n",
       " '5bf2f9be12b288000c46ce06',\n",
       " '5bf3fb8f12b288000c46dd0b',\n",
       " '5bf44611d2c57f000d6000f1',\n",
       " '5bf484ed12b288000aae8f3f',\n",
       " '5bf5288c12b288000aae94bc',\n",
       " '5bf52d9bd2c57f000d600e88',\n",
       " '5bf5777fd2c57f000d60182b',\n",
       " '5bf598bfd2c57f000d601df8',\n",
       " '5bf64309d2c57f000b551712',\n",
       " '5bf6803f12b288000c470b21',\n",
       " '5bf6e423e60866000a9a1f1e',\n",
       " '5bf6fbff12b288000c471c45',\n",
       " '5bf7389712b288000c4720b4',\n",
       " '5bf837d812b288000c473364',\n",
       " '5bf8404212b288000aaed998',\n",
       " '5bf843ca01f11b000b5eb70a',\n",
       " '5bf859a312b288000aaedd8c',\n",
       " '5bf93849d2c57f000b5552ba',\n",
       " '5bf97385d2c57f000d6073e3',\n",
       " '5bf994f912b288000c475a7b',\n",
       " '5bf9a5b8d2c57f000d607ee9',\n",
       " '5bf9c1a412b288000aaf0211',\n",
       " '5bfa868dd2c57f000b55738e',\n",
       " '5bfa9e14576fbd000acc3ea9',\n",
       " '5bfa9e5812b288000c476f96',\n",
       " '5bfaef40d2c57f000d60a062',\n",
       " '5bfbc93cd2c57f000b558f56',\n",
       " '5bfbe8cc195c9b000a11d81b',\n",
       " '5bfc40c3d2c57f000d60bbc5',\n",
       " '5bfc554712b288000c479da9',\n",
       " '5bfd1241e54a5a000ab2e944',\n",
       " '5bfd41c312b288000aaf4407',\n",
       " '5bfd782812b288000c47ae8f',\n",
       " '5bfd839a12b288000c47b0b2',\n",
       " '5bfdbe2a12b288000aaf5737',\n",
       " '5bfea5ee7b53e7000c29410d',\n",
       " '5bfec80a6c177a000a6e0911',\n",
       " '5bff036f6c177a000a6e1250',\n",
       " '5bff72ff7b53e7000c2953f9',\n",
       " '5bffbd756c177a000a6e1a54',\n",
       " '5bffc5a87b53e7000a7be014',\n",
       " '5c00054b7b53e7000a7be886',\n",
       " '5c0021d9a3a7c6000b799ca4',\n",
       " '5c00229ca54dc1000bbde635',\n",
       " '5c0038036c177a000a6e2ef1',\n",
       " '5c003bd97b53e7000a7bf1c9',\n",
       " '5c0106a17b53e7000a7bfadb',\n",
       " '5c0109a36c177a000a6e394c',\n",
       " '5c0169620ca391000c15015f',\n",
       " '5c025f416c177a000a6e5b12',\n",
       " '5c0264747b53e7000a7c1bc9',\n",
       " '5c02fca97b53e7000a7c355c',\n",
       " '5c0340477b53e7000a7c3897',\n",
       " '5c0383da7b53e7000c29b7e1',\n",
       " '5c03b2bc7b53e7000c29bbf8',\n",
       " '5c03ec956c177a000a6e8d66',\n",
       " '5c03ef98015473000cd81520',\n",
       " '5c03ff9d6c177a000b42a5c5',\n",
       " '5c041aee7b53e7000a7c50f2',\n",
       " '5c0424fb6c177a000b42ac98',\n",
       " '5c0435666c177a000a6e9c7a',\n",
       " '5c046cc47b53e7000a7c5a7e',\n",
       " '5c04df8c6c177a000a6ea3b0',\n",
       " '5c065e94378429000b304672',\n",
       " '5c06eb957b53e7000c2a1522',\n",
       " '5c07108e6c177a000b42ee1c',\n",
       " '5c071a627b53e7000c2a179e',\n",
       " '5c07bdcd7b53e7000a7ca36f',\n",
       " '5c083f596c177a000a6effee',\n",
       " '5c08e4827b53e7000a7cbae6',\n",
       " '5c094b1c60e956000bd3fcde',\n",
       " '5c0952c87b53e7000c2a4990',\n",
       " '5c0960576c177a000a6f15fc',\n",
       " '5c0962fc6c177a000b432286',\n",
       " '5c099c9e7b53e7000c2a546e',\n",
       " '5c0a6d707b53e7000a7cdf7c',\n",
       " '5c0a76ff6c177a000b433761',\n",
       " '5c0aad4a7b53e7000a7ce9ea',\n",
       " '5c0aecdd7b53e7000a7cf272',\n",
       " '5c0b7fd87b53e7000a7cf70e',\n",
       " '5c0b8c807b53e7000a7cf84c',\n",
       " '5c0bafcc6c177a000b435480',\n",
       " '5c0be1596c177a000a6f535a',\n",
       " '5c0c2bb66c177a000a6f637e',\n",
       " '5c0c30fd6c177a000b436cd4',\n",
       " '5c0c38016c177a000a6f64c5',\n",
       " '5c0d2ea8afe14e000a0ad5ed',\n",
       " '5c0d2fd06c177a000b4383f8',\n",
       " '5c0d488aec11e6000bf91636',\n",
       " '5c0e56276c177a000a6f8fb4',\n",
       " '5c0e8f1c6c177a000b43a5bb',\n",
       " '5c0f8d5f6c177a000b43b81d',\n",
       " '5c0fa1466c177a000a6fa868',\n",
       " '5c0ffb2c6c177a000b43c7c1',\n",
       " '5c1000166c177a000b43c891',\n",
       " '5c10e0717b53e7000a7d6cf8',\n",
       " '5c11076c7b53e7000c2b0372',\n",
       " '5c111f837b53e7000a7d740e',\n",
       " '5c1120387b53e7000a7d741d',\n",
       " '5c1192a17b53e7000c2b14b5',\n",
       " '5c1248f97b53e7000a7d882d',\n",
       " '5c127ac40c2215000ad7ebac',\n",
       " '5c12a5620c2215000bb677a9',\n",
       " '5c13fb380c2215000bb695b0',\n",
       " '5c14d6ff0c2215000ad818a9',\n",
       " '5c14e5de7b53e7000a7dc084',\n",
       " '5c14e9970c2215000bb6a563',\n",
       " '5c14ed020c2215000bb6a60b',\n",
       " '5c1540de0c2215000bb6b63d',\n",
       " '5c1572727b53e7000c2b69e8',\n",
       " '5c163fd53a8b0c00091fc2cc',\n",
       " '5c16813a7b53e7000c2b80c9',\n",
       " '5c168e892b1217000aeab57f',\n",
       " '5c1695ba7b53e7000a7ded4a',\n",
       " '5c16a9f00c2215000ad84ea4',\n",
       " '5c16b6147b53e7000a7df19c',\n",
       " '5c1821a7094b86000c9034a0',\n",
       " '5c18c1947b53e7000a7e0fbb',\n",
       " '5c18dcba7b53e7000a7e12b5',\n",
       " '5c1939d2094b86000c904501',\n",
       " '5c1a0664094b86000ab88c9a',\n",
       " '5c1a82716dc1f2000bdbd2f0',\n",
       " '5c1a9df4094b86000c905fa8',\n",
       " '5c1bd786573a87000a61e3a6',\n",
       " '5c1bfb9b573a87000a61e939',\n",
       " '5c1d478e573a87000c8a5820',\n",
       " '5c1e5a9836faaa000b50b855',\n",
       " '5c1e840d36faaa000b50beb1',\n",
       " '5c1f9fba573a87000c8a837f',\n",
       " '5c1fa4ac573a87000a623a59',\n",
       " '5c209e3e573a87000c8a9167',\n",
       " '5c20ee7d36faaa000b50e167',\n",
       " '5c22672b573a87000a626179',\n",
       " '5c24d5216eed7b000a781f0b',\n",
       " '5c251fea3740cc000a199c63',\n",
       " '5c25417936faaa000d100e68',\n",
       " '5c25e83a573a87000c8aed22',\n",
       " '5c262787573a87000c8af40b',\n",
       " '5c265f28573a87000c8afbd4',\n",
       " '5c2661ef36faaa000b513ed0',\n",
       " '5c266f5836faaa000b5140c8',\n",
       " '5c274d50573a87000c8b0985',\n",
       " '5c276397573a87000a62c837',\n",
       " '5c2798e936faaa000b5154af',\n",
       " '5c27afd0573a87000a62d615',\n",
       " '5c27cf0b36faaa000b515e45',\n",
       " '5c27d04436faaa000b515e82',\n",
       " '5c28b45036faaa000b516875',\n",
       " '5c28c20436faaa000b516a30',\n",
       " '5c2902eb36faaa000d1062b6',\n",
       " '5c2a1594573a87000c8b4652',\n",
       " '5c2a50f2573a87000c8b4da3',\n",
       " '5c2b66df573a87000c8b60cb',\n",
       " '5c2b672122db08000a102f73',\n",
       " '5c2b91661c875b000cb8ec7a',\n",
       " '5c2b95ec573a87000a632fe2',\n",
       " '5c2e63f0e5b689000a31a6a8',\n",
       " '5c2f8bb0cc6a54000a14f56c',\n",
       " '5c2f92b242a838000cae03f1',\n",
       " '5c2fcc18e5b689000a31c886',\n",
       " '5c30aaa736faaa000d11122d',\n",
       " '5c30ac4136faaa000b521099',\n",
       " '5c30d71236faaa000b5217ea',\n",
       " '5c30f19b36faaa000b521d5d',\n",
       " '5c31132736faaa000d112299',\n",
       " '5c3115bae5b689000b0a3256',\n",
       " '5c311e24e5b689000a31eb70',\n",
       " '5c31aba4e5b689000a31ef93',\n",
       " '5c322e91e5b689000b0a4724',\n",
       " '5c337962e5b689000b0a60bb',\n",
       " '5c3380ba36faaa000d11507c',\n",
       " '5c33ab9e36faaa000b525a07',\n",
       " '5c33b41ce5b689000a3223fc',\n",
       " '5c34cebf5b0114000c5d6859',\n",
       " '5c351cf1ab3259000ab4dcbd',\n",
       " '5c35a3fcab3259000c801ea6',\n",
       " '5c361347a714e7000a2526e2',\n",
       " '5c362ec3ab3259000c802e7a',\n",
       " '5c373ac4a714e7000c009a7e',\n",
       " '5c37e867a714e7000c00ac50',\n",
       " '5c382f13a714e7000c00ac9f',\n",
       " '5c38cd4314235c000cf04775',\n",
       " '5c39c86c4b6b3b000ae00653',\n",
       " '5c3a08a4a714e7000c00d37f',\n",
       " '5c3a132e4b6b3b000ae011ea',\n",
       " '5c3a42a54b6b3b000ae0198b',\n",
       " '5c3a75854b6b3b000ae01e29',\n",
       " '5c3b44ea4b6b3b000ae02b71',\n",
       " '5c3b50fcc374e7000a1712ec',\n",
       " '5c3b542d4b6b3b000ae02dbd',\n",
       " '5c3b9af74b6b3b000ae0394c',\n",
       " '5c3ba1d3a714e7000a25b053',\n",
       " '5c3c854f4b6b3b000c2d05bb',\n",
       " '5c3cac704b6b3b000ae04c85',\n",
       " '5c3db9714b6b3b000c2d1c46',\n",
       " '5c3e20e04b6b3b000ae06c06',\n",
       " '5c3ef7f44b6b3b000ae07747',\n",
       " '5c3efb47a714e7000c012f63',\n",
       " '5c3f13144b6b3b000ae07a4e',\n",
       " '5c3f49274d5f07000b2bd224',\n",
       " '5c3f724c4b6b3b000ae08805',\n",
       " '5c40995f4b6b3b000c2d5689',\n",
       " '5c4102c14b6b3b000ae0b44c',\n",
       " '5c41967ecf4be4000c040f69',\n",
       " '5c4201cb3c9ce1000aeb6876',\n",
       " '5c4222f8a714e7000a2653b0',\n",
       " '5c42320fa714e7000c017069',\n",
       " '5c426015a714e7000a265bef',\n",
       " '5c4305ef4b6b3b000ae0e799',\n",
       " '5c432434a714e7000a266c47',\n",
       " '5c4332b84b6b3b000c2d8314',\n",
       " '5c436139a714e7000a26796e',\n",
       " '5c4369eda714e7000a267b3b',\n",
       " '5c436a9f4b6b3b000ae0fe07',\n",
       " '5c436d3aa714e7000a267bf5',\n",
       " '5c4389f7a714e7000a2680f6',\n",
       " '5c43ba05a714e7000a2685af',\n",
       " '5c44c1d84b6b3b000ae12854',\n",
       " '5c44d600a714e7000c01a859',\n",
       " '5c4593ca4b6b3b000ae13677',\n",
       " '5c459a044b6b3b000ae13761',\n",
       " '5c45ad29a714e7000c01b0a7',\n",
       " '5c45adbca714e7000a26b5f0',\n",
       " '5c45c46d4b6b3b000ae13ed9',\n",
       " '5c45da654b6b3b000c2dbaf3',\n",
       " '5c45e95ca714e7000a26c1cf',\n",
       " '5c45f19f4b6b3b000ae146e5',\n",
       " '5c45f93ea714e7000c01bb27',\n",
       " '5c45fbb14b6b3b000c2dc06a',\n",
       " '5c462637a714e7000c01c2c5',\n",
       " '5c46e9c7a714e7000a26d903',\n",
       " '5c4700fca714e7000a26dd19',\n",
       " '5c4747ae4b6b3b000ae16cd7',\n",
       " '5c47588100b046000a6c109e',\n",
       " '5c476900a714e7000a26f144',\n",
       " '5c47696d4b6b3b000ae174ce',\n",
       " '5c4795674b6b3b000ae17c07',\n",
       " '5c4803784b6b3b000ae17ec8',\n",
       " '5c48285a3e0b47000ceada9f',\n",
       " '5c483d01a714e7000c01e42c',\n",
       " ...]"
      ]
     },
     "execution_count": 13,
     "metadata": {},
     "output_type": "execute_result"
    }
   ],
   "source": [
    "missing_data=[]\n",
    "for i in b:\n",
    "    if i not in a:\n",
    "        missing_data.append(i)\n",
    "missing_data"
   ]
  },
  {
   "cell_type": "code",
   "execution_count": 14,
   "metadata": {
    "ExecuteTime": {
     "end_time": "2021-02-07T15:58:40.221924Z",
     "start_time": "2021-02-07T15:58:40.209927Z"
    }
   },
   "outputs": [
    {
     "data": {
      "text/plain": [
       "3311"
      ]
     },
     "execution_count": 14,
     "metadata": {},
     "output_type": "execute_result"
    }
   ],
   "source": [
    "len(missing_data)"
   ]
  },
  {
   "cell_type": "code",
   "execution_count": 15,
   "metadata": {
    "ExecuteTime": {
     "end_time": "2021-02-07T15:58:40.236922Z",
     "start_time": "2021-02-07T15:58:40.223926Z"
    }
   },
   "outputs": [],
   "source": [
    "missing_data=pd.DataFrame(missing_data,columns=['User ID'])"
   ]
  },
  {
   "cell_type": "code",
   "execution_count": 16,
   "metadata": {
    "ExecuteTime": {
     "end_time": "2021-02-07T15:58:40.251958Z",
     "start_time": "2021-02-07T15:58:40.238925Z"
    }
   },
   "outputs": [
    {
     "data": {
      "text/html": [
       "<div>\n",
       "<style scoped>\n",
       "    .dataframe tbody tr th:only-of-type {\n",
       "        vertical-align: middle;\n",
       "    }\n",
       "\n",
       "    .dataframe tbody tr th {\n",
       "        vertical-align: top;\n",
       "    }\n",
       "\n",
       "    .dataframe thead th {\n",
       "        text-align: right;\n",
       "    }\n",
       "</style>\n",
       "<table border=\"1\" class=\"dataframe\">\n",
       "  <thead>\n",
       "    <tr style=\"text-align: right;\">\n",
       "      <th></th>\n",
       "      <th>User ID</th>\n",
       "    </tr>\n",
       "  </thead>\n",
       "  <tbody>\n",
       "    <tr>\n",
       "      <th>0</th>\n",
       "      <td>556202537f84a43ac29ec7cb</td>\n",
       "    </tr>\n",
       "    <tr>\n",
       "      <th>1</th>\n",
       "      <td>57b5a1c7791b5a4aafe403ef</td>\n",
       "    </tr>\n",
       "    <tr>\n",
       "      <th>2</th>\n",
       "      <td>5840920d79f65102d70ede18</td>\n",
       "    </tr>\n",
       "    <tr>\n",
       "      <th>3</th>\n",
       "      <td>58653b9279f65127b206770e</td>\n",
       "    </tr>\n",
       "    <tr>\n",
       "      <th>4</th>\n",
       "      <td>58d7fba58033271c5a3a9caf</td>\n",
       "    </tr>\n",
       "    <tr>\n",
       "      <th>...</th>\n",
       "      <td>...</td>\n",
       "    </tr>\n",
       "    <tr>\n",
       "      <th>3306</th>\n",
       "      <td>5f762fb1fd6b85d071d65228</td>\n",
       "    </tr>\n",
       "    <tr>\n",
       "      <th>3307</th>\n",
       "      <td>5f7849898c0a1d38c21b53b1</td>\n",
       "    </tr>\n",
       "    <tr>\n",
       "      <th>3308</th>\n",
       "      <td>5f7eea19b461d6ab65fcde83</td>\n",
       "    </tr>\n",
       "    <tr>\n",
       "      <th>3309</th>\n",
       "      <td>5f80d6e62792b18d4381dad2</td>\n",
       "    </tr>\n",
       "    <tr>\n",
       "      <th>3310</th>\n",
       "      <td>5f842675751eb1dd8b080c47</td>\n",
       "    </tr>\n",
       "  </tbody>\n",
       "</table>\n",
       "<p>3311 rows × 1 columns</p>\n",
       "</div>"
      ],
      "text/plain": [
       "                       User ID\n",
       "0     556202537f84a43ac29ec7cb\n",
       "1     57b5a1c7791b5a4aafe403ef\n",
       "2     5840920d79f65102d70ede18\n",
       "3     58653b9279f65127b206770e\n",
       "4     58d7fba58033271c5a3a9caf\n",
       "...                        ...\n",
       "3306  5f762fb1fd6b85d071d65228\n",
       "3307  5f7849898c0a1d38c21b53b1\n",
       "3308  5f7eea19b461d6ab65fcde83\n",
       "3309  5f80d6e62792b18d4381dad2\n",
       "3310  5f842675751eb1dd8b080c47\n",
       "\n",
       "[3311 rows x 1 columns]"
      ]
     },
     "execution_count": 16,
     "metadata": {},
     "output_type": "execute_result"
    }
   ],
   "source": [
    "missing_data"
   ]
  },
  {
   "cell_type": "code",
   "execution_count": 17,
   "metadata": {
    "ExecuteTime": {
     "end_time": "2021-02-07T15:58:40.314934Z",
     "start_time": "2021-02-07T15:58:40.253926Z"
    }
   },
   "outputs": [],
   "source": [
    "df3=pd.merge(df2,missing_data,how='inner',on=['User ID'])"
   ]
  },
  {
   "cell_type": "code",
   "execution_count": 18,
   "metadata": {
    "ExecuteTime": {
     "end_time": "2021-02-07T15:58:40.346927Z",
     "start_time": "2021-02-07T15:58:40.316925Z"
    },
    "scrolled": true
   },
   "outputs": [
    {
     "data": {
      "text/html": [
       "<div>\n",
       "<style scoped>\n",
       "    .dataframe tbody tr th:only-of-type {\n",
       "        vertical-align: middle;\n",
       "    }\n",
       "\n",
       "    .dataframe tbody tr th {\n",
       "        vertical-align: top;\n",
       "    }\n",
       "\n",
       "    .dataframe thead th {\n",
       "        text-align: right;\n",
       "    }\n",
       "</style>\n",
       "<table border=\"1\" class=\"dataframe\">\n",
       "  <thead>\n",
       "    <tr style=\"text-align: right;\">\n",
       "      <th></th>\n",
       "      <th>Purchases Time Delivered</th>\n",
       "      <th>Product line</th>\n",
       "      <th>User ID</th>\n",
       "      <th>Purchase ID</th>\n",
       "      <th>Venue ID</th>\n",
       "    </tr>\n",
       "  </thead>\n",
       "  <tbody>\n",
       "    <tr>\n",
       "      <th>0</th>\n",
       "      <td>2020-07-01</td>\n",
       "      <td>Retail store</td>\n",
       "      <td>556202537f84a43ac29ec7cb</td>\n",
       "      <td>5f0aec594c3cbeb4049ea36a</td>\n",
       "      <td>5ec2ab4401f812138e435c89</td>\n",
       "    </tr>\n",
       "    <tr>\n",
       "      <th>1</th>\n",
       "      <td>2020-07-01</td>\n",
       "      <td>Retail store</td>\n",
       "      <td>556202537f84a43ac29ec7cb</td>\n",
       "      <td>5f184a3c88046da058c5ed1d</td>\n",
       "      <td>5ec2ab4401f812138e435c89</td>\n",
       "    </tr>\n",
       "    <tr>\n",
       "      <th>2</th>\n",
       "      <td>2020-10-01</td>\n",
       "      <td>Restaurant</td>\n",
       "      <td>57b5a1c7791b5a4aafe403ef</td>\n",
       "      <td>5f85cf115a38e7d584abeff6</td>\n",
       "      <td>5e779ec5c96b9193eb284c14</td>\n",
       "    </tr>\n",
       "    <tr>\n",
       "      <th>3</th>\n",
       "      <td>2020-10-01</td>\n",
       "      <td>Restaurant</td>\n",
       "      <td>57b5a1c7791b5a4aafe403ef</td>\n",
       "      <td>5f79fb5a06c145cdc12d09e0</td>\n",
       "      <td>5eec90cb5f3401e081fa2ae1</td>\n",
       "    </tr>\n",
       "    <tr>\n",
       "      <th>4</th>\n",
       "      <td>2020-09-01</td>\n",
       "      <td>Restaurant</td>\n",
       "      <td>5840920d79f65102d70ede18</td>\n",
       "      <td>5f63240a2c027f3009ff1e75</td>\n",
       "      <td>5f3a8ce44d768c7c157cce76</td>\n",
       "    </tr>\n",
       "    <tr>\n",
       "      <th>...</th>\n",
       "      <td>...</td>\n",
       "      <td>...</td>\n",
       "      <td>...</td>\n",
       "      <td>...</td>\n",
       "      <td>...</td>\n",
       "    </tr>\n",
       "    <tr>\n",
       "      <th>10140</th>\n",
       "      <td>2020-10-01</td>\n",
       "      <td>Restaurant</td>\n",
       "      <td>5f7849898c0a1d38c21b53b1</td>\n",
       "      <td>5f784c7fb5453f963c50507f</td>\n",
       "      <td>5d95f08bd205a22b10440290</td>\n",
       "    </tr>\n",
       "    <tr>\n",
       "      <th>10141</th>\n",
       "      <td>2020-10-01</td>\n",
       "      <td>Restaurant</td>\n",
       "      <td>5f7eea19b461d6ab65fcde83</td>\n",
       "      <td>5f7ef84783f13ce49c005482</td>\n",
       "      <td>5e7b8cb0d43edea68c4ff05e</td>\n",
       "    </tr>\n",
       "    <tr>\n",
       "      <th>10142</th>\n",
       "      <td>2020-10-01</td>\n",
       "      <td>Restaurant</td>\n",
       "      <td>5f80d6e62792b18d4381dad2</td>\n",
       "      <td>5f815630521757b130d2309d</td>\n",
       "      <td>5f61c72abea978646e490d98</td>\n",
       "    </tr>\n",
       "    <tr>\n",
       "      <th>10143</th>\n",
       "      <td>2020-10-01</td>\n",
       "      <td>Restaurant</td>\n",
       "      <td>5f80d6e62792b18d4381dad2</td>\n",
       "      <td>5f81a27b7b3991fc47afca9f</td>\n",
       "      <td>5f16add1e1e64c3df0d7dc34</td>\n",
       "    </tr>\n",
       "    <tr>\n",
       "      <th>10144</th>\n",
       "      <td>2020-10-01</td>\n",
       "      <td>Restaurant</td>\n",
       "      <td>5f842675751eb1dd8b080c47</td>\n",
       "      <td>5f85783a940b2c0afb15a351</td>\n",
       "      <td>5e981da56579a4111bc203ce</td>\n",
       "    </tr>\n",
       "  </tbody>\n",
       "</table>\n",
       "<p>10145 rows × 5 columns</p>\n",
       "</div>"
      ],
      "text/plain": [
       "      Purchases Time Delivered  Product line                   User ID  \\\n",
       "0                   2020-07-01  Retail store  556202537f84a43ac29ec7cb   \n",
       "1                   2020-07-01  Retail store  556202537f84a43ac29ec7cb   \n",
       "2                   2020-10-01    Restaurant  57b5a1c7791b5a4aafe403ef   \n",
       "3                   2020-10-01    Restaurant  57b5a1c7791b5a4aafe403ef   \n",
       "4                   2020-09-01    Restaurant  5840920d79f65102d70ede18   \n",
       "...                        ...           ...                       ...   \n",
       "10140               2020-10-01    Restaurant  5f7849898c0a1d38c21b53b1   \n",
       "10141               2020-10-01    Restaurant  5f7eea19b461d6ab65fcde83   \n",
       "10142               2020-10-01    Restaurant  5f80d6e62792b18d4381dad2   \n",
       "10143               2020-10-01    Restaurant  5f80d6e62792b18d4381dad2   \n",
       "10144               2020-10-01    Restaurant  5f842675751eb1dd8b080c47   \n",
       "\n",
       "                    Purchase ID                  Venue ID  \n",
       "0      5f0aec594c3cbeb4049ea36a  5ec2ab4401f812138e435c89  \n",
       "1      5f184a3c88046da058c5ed1d  5ec2ab4401f812138e435c89  \n",
       "2      5f85cf115a38e7d584abeff6  5e779ec5c96b9193eb284c14  \n",
       "3      5f79fb5a06c145cdc12d09e0  5eec90cb5f3401e081fa2ae1  \n",
       "4      5f63240a2c027f3009ff1e75  5f3a8ce44d768c7c157cce76  \n",
       "...                         ...                       ...  \n",
       "10140  5f784c7fb5453f963c50507f  5d95f08bd205a22b10440290  \n",
       "10141  5f7ef84783f13ce49c005482  5e7b8cb0d43edea68c4ff05e  \n",
       "10142  5f815630521757b130d2309d  5f61c72abea978646e490d98  \n",
       "10143  5f81a27b7b3991fc47afca9f  5f16add1e1e64c3df0d7dc34  \n",
       "10144  5f85783a940b2c0afb15a351  5e981da56579a4111bc203ce  \n",
       "\n",
       "[10145 rows x 5 columns]"
      ]
     },
     "execution_count": 18,
     "metadata": {},
     "output_type": "execute_result"
    }
   ],
   "source": [
    "# Table shows the missing data purchases of users in df2 not in df1\n",
    "df3"
   ]
  },
  {
   "cell_type": "markdown",
   "metadata": {},
   "source": [
    "## Exploring statistics on purchases from each customers:"
   ]
  },
  {
   "cell_type": "code",
   "execution_count": 24,
   "metadata": {
    "ExecuteTime": {
     "end_time": "2021-02-07T17:44:17.033112Z",
     "start_time": "2021-02-07T17:44:16.907017Z"
    }
   },
   "outputs": [],
   "source": [
    "# Table to explore purchase count from each customers\n",
    "sample=df2['User ID'].value_counts()\n",
    "retention=pd.DataFrame({'User ID':sample.index, 'Purchase Count':sample.values})"
   ]
  },
  {
   "cell_type": "code",
   "execution_count": null,
   "metadata": {
    "ExecuteTime": {
     "end_time": "2021-02-07T15:58:40.575930Z",
     "start_time": "2021-02-07T15:57:38.609Z"
    }
   },
   "outputs": [],
   "source": [
    "retention"
   ]
  },
  {
   "cell_type": "code",
   "execution_count": null,
   "metadata": {
    "ExecuteTime": {
     "end_time": "2021-02-07T15:58:40.577928Z",
     "start_time": "2021-02-07T15:57:38.614Z"
    }
   },
   "outputs": [],
   "source": [
    "# Top 20 customers with the most regular usages\n",
    "retention.head(20)"
   ]
  },
  {
   "cell_type": "code",
   "execution_count": null,
   "metadata": {
    "ExecuteTime": {
     "end_time": "2021-02-07T15:58:40.579930Z",
     "start_time": "2021-02-07T15:57:38.616Z"
    }
   },
   "outputs": [],
   "source": [
    "# Get insights from collective purchase count\n",
    "retention['Purchase Count'].describe()"
   ]
  },
  {
   "cell_type": "code",
   "execution_count": null,
   "metadata": {
    "ExecuteTime": {
     "end_time": "2021-02-07T15:58:40.581927Z",
     "start_time": "2021-02-07T15:57:38.618Z"
    }
   },
   "outputs": [],
   "source": [
    "# Using boxplot to get statistics\n",
    "plt.figure(figsize=(8,3))\n",
    "sns.boxplot(retention['Purchase Count'], sym='')\n",
    "plt.xticks(fontsize=20)\n",
    "plt.xlabel('Purchase Count',fontsize=20)\n",
    "sns.despine(left=True,bottom=True)"
   ]
  },
  {
   "cell_type": "markdown",
   "metadata": {
    "ExecuteTime": {
     "end_time": "2021-01-30T22:01:59.291637Z",
     "start_time": "2021-01-30T22:01:59.279634Z"
    }
   },
   "source": [
    "Median purchase count is 2 purchases<br>\n",
    "75% of the users span from 1 to 4 purchases during a period"
   ]
  },
  {
   "cell_type": "code",
   "execution_count": null,
   "metadata": {
    "ExecuteTime": {
     "end_time": "2021-02-07T15:58:40.583926Z",
     "start_time": "2021-02-07T15:57:38.639Z"
    }
   },
   "outputs": [],
   "source": [
    "# Categorizing customers usage\n",
    "once=0\n",
    "twice_to_tenth=0\n",
    "rarely=0\n",
    "regular=0\n",
    "for j in retention['Purchase Count']:\n",
    "    if j == 1:\n",
    "        once+=1\n",
    "    elif j > 1 and j <=10:\n",
    "        twice_to_tenth+=1\n",
    "    elif j > 10 and j <= 24:\n",
    "        rarely+=1\n",
    "    elif j > 20:\n",
    "        regular+=1"
   ]
  },
  {
   "cell_type": "code",
   "execution_count": null,
   "metadata": {
    "ExecuteTime": {
     "end_time": "2021-02-07T15:58:40.584929Z",
     "start_time": "2021-02-07T15:57:38.641Z"
    }
   },
   "outputs": [],
   "source": [
    "print(once,twice_to_tenth,rarely,regular)"
   ]
  },
  {
   "cell_type": "code",
   "execution_count": null,
   "metadata": {
    "ExecuteTime": {
     "end_time": "2021-02-07T15:58:40.586927Z",
     "start_time": "2021-02-07T15:57:38.643Z"
    }
   },
   "outputs": [],
   "source": [
    "plt.figure(figsize=(12,10))\n",
    "sizes=[once,twice_to_tenth,rarely,regular]\n",
    "labels=('once','twice_to_tenth','rarely','regular')\n",
    "y_pos=np.arange(len(labels))\n",
    "ax=plt.barh(y_pos,sizes, align='center', alpha=0.7,color='#008B8B')\n",
    "plt.yticks(y_pos,labels,fontsize=20)\n",
    "plt.xticks(fontsize=20)\n",
    "plt.ylabel('Customer Retention',fontsize=20)\n",
    "plt.xlabel('Count',fontsize=20)\n",
    "plt.title('Types of Customer',fontsize=20)\n",
    "sns.despine(left=True,bottom=True)\n",
    "plt.show()"
   ]
  },
  {
   "cell_type": "markdown",
   "metadata": {
    "ExecuteTime": {
     "end_time": "2021-01-30T22:12:05.947423Z",
     "start_time": "2021-01-30T22:12:05.935424Z"
    }
   },
   "source": [
    "We can see that, most of customers used the service only once, next is a group of customers who purchased from twice to tenth\n",
    "in the given period time <br>\n",
    "Rarely customers class is in a puchasing range between more than ten times and average once a week in 24 weeks, individually 4392. <br>\n",
    "Regular customers are the least group <br>\n",
    "It could be due to the delivery fee ( based on distance), somehow delaying in delivery, less discount season from restaurants<br> or retail stores together with unappropriated food price have led to the difficulty to keep customers"
   ]
  },
  {
   "cell_type": "markdown",
   "metadata": {},
   "source": [
    "## Data preparation for cohort analysis:"
   ]
  },
  {
   "cell_type": "code",
   "execution_count": null,
   "metadata": {
    "ExecuteTime": {
     "end_time": "2021-02-07T15:58:40.588929Z",
     "start_time": "2021-02-07T15:57:38.693Z"
    }
   },
   "outputs": [],
   "source": [
    "# Using datetime library, we extracted the month, year\n",
    "df2['month'] = df2['Purchases Time Delivered'].dt.month\n",
    "df2['year']=df2['Purchases Time Delivered'].dt.year"
   ]
  },
  {
   "cell_type": "code",
   "execution_count": null,
   "metadata": {
    "ExecuteTime": {
     "end_time": "2021-02-07T15:58:40.590929Z",
     "start_time": "2021-02-07T15:57:38.707Z"
    }
   },
   "outputs": [],
   "source": [
    "# In order to sort them in order, we should multiply the year by 100 and add the month to that value. \n",
    "# This will create an order that can be sorted correctly.\n",
    "df2['cohort'] = df2.apply(lambda row: (row['year'] * 100) + (row['month']), axis=1)"
   ]
  },
  {
   "cell_type": "code",
   "execution_count": null,
   "metadata": {
    "ExecuteTime": {
     "end_time": "2021-02-07T15:58:40.591928Z",
     "start_time": "2021-02-07T15:57:38.719Z"
    }
   },
   "outputs": [],
   "source": [
    "df2"
   ]
  },
  {
   "cell_type": "code",
   "execution_count": null,
   "metadata": {
    "ExecuteTime": {
     "end_time": "2021-02-07T15:58:40.593928Z",
     "start_time": "2021-02-07T15:57:38.735Z"
    }
   },
   "outputs": [],
   "source": [
    "b=df2['month'].value_counts().sort_index()"
   ]
  },
  {
   "cell_type": "code",
   "execution_count": null,
   "metadata": {
    "ExecuteTime": {
     "end_time": "2021-02-07T15:58:40.595946Z",
     "start_time": "2021-02-07T15:57:38.747Z"
    }
   },
   "outputs": [],
   "source": [
    "amount=pd.DataFrame({'Month':b.index,'Purchase_Count':b.values})"
   ]
  },
  {
   "cell_type": "code",
   "execution_count": null,
   "metadata": {
    "ExecuteTime": {
     "end_time": "2021-02-07T15:58:40.596928Z",
     "start_time": "2021-02-07T15:57:38.757Z"
    }
   },
   "outputs": [],
   "source": [
    "amount"
   ]
  },
  {
   "cell_type": "code",
   "execution_count": null,
   "metadata": {
    "ExecuteTime": {
     "end_time": "2021-02-07T15:58:40.598926Z",
     "start_time": "2021-02-07T15:57:38.762Z"
    }
   },
   "outputs": [],
   "source": [
    "sns.set_style('white')\n",
    "plt.figure(figsize=(12,10))\n",
    "objects = amount['Month']\n",
    "y_pos = np.arange(len(objects))\n",
    "performance = amount['Purchase_Count']\n",
    "plt.bar(y_pos, performance, align='center',color='#483D8B',alpha=0.9)\n",
    "plt.xticks(y_pos, objects,fontsize=20)\n",
    "plt.yticks(fontsize=20)\n",
    "plt.ylabel('Purchase_Count',fontsize=20)\n",
    "plt.xlabel('Monthly',fontsize=20)\n",
    "plt.title('Amount of Usage',fontsize=20)\n",
    "sns.despine(left=True, bottom=True)\n",
    "plt.show()"
   ]
  },
  {
   "cell_type": "markdown",
   "metadata": {},
   "source": [
    "Mostly orders increase from August and September, specifically reach a peak in September with 81162 purchases."
   ]
  },
  {
   "cell_type": "code",
   "execution_count": null,
   "metadata": {
    "ExecuteTime": {
     "end_time": "2021-02-07T15:58:40.600933Z",
     "start_time": "2021-02-07T15:57:38.817Z"
    }
   },
   "outputs": [],
   "source": [
    "# After we create a column called ‘cohort’, we will group all the orders by the CustomerID \n",
    "# and find the minimum cohort to find the cohort they belong in as their first purchase.\n",
    "cohorts = df2.groupby('User ID')['cohort'].min().reset_index()"
   ]
  },
  {
   "cell_type": "code",
   "execution_count": null,
   "metadata": {
    "ExecuteTime": {
     "end_time": "2021-02-07T15:58:40.602928Z",
     "start_time": "2021-02-07T15:57:38.826Z"
    }
   },
   "outputs": [],
   "source": [
    "cohorts"
   ]
  },
  {
   "cell_type": "code",
   "execution_count": null,
   "metadata": {
    "ExecuteTime": {
     "end_time": "2021-02-07T15:58:40.603927Z",
     "start_time": "2021-02-07T15:57:38.832Z"
    }
   },
   "outputs": [],
   "source": [
    "# We’ll rename the columns to CustomerID and first cohort \n",
    "# Merge new DataFrame with our previous data\n",
    "cohorts.columns = ['User ID', 'first_cohort']\n",
    "df2 = df2.merge(cohorts, on='User ID', how='left')"
   ]
  },
  {
   "cell_type": "code",
   "execution_count": null,
   "metadata": {
    "ExecuteTime": {
     "end_time": "2021-02-07T15:58:40.605928Z",
     "start_time": "2021-02-07T15:57:38.841Z"
    }
   },
   "outputs": [],
   "source": [
    "# Define types of product line\n",
    "df2['Product line'].unique()"
   ]
  },
  {
   "cell_type": "code",
   "execution_count": null,
   "metadata": {
    "ExecuteTime": {
     "end_time": "2021-02-07T15:58:40.606927Z",
     "start_time": "2021-02-07T15:57:38.847Z"
    }
   },
   "outputs": [],
   "source": [
    "# Call the “value_counts” function on cohorts column and reset the index\n",
    "headers = df2['cohort'].value_counts().reset_index()"
   ]
  },
  {
   "cell_type": "code",
   "execution_count": null,
   "metadata": {
    "ExecuteTime": {
     "end_time": "2021-02-07T15:58:40.608928Z",
     "start_time": "2021-02-07T15:57:38.850Z"
    }
   },
   "outputs": [],
   "source": [
    "headers.columns = ['Cohorts', 'Count']"
   ]
  },
  {
   "cell_type": "code",
   "execution_count": null,
   "metadata": {
    "ExecuteTime": {
     "end_time": "2021-02-07T15:58:40.610930Z",
     "start_time": "2021-02-07T15:57:38.856Z"
    }
   },
   "outputs": [],
   "source": [
    "# Result in two columns of all cohorts and the amount occurs\n",
    "headers"
   ]
  },
  {
   "cell_type": "code",
   "execution_count": null,
   "metadata": {
    "ExecuteTime": {
     "end_time": "2021-02-07T15:58:40.612929Z",
     "start_time": "2021-02-07T15:57:38.858Z"
    }
   },
   "outputs": [],
   "source": [
    "headers = headers.sort_values(['Cohorts'])['Cohorts'].to_list()"
   ]
  },
  {
   "cell_type": "code",
   "execution_count": null,
   "metadata": {
    "ExecuteTime": {
     "end_time": "2021-02-07T15:58:40.614929Z",
     "start_time": "2021-02-07T15:57:38.861Z"
    }
   },
   "outputs": [],
   "source": [
    "# Result in an ordered list of cohorts\n",
    "headers"
   ]
  },
  {
   "cell_type": "code",
   "execution_count": null,
   "metadata": {
    "ExecuteTime": {
     "end_time": "2021-02-07T15:58:40.616927Z",
     "start_time": "2021-02-07T15:57:38.864Z"
    }
   },
   "outputs": [],
   "source": [
    "# In order to create a cohort analysis, we need to create a DataFrame that has an index of each user’s first month of making a purchase \n",
    "# and the amount of times that the percent that made a purchase in the subsequent months.\n",
    "# Cohort distance will be the amount of months between the current order and the first purchase from the customer\n",
    "df2['cohort_distance'] = df2.apply(lambda row: (headers.index(row['cohort']) - headers.index(row['first_cohort'])) if (row['first_cohort'] != 0 and row['cohort'] != 0)else np.nan, axis=1)"
   ]
  },
  {
   "cell_type": "code",
   "execution_count": null,
   "metadata": {
    "ExecuteTime": {
     "end_time": "2021-02-07T15:58:40.620990Z",
     "start_time": "2021-02-07T15:57:38.868Z"
    }
   },
   "outputs": [],
   "source": [
    "df2"
   ]
  },
  {
   "cell_type": "markdown",
   "metadata": {},
   "source": [
    "## Cohort based monthly retention for Restaurant product line:"
   ]
  },
  {
   "cell_type": "code",
   "execution_count": null,
   "metadata": {
    "ExecuteTime": {
     "end_time": "2021-02-07T15:58:40.623927Z",
     "start_time": "2021-02-07T15:57:39.051Z"
    }
   },
   "outputs": [],
   "source": [
    "# Product line for restaurant\n",
    "restaurant=df2[df2['Product line']=='Restaurant']"
   ]
  },
  {
   "cell_type": "code",
   "execution_count": null,
   "metadata": {
    "ExecuteTime": {
     "end_time": "2021-02-07T15:58:40.625938Z",
     "start_time": "2021-02-07T15:57:39.056Z"
    }
   },
   "outputs": [],
   "source": [
    "restaurant"
   ]
  },
  {
   "cell_type": "markdown",
   "metadata": {},
   "source": [
    "There are 287921 orders from Restaurant"
   ]
  },
  {
   "cell_type": "code",
   "execution_count": null,
   "metadata": {
    "ExecuteTime": {
     "end_time": "2021-02-07T15:58:40.627931Z",
     "start_time": "2021-02-07T15:57:39.099Z"
    }
   },
   "outputs": [],
   "source": [
    "restaurant['cohort_distance'].unique()"
   ]
  },
  {
   "cell_type": "code",
   "execution_count": null,
   "metadata": {
    "ExecuteTime": {
     "end_time": "2021-02-07T15:58:40.629928Z",
     "start_time": "2021-02-07T15:57:39.103Z"
    }
   },
   "outputs": [],
   "source": [
    "# Create a DataFrame that has its rows mark the first purchase cohort while the columns are the months since. \n",
    "# The values inside will signify how many customers from that cohort purchases in that period. \n",
    "# The first column will always be the largest.\n",
    "cohort_pivot_restaurant = pd.pivot_table(restaurant, index='first_cohort', columns='cohort_distance', values='User ID', aggfunc=pd.Series.nunique)"
   ]
  },
  {
   "cell_type": "code",
   "execution_count": null,
   "metadata": {
    "ExecuteTime": {
     "end_time": "2021-02-07T15:58:40.630926Z",
     "start_time": "2021-02-07T15:57:39.106Z"
    }
   },
   "outputs": [],
   "source": [
    "# Pivot_table method allows us to pivot our data so that we can calculate the amount of unique customers \n",
    "# in each cohort based on that purchases distance from their first purchase in months.\n",
    "cohort_pivot_restaurant"
   ]
  },
  {
   "cell_type": "code",
   "execution_count": null,
   "metadata": {
    "ExecuteTime": {
     "end_time": "2021-02-07T15:58:40.632939Z",
     "start_time": "2021-02-07T15:57:39.110Z"
    }
   },
   "outputs": [],
   "source": [
    "# Divide each row by the first column \n",
    "# so that we can have a percentage of the customers that have returned from that cohort to make a purchase\n",
    "# by using the div function\n",
    "cohort_pivot_restaurant = cohort_pivot_restaurant.div(cohort_pivot_restaurant[0],axis=0)"
   ]
  },
  {
   "cell_type": "code",
   "execution_count": null,
   "metadata": {
    "ExecuteTime": {
     "end_time": "2021-02-07T15:58:40.634927Z",
     "start_time": "2021-02-07T15:57:39.114Z"
    }
   },
   "outputs": [],
   "source": [
    "cohort_pivot_restaurant"
   ]
  },
  {
   "cell_type": "code",
   "execution_count": null,
   "metadata": {
    "ExecuteTime": {
     "end_time": "2021-02-07T15:58:40.636926Z",
     "start_time": "2021-02-07T15:57:39.117Z"
    }
   },
   "outputs": [],
   "source": [
    "# Heatmap out of cohort analysis\n",
    "plt.figure(figsize=(12,10))\n",
    "sns.set(font_scale=2)\n",
    "y_labels = [str(int(header)%100) + '-' + str(int(header)/100) for header in headers]\n",
    "x_labels = range(0, len(y_labels))\n",
    "plt.yticks(ticks=headers, labels=y_labels)\n",
    "plt.xticks(ticks=x_labels, labels=x_labels)\n",
    "plt.title(\"Cohort Analysis Restaurant\")\n",
    "sns.heatmap(cohort_pivot_restaurant, annot=True, fmt='.0%', mask=cohort_pivot_restaurant.isnull(), square=True, linewidths=.5, cmap=sns.cubehelix_palette(8),robust=True)\n",
    "plt.xlabel('Months After First Purchase')\n",
    "plt.ylabel('First Purchase Cohort')\n",
    "plt.show()"
   ]
  },
  {
   "cell_type": "markdown",
   "metadata": {},
   "source": [
    "In the restaurant field, all types of customer tend to order less in the next few months. <br>\n",
    "I assume that the price for food from restaurants are more expensive and maybe less discount season.<br>\n",
    "Another reason would be shipping fee due to a further location from restaurant to customer's address"
   ]
  },
  {
   "cell_type": "markdown",
   "metadata": {},
   "source": [
    "## Cohort based monthly retention for Retail product line:"
   ]
  },
  {
   "cell_type": "code",
   "execution_count": null,
   "metadata": {
    "ExecuteTime": {
     "end_time": "2021-02-07T15:58:40.637928Z",
     "start_time": "2021-02-07T15:57:39.246Z"
    }
   },
   "outputs": [],
   "source": [
    "# Product line for retail store\n",
    "retail=df2[df2['Product line']=='Retail store']"
   ]
  },
  {
   "cell_type": "code",
   "execution_count": null,
   "metadata": {
    "ExecuteTime": {
     "end_time": "2021-02-07T15:58:40.639927Z",
     "start_time": "2021-02-07T15:57:39.259Z"
    }
   },
   "outputs": [],
   "source": [
    "retail"
   ]
  },
  {
   "cell_type": "markdown",
   "metadata": {},
   "source": [
    "There are 10793 orders from Retail Store"
   ]
  },
  {
   "cell_type": "code",
   "execution_count": null,
   "metadata": {
    "ExecuteTime": {
     "end_time": "2021-02-07T15:58:40.641929Z",
     "start_time": "2021-02-07T15:57:39.348Z"
    }
   },
   "outputs": [],
   "source": [
    "retail['cohort_distance'].unique()"
   ]
  },
  {
   "cell_type": "code",
   "execution_count": null,
   "metadata": {
    "ExecuteTime": {
     "end_time": "2021-02-07T15:58:40.643927Z",
     "start_time": "2021-02-07T15:57:39.355Z"
    }
   },
   "outputs": [],
   "source": [
    "cohort_pivot_retail = pd.pivot_table(retail, index='first_cohort', columns='cohort_distance', values='User ID', aggfunc=pd.Series.nunique)"
   ]
  },
  {
   "cell_type": "code",
   "execution_count": null,
   "metadata": {
    "ExecuteTime": {
     "end_time": "2021-02-07T15:58:40.644925Z",
     "start_time": "2021-02-07T15:57:39.365Z"
    }
   },
   "outputs": [],
   "source": [
    "cohort_pivot_retail"
   ]
  },
  {
   "cell_type": "code",
   "execution_count": null,
   "metadata": {
    "ExecuteTime": {
     "end_time": "2021-02-07T15:58:40.646926Z",
     "start_time": "2021-02-07T15:57:39.368Z"
    }
   },
   "outputs": [],
   "source": [
    "cohort_pivot_retail = cohort_pivot_retail.div(cohort_pivot_retail[0],axis=0)"
   ]
  },
  {
   "cell_type": "code",
   "execution_count": null,
   "metadata": {
    "ExecuteTime": {
     "end_time": "2021-02-07T15:58:40.648928Z",
     "start_time": "2021-02-07T15:57:39.383Z"
    },
    "scrolled": true
   },
   "outputs": [],
   "source": [
    "cohort_pivot_retail"
   ]
  },
  {
   "cell_type": "code",
   "execution_count": null,
   "metadata": {
    "ExecuteTime": {
     "end_time": "2021-02-07T15:58:40.649925Z",
     "start_time": "2021-02-07T15:57:39.397Z"
    }
   },
   "outputs": [],
   "source": [
    "plt.figure(figsize=(12,10))\n",
    "sns.set(font_scale=2)\n",
    "y_labels = [str(int(header)%100) + '-' + str(int(header)/100) for header in headers]\n",
    "x_labels = range(5, 11)\n",
    "plt.yticks(ticks=headers, labels=y_labels)\n",
    "plt.xticks(ticks=x_labels, labels=x_labels)\n",
    "plt.title(\"Cohort Analysis Retail\")\n",
    "sns.heatmap(cohort_pivot_retail, annot=True, fmt='.0%', mask=cohort_pivot_retail.isnull(), square=True, linewidths=.5, cmap=sns.cubehelix_palette(8),robust=True)\n",
    "plt.xlabel('Months After First Purchase')\n",
    "plt.ylabel('First Purchase Cohort')\n",
    "plt.show()"
   ]
  },
  {
   "cell_type": "markdown",
   "metadata": {},
   "source": [
    "The customer's purchase behavior in the retail ordering is quite fluctuated.<br>\n",
    "For customers who have first purchases in May tend to order less from next few months<br>\n",
    "But customers who have first purchases in June, they increasingly order more in August<br>\n",
    "Customers who have first purchases in July maintain the order rate from August to September (31%) then bottom down in October.<br>\n",
    "Customers who have first purchases in August have the most order maintaining rate on September (37%)<br>\n",
    "In conclusion, most customers have registered to the service and regularly used to order food from June to September (Summer and Autumn season)"
   ]
  },
  {
   "cell_type": "markdown",
   "metadata": {},
   "source": [
    "Beside the retention, I would chose to explore time delivery (on time delivering is important to a customer service), ratings and comments to analyze customers satisfaction to a product/service and listen to their needs to improve more."
   ]
  }
 ],
 "metadata": {
  "kernelspec": {
   "display_name": "Python 3",
   "language": "python",
   "name": "python3"
  },
  "language_info": {
   "codemirror_mode": {
    "name": "ipython",
    "version": 3
   },
   "file_extension": ".py",
   "mimetype": "text/x-python",
   "name": "python",
   "nbconvert_exporter": "python",
   "pygments_lexer": "ipython3",
   "version": "3.7.6"
  },
  "toc": {
   "base_numbering": 1,
   "nav_menu": {},
   "number_sections": true,
   "sideBar": true,
   "skip_h1_title": false,
   "title_cell": "Table of Contents",
   "title_sidebar": "Contents",
   "toc_cell": false,
   "toc_position": {},
   "toc_section_display": true,
   "toc_window_display": false
  },
  "varInspector": {
   "cols": {
    "lenName": 16,
    "lenType": 16,
    "lenVar": 40
   },
   "kernels_config": {
    "python": {
     "delete_cmd_postfix": "",
     "delete_cmd_prefix": "del ",
     "library": "var_list.py",
     "varRefreshCmd": "print(var_dic_list())"
    },
    "r": {
     "delete_cmd_postfix": ") ",
     "delete_cmd_prefix": "rm(",
     "library": "var_list.r",
     "varRefreshCmd": "cat(var_dic_list()) "
    }
   },
   "types_to_exclude": [
    "module",
    "function",
    "builtin_function_or_method",
    "instance",
    "_Feature"
   ],
   "window_display": false
  }
 },
 "nbformat": 4,
 "nbformat_minor": 4
}
